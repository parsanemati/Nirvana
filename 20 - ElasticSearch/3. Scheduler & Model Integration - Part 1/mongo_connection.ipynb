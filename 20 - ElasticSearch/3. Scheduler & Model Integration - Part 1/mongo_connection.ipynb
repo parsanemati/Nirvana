{
 "cells": [
  {
   "cell_type": "code",
   "execution_count": 1,
   "metadata": {},
   "outputs": [
    {
     "ename": "ModuleNotFoundError",
     "evalue": "No module named 'tensorflow'",
     "output_type": "error",
     "traceback": [
      "\u001b[0;31m---------------------------------------------------------------------------\u001b[0m",
      "\u001b[0;31mModuleNotFoundError\u001b[0m                       Traceback (most recent call last)",
      "\u001b[0;32m<ipython-input-1-72dd90821244>\u001b[0m in \u001b[0;36m<module>\u001b[0;34m()\u001b[0m\n\u001b[0;32m----> 1\u001b[0;31m \u001b[0;32mfrom\u001b[0m \u001b[0mclassifier\u001b[0m\u001b[0;34m.\u001b[0m\u001b[0minference\u001b[0m \u001b[0;32mimport\u001b[0m \u001b[0mInfer\u001b[0m\u001b[0;34m\u001b[0m\u001b[0m\n\u001b[0m\u001b[1;32m      2\u001b[0m \u001b[0minfer\u001b[0m \u001b[0;34m=\u001b[0m \u001b[0mInfer\u001b[0m\u001b[0;34m(\u001b[0m\u001b[0;34m)\u001b[0m\u001b[0;34m\u001b[0m\u001b[0m\n\u001b[1;32m      3\u001b[0m \u001b[0;34m\u001b[0m\u001b[0m\n\u001b[1;32m      4\u001b[0m \u001b[0mres\u001b[0m \u001b[0;34m=\u001b[0m \u001b[0minfer\u001b[0m\u001b[0;34m.\u001b[0m\u001b[0mpredict\u001b[0m\u001b[0;34m(\u001b[0m\u001b[0mheading\u001b[0m\u001b[0;34m=\u001b[0m\u001b[0;34m\"diplay of this phone is good and camera is excellent\"\u001b[0m\u001b[0;34m,\u001b[0m\u001b[0mdescription\u001b[0m\u001b[0;34m=\u001b[0m\u001b[0;32mNone\u001b[0m\u001b[0;34m)\u001b[0m\u001b[0;34m\u001b[0m\u001b[0m\n\u001b[1;32m      5\u001b[0m \u001b[0mprint\u001b[0m\u001b[0;34m(\u001b[0m\u001b[0mres\u001b[0m\u001b[0;34m)\u001b[0m\u001b[0;34m\u001b[0m\u001b[0m\n",
      "\u001b[0;32m~/Desktop/pres/__sessions__/124/classifier/inference.py\u001b[0m in \u001b[0;36m<module>\u001b[0;34m()\u001b[0m\n\u001b[0;32m----> 1\u001b[0;31m \u001b[0;32mimport\u001b[0m \u001b[0mclassifier\u001b[0m\u001b[0;34m.\u001b[0m\u001b[0mtokenization\u001b[0m\u001b[0;34m\u001b[0m\u001b[0m\n\u001b[0m\u001b[1;32m      2\u001b[0m \u001b[0;32mimport\u001b[0m \u001b[0mtensorflow\u001b[0m \u001b[0;32mas\u001b[0m \u001b[0mtf\u001b[0m\u001b[0;34m\u001b[0m\u001b[0m\n\u001b[1;32m      3\u001b[0m \u001b[0;32mimport\u001b[0m \u001b[0mclassifier\u001b[0m\u001b[0;34m.\u001b[0m\u001b[0mmodeling\u001b[0m\u001b[0;34m\u001b[0m\u001b[0m\n\u001b[1;32m      4\u001b[0m \u001b[0;32mimport\u001b[0m \u001b[0mnumpy\u001b[0m \u001b[0;32mas\u001b[0m \u001b[0mnp\u001b[0m\u001b[0;34m\u001b[0m\u001b[0m\n\u001b[1;32m      5\u001b[0m \u001b[0;32mfrom\u001b[0m \u001b[0mclassifier\u001b[0m\u001b[0;34m.\u001b[0m\u001b[0mconfig\u001b[0m \u001b[0;32mimport\u001b[0m \u001b[0mconfig\u001b[0m\u001b[0;34m\u001b[0m\u001b[0m\n",
      "\u001b[0;32m~/Desktop/pres/__sessions__/124/classifier/tokenization.py\u001b[0m in \u001b[0;36m<module>\u001b[0;34m()\u001b[0m\n\u001b[1;32m     23\u001b[0m \u001b[0;32mimport\u001b[0m \u001b[0municodedata\u001b[0m\u001b[0;34m\u001b[0m\u001b[0m\n\u001b[1;32m     24\u001b[0m \u001b[0;32mimport\u001b[0m \u001b[0msix\u001b[0m\u001b[0;34m\u001b[0m\u001b[0m\n\u001b[0;32m---> 25\u001b[0;31m \u001b[0;32mimport\u001b[0m \u001b[0mtensorflow\u001b[0m \u001b[0;32mas\u001b[0m \u001b[0mtf\u001b[0m\u001b[0;34m\u001b[0m\u001b[0m\n\u001b[0m\u001b[1;32m     26\u001b[0m \u001b[0;34m\u001b[0m\u001b[0m\n\u001b[1;32m     27\u001b[0m \u001b[0;34m\u001b[0m\u001b[0m\n",
      "\u001b[0;31mModuleNotFoundError\u001b[0m: No module named 'tensorflow'"
     ]
    }
   ],
   "source": [
    "from classifier.inference import Infer\n",
    "infer = Infer()\n",
    "\n",
    "res = infer.predict(heading=\"diplay of this phone is good and camera is excellent\",description=None)\n",
    "print(res)"
   ]
  },
  {
   "cell_type": "code",
   "execution_count": 1,
   "metadata": {},
   "outputs": [
    {
     "name": "stdout",
     "output_type": "stream",
     "text": [
      "Better speed can be achieved with apex installed from https://www.github.com/nvidia/apex.\n",
      "Model Found at attribute_explicit_model/models/explicit_attribute.pt\n",
      "2019-11-11 22:39:14,668 loading file attribute_explicit_model/models/explicit_attribute.pt\n"
     ]
    },
    {
     "data": {
      "text/plain": [
       "[{'attribute': 'diplay',\n",
       "  'score': 0.866704523563385,\n",
       "  'attribute_lemmatize': 'diplay'},\n",
       " {'attribute': 'camera',\n",
       "  'score': 0.998051643371582,\n",
       "  'attribute_lemmatize': 'camera'}]"
      ]
     },
     "execution_count": 1,
     "metadata": {},
     "output_type": "execute_result"
    }
   ],
   "source": [
    "from attribute_explicit_model.attribute import Attribute\n",
    "from attribute_explicit_model.config import config\n",
    "attribute = Attribute(config)\n",
    "\n",
    "review = \"diplay of this phone is good and camera is excellent\"\n",
    "\n",
    "# Function for Predicting attributes of Sentence/Trancript/Paragraph\n",
    "attributes = attribute.predict(review)\n",
    "attributes"
   ]
  },
  {
   "cell_type": "code",
   "execution_count": 2,
   "metadata": {},
   "outputs": [],
   "source": [
    "# use sample_db\n",
    "# db.sample_table.insert({\"review_Text\":\"iphone camera is good\"})\n",
    "# db.sample_table.insert({\"review_Text\":\"iphone battery is good\"})\n",
    "# db.sample_table.insert({\"review_Text\":\"display of this phone is not good\"})\n",
    "# db.sample_table.find().count()"
   ]
  },
  {
   "cell_type": "markdown",
   "metadata": {},
   "source": [
    "# How to use mongo client"
   ]
  },
  {
   "cell_type": "code",
   "execution_count": 3,
   "metadata": {},
   "outputs": [],
   "source": [
    "from pymongo import MongoClient\n",
    "client = MongoClient()"
   ]
  },
  {
   "cell_type": "code",
   "execution_count": 4,
   "metadata": {},
   "outputs": [],
   "source": [
    "client = MongoClient('mongodb://localhost:27017')"
   ]
  },
  {
   "cell_type": "code",
   "execution_count": 5,
   "metadata": {},
   "outputs": [],
   "source": [
    "db = client['sample_db']"
   ]
  },
  {
   "cell_type": "code",
   "execution_count": 6,
   "metadata": {},
   "outputs": [],
   "source": [
    "table = db.sample_table"
   ]
  },
  {
   "cell_type": "code",
   "execution_count": 7,
   "metadata": {},
   "outputs": [
    {
     "name": "stdout",
     "output_type": "stream",
     "text": [
      "<pymongo.cursor.Cursor object at 0x1a3a7714e0>\n"
     ]
    }
   ],
   "source": [
    "scotts_posts = table.find({})\n",
    "print(scotts_posts)"
   ]
  },
  {
   "cell_type": "code",
   "execution_count": 8,
   "metadata": {},
   "outputs": [
    {
     "name": "stdout",
     "output_type": "stream",
     "text": [
      "{'_id': ObjectId('5dc995a66e6d5eff352c3bca'), 'review_Text': 'iphone camera is good'}\n",
      "{'_id': ObjectId('5dc995ab6e6d5eff352c3bcb'), 'review_Text': 'iphone battery is good'}\n",
      "{'_id': ObjectId('5dc995af6e6d5eff352c3bcc'), 'review_Text': 'display of this phone is not good'}\n"
     ]
    }
   ],
   "source": [
    "for post in scotts_posts:\n",
    "    print(post)"
   ]
  },
  {
   "cell_type": "code",
   "execution_count": null,
   "metadata": {},
   "outputs": [],
   "source": []
  },
  {
   "cell_type": "code",
   "execution_count": null,
   "metadata": {},
   "outputs": [],
   "source": []
  },
  {
   "cell_type": "code",
   "execution_count": null,
   "metadata": {},
   "outputs": [],
   "source": []
  },
  {
   "cell_type": "markdown",
   "metadata": {},
   "source": [
    "# How to update documents"
   ]
  },
  {
   "cell_type": "code",
   "execution_count": 9,
   "metadata": {},
   "outputs": [],
   "source": [
    "def update_me(uid,attrs):\n",
    "    table.update_one({\n",
    "      '_id': uid\n",
    "    },{\n",
    "      '$set': {\n",
    "        'attributes': attrs\n",
    "      }\n",
    "    }, upsert=False)"
   ]
  },
  {
   "cell_type": "code",
   "execution_count": 13,
   "metadata": {},
   "outputs": [
    {
     "name": "stdout",
     "output_type": "stream",
     "text": [
      "['camera']\n",
      "['battery']\n",
      "['display']\n"
     ]
    }
   ],
   "source": [
    "scotts_posts = table.find({})\n",
    "for post in scotts_posts:\n",
    "    attributes = attribute.predict(post[\"review_Text\"])\n",
    "    attributes = [x['attribute'] for x in attributes]\n",
    "    print(attributes)\n",
    "    update_me(post[\"_id\"],attributes)"
   ]
  },
  {
   "cell_type": "code",
   "execution_count": 14,
   "metadata": {},
   "outputs": [
    {
     "name": "stdout",
     "output_type": "stream",
     "text": [
      "{'_id': ObjectId('5dc995a66e6d5eff352c3bca'), 'review_Text': 'iphone camera is good', 'attributes': ['camera']}\n",
      "{'_id': ObjectId('5dc995ab6e6d5eff352c3bcb'), 'review_Text': 'iphone battery is good', 'attributes': ['battery']}\n",
      "{'_id': ObjectId('5dc995af6e6d5eff352c3bcc'), 'review_Text': 'display of this phone is not good', 'attributes': ['display']}\n"
     ]
    }
   ],
   "source": [
    "scotts_posts = table.find({})\n",
    "for post in scotts_posts:\n",
    "    print(post)"
   ]
  },
  {
   "cell_type": "code",
   "execution_count": null,
   "metadata": {},
   "outputs": [],
   "source": []
  },
  {
   "cell_type": "markdown",
   "metadata": {},
   "source": [
    "# processed field"
   ]
  },
  {
   "cell_type": "code",
   "execution_count": 16,
   "metadata": {},
   "outputs": [],
   "source": [
    "def update_me(uid,attrs):\n",
    "    table.update_one({\n",
    "      '_id': uid\n",
    "    },{\n",
    "      '$set': {\n",
    "        'attributes': attrs,\n",
    "        'processed': 1\n",
    "      }\n",
    "    }, upsert=False)"
   ]
  },
  {
   "cell_type": "code",
   "execution_count": 17,
   "metadata": {},
   "outputs": [
    {
     "name": "stdout",
     "output_type": "stream",
     "text": [
      "['camera']\n",
      "['battery']\n",
      "['display']\n"
     ]
    }
   ],
   "source": [
    "scotts_posts = table.find({})\n",
    "for post in scotts_posts:\n",
    "    attributes = attribute.predict(post[\"review_Text\"])\n",
    "    attributes = [x['attribute'] for x in attributes]\n",
    "    print(attributes)\n",
    "    update_me(post[\"_id\"],attributes)"
   ]
  },
  {
   "cell_type": "code",
   "execution_count": 18,
   "metadata": {},
   "outputs": [
    {
     "name": "stdout",
     "output_type": "stream",
     "text": [
      "{'_id': ObjectId('5dc995a66e6d5eff352c3bca'), 'review_Text': 'iphone camera is good', 'attributes': ['camera'], 'processed': 1}\n",
      "{'_id': ObjectId('5dc995ab6e6d5eff352c3bcb'), 'review_Text': 'iphone battery is good', 'attributes': ['battery'], 'processed': 1}\n",
      "{'_id': ObjectId('5dc995af6e6d5eff352c3bcc'), 'review_Text': 'display of this phone is not good', 'attributes': ['display'], 'processed': 1}\n"
     ]
    }
   ],
   "source": [
    "scotts_posts = table.find({})\n",
    "for post in scotts_posts:\n",
    "    print(post)"
   ]
  },
  {
   "cell_type": "code",
   "execution_count": null,
   "metadata": {},
   "outputs": [],
   "source": []
  },
  {
   "cell_type": "code",
   "execution_count": null,
   "metadata": {},
   "outputs": [],
   "source": []
  },
  {
   "cell_type": "markdown",
   "metadata": {},
   "source": [
    "# 2nd day new records"
   ]
  },
  {
   "cell_type": "code",
   "execution_count": 19,
   "metadata": {},
   "outputs": [
    {
     "name": "stdout",
     "output_type": "stream",
     "text": [
      "new docs added\n"
     ]
    },
    {
     "name": "stderr",
     "output_type": "stream",
     "text": [
      "/anaconda3/envs/KeyPhrase_NamedEntity_Env/lib/python3.6/site-packages/ipykernel_launcher.py:1: DeprecationWarning: insert is deprecated. Use insert_one or insert_many instead.\n",
      "  \"\"\"Entry point for launching an IPython kernel.\n",
      "/anaconda3/envs/KeyPhrase_NamedEntity_Env/lib/python3.6/site-packages/ipykernel_launcher.py:2: DeprecationWarning: insert is deprecated. Use insert_one or insert_many instead.\n",
      "  \n",
      "/anaconda3/envs/KeyPhrase_NamedEntity_Env/lib/python3.6/site-packages/ipykernel_launcher.py:3: DeprecationWarning: insert is deprecated. Use insert_one or insert_many instead.\n",
      "  This is separate from the ipykernel package so we can avoid doing imports until\n",
      "/anaconda3/envs/KeyPhrase_NamedEntity_Env/lib/python3.6/site-packages/ipykernel_launcher.py:4: DeprecationWarning: insert is deprecated. Use insert_one or insert_many instead.\n",
      "  after removing the cwd from sys.path.\n"
     ]
    }
   ],
   "source": [
    "db.sample_table.insert({\"review_Text\":\"material is very good\"})\n",
    "db.sample_table.insert({\"review_Text\":\"quality of the cloth is great\"})\n",
    "db.sample_table.insert({\"review_Text\":\"it has good material and quality\"})\n",
    "db.sample_table.insert({\"review_Text\":\"the design of the shirt is awesome\"})\n",
    "print(\"new docs added\")"
   ]
  },
  {
   "cell_type": "code",
   "execution_count": 20,
   "metadata": {},
   "outputs": [
    {
     "name": "stdout",
     "output_type": "stream",
     "text": [
      "{'_id': ObjectId('5dc995a66e6d5eff352c3bca'), 'review_Text': 'iphone camera is good', 'attributes': ['camera'], 'processed': 1}\n",
      "{'_id': ObjectId('5dc995ab6e6d5eff352c3bcb'), 'review_Text': 'iphone battery is good', 'attributes': ['battery'], 'processed': 1}\n",
      "{'_id': ObjectId('5dc995af6e6d5eff352c3bcc'), 'review_Text': 'display of this phone is not good', 'attributes': ['display'], 'processed': 1}\n",
      "{'_id': ObjectId('5dc996f087eed4eb781f315d'), 'review_Text': 'material is very good'}\n",
      "{'_id': ObjectId('5dc996f087eed4eb781f315e'), 'review_Text': 'quality of the cloth is great'}\n",
      "{'_id': ObjectId('5dc996f087eed4eb781f315f'), 'review_Text': 'it has good material and quality'}\n",
      "{'_id': ObjectId('5dc996f087eed4eb781f3160'), 'review_Text': 'the design of the shirt is awesome'}\n"
     ]
    }
   ],
   "source": [
    "scotts_posts = table.find({})\n",
    "for post in scotts_posts:\n",
    "    print(post)"
   ]
  },
  {
   "cell_type": "code",
   "execution_count": 22,
   "metadata": {},
   "outputs": [],
   "source": [
    "# if we run \n",
    "# scotts_posts = table.find({})\n",
    "# for post in scotts_posts:\n",
    "#     attributes = attribute.predict(post[\"review_Text\"])\n",
    "#     attributes = [x['attribute'] for x in attributes]\n",
    "#     print(attributes)\n",
    "#     update_me(post[\"_id\"],attributes)\n",
    "# all reviews will be updated, we need not to find attribute for the first 3 reviews"
   ]
  },
  {
   "cell_type": "code",
   "execution_count": 23,
   "metadata": {},
   "outputs": [
    {
     "name": "stdout",
     "output_type": "stream",
     "text": [
      "{'_id': ObjectId('5dc996f087eed4eb781f315d'), 'review_Text': 'material is very good'}\n",
      "{'_id': ObjectId('5dc996f087eed4eb781f315e'), 'review_Text': 'quality of the cloth is great'}\n",
      "{'_id': ObjectId('5dc996f087eed4eb781f315f'), 'review_Text': 'it has good material and quality'}\n",
      "{'_id': ObjectId('5dc996f087eed4eb781f3160'), 'review_Text': 'the design of the shirt is awesome'}\n"
     ]
    }
   ],
   "source": [
    "scotts_posts = table.find({'processed':{'$exists':False}})\n",
    "for post in scotts_posts:\n",
    "    print(post)"
   ]
  },
  {
   "cell_type": "code",
   "execution_count": 24,
   "metadata": {},
   "outputs": [
    {
     "name": "stdout",
     "output_type": "stream",
     "text": [
      "['material']\n",
      "['quality']\n",
      "['material', 'quality']\n",
      "['design']\n"
     ]
    }
   ],
   "source": [
    "scotts_posts = table.find({'processed':{'$exists':False}})\n",
    "for post in scotts_posts:\n",
    "    attributes = attribute.predict(post[\"review_Text\"])\n",
    "    attributes = [x['attribute'] for x in attributes]\n",
    "    print(attributes)\n",
    "    update_me(post[\"_id\"],attributes)"
   ]
  },
  {
   "cell_type": "code",
   "execution_count": 25,
   "metadata": {},
   "outputs": [
    {
     "name": "stdout",
     "output_type": "stream",
     "text": [
      "{'_id': ObjectId('5dc995a66e6d5eff352c3bca'), 'review_Text': 'iphone camera is good', 'attributes': ['camera'], 'processed': 1}\n",
      "{'_id': ObjectId('5dc995ab6e6d5eff352c3bcb'), 'review_Text': 'iphone battery is good', 'attributes': ['battery'], 'processed': 1}\n",
      "{'_id': ObjectId('5dc995af6e6d5eff352c3bcc'), 'review_Text': 'display of this phone is not good', 'attributes': ['display'], 'processed': 1}\n",
      "{'_id': ObjectId('5dc996f087eed4eb781f315d'), 'review_Text': 'material is very good', 'attributes': ['material'], 'processed': 1}\n",
      "{'_id': ObjectId('5dc996f087eed4eb781f315e'), 'review_Text': 'quality of the cloth is great', 'attributes': ['quality'], 'processed': 1}\n",
      "{'_id': ObjectId('5dc996f087eed4eb781f315f'), 'review_Text': 'it has good material and quality', 'attributes': ['material', 'quality'], 'processed': 1}\n",
      "{'_id': ObjectId('5dc996f087eed4eb781f3160'), 'review_Text': 'the design of the shirt is awesome', 'attributes': ['design'], 'processed': 1}\n"
     ]
    }
   ],
   "source": [
    "scotts_posts = table.find({})\n",
    "for post in scotts_posts:\n",
    "    print(post)"
   ]
  },
  {
   "cell_type": "code",
   "execution_count": null,
   "metadata": {},
   "outputs": [],
   "source": []
  },
  {
   "cell_type": "code",
   "execution_count": null,
   "metadata": {},
   "outputs": [],
   "source": []
  },
  {
   "cell_type": "code",
   "execution_count": null,
   "metadata": {},
   "outputs": [],
   "source": []
  },
  {
   "cell_type": "code",
   "execution_count": 27,
   "metadata": {},
   "outputs": [],
   "source": [
    "import schedule \n",
    "import time "
   ]
  },
  {
   "cell_type": "code",
   "execution_count": 28,
   "metadata": {},
   "outputs": [],
   "source": [
    "def schedular_func(): \n",
    "    print(\"**********\")\n",
    "    scotts_posts = table.find({'processed':{'$exists':False}})\n",
    "    for post in scotts_posts:\n",
    "        attributes = attribute.predict(post[\"review_Text\"])\n",
    "        attributes = [x['attribute'] for x in attributes]\n",
    "        print(attributes)\n",
    "        update_me(post[\"_id\"],attributes)"
   ]
  },
  {
   "cell_type": "code",
   "execution_count": 29,
   "metadata": {},
   "outputs": [
    {
     "data": {
      "text/plain": [
       "Every 5 seconds do schedular_func() (last run: [never], next run: 2019-11-11 22:46:45)"
      ]
     },
     "execution_count": 29,
     "metadata": {},
     "output_type": "execute_result"
    }
   ],
   "source": [
    "schedule.every(5).seconds.do(schedular_func) "
   ]
  },
  {
   "cell_type": "code",
   "execution_count": 30,
   "metadata": {},
   "outputs": [
    {
     "name": "stdout",
     "output_type": "stream",
     "text": [
      "**********\n"
     ]
    },
    {
     "ename": "KeyboardInterrupt",
     "evalue": "",
     "output_type": "error",
     "traceback": [
      "\u001b[0;31m---------------------------------------------------------------------------\u001b[0m",
      "\u001b[0;31mKeyboardInterrupt\u001b[0m                         Traceback (most recent call last)",
      "\u001b[0;32m<ipython-input-30-22df7936df0f>\u001b[0m in \u001b[0;36m<module>\u001b[0;34m()\u001b[0m\n\u001b[1;32m      1\u001b[0m \u001b[0;32mwhile\u001b[0m \u001b[0;32mTrue\u001b[0m\u001b[0;34m:\u001b[0m\u001b[0;34m\u001b[0m\u001b[0m\n\u001b[0;32m----> 2\u001b[0;31m     \u001b[0mschedule\u001b[0m\u001b[0;34m.\u001b[0m\u001b[0mrun_pending\u001b[0m\u001b[0;34m(\u001b[0m\u001b[0;34m)\u001b[0m\u001b[0;34m\u001b[0m\u001b[0m\n\u001b[0m",
      "\u001b[0;32m/anaconda3/envs/KeyPhrase_NamedEntity_Env/lib/python3.6/site-packages/schedule/__init__.py\u001b[0m in \u001b[0;36mrun_pending\u001b[0;34m()\u001b[0m\n\u001b[1;32m    561\u001b[0m     \u001b[0;34m:\u001b[0m\u001b[0mdata\u001b[0m\u001b[0;34m:\u001b[0m\u001b[0;31m`\u001b[0m\u001b[0mdefault\u001b[0m \u001b[0mscheduler\u001b[0m \u001b[0minstance\u001b[0m \u001b[0;34m<\u001b[0m\u001b[0mdefault_scheduler\u001b[0m\u001b[0;34m>\u001b[0m\u001b[0;31m`\u001b[0m\u001b[0;34m.\u001b[0m\u001b[0;34m\u001b[0m\u001b[0m\n\u001b[1;32m    562\u001b[0m     \"\"\"\n\u001b[0;32m--> 563\u001b[0;31m     \u001b[0mdefault_scheduler\u001b[0m\u001b[0;34m.\u001b[0m\u001b[0mrun_pending\u001b[0m\u001b[0;34m(\u001b[0m\u001b[0;34m)\u001b[0m\u001b[0;34m\u001b[0m\u001b[0m\n\u001b[0m\u001b[1;32m    564\u001b[0m \u001b[0;34m\u001b[0m\u001b[0m\n\u001b[1;32m    565\u001b[0m \u001b[0;34m\u001b[0m\u001b[0m\n",
      "\u001b[0;32m/anaconda3/envs/KeyPhrase_NamedEntity_Env/lib/python3.6/site-packages/schedule/__init__.py\u001b[0m in \u001b[0;36mrun_pending\u001b[0;34m(self)\u001b[0m\n\u001b[1;32m     91\u001b[0m         \"\"\"\n\u001b[1;32m     92\u001b[0m         \u001b[0mrunnable_jobs\u001b[0m \u001b[0;34m=\u001b[0m \u001b[0;34m(\u001b[0m\u001b[0mjob\u001b[0m \u001b[0;32mfor\u001b[0m \u001b[0mjob\u001b[0m \u001b[0;32min\u001b[0m \u001b[0mself\u001b[0m\u001b[0;34m.\u001b[0m\u001b[0mjobs\u001b[0m \u001b[0;32mif\u001b[0m \u001b[0mjob\u001b[0m\u001b[0;34m.\u001b[0m\u001b[0mshould_run\u001b[0m\u001b[0;34m)\u001b[0m\u001b[0;34m\u001b[0m\u001b[0m\n\u001b[0;32m---> 93\u001b[0;31m         \u001b[0;32mfor\u001b[0m \u001b[0mjob\u001b[0m \u001b[0;32min\u001b[0m \u001b[0msorted\u001b[0m\u001b[0;34m(\u001b[0m\u001b[0mrunnable_jobs\u001b[0m\u001b[0;34m)\u001b[0m\u001b[0;34m:\u001b[0m\u001b[0;34m\u001b[0m\u001b[0m\n\u001b[0m\u001b[1;32m     94\u001b[0m             \u001b[0mself\u001b[0m\u001b[0;34m.\u001b[0m\u001b[0m_run_job\u001b[0m\u001b[0;34m(\u001b[0m\u001b[0mjob\u001b[0m\u001b[0;34m)\u001b[0m\u001b[0;34m\u001b[0m\u001b[0m\n\u001b[1;32m     95\u001b[0m \u001b[0;34m\u001b[0m\u001b[0m\n",
      "\u001b[0;32m/anaconda3/envs/KeyPhrase_NamedEntity_Env/lib/python3.6/site-packages/schedule/__init__.py\u001b[0m in \u001b[0;36m<genexpr>\u001b[0;34m(.0)\u001b[0m\n\u001b[1;32m     90\u001b[0m         \u001b[0mbetween\u001b[0m \u001b[0mbut\u001b[0m \u001b[0monly\u001b[0m \u001b[0monce\u001b[0m\u001b[0;34m.\u001b[0m\u001b[0;34m\u001b[0m\u001b[0m\n\u001b[1;32m     91\u001b[0m         \"\"\"\n\u001b[0;32m---> 92\u001b[0;31m         \u001b[0mrunnable_jobs\u001b[0m \u001b[0;34m=\u001b[0m \u001b[0;34m(\u001b[0m\u001b[0mjob\u001b[0m \u001b[0;32mfor\u001b[0m \u001b[0mjob\u001b[0m \u001b[0;32min\u001b[0m \u001b[0mself\u001b[0m\u001b[0;34m.\u001b[0m\u001b[0mjobs\u001b[0m \u001b[0;32mif\u001b[0m \u001b[0mjob\u001b[0m\u001b[0;34m.\u001b[0m\u001b[0mshould_run\u001b[0m\u001b[0;34m)\u001b[0m\u001b[0;34m\u001b[0m\u001b[0m\n\u001b[0m\u001b[1;32m     93\u001b[0m         \u001b[0;32mfor\u001b[0m \u001b[0mjob\u001b[0m \u001b[0;32min\u001b[0m \u001b[0msorted\u001b[0m\u001b[0;34m(\u001b[0m\u001b[0mrunnable_jobs\u001b[0m\u001b[0;34m)\u001b[0m\u001b[0;34m:\u001b[0m\u001b[0;34m\u001b[0m\u001b[0m\n\u001b[1;32m     94\u001b[0m             \u001b[0mself\u001b[0m\u001b[0;34m.\u001b[0m\u001b[0m_run_job\u001b[0m\u001b[0;34m(\u001b[0m\u001b[0mjob\u001b[0m\u001b[0;34m)\u001b[0m\u001b[0;34m\u001b[0m\u001b[0m\n",
      "\u001b[0;32m/anaconda3/envs/KeyPhrase_NamedEntity_Env/lib/python3.6/site-packages/schedule/__init__.py\u001b[0m in \u001b[0;36mshould_run\u001b[0;34m(self)\u001b[0m\n\u001b[1;32m    455\u001b[0m         \u001b[0;34m:\u001b[0m\u001b[0;32mreturn\u001b[0m\u001b[0;34m:\u001b[0m\u001b[0;31m \u001b[0m\u001b[0;31m`\u001b[0m\u001b[0;31m`\u001b[0m\u001b[0;32mTrue\u001b[0m\u001b[0;31m`\u001b[0m\u001b[0;31m`\u001b[0m \u001b[0;32mif\u001b[0m \u001b[0mthe\u001b[0m \u001b[0mjob\u001b[0m \u001b[0mshould\u001b[0m \u001b[0mbe\u001b[0m \u001b[0mrun\u001b[0m \u001b[0mnow\u001b[0m\u001b[0;34m.\u001b[0m\u001b[0;34m\u001b[0m\u001b[0m\n\u001b[1;32m    456\u001b[0m         \"\"\"\n\u001b[0;32m--> 457\u001b[0;31m         \u001b[0;32mreturn\u001b[0m \u001b[0mdatetime\u001b[0m\u001b[0;34m.\u001b[0m\u001b[0mdatetime\u001b[0m\u001b[0;34m.\u001b[0m\u001b[0mnow\u001b[0m\u001b[0;34m(\u001b[0m\u001b[0;34m)\u001b[0m \u001b[0;34m>=\u001b[0m \u001b[0mself\u001b[0m\u001b[0;34m.\u001b[0m\u001b[0mnext_run\u001b[0m\u001b[0;34m\u001b[0m\u001b[0m\n\u001b[0m\u001b[1;32m    458\u001b[0m \u001b[0;34m\u001b[0m\u001b[0m\n\u001b[1;32m    459\u001b[0m     \u001b[0;32mdef\u001b[0m \u001b[0mrun\u001b[0m\u001b[0;34m(\u001b[0m\u001b[0mself\u001b[0m\u001b[0;34m)\u001b[0m\u001b[0;34m:\u001b[0m\u001b[0;34m\u001b[0m\u001b[0m\n",
      "\u001b[0;31mKeyboardInterrupt\u001b[0m: "
     ]
    }
   ],
   "source": [
    "while True: \n",
    "    schedule.run_pending() "
   ]
  },
  {
   "cell_type": "code",
   "execution_count": null,
   "metadata": {},
   "outputs": [],
   "source": []
  }
 ],
 "metadata": {
  "kernelspec": {
   "display_name": "key_phrase_ner",
   "language": "python",
   "name": "keyphrase_namedentity_env"
  },
  "language_info": {
   "codemirror_mode": {
    "name": "ipython",
    "version": 3
   },
   "file_extension": ".py",
   "mimetype": "text/x-python",
   "name": "python",
   "nbconvert_exporter": "python",
   "pygments_lexer": "ipython3",
   "version": "3.6.5"
  }
 },
 "nbformat": 4,
 "nbformat_minor": 2
}
