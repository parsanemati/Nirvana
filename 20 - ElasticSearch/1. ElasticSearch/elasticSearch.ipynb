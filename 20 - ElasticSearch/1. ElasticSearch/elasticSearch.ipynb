{
 "cells": [
  {
   "cell_type": "code",
   "execution_count": 1,
   "metadata": {},
   "outputs": [],
   "source": [
    "from elasticsearch import Elasticsearch"
   ]
  },
  {
   "cell_type": "code",
   "execution_count": 2,
   "metadata": {},
   "outputs": [],
   "source": [
    "# create a object of eleasticsearch\n",
    "es = Elasticsearch([{'host':'localhost', 'port':9200}])"
   ]
  },
  {
   "cell_type": "markdown",
   "metadata": {},
   "source": [
    "# Creating index"
   ]
  },
  {
   "cell_type": "code",
   "execution_count": 4,
   "metadata": {},
   "outputs": [
    {
     "name": "stdout",
     "output_type": "stream",
     "text": [
      "Creating index\n"
     ]
    }
   ],
   "source": [
    "# how to create elastic search index in python\n",
    "# amazon\n",
    "if es.indices.exists(index=\"amazon_index\"):\n",
    "    print(\"Index is already present\")\n",
    "else:\n",
    "    print(\"Creating index\")\n",
    "    es.indices.create(index=\"amazon_index\")"
   ]
  },
  {
   "cell_type": "code",
   "execution_count": 5,
   "metadata": {},
   "outputs": [
    {
     "name": "stdout",
     "output_type": "stream",
     "text": [
      "Index is already present\n"
     ]
    }
   ],
   "source": [
    "# how to create elastic search index in python\n",
    "# amazon\n",
    "if es.indices.exists(index=\"amazon_index\"):\n",
    "    print(\"Index is already present\")\n",
    "else:\n",
    "    print(\"Creating index\")\n",
    "    es.indices.create(index=\"amazon_index\")"
   ]
  },
  {
   "cell_type": "code",
   "execution_count": 6,
   "metadata": {},
   "outputs": [],
   "source": [
    "# if you want so see info about a particular index 2 ways\n",
    "# 1. elastic search head\n",
    "# 2.http://localhost:9200/name_of_the_index"
   ]
  },
  {
   "cell_type": "markdown",
   "metadata": {},
   "source": [
    "# Delete a index"
   ]
  },
  {
   "cell_type": "code",
   "execution_count": 7,
   "metadata": {},
   "outputs": [
    {
     "data": {
      "text/plain": [
       "{'acknowledged': True}"
      ]
     },
     "execution_count": 7,
     "metadata": {},
     "output_type": "execute_result"
    }
   ],
   "source": [
    "es.indices.delete(index=\"walmart_index\")"
   ]
  },
  {
   "cell_type": "markdown",
   "metadata": {},
   "source": [
    "# Different soucrces of data in es"
   ]
  },
  {
   "cell_type": "code",
   "execution_count": 8,
   "metadata": {},
   "outputs": [],
   "source": [
    "# 1. file --> csv, json\n",
    "# 2. program\n",
    "# 3. pandas dataframe"
   ]
  },
  {
   "cell_type": "code",
   "execution_count": 11,
   "metadata": {},
   "outputs": [],
   "source": [
    "# json kind of structure of your data\n",
    "data = [\n",
    "    {\n",
    "        \"title\": \"Apple iPhone XR (64GB) - Black\",\n",
    "        \"review\": \"Very bad experience with this iPhone xr phone. Back camera found defective and non functional. Amazon is very careless. I haven't got any response on confirmation for replacing. I am just hanging with a damaged piece worth of more than 91000 rupees.\"\n",
    "    },\n",
    "    {\n",
    "        \"title\":\"Sony 80 cm (32 Inches) HD Ready LED TV KLV-32R202F (Black) (2018 model)\",\n",
    "        \"review\": \"Ultimate picture quality and sound.i just give 4stars due to sony install this 32inch tv on 24inch small tv mount which is not provide any space to plug a pendrive.overall product is good and value for money.\"\n",
    "    },\n",
    "    {\n",
    "        \"title\": \"Amazon Brand - Solimo Capella Engineered Wood Coffee Table (Espresso Finish)\",\n",
    "        \"review\": \"\"\"The table is sturdy and looks good, befitting a modern living room.. The components came in a compact package and the assembly took almost an hour to complete.. Interlocking of the components is very intricate and, therefore, it is recommended to have the product assembled by professionals. The workmanship during assembly was noteworthy. Overall a great product.\"\"\"\n",
    "    }\n",
    "]\n"
   ]
  },
  {
   "cell_type": "code",
   "execution_count": 13,
   "metadata": {},
   "outputs": [
    {
     "data": {
      "text/plain": [
       "(3, [])"
      ]
     },
     "execution_count": 13,
     "metadata": {},
     "output_type": "execute_result"
    }
   ],
   "source": [
    "# index data in es\n",
    "from elasticsearch.helpers import bulk\n",
    "bulk(es,data, index=\"amazon_index\", doc_type=\"amazon_data\")"
   ]
  },
  {
   "cell_type": "code",
   "execution_count": 14,
   "metadata": {},
   "outputs": [
    {
     "data": {
      "text/html": [
       "<div>\n",
       "<style scoped>\n",
       "    .dataframe tbody tr th:only-of-type {\n",
       "        vertical-align: middle;\n",
       "    }\n",
       "\n",
       "    .dataframe tbody tr th {\n",
       "        vertical-align: top;\n",
       "    }\n",
       "\n",
       "    .dataframe thead th {\n",
       "        text-align: right;\n",
       "    }\n",
       "</style>\n",
       "<table border=\"1\" class=\"dataframe\">\n",
       "  <thead>\n",
       "    <tr style=\"text-align: right;\">\n",
       "      <th></th>\n",
       "      <th>title</th>\n",
       "      <th>review</th>\n",
       "    </tr>\n",
       "  </thead>\n",
       "  <tbody>\n",
       "    <tr>\n",
       "      <th>0</th>\n",
       "      <td>Samsung s6 mobile phone</td>\n",
       "      <td>this phone is good</td>\n",
       "    </tr>\n",
       "    <tr>\n",
       "      <th>1</th>\n",
       "      <td>Nokia 1100 phone</td>\n",
       "      <td>nokia is the best phone</td>\n",
       "    </tr>\n",
       "  </tbody>\n",
       "</table>\n",
       "</div>"
      ],
      "text/plain": [
       "                     title                   review\n",
       "0  Samsung s6 mobile phone       this phone is good\n",
       "1         Nokia 1100 phone  nokia is the best phone"
      ]
     },
     "execution_count": 14,
     "metadata": {},
     "output_type": "execute_result"
    }
   ],
   "source": [
    "import pandas as pd\n",
    "df = pd.DataFrame()\n",
    "df['title'] = [\"Samsung s6 mobile phone\", \"Nokia 1100 phone\"]\n",
    "df['review'] = [\"this phone is good\", \"nokia is the best phone\"]\n",
    "df"
   ]
  },
  {
   "cell_type": "code",
   "execution_count": 18,
   "metadata": {},
   "outputs": [
    {
     "data": {
      "text/plain": [
       "[{'title': 'Samsung s6 mobile phone', 'review': 'this phone is good'},\n",
       " {'title': 'Nokia 1100 phone', 'review': 'nokia is the best phone'}]"
      ]
     },
     "execution_count": 18,
     "metadata": {},
     "output_type": "execute_result"
    }
   ],
   "source": [
    "df.to_dict(orient='records')"
   ]
  },
  {
   "cell_type": "code",
   "execution_count": 17,
   "metadata": {},
   "outputs": [
    {
     "data": {
      "text/plain": [
       "{'title': {0: 'Samsung s6 mobile phone', 1: 'Nokia 1100 phone'},\n",
       " 'review': {0: 'this phone is good', 1: 'nokia is the best phone'}}"
      ]
     },
     "execution_count": 17,
     "metadata": {},
     "output_type": "execute_result"
    }
   ],
   "source": [
    "df.to_dict()"
   ]
  },
  {
   "cell_type": "code",
   "execution_count": 19,
   "metadata": {},
   "outputs": [
    {
     "data": {
      "text/plain": [
       "(2, [])"
      ]
     },
     "execution_count": 19,
     "metadata": {},
     "output_type": "execute_result"
    }
   ],
   "source": [
    "bulk(es,df.to_dict(orient='records'), index=\"amazon_index\", doc_type=\"amazon_data\")"
   ]
  },
  {
   "cell_type": "markdown",
   "metadata": {},
   "source": [
    "# Let's search some documents"
   ]
  },
  {
   "cell_type": "code",
   "execution_count": 23,
   "metadata": {},
   "outputs": [],
   "source": [
    "body_of_request = {\n",
    "    \"query\":{\n",
    "        \"match_all\":{\n",
    "            \n",
    "        }\n",
    "    }\n",
    "}"
   ]
  },
  {
   "cell_type": "code",
   "execution_count": 28,
   "metadata": {},
   "outputs": [],
   "source": [
    "result = es.search(index='amazon_index',body=body_of_request)['hits']['hits']"
   ]
  },
  {
   "cell_type": "code",
   "execution_count": 31,
   "metadata": {},
   "outputs": [],
   "source": [
    "result = [doc['_source'] for doc in result]"
   ]
  },
  {
   "cell_type": "code",
   "execution_count": 32,
   "metadata": {},
   "outputs": [
    {
     "data": {
      "text/plain": [
       "[{'title': 'Nokia 1100 phone', 'review': 'nokia is the best phone'},\n",
       " {'title': 'Sony 80 cm (32 Inches) HD Ready LED TV KLV-32R202F (Black) (2018 model)',\n",
       "  'review': 'Ultimate picture quality and sound.i just give 4stars due to sony install this 32inch tv on 24inch small tv mount which is not provide any space to plug a pendrive.overall product is good and value for money.'},\n",
       " {'title': 'Apple iPhone XR (64GB) - Black',\n",
       "  'review': \"Very bad experience with this iPhone xr phone. Back camera found defective and non functional. Amazon is very careless. I haven't got any response on confirmation for replacing. I am just hanging with a damaged piece worth of more than 91000 rupees.\"},\n",
       " {'title': 'Amazon Brand - Solimo Capella Engineered Wood Coffee Table (Espresso Finish)',\n",
       "  'review': 'The table is sturdy and looks good, befitting a modern living room.. The components came in a compact package and the assembly took almost an hour to complete.. Interlocking of the components is very intricate and, therefore, it is recommended to have the product assembled by professionals. The workmanship during assembly was noteworthy. Overall a great product.'},\n",
       " {'title': 'Samsung s6 mobile phone', 'review': 'this phone is good'}]"
      ]
     },
     "execution_count": 32,
     "metadata": {},
     "output_type": "execute_result"
    }
   ],
   "source": [
    "result"
   ]
  },
  {
   "cell_type": "markdown",
   "metadata": {},
   "source": [
    "# Query wise retrieval"
   ]
  },
  {
   "cell_type": "code",
   "execution_count": 48,
   "metadata": {},
   "outputs": [],
   "source": [
    "query = \"xr camera\""
   ]
  },
  {
   "cell_type": "code",
   "execution_count": 49,
   "metadata": {},
   "outputs": [],
   "source": [
    "body_of_request = {\n",
    "    \"query\":{\n",
    "        \"match\":{\n",
    "            \"review\":query\n",
    "        }\n",
    "    }\n",
    "}"
   ]
  },
  {
   "cell_type": "code",
   "execution_count": 50,
   "metadata": {},
   "outputs": [],
   "source": [
    "query_res = es.search(index=\"amazon_index\", body=body_of_request)['hits']['hits']"
   ]
  },
  {
   "cell_type": "code",
   "execution_count": 51,
   "metadata": {},
   "outputs": [
    {
     "data": {
      "text/plain": [
       "[{'title': 'Apple iPhone XR (64GB) - Black',\n",
       "  'review': \"Very bad experience with this iPhone xr phone. Back camera found defective and non functional. Amazon is very careless. I haven't got any response on confirmation for replacing. I am just hanging with a damaged piece worth of more than 91000 rupees.\"}]"
      ]
     },
     "execution_count": 51,
     "metadata": {},
     "output_type": "execute_result"
    }
   ],
   "source": [
    "[doc['_source'] for doc in query_res]"
   ]
  },
  {
   "cell_type": "code",
   "execution_count": 52,
   "metadata": {},
   "outputs": [],
   "source": [
    "# Randing model\n",
    "# query = \"\"\n",
    "# reviews = []"
   ]
  },
  {
   "cell_type": "code",
   "execution_count": 53,
   "metadata": {},
   "outputs": [],
   "source": [
    "# OR\n",
    "# \"apple\" OR \"samsung\""
   ]
  },
  {
   "cell_type": "code",
   "execution_count": 54,
   "metadata": {},
   "outputs": [],
   "source": [
    "body_of_request = {\n",
    "    \"query\":{\n",
    "        \"bool\":{\n",
    "            \"must\":{\n",
    "                \"multi_match\":{\n",
    "                    \"query\":\"(apple) OR (samsung)\",\n",
    "                    \"operator\":\"or\",\n",
    "                    \"fields\":[\n",
    "                        \"title\",\n",
    "                        \"review\"\n",
    "                    ]\n",
    "                }\n",
    "            }\n",
    "        }\n",
    "    }\n",
    "}"
   ]
  },
  {
   "cell_type": "code",
   "execution_count": 56,
   "metadata": {},
   "outputs": [
    {
     "data": {
      "text/plain": [
       "[{'_index': 'amazon_index',\n",
       "  '_type': 'amazon_data',\n",
       "  '_id': 'Sd3-TW4BW95tfB-cODy8',\n",
       "  '_score': 1.1548918,\n",
       "  '_source': {'title': 'Samsung s6 mobile phone',\n",
       "   'review': 'this phone is good'}},\n",
       " {'_index': 'amazon_index',\n",
       "  '_type': 'amazon_data',\n",
       "  '_id': 'Rt32TW4BW95tfB-c1TzD',\n",
       "  '_score': 1.0732633,\n",
       "  '_source': {'title': 'Apple iPhone XR (64GB) - Black',\n",
       "   'review': \"Very bad experience with this iPhone xr phone. Back camera found defective and non functional. Amazon is very careless. I haven't got any response on confirmation for replacing. I am just hanging with a damaged piece worth of more than 91000 rupees.\"}}]"
      ]
     },
     "execution_count": 56,
     "metadata": {},
     "output_type": "execute_result"
    }
   ],
   "source": [
    "es.search(index=\"amazon_index\", body=body_of_request)['hits']['hits']"
   ]
  },
  {
   "cell_type": "code",
   "execution_count": null,
   "metadata": {},
   "outputs": [],
   "source": []
  }
 ],
 "metadata": {
  "kernelspec": {
   "display_name": "Python 3",
   "language": "python",
   "name": "python3"
  },
  "language_info": {
   "codemirror_mode": {
    "name": "ipython",
    "version": 3
   },
   "file_extension": ".py",
   "mimetype": "text/x-python",
   "name": "python",
   "nbconvert_exporter": "python",
   "pygments_lexer": "ipython3",
   "version": "3.6.5"
  }
 },
 "nbformat": 4,
 "nbformat_minor": 2
}
