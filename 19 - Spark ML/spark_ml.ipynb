{
  "nbformat": 4,
  "nbformat_minor": 0,
  "metadata": {
    "kernelspec": {
      "display_name": "Python 3",
      "language": "python",
      "name": "python3"
    },
    "language_info": {
      "codemirror_mode": {
        "name": "ipython",
        "version": 3
      },
      "file_extension": ".py",
      "mimetype": "text/x-python",
      "name": "python",
      "nbconvert_exporter": "python",
      "pygments_lexer": "ipython3",
      "version": "3.6.5"
    },
    "colab": {
      "name": "spark_ml.ipynb",
      "provenance": []
    }
  },
  "cells": [
    {
      "cell_type": "code",
      "metadata": {
        "id": "VsaP-zLGIxxb",
        "colab_type": "code",
        "colab": {}
      },
      "source": [
        "from pyspark import SparkConf\n",
        "from pyspark.sql.session import SparkSession\n",
        "conf = SparkConf()\\\n",
        "        .setMaster(\"local\")\\\n",
        "        .setAppName(\"My User application\")\\\n",
        "        .set(\"spark.executor.instances\",\"1\")\\\n",
        "        .set(\"spark.executor.cores\",\"1\")\n",
        "\n",
        "from pyspark import SparkContext\n",
        "sc = SparkContext(conf=conf)\n",
        "spark = SparkSession(sc)"
      ],
      "execution_count": 0,
      "outputs": []
    },
    {
      "cell_type": "code",
      "metadata": {
        "id": "k6W6jnvyIxxi",
        "colab_type": "code",
        "colab": {}
      },
      "source": [
        "# Transformations and actions -> clean the data\n",
        "# ML models --> sparkMl lib"
      ],
      "execution_count": 0,
      "outputs": []
    },
    {
      "cell_type": "code",
      "metadata": {
        "id": "xaeSF2TsIxxm",
        "colab_type": "code",
        "colab": {}
      },
      "source": [
        "from pyspark.sql import *\n",
        "import pyspark.sql.functions as f\n",
        "from pyspark.sql.functions import udf\n",
        "from pyspark.sql.types import *"
      ],
      "execution_count": 0,
      "outputs": []
    },
    {
      "cell_type": "code",
      "metadata": {
        "id": "LF5iyUzEIxxr",
        "colab_type": "code",
        "colab": {},
        "outputId": "f9d83b99-3cd6-419a-c437-dfd29303a74d"
      },
      "source": [
        "# how to read data from txt file\n",
        "# how to give input to spark\n",
        "# csv file\n",
        "df = spark.read.csv(\"train.csv\", inferSchema=True, header=True)\n",
        "df.show(1)"
      ],
      "execution_count": 0,
      "outputs": [
        {
          "output_type": "stream",
          "text": [
            "+-----+------------+--------------------+\n",
            "|   id|label_actual|                text|\n",
            "+-----+------------+--------------------+\n",
            "|34098|           9|Selena Gomez s Sp...|\n",
            "+-----+------------+--------------------+\n",
            "only showing top 1 row\n",
            "\n"
          ],
          "name": "stdout"
        }
      ]
    },
    {
      "cell_type": "code",
      "metadata": {
        "id": "BJpVwgIRIxxx",
        "colab_type": "code",
        "colab": {}
      },
      "source": [
        "from pyspark.sql import Row\n",
        "from pyspark.sql import SQLContext\n",
        "sqlContext = SQLContext(sc)"
      ],
      "execution_count": 0,
      "outputs": []
    },
    {
      "cell_type": "code",
      "metadata": {
        "id": "r2GZh8pTIxx1",
        "colab_type": "code",
        "colab": {}
      },
      "source": [
        "# how do you query documents from sql: selct * from table_name\n",
        "df.registerTempTable(\"data_table\")"
      ],
      "execution_count": 0,
      "outputs": []
    },
    {
      "cell_type": "code",
      "metadata": {
        "id": "t_1A6AmZIxx6",
        "colab_type": "code",
        "colab": {},
        "outputId": "3178fa0f-73a2-44ce-fba6-ef05691d38d0"
      },
      "source": [
        "sqlContext.sql('select * from data_table').show(2)"
      ],
      "execution_count": 0,
      "outputs": [
        {
          "output_type": "stream",
          "text": [
            "+------+------------+--------------------+\n",
            "|    id|label_actual|                text|\n",
            "+------+------------+--------------------+\n",
            "| 34098|           9|Selena Gomez s Sp...|\n",
            "|126472|          11|Mitch McConnell S...|\n",
            "+------+------------+--------------------+\n",
            "only showing top 2 rows\n",
            "\n"
          ],
          "name": "stdout"
        }
      ]
    },
    {
      "cell_type": "markdown",
      "metadata": {
        "id": "Aq9FeI04Ixx_",
        "colab_type": "text"
      },
      "source": [
        "# UDF"
      ]
    },
    {
      "cell_type": "code",
      "metadata": {
        "id": "bTIqoL9zIxyA",
        "colab_type": "code",
        "colab": {}
      },
      "source": [
        "from string import punctuation\n",
        "from nltk.corpus import stopwords\n",
        "from nltk.stem import PorterStemmer\n",
        "from nltk.tokenize import word_tokenize, sent_tokenize"
      ],
      "execution_count": 0,
      "outputs": []
    },
    {
      "cell_type": "code",
      "metadata": {
        "id": "vYccB2P3IxyE",
        "colab_type": "code",
        "colab": {},
        "outputId": "051b9f31-dc34-40d7-85a3-ca624d8000f1"
      },
      "source": [
        "print(\"Punctuations :\", punctuation)\n",
        "stop_words = stopwords.words('english')\n",
        "print(\"Stopwords :\", stop_words[:5])\n",
        "\n",
        "word = \"going\"\n",
        "ps = PorterStemmer()\n",
        "print(\"word is = \",word,\" after stemming = \",ps.stem(word)) # given a word --> root word\n",
        "\n",
        "sentence = \"hello how are you doing ?\"\n",
        "print(\"sentence = \",sentence,\" word tokenizer = \",word_tokenize(sentence))\n",
        "\n",
        "paragraph = \"hello how are you doing ? this is amazing . this is cool. \"\n",
        "print(\"paragraph = \",paragraph,\" sen tokenizer = \",sent_tokenize(paragraph))"
      ],
      "execution_count": 0,
      "outputs": [
        {
          "output_type": "stream",
          "text": [
            "Punctuations : !\"#$%&'()*+,-./:;<=>?@[\\]^_`{|}~\n",
            "Stopwords : ['i', 'me', 'my', 'myself', 'we']\n",
            "word is =  going  after stemming =  go\n",
            "sentence =  hello how are you doing ?  word tokenizer =  ['hello', 'how', 'are', 'you', 'doing', '?']\n",
            "paragraph =  hello how are you doing ? this is amazing . this is cool.   sen tokenizer =  ['hello how are you doing ?', 'this is amazing .', 'this is cool.']\n"
          ],
          "name": "stdout"
        }
      ]
    },
    {
      "cell_type": "code",
      "metadata": {
        "id": "NTSpBE2_IxyI",
        "colab_type": "code",
        "colab": {}
      },
      "source": [
        "# def clean(text):\n",
        "#     # clean\n",
        "#     return text\n",
        "# df['text'].apply(lambda x: clean(x))"
      ],
      "execution_count": 0,
      "outputs": []
    },
    {
      "cell_type": "code",
      "metadata": {
        "id": "V6CCCWKbIxyM",
        "colab_type": "code",
        "colab": {}
      },
      "source": [
        "def clean(text):\n",
        "    #print(text)\n",
        "    text = text.lower()\n",
        "    #print(text)\n",
        "    text = ''.join([char_ for char_ in text if char_ not in punctuation])\n",
        "    #print(text)\n",
        "    text_tokens = word_tokenize(text)\n",
        "    #print(text_tokens)\n",
        "    text_tokens_without_stopwords = [word for word in text_tokens if word not in stop_words]\n",
        "    #print(text_tokens_without_stopwords)\n",
        "    stem_text_tokens = [ps.stem(word) for word in text_tokens_without_stopwords]\n",
        "    #print(stem_text_tokens)\n",
        "    cleaned_text = ' '.join(stem_text_tokens)\n",
        "    #print(cleaned_text)\n",
        "    return cleaned_text"
      ],
      "execution_count": 0,
      "outputs": []
    },
    {
      "cell_type": "code",
      "metadata": {
        "id": "osD7A0yrIxyQ",
        "colab_type": "code",
        "colab": {}
      },
      "source": [
        "# clean(\"Hello! how is your day going on?\")"
      ],
      "execution_count": 0,
      "outputs": []
    },
    {
      "cell_type": "code",
      "metadata": {
        "id": "bIzXk_DOIxyU",
        "colab_type": "code",
        "colab": {}
      },
      "source": [
        "# ls = [\"word1\", \"word2\", \"word3\"]\n",
        "# '_'.join(ls)\n",
        "\n",
        "# sentence = \"i am doing good\"\n",
        "# ''.join([char for char in sentence if char not in punctuation])\n"
      ],
      "execution_count": 0,
      "outputs": []
    },
    {
      "cell_type": "code",
      "metadata": {
        "id": "zk5J70ErIxyX",
        "colab_type": "code",
        "colab": {}
      },
      "source": [
        "udf_clean_function = udf(clean, StringType())\n",
        "df = df.withColumn(\"cleaned_text\",udf_clean_function(\"text\"))"
      ],
      "execution_count": 0,
      "outputs": []
    },
    {
      "cell_type": "code",
      "metadata": {
        "id": "5rDtJYEpIxyf",
        "colab_type": "code",
        "colab": {},
        "outputId": "6d38734d-0c14-4d72-e53e-ad6a68883005"
      },
      "source": [
        "df.show(2)"
      ],
      "execution_count": 0,
      "outputs": [
        {
          "output_type": "stream",
          "text": [
            "+------+------------+--------------------+--------------------+\n",
            "|    id|label_actual|                text|        cleaned_text|\n",
            "+------+------------+--------------------+--------------------+\n",
            "| 34098|           9|Selena Gomez s Sp...|selena gomez spri...|\n",
            "|126472|          11|Mitch McConnell S...|mitch mcconnel sa...|\n",
            "+------+------------+--------------------+--------------------+\n",
            "only showing top 2 rows\n",
            "\n"
          ],
          "name": "stdout"
        }
      ]
    },
    {
      "cell_type": "code",
      "metadata": {
        "id": "uYyV-lmYIxyi",
        "colab_type": "code",
        "colab": {}
      },
      "source": [
        "df = df.withColumn(\"len\", f.size(f.split(f.col('cleaned_text'),' ')))"
      ],
      "execution_count": 0,
      "outputs": []
    },
    {
      "cell_type": "code",
      "metadata": {
        "id": "qyMK6QvKIxym",
        "colab_type": "code",
        "colab": {},
        "outputId": "7c655dc6-7a80-4ee0-f5c2-13f3458972d6"
      },
      "source": [
        "df.show(2)"
      ],
      "execution_count": 0,
      "outputs": [
        {
          "output_type": "stream",
          "text": [
            "+------+------------+--------------------+--------------------+---+\n",
            "|    id|label_actual|                text|        cleaned_text|len|\n",
            "+------+------------+--------------------+--------------------+---+\n",
            "| 34098|           9|Selena Gomez s Sp...|selena gomez spri...| 24|\n",
            "|126472|          11|Mitch McConnell S...|mitch mcconnel sa...| 17|\n",
            "+------+------------+--------------------+--------------------+---+\n",
            "only showing top 2 rows\n",
            "\n"
          ],
          "name": "stdout"
        }
      ]
    },
    {
      "cell_type": "code",
      "metadata": {
        "id": "e-kiWnm3Ixyq",
        "colab_type": "code",
        "colab": {}
      },
      "source": [
        "# len_histogram = df.select('len').rdd.flatMap(lambda x: x).histogram(10)\n",
        "# 1-->90\n",
        "# 2-->180"
      ],
      "execution_count": 0,
      "outputs": []
    },
    {
      "cell_type": "markdown",
      "metadata": {
        "id": "abkcH4nlIxyu",
        "colab_type": "text"
      },
      "source": [
        "# KMeans"
      ]
    },
    {
      "cell_type": "code",
      "metadata": {
        "id": "ZZdCFq1EIxyv",
        "colab_type": "code",
        "colab": {},
        "outputId": "40433799-3305-4761-97a5-4435292da031"
      },
      "source": [
        "df.cache().count()"
      ],
      "execution_count": 0,
      "outputs": [
        {
          "output_type": "execute_result",
          "data": {
            "text/plain": [
              "240498"
            ]
          },
          "metadata": {
            "tags": []
          },
          "execution_count": 44
        }
      ]
    },
    {
      "cell_type": "code",
      "metadata": {
        "id": "dcnTZeXeIxyz",
        "colab_type": "code",
        "colab": {}
      },
      "source": [
        "# KMeans using sckit\n",
        "# step1: CountVect, TFIDF\n",
        "# step2: KMeans"
      ],
      "execution_count": 0,
      "outputs": []
    },
    {
      "cell_type": "code",
      "metadata": {
        "id": "zzqX2cnsIxy5",
        "colab_type": "code",
        "colab": {}
      },
      "source": [
        "from pyspark.ml.feature import HashingTF, IDF, Tokenizer, StopWordsRemover\n",
        "from pyspark.ml.clustering import KMeans\n",
        "from pyspark.ml.evaluation import ClusteringEvaluator\n",
        "from pyspark.ml import Pipeline"
      ],
      "execution_count": 0,
      "outputs": []
    },
    {
      "cell_type": "code",
      "metadata": {
        "id": "tafT-mI4Ixy_",
        "colab_type": "code",
        "colab": {}
      },
      "source": [
        "# from sklearn.feature_extraction.text import CountVectorizer, TFIdfVectorizer\n",
        "# from nltk.corpus import stopwords\n",
        "# pipeline: Text --> StopWordsRemover -->  Tokenizer --> HashingTF --> IDF --> KMeans"
      ],
      "execution_count": 0,
      "outputs": []
    },
    {
      "cell_type": "code",
      "metadata": {
        "id": "9YZiY143IxzD",
        "colab_type": "code",
        "colab": {}
      },
      "source": [
        "# cleaning and creating features\n",
        "tokenizer = Tokenizer(inputCol=\"cleaned_text\", outputCol=\"tokens\")\n",
        "remover = StopWordsRemover(inputCol=\"tokens\", outputCol=\"stopWordsRemovedTokens\")\n",
        "hashingTF = HashingTF(inputCol=\"stopWordsRemovedTokens\", outputCol=\"rawFeatures\", numFeatures=20)\n",
        "idf = IDF(inputCol=\"rawFeatures\", outputCol=\"features\",minDocFreq=5)"
      ],
      "execution_count": 0,
      "outputs": []
    },
    {
      "cell_type": "code",
      "metadata": {
        "id": "kanN70IlIxzG",
        "colab_type": "code",
        "colab": {}
      },
      "source": [
        "pipeline = Pipeline(stages=[tokenizer, remover, hashingTF, idf])"
      ],
      "execution_count": 0,
      "outputs": []
    },
    {
      "cell_type": "code",
      "metadata": {
        "id": "R3DGXoYLIxzK",
        "colab_type": "code",
        "colab": {}
      },
      "source": [
        "pipeline_model = pipeline.fit(df)"
      ],
      "execution_count": 0,
      "outputs": []
    },
    {
      "cell_type": "code",
      "metadata": {
        "id": "z2ZIp4chIxzO",
        "colab_type": "code",
        "colab": {},
        "outputId": "cc3be2c2-6b7a-481f-f210-b0cee268b302"
      },
      "source": [
        "dataset = pipeline_model.transform(df)\n",
        "dataset.show(5)"
      ],
      "execution_count": 0,
      "outputs": [
        {
          "output_type": "stream",
          "text": [
            "+------+------------+--------------------+--------------------+---+--------------------+----------------------+--------------------+--------------------+\n",
            "|    id|label_actual|                text|        cleaned_text|len|              tokens|stopWordsRemovedTokens|         rawFeatures|            features|\n",
            "+------+------------+--------------------+--------------------+---+--------------------+----------------------+--------------------+--------------------+\n",
            "| 34098|           9|Selena Gomez s Sp...|selena gomez spri...| 24|[selena, gomez, s...|  [selena, gomez, s...|(20,[0,1,2,5,6,7,...|(20,[0,1,2,5,6,7,...|\n",
            "|126472|          11|Mitch McConnell S...|mitch mcconnel sa...| 17|[mitch, mcconnel,...|  [mitch, mcconnel,...|(20,[0,5,7,8,10,1...|(20,[0,5,7,8,10,1...|\n",
            "|167309|           5|this fast chargin...|fast charg sync m...| 73|[fast, charg, syn...|  [fast, charg, syn...|(20,[0,1,2,3,4,5,...|(20,[0,1,2,3,4,5,...|\n",
            "|214589|           0|exclusive sanjay ...|exclus sanjay dut...| 24|[exclus, sanjay, ...|  [exclus, sanjay, ...|(20,[1,4,5,7,8,9,...|(20,[1,4,5,7,8,9,...|\n",
            "| 85052|           9|Adriana Lima s St...|adriana lima styl...| 26|[adriana, lima, s...|  [adriana, lima, s...|(20,[0,2,3,4,5,7,...|(20,[0,2,3,4,5,7,...|\n",
            "+------+------------+--------------------+--------------------+---+--------------------+----------------------+--------------------+--------------------+\n",
            "only showing top 5 rows\n",
            "\n"
          ],
          "name": "stdout"
        }
      ]
    },
    {
      "cell_type": "code",
      "metadata": {
        "id": "vEFvqRggIxzS",
        "colab_type": "code",
        "colab": {}
      },
      "source": [
        "(traingData, testData) = dataset.randomSplit([0.6,0.4], seed=42)"
      ],
      "execution_count": 0,
      "outputs": []
    },
    {
      "cell_type": "code",
      "metadata": {
        "id": "YOM1BrIFIxzV",
        "colab_type": "code",
        "colab": {},
        "outputId": "9f2b82b3-07f4-4461-cca1-b98831ef3def"
      },
      "source": [
        "print(\"Number of documents in traing dataset :\",traingData.count())\n",
        "print(\"Number of documents in testing dataset:\",testData.count())"
      ],
      "execution_count": 0,
      "outputs": [
        {
          "output_type": "stream",
          "text": [
            "Number of documents in traing dataset : 144336\n",
            "Number of documents in testing dataset: 96162\n"
          ],
          "name": "stdout"
        }
      ]
    },
    {
      "cell_type": "code",
      "metadata": {
        "id": "uur5S4RCIxzZ",
        "colab_type": "code",
        "colab": {}
      },
      "source": [
        "# training ok Kmeans\n",
        "kmeans = KMeans(k=17)\n",
        "kmeans_model = kmeans.fit(traingData)"
      ],
      "execution_count": 0,
      "outputs": []
    },
    {
      "cell_type": "code",
      "metadata": {
        "id": "82RT527ZIxze",
        "colab_type": "code",
        "colab": {}
      },
      "source": [
        "test_predictions = kmeans_model.transform(testData)"
      ],
      "execution_count": 0,
      "outputs": []
    },
    {
      "cell_type": "code",
      "metadata": {
        "id": "UbV6GhnRIxzk",
        "colab_type": "code",
        "colab": {},
        "outputId": "b04e5439-393f-4a21-f7fa-24b9567fe36b"
      },
      "source": [
        "test_predictions.count()"
      ],
      "execution_count": 0,
      "outputs": [
        {
          "output_type": "execute_result",
          "data": {
            "text/plain": [
              "96162"
            ]
          },
          "metadata": {
            "tags": []
          },
          "execution_count": 58
        }
      ]
    },
    {
      "cell_type": "code",
      "metadata": {
        "id": "I-lRGxxoIxzr",
        "colab_type": "code",
        "colab": {},
        "outputId": "439b7a9d-7618-40e9-9de3-693f288a0459"
      },
      "source": [
        "test_predictions.show(2)"
      ],
      "execution_count": 0,
      "outputs": [
        {
          "output_type": "stream",
          "text": [
            "+---+------------+--------------------+--------------------+---+--------------------+----------------------+--------------------+--------------------+----------+\n",
            "| id|label_actual|                text|        cleaned_text|len|              tokens|stopWordsRemovedTokens|         rawFeatures|            features|prediction|\n",
            "+---+------------+--------------------+--------------------+---+--------------------+----------------------+--------------------+--------------------+----------+\n",
            "|  0|           9|Blake Lively s We...|blake live wed dr...| 16|[blake, live, wed...|  [blake, live, wed...|(20,[0,1,3,6,8,12...|(20,[0,1,3,6,8,12...|         5|\n",
            "|  1|           9|Prince William Re...|princ william res...| 21|[princ, william, ...|  [princ, william, ...|(20,[0,1,3,4,5,8,...|(20,[0,1,3,4,5,8,...|        11|\n",
            "+---+------------+--------------------+--------------------+---+--------------------+----------------------+--------------------+--------------------+----------+\n",
            "only showing top 2 rows\n",
            "\n"
          ],
          "name": "stdout"
        }
      ]
    },
    {
      "cell_type": "code",
      "metadata": {
        "id": "8mMJwTYhIxzw",
        "colab_type": "code",
        "colab": {}
      },
      "source": [
        "evaluator = ClusteringEvaluator()\n",
        "predictions = evaluator.evaluate(test_predictions)"
      ],
      "execution_count": 0,
      "outputs": []
    },
    {
      "cell_type": "code",
      "metadata": {
        "id": "8_-fEcERIxzz",
        "colab_type": "code",
        "colab": {},
        "outputId": "8eeef8e7-8d3f-4655-8fe9-b8bd1f5b5970"
      },
      "source": [
        "predictions"
      ],
      "execution_count": 0,
      "outputs": [
        {
          "output_type": "execute_result",
          "data": {
            "text/plain": [
              "0.10362893193580504"
            ]
          },
          "metadata": {
            "tags": []
          },
          "execution_count": 67
        }
      ]
    },
    {
      "cell_type": "code",
      "metadata": {
        "id": "taJYaXj9Ixz2",
        "colab_type": "code",
        "colab": {}
      },
      "source": [
        "class_to_id = {'Arts, Culture & Entertainment': 0,\n",
        "                'Business and Finance': 1,\n",
        "                            'Crime': 2,\n",
        "                            'Education': 3,\n",
        "                            'Environment': 4,\n",
        "                            'Family & Parenting': 6,\n",
        "                            'Food & drink': 7,\n",
        "                            'Health & Fitness': 8,\n",
        "                            'Home & Living / Lifestyle & Beauty': 9,\n",
        "                            'Media': 10,\n",
        "                            'Politics': 11,\n",
        "                            'Religion': 12,\n",
        "                            'Society': 13,\n",
        "                            'Sports': 14,\n",
        "                            'Travel & Leisure': 15,\n",
        "                            'Science & Technology': 5,\n",
        "                            'Automotive':16}"
      ],
      "execution_count": 0,
      "outputs": []
    },
    {
      "cell_type": "markdown",
      "metadata": {
        "id": "rFbKyqAeIxz5",
        "colab_type": "text"
      },
      "source": [
        "# LR"
      ]
    },
    {
      "cell_type": "code",
      "metadata": {
        "id": "p1WE5gJBIxz5",
        "colab_type": "code",
        "colab": {}
      },
      "source": [
        "from pyspark.ml.classification import LogisticRegression"
      ],
      "execution_count": 0,
      "outputs": []
    },
    {
      "cell_type": "code",
      "metadata": {
        "id": "Aqq9D5yCIxz9",
        "colab_type": "code",
        "colab": {},
        "outputId": "9ab27fe3-7e26-436c-aa9d-1b8d58234a86"
      },
      "source": [
        "dataset.show(5)"
      ],
      "execution_count": 0,
      "outputs": [
        {
          "output_type": "stream",
          "text": [
            "+------+------------+--------------------+--------------------+---+--------------------+----------------------+--------------------+--------------------+\n",
            "|    id|label_actual|                text|        cleaned_text|len|              tokens|stopWordsRemovedTokens|         rawFeatures|            features|\n",
            "+------+------------+--------------------+--------------------+---+--------------------+----------------------+--------------------+--------------------+\n",
            "| 34098|           9|Selena Gomez s Sp...|selena gomez spri...| 24|[selena, gomez, s...|  [selena, gomez, s...|(20,[0,1,2,5,6,7,...|(20,[0,1,2,5,6,7,...|\n",
            "|126472|          11|Mitch McConnell S...|mitch mcconnel sa...| 17|[mitch, mcconnel,...|  [mitch, mcconnel,...|(20,[0,5,7,8,10,1...|(20,[0,5,7,8,10,1...|\n",
            "|167309|           5|this fast chargin...|fast charg sync m...| 73|[fast, charg, syn...|  [fast, charg, syn...|(20,[0,1,2,3,4,5,...|(20,[0,1,2,3,4,5,...|\n",
            "|214589|           0|exclusive sanjay ...|exclus sanjay dut...| 24|[exclus, sanjay, ...|  [exclus, sanjay, ...|(20,[1,4,5,7,8,9,...|(20,[1,4,5,7,8,9,...|\n",
            "| 85052|           9|Adriana Lima s St...|adriana lima styl...| 26|[adriana, lima, s...|  [adriana, lima, s...|(20,[0,2,3,4,5,7,...|(20,[0,2,3,4,5,7,...|\n",
            "+------+------------+--------------------+--------------------+---+--------------------+----------------------+--------------------+--------------------+\n",
            "only showing top 5 rows\n",
            "\n"
          ],
          "name": "stdout"
        }
      ]
    },
    {
      "cell_type": "code",
      "metadata": {
        "id": "Z7qcSUFZIx0D",
        "colab_type": "code",
        "colab": {}
      },
      "source": [
        "lr = LogisticRegression(featuresCol='features', labelCol='label_actual', maxIter=10)\n",
        "lr_model = lr.fit(traingData)"
      ],
      "execution_count": 0,
      "outputs": []
    },
    {
      "cell_type": "code",
      "metadata": {
        "id": "vCgbst98Ix0H",
        "colab_type": "code",
        "colab": {}
      },
      "source": [
        "lr_predictions = lr_model.transform(testData)"
      ],
      "execution_count": 0,
      "outputs": []
    },
    {
      "cell_type": "code",
      "metadata": {
        "id": "HxwsbAaWIx0M",
        "colab_type": "code",
        "colab": {},
        "outputId": "f82e942e-613e-47fe-f690-9f757aa72537"
      },
      "source": [
        "lr_predictions.show(5)"
      ],
      "execution_count": 0,
      "outputs": [
        {
          "output_type": "stream",
          "text": [
            "+---+------------+--------------------+--------------------+---+--------------------+----------------------+--------------------+--------------------+--------------------+--------------------+----------+\n",
            "| id|label_actual|                text|        cleaned_text|len|              tokens|stopWordsRemovedTokens|         rawFeatures|            features|       rawPrediction|         probability|prediction|\n",
            "+---+------------+--------------------+--------------------+---+--------------------+----------------------+--------------------+--------------------+--------------------+--------------------+----------+\n",
            "|  0|           9|Blake Lively s We...|blake live wed dr...| 16|[blake, live, wed...|  [blake, live, wed...|(20,[0,1,3,6,8,12...|(20,[0,1,3,6,8,12...|[1.25944757240275...|[0.11748610002663...|      11.0|\n",
            "|  1|           9|Prince William Re...|princ william res...| 21|[princ, william, ...|  [princ, william, ...|(20,[0,1,3,4,5,8,...|(20,[0,1,3,4,5,8,...|[1.75664994375787...|[0.23687260785892...|       0.0|\n",
            "|  2|           2|Protesters Gather...|protest gather ke...| 14|[protest, gather,...|  [protest, gather,...|(20,[0,1,2,3,5,6,...|(20,[0,1,2,3,5,6,...|[0.67764055282062...|[0.08698956919918...|      14.0|\n",
            "|  3|           5|Bill Nye Talks Ex...|bill nye talk ext...|  8|[bill, nye, talk,...|  [bill, nye, talk,...|(20,[0,4,5,7,10,1...|(20,[0,4,5,7,10,1...|[0.91081637623171...|[0.10873837054599...|      11.0|\n",
            "|  9|           8|How Fear Of Terro...|fear terror may p...|  8|[fear, terror, ma...|  [fear, terror, ma...|(20,[1,4,5,6,8,13...|(20,[1,4,5,6,8,13...|[0.64322585406429...|[0.08160814722630...|      11.0|\n",
            "+---+------------+--------------------+--------------------+---+--------------------+----------------------+--------------------+--------------------+--------------------+--------------------+----------+\n",
            "only showing top 5 rows\n",
            "\n"
          ],
          "name": "stdout"
        }
      ]
    },
    {
      "cell_type": "code",
      "metadata": {
        "id": "5TJY4LimIx0R",
        "colab_type": "code",
        "colab": {}
      },
      "source": [
        ""
      ],
      "execution_count": 0,
      "outputs": []
    },
    {
      "cell_type": "markdown",
      "metadata": {
        "id": "cS5bERbvIx0U",
        "colab_type": "text"
      },
      "source": [
        "# Random Forest"
      ]
    },
    {
      "cell_type": "code",
      "metadata": {
        "id": "i9fgDIMxIx0V",
        "colab_type": "code",
        "colab": {}
      },
      "source": [
        "from pyspark.ml.classification import RandomForestClassifier"
      ],
      "execution_count": 0,
      "outputs": []
    },
    {
      "cell_type": "code",
      "metadata": {
        "id": "2hVCLtWtIx0X",
        "colab_type": "code",
        "colab": {}
      },
      "source": [
        "rf = RandomForestClassifier(featuresCol='features', labelCol='label_actual', numTrees=100, maxDepth=4, maxBins=32)"
      ],
      "execution_count": 0,
      "outputs": []
    },
    {
      "cell_type": "code",
      "metadata": {
        "id": "3mnHwBebIx0b",
        "colab_type": "code",
        "colab": {}
      },
      "source": [
        "rf_model = rf.fit(traingData)"
      ],
      "execution_count": 0,
      "outputs": []
    },
    {
      "cell_type": "code",
      "metadata": {
        "id": "z_SKAp6oIx0f",
        "colab_type": "code",
        "colab": {}
      },
      "source": [
        "predictions = rf_model.transform(testData)"
      ],
      "execution_count": 0,
      "outputs": []
    },
    {
      "cell_type": "code",
      "metadata": {
        "id": "Bf3ZWwktIx0n",
        "colab_type": "code",
        "colab": {},
        "outputId": "8c943dfe-a29c-4f2e-cb16-d61f15c91dab"
      },
      "source": [
        "predictions.show(5)"
      ],
      "execution_count": 0,
      "outputs": [
        {
          "output_type": "stream",
          "text": [
            "+---+------------+--------------------+--------------------+---+--------------------+----------------------+--------------------+--------------------+--------------------+--------------------+----------+\n",
            "| id|label_actual|                text|        cleaned_text|len|              tokens|stopWordsRemovedTokens|         rawFeatures|            features|       rawPrediction|         probability|prediction|\n",
            "+---+------------+--------------------+--------------------+---+--------------------+----------------------+--------------------+--------------------+--------------------+--------------------+----------+\n",
            "|  0|           9|Blake Lively s We...|blake live wed dr...| 16|[blake, live, wed...|  [blake, live, wed...|(20,[0,1,3,6,8,12...|(20,[0,1,3,6,8,12...|[10.4255363326564...|[0.10425536332656...|      11.0|\n",
            "|  1|           9|Prince William Re...|princ william res...| 21|[princ, william, ...|  [princ, william, ...|(20,[0,1,3,4,5,8,...|(20,[0,1,3,4,5,8,...|[10.9461463724336...|[0.10946146372433...|      11.0|\n",
            "|  2|           2|Protesters Gather...|protest gather ke...| 14|[protest, gather,...|  [protest, gather,...|(20,[0,1,2,3,5,6,...|(20,[0,1,2,3,5,6,...|[11.4690986274363...|[0.11469098627436...|      11.0|\n",
            "|  3|           5|Bill Nye Talks Ex...|bill nye talk ext...|  8|[bill, nye, talk,...|  [bill, nye, talk,...|(20,[0,4,5,7,10,1...|(20,[0,4,5,7,10,1...|[14.3618827716129...|[0.14361882771612...|      14.0|\n",
            "|  9|           8|How Fear Of Terro...|fear terror may p...|  8|[fear, terror, ma...|  [fear, terror, ma...|(20,[1,4,5,6,8,13...|(20,[1,4,5,6,8,13...|[11.0602930921094...|[0.11060293092109...|      11.0|\n",
            "+---+------------+--------------------+--------------------+---+--------------------+----------------------+--------------------+--------------------+--------------------+--------------------+----------+\n",
            "only showing top 5 rows\n",
            "\n"
          ],
          "name": "stdout"
        }
      ]
    },
    {
      "cell_type": "code",
      "metadata": {
        "id": "ohFFwsWFIx0u",
        "colab_type": "code",
        "colab": {}
      },
      "source": [
        ""
      ],
      "execution_count": 0,
      "outputs": []
    }
  ]
}