{
  "nbformat": 4,
  "nbformat_minor": 0,
  "metadata": {
    "colab": {
      "name": "Apollo Health Research.ipynb",
      "provenance": [],
      "collapsed_sections": [],
      "toc_visible": true
    },
    "kernelspec": {
      "name": "python3",
      "display_name": "Python 3"
    }
  },
  "cells": [
    {
      "cell_type": "markdown",
      "metadata": {
        "id": "UdSZfRWRSYHn",
        "colab_type": "text"
      },
      "source": [
        "## Problem Statement & Data Description\n",
        "\n",
        "#### Problem Statement : To Predict whether a mammogram mass is benign or malignant\n",
        "\n",
        "#### Data description :\n",
        "\n",
        "Doctor's assessment: 1 to 5 (ordinal) [This is subjective]\n",
        "\n",
        "Age: patient's age in years (integer)\n",
        "\n",
        "Shape: mass shape: round=1 oval=2 lobular=3 irregular=4 (nominal)\n",
        "\n",
        "Margin: mass margin: circumscribed=1 microlobulated=2 obscured=3 ill-defined=4 spiculated=5 (nominal)\n",
        "\n",
        "Density: mass density high=1 iso=2 low=3 fat-containing=4 (ordinal)\n",
        "\n",
        "Androgen History - Binary \n",
        "\n",
        "Previous Visit - Binary\n",
        "\n",
        "Blood Group - A, B, AB\n",
        "\n",
        "Severity - Binary\n",
        "\n",
        "\n",
        "Severity: benign=0 or malignant=1 (binominal)"
      ]
    },
    {
      "cell_type": "markdown",
      "metadata": {
        "id": "MpLoZFSqeTQD",
        "colab_type": "text"
      },
      "source": [
        "# New Section"
      ]
    },
    {
      "cell_type": "code",
      "metadata": {
        "id": "2Cb_uEA6fqZ8",
        "colab_type": "code",
        "colab": {}
      },
      "source": [
        "# 1) Converted dummies\n",
        "# 2) Outliers treatment - \n",
        "# 3) Missing value treatment - \n",
        "# 4) Different data types\n",
        "# 5) Train & Test Split\n",
        "# 6) Feature Engineerring \n",
        "#    a) Feature scaling\n",
        "#    b) Feature selection\n",
        "# 7) Model Building\n",
        "#     - SVM \n",
        "#     - Trees with ensmb\n",
        "#     - KNN\n",
        "#     - NB \n",
        "#     - Logistic\n",
        "#     - ANN -   \n",
        "# 8) Model Validation - K fold (Accuraries [ 93% ] --- k = 10 folds)\n",
        "# 9) Model Selection - High Bias & Hi Varience | Low Bias and low variance  | Low Boas and High variance | High Variencce and low varience\n",
        "# 10) Deployment - Flask ----> Heroku\n",
        "\n",
        "# SMOTE --- balance data\n"
      ],
      "execution_count": 0,
      "outputs": []
    },
    {
      "cell_type": "code",
      "metadata": {
        "id": "_-ZdOV_zSfUC",
        "colab_type": "code",
        "colab": {}
      },
      "source": [
        "# Import requiered libraries \n",
        "import pandas as pd\n",
        "import numpy as np"
      ],
      "execution_count": 0,
      "outputs": []
    },
    {
      "cell_type": "code",
      "metadata": {
        "id": "VStqgDVGeoLr",
        "colab_type": "code",
        "outputId": "05b21284-39c5-4076-9d91-a9dee8c89675",
        "colab": {
          "base_uri": "https://localhost:8080/",
          "height": 34
        }
      },
      "source": [
        "ls"
      ],
      "execution_count": 0,
      "outputs": [
        {
          "output_type": "stream",
          "text": [
            "mammographic_masses.csv  \u001b[0m\u001b[01;34msample_data\u001b[0m/\n"
          ],
          "name": "stdout"
        }
      ]
    },
    {
      "cell_type": "code",
      "metadata": {
        "id": "htZmFlSGSvou",
        "colab_type": "code",
        "outputId": "5a0444f4-1931-47db-96b2-cce4cd15567f",
        "colab": {
          "base_uri": "https://localhost:8080/",
          "height": 204
        }
      },
      "source": [
        "# Import dataset\n",
        "df = pd.read_csv('mammographic_masses.csv')\n",
        "df.head()"
      ],
      "execution_count": 0,
      "outputs": [
        {
          "output_type": "execute_result",
          "data": {
            "text/html": [
              "<div>\n",
              "<style scoped>\n",
              "    .dataframe tbody tr th:only-of-type {\n",
              "        vertical-align: middle;\n",
              "    }\n",
              "\n",
              "    .dataframe tbody tr th {\n",
              "        vertical-align: top;\n",
              "    }\n",
              "\n",
              "    .dataframe thead th {\n",
              "        text-align: right;\n",
              "    }\n",
              "</style>\n",
              "<table border=\"1\" class=\"dataframe\">\n",
              "  <thead>\n",
              "    <tr style=\"text-align: right;\">\n",
              "      <th></th>\n",
              "      <th>BI-RADS</th>\n",
              "      <th>age</th>\n",
              "      <th>shape</th>\n",
              "      <th>margin</th>\n",
              "      <th>density</th>\n",
              "      <th>androgen_history</th>\n",
              "      <th>prev_visit</th>\n",
              "      <th>blood_group</th>\n",
              "      <th>severity</th>\n",
              "    </tr>\n",
              "  </thead>\n",
              "  <tbody>\n",
              "    <tr>\n",
              "      <th>0</th>\n",
              "      <td>5.0</td>\n",
              "      <td>67.0</td>\n",
              "      <td>3.0</td>\n",
              "      <td>5.0</td>\n",
              "      <td>3.0</td>\n",
              "      <td>0</td>\n",
              "      <td>1</td>\n",
              "      <td>B</td>\n",
              "      <td>1</td>\n",
              "    </tr>\n",
              "    <tr>\n",
              "      <th>1</th>\n",
              "      <td>4.0</td>\n",
              "      <td>43.0</td>\n",
              "      <td>1.0</td>\n",
              "      <td>1.0</td>\n",
              "      <td>NaN</td>\n",
              "      <td>1</td>\n",
              "      <td>0</td>\n",
              "      <td>A</td>\n",
              "      <td>1</td>\n",
              "    </tr>\n",
              "    <tr>\n",
              "      <th>2</th>\n",
              "      <td>5.0</td>\n",
              "      <td>58.0</td>\n",
              "      <td>4.0</td>\n",
              "      <td>5.0</td>\n",
              "      <td>3.0</td>\n",
              "      <td>1</td>\n",
              "      <td>0</td>\n",
              "      <td>B</td>\n",
              "      <td>1</td>\n",
              "    </tr>\n",
              "    <tr>\n",
              "      <th>3</th>\n",
              "      <td>4.0</td>\n",
              "      <td>28.0</td>\n",
              "      <td>1.0</td>\n",
              "      <td>1.0</td>\n",
              "      <td>3.0</td>\n",
              "      <td>1</td>\n",
              "      <td>0</td>\n",
              "      <td>O</td>\n",
              "      <td>0</td>\n",
              "    </tr>\n",
              "    <tr>\n",
              "      <th>4</th>\n",
              "      <td>5.0</td>\n",
              "      <td>74.0</td>\n",
              "      <td>1.0</td>\n",
              "      <td>5.0</td>\n",
              "      <td>NaN</td>\n",
              "      <td>1</td>\n",
              "      <td>0</td>\n",
              "      <td>A</td>\n",
              "      <td>1</td>\n",
              "    </tr>\n",
              "  </tbody>\n",
              "</table>\n",
              "</div>"
            ],
            "text/plain": [
              "   BI-RADS   age  shape  ...  prev_visit  blood_group  severity\n",
              "0      5.0  67.0    3.0  ...           1            B         1\n",
              "1      4.0  43.0    1.0  ...           0            A         1\n",
              "2      5.0  58.0    4.0  ...           0            B         1\n",
              "3      4.0  28.0    1.0  ...           0            O         0\n",
              "4      5.0  74.0    1.0  ...           0            A         1\n",
              "\n",
              "[5 rows x 9 columns]"
            ]
          },
          "metadata": {
            "tags": []
          },
          "execution_count": 11
        }
      ]
    },
    {
      "cell_type": "markdown",
      "metadata": {
        "id": "6tqFv0xrS-YM",
        "colab_type": "text"
      },
      "source": [
        "## Converting dummies"
      ]
    },
    {
      "cell_type": "code",
      "metadata": {
        "id": "mZsVdIZSTAQ4",
        "colab_type": "code",
        "outputId": "fb6294e4-b9b2-4c55-99e4-93fe479099d7",
        "colab": {
          "base_uri": "https://localhost:8080/",
          "height": 241
        }
      },
      "source": [
        "df = pd.get_dummies(df)\n",
        "df.head()"
      ],
      "execution_count": 0,
      "outputs": [
        {
          "output_type": "execute_result",
          "data": {
            "text/html": [
              "<div>\n",
              "<style scoped>\n",
              "    .dataframe tbody tr th:only-of-type {\n",
              "        vertical-align: middle;\n",
              "    }\n",
              "\n",
              "    .dataframe tbody tr th {\n",
              "        vertical-align: top;\n",
              "    }\n",
              "\n",
              "    .dataframe thead th {\n",
              "        text-align: right;\n",
              "    }\n",
              "</style>\n",
              "<table border=\"1\" class=\"dataframe\">\n",
              "  <thead>\n",
              "    <tr style=\"text-align: right;\">\n",
              "      <th></th>\n",
              "      <th>BI-RADS</th>\n",
              "      <th>age</th>\n",
              "      <th>shape</th>\n",
              "      <th>margin</th>\n",
              "      <th>density</th>\n",
              "      <th>androgen_history</th>\n",
              "      <th>prev_visit</th>\n",
              "      <th>severity</th>\n",
              "      <th>blood_group_A</th>\n",
              "      <th>blood_group_AB</th>\n",
              "      <th>blood_group_B</th>\n",
              "      <th>blood_group_O</th>\n",
              "    </tr>\n",
              "  </thead>\n",
              "  <tbody>\n",
              "    <tr>\n",
              "      <th>0</th>\n",
              "      <td>5.0</td>\n",
              "      <td>67.0</td>\n",
              "      <td>3.0</td>\n",
              "      <td>5.0</td>\n",
              "      <td>3.0</td>\n",
              "      <td>0</td>\n",
              "      <td>1</td>\n",
              "      <td>1</td>\n",
              "      <td>0</td>\n",
              "      <td>0</td>\n",
              "      <td>1</td>\n",
              "      <td>0</td>\n",
              "    </tr>\n",
              "    <tr>\n",
              "      <th>1</th>\n",
              "      <td>4.0</td>\n",
              "      <td>43.0</td>\n",
              "      <td>1.0</td>\n",
              "      <td>1.0</td>\n",
              "      <td>NaN</td>\n",
              "      <td>1</td>\n",
              "      <td>0</td>\n",
              "      <td>1</td>\n",
              "      <td>1</td>\n",
              "      <td>0</td>\n",
              "      <td>0</td>\n",
              "      <td>0</td>\n",
              "    </tr>\n",
              "    <tr>\n",
              "      <th>2</th>\n",
              "      <td>5.0</td>\n",
              "      <td>58.0</td>\n",
              "      <td>4.0</td>\n",
              "      <td>5.0</td>\n",
              "      <td>3.0</td>\n",
              "      <td>1</td>\n",
              "      <td>0</td>\n",
              "      <td>1</td>\n",
              "      <td>0</td>\n",
              "      <td>0</td>\n",
              "      <td>1</td>\n",
              "      <td>0</td>\n",
              "    </tr>\n",
              "    <tr>\n",
              "      <th>3</th>\n",
              "      <td>4.0</td>\n",
              "      <td>28.0</td>\n",
              "      <td>1.0</td>\n",
              "      <td>1.0</td>\n",
              "      <td>3.0</td>\n",
              "      <td>1</td>\n",
              "      <td>0</td>\n",
              "      <td>0</td>\n",
              "      <td>0</td>\n",
              "      <td>0</td>\n",
              "      <td>0</td>\n",
              "      <td>1</td>\n",
              "    </tr>\n",
              "    <tr>\n",
              "      <th>4</th>\n",
              "      <td>5.0</td>\n",
              "      <td>74.0</td>\n",
              "      <td>1.0</td>\n",
              "      <td>5.0</td>\n",
              "      <td>NaN</td>\n",
              "      <td>1</td>\n",
              "      <td>0</td>\n",
              "      <td>1</td>\n",
              "      <td>1</td>\n",
              "      <td>0</td>\n",
              "      <td>0</td>\n",
              "      <td>0</td>\n",
              "    </tr>\n",
              "  </tbody>\n",
              "</table>\n",
              "</div>"
            ],
            "text/plain": [
              "   BI-RADS   age  shape  ...  blood_group_AB  blood_group_B  blood_group_O\n",
              "0      5.0  67.0    3.0  ...               0              1              0\n",
              "1      4.0  43.0    1.0  ...               0              0              0\n",
              "2      5.0  58.0    4.0  ...               0              1              0\n",
              "3      4.0  28.0    1.0  ...               0              0              1\n",
              "4      5.0  74.0    1.0  ...               0              0              0\n",
              "\n",
              "[5 rows x 12 columns]"
            ]
          },
          "metadata": {
            "tags": []
          },
          "execution_count": 12
        }
      ]
    },
    {
      "cell_type": "code",
      "metadata": {
        "id": "utrUiXanRqb2",
        "colab_type": "code",
        "colab": {}
      },
      "source": [
        ""
      ],
      "execution_count": 0,
      "outputs": []
    },
    {
      "cell_type": "markdown",
      "metadata": {
        "id": "vFr5-XGETUx8",
        "colab_type": "text"
      },
      "source": [
        "## Checking for outliers"
      ]
    },
    {
      "cell_type": "code",
      "metadata": {
        "id": "cr7IZsqNTWgi",
        "colab_type": "code",
        "colab": {}
      },
      "source": [
        "# Dealing with outliers"
      ],
      "execution_count": 0,
      "outputs": []
    },
    {
      "cell_type": "code",
      "metadata": {
        "id": "FFWKhMPtUGgv",
        "colab_type": "code",
        "colab": {}
      },
      "source": [
        "\n",
        "# Any one of the following strategy \n",
        "#1. mean strategy\n",
        "#2. most_frequent startegy\n",
        "#3. median strategy <-- prefered"
      ],
      "execution_count": 0,
      "outputs": []
    },
    {
      "cell_type": "markdown",
      "metadata": {
        "id": "C_ZjSoljVe0b",
        "colab_type": "text"
      },
      "source": [
        "## Different types of data"
      ]
    },
    {
      "cell_type": "code",
      "metadata": {
        "id": "CpGlW6DLVffW",
        "colab_type": "code",
        "colab": {}
      },
      "source": [
        ""
      ],
      "execution_count": 0,
      "outputs": []
    },
    {
      "cell_type": "markdown",
      "metadata": {
        "id": "y-vcyF0MVnjf",
        "colab_type": "text"
      },
      "source": [
        "## Train Test Split"
      ]
    },
    {
      "cell_type": "code",
      "metadata": {
        "id": "MUpW9aPFYr9N",
        "colab_type": "code",
        "colab": {}
      },
      "source": [
        ""
      ],
      "execution_count": 0,
      "outputs": []
    },
    {
      "cell_type": "markdown",
      "metadata": {
        "id": "lLx16ET5V1Be",
        "colab_type": "text"
      },
      "source": [
        "## Feature scaling\n"
      ]
    },
    {
      "cell_type": "code",
      "metadata": {
        "id": "OOFxDkvSV_AC",
        "colab_type": "code",
        "colab": {}
      },
      "source": [
        ""
      ],
      "execution_count": 0,
      "outputs": []
    },
    {
      "cell_type": "markdown",
      "metadata": {
        "id": "Gy1PteOlYiV6",
        "colab_type": "text"
      },
      "source": [
        "## Model Building & Evaluation"
      ]
    },
    {
      "cell_type": "code",
      "metadata": {
        "id": "UT-bXmsfYkHI",
        "colab_type": "code",
        "colab": {}
      },
      "source": [
        ""
      ],
      "execution_count": 0,
      "outputs": []
    }
  ]
}