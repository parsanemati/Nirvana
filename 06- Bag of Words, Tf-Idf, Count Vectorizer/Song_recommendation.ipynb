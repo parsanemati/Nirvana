{
 "cells": [
  {
   "cell_type": "raw",
   "metadata": {},
   "source": [
    "Notebook has been devided into following parts-\n",
    "    1) Data exploration\n",
    "    2) NMF -- user matrix and song matrix\n",
    "    3) Recommendation"
   ]
  },
  {
   "cell_type": "markdown",
   "metadata": {},
   "source": [
    "# Data exploration"
   ]
  },
  {
   "cell_type": "code",
   "execution_count": 1,
   "metadata": {},
   "outputs": [],
   "source": [
    "import pandas as pd"
   ]
  },
  {
   "cell_type": "code",
   "execution_count": 2,
   "metadata": {},
   "outputs": [],
   "source": [
    "df = pd.read_csv(\"/home/alinemati/Yandex.Disk/Nirvana/database/spotify.csv\",index_col=[0])"
   ]
  },
  {
   "cell_type": "code",
   "execution_count": 3,
   "metadata": {},
   "outputs": [
    {
     "data": {
      "text/html": [
       "<div>\n",
       "<style scoped>\n",
       "    .dataframe tbody tr th:only-of-type {\n",
       "        vertical-align: middle;\n",
       "    }\n",
       "\n",
       "    .dataframe tbody tr th {\n",
       "        vertical-align: top;\n",
       "    }\n",
       "\n",
       "    .dataframe thead th {\n",
       "        text-align: right;\n",
       "    }\n",
       "</style>\n",
       "<table border=\"1\" class=\"dataframe\">\n",
       "  <thead>\n",
       "    <tr style=\"text-align: right;\">\n",
       "      <th></th>\n",
       "      <th>song_1</th>\n",
       "      <th>song_2</th>\n",
       "      <th>song_3</th>\n",
       "      <th>song_4</th>\n",
       "      <th>song_5</th>\n",
       "      <th>song_6</th>\n",
       "      <th>song_7</th>\n",
       "      <th>song_8</th>\n",
       "      <th>song_9</th>\n",
       "      <th>song_10</th>\n",
       "      <th>...</th>\n",
       "      <th>song_4991</th>\n",
       "      <th>song_4992</th>\n",
       "      <th>song_4993</th>\n",
       "      <th>song_4994</th>\n",
       "      <th>song_4995</th>\n",
       "      <th>song_4996</th>\n",
       "      <th>song_4997</th>\n",
       "      <th>song_4998</th>\n",
       "      <th>song_4999</th>\n",
       "      <th>song_5000</th>\n",
       "    </tr>\n",
       "  </thead>\n",
       "  <tbody>\n",
       "    <tr>\n",
       "      <td>user_1</td>\n",
       "      <td>2</td>\n",
       "      <td>2</td>\n",
       "      <td>8</td>\n",
       "      <td>8</td>\n",
       "      <td>13</td>\n",
       "      <td>1</td>\n",
       "      <td>4</td>\n",
       "      <td>9</td>\n",
       "      <td>1</td>\n",
       "      <td>2</td>\n",
       "      <td>...</td>\n",
       "      <td>14</td>\n",
       "      <td>2</td>\n",
       "      <td>14</td>\n",
       "      <td>1</td>\n",
       "      <td>9</td>\n",
       "      <td>0</td>\n",
       "      <td>11</td>\n",
       "      <td>6</td>\n",
       "      <td>14</td>\n",
       "      <td>7</td>\n",
       "    </tr>\n",
       "    <tr>\n",
       "      <td>user_2</td>\n",
       "      <td>13</td>\n",
       "      <td>5</td>\n",
       "      <td>5</td>\n",
       "      <td>5</td>\n",
       "      <td>12</td>\n",
       "      <td>8</td>\n",
       "      <td>10</td>\n",
       "      <td>10</td>\n",
       "      <td>2</td>\n",
       "      <td>2</td>\n",
       "      <td>...</td>\n",
       "      <td>10</td>\n",
       "      <td>6</td>\n",
       "      <td>11</td>\n",
       "      <td>1</td>\n",
       "      <td>1</td>\n",
       "      <td>5</td>\n",
       "      <td>12</td>\n",
       "      <td>8</td>\n",
       "      <td>3</td>\n",
       "      <td>0</td>\n",
       "    </tr>\n",
       "  </tbody>\n",
       "</table>\n",
       "<p>2 rows × 5000 columns</p>\n",
       "</div>"
      ],
      "text/plain": [
       "        song_1  song_2  song_3  song_4  song_5  song_6  song_7  song_8  \\\n",
       "user_1       2       2       8       8      13       1       4       9   \n",
       "user_2      13       5       5       5      12       8      10      10   \n",
       "\n",
       "        song_9  song_10  ...  song_4991  song_4992  song_4993  song_4994  \\\n",
       "user_1       1        2  ...         14          2         14          1   \n",
       "user_2       2        2  ...         10          6         11          1   \n",
       "\n",
       "        song_4995  song_4996  song_4997  song_4998  song_4999  song_5000  \n",
       "user_1          9          0         11          6         14          7  \n",
       "user_2          1          5         12          8          3          0  \n",
       "\n",
       "[2 rows x 5000 columns]"
      ]
     },
     "execution_count": 3,
     "metadata": {},
     "output_type": "execute_result"
    }
   ],
   "source": [
    "df.head(2)"
   ]
  },
  {
   "cell_type": "code",
   "execution_count": 4,
   "metadata": {},
   "outputs": [
    {
     "name": "stdout",
     "output_type": "stream",
     "text": [
      "Number of users: 1000\n",
      "Number of songs: 5000\n"
     ]
    }
   ],
   "source": [
    "print(\"Number of users:\",len(df))\n",
    "print(\"Number of songs:\",len(df.columns))"
   ]
  },
  {
   "cell_type": "code",
   "execution_count": 5,
   "metadata": {},
   "outputs": [],
   "source": [
    "# From dataframe to numpy array\n",
    "X = df.iloc[:,:].values"
   ]
  },
  {
   "cell_type": "code",
   "execution_count": 6,
   "metadata": {},
   "outputs": [
    {
     "data": {
      "text/plain": [
       "(1000, 5000)"
      ]
     },
     "execution_count": 6,
     "metadata": {},
     "output_type": "execute_result"
    }
   ],
   "source": [
    "X.shape"
   ]
  },
  {
   "cell_type": "code",
   "execution_count": 7,
   "metadata": {},
   "outputs": [
    {
     "data": {
      "text/plain": [
       "array([[ 2,  2,  8, ...,  6, 14,  7],\n",
       "       [13,  5,  5, ...,  8,  3,  0],\n",
       "       [ 3,  9,  2, ...,  5,  0, 14],\n",
       "       ...,\n",
       "       [ 6,  2,  1, ..., 13,  6, 13],\n",
       "       [ 7,  0,  8, ..., 11,  9, 12],\n",
       "       [ 6, 15,  0, ..., 15,  4,  5]])"
      ]
     },
     "execution_count": 7,
     "metadata": {},
     "output_type": "execute_result"
    }
   ],
   "source": [
    "X"
   ]
  },
  {
   "cell_type": "code",
   "execution_count": null,
   "metadata": {},
   "outputs": [],
   "source": [
    "from sklearn.decomposition import LatentDirichletAllocation\n",
    "from sklearn.datasets import make_multilabel_classification\n",
    "# This produces a feature matrix of token counts, similar to what\n",
    "# CountVectorizer would produce on text.\n",
    "X, _ = make_multilabel_classification(random_state=0)\n",
    "lda = LatentDirichletAllocation(n_components=5,\n",
    "    random_state=0)\n",
    "lda.fit(X) \n",
    "\n",
    "# get topics for some given samples:\n",
    "lda.transform(X[-2:])"
   ]
  },
  {
   "cell_type": "markdown",
   "metadata": {},
   "source": [
    "# NMF"
   ]
  },
  {
   "cell_type": "code",
   "execution_count": 12,
   "metadata": {},
   "outputs": [],
   "source": [
    "# LDA, SVD"
   ]
  },
  {
   "cell_type": "code",
   "execution_count": 8,
   "metadata": {},
   "outputs": [
    {
     "data": {
      "text/plain": [
       "NMF(alpha=0.0, beta_loss='frobenius', init=None, l1_ratio=0.0, max_iter=50,\n",
       "    n_components=100, random_state=0, shuffle=False, solver='cd', tol=0.0001,\n",
       "    verbose=0)"
      ]
     },
     "execution_count": 8,
     "metadata": {},
     "output_type": "execute_result"
    }
   ],
   "source": [
    "# Decompose user-song matrix into user matrix and song matrix\n",
    "# n_components = n --> dimension in which we want to decompose out user-music matrix\n",
    "# X = 1000*5000.  n_components=n=100,  user_matrix=1000*100. song_matrix=100*5000\n",
    "# max_iter=? --> W and H --> might need to play with this\n",
    "from sklearn.decomposition import NMF\n",
    "nmf = NMF(n_components=100, max_iter=50, random_state=0)\n",
    "nmf.fit(X)"
   ]
  },
  {
   "cell_type": "code",
   "execution_count": 9,
   "metadata": {},
   "outputs": [
    {
     "data": {
      "text/plain": [
       "(1000, 100)"
      ]
     },
     "execution_count": 9,
     "metadata": {},
     "output_type": "execute_result"
    }
   ],
   "source": [
    "# Printing user matrix\n",
    "user_matrix = nmf.transform(X)  # transforming user-song matrix : return= user_matrix\n",
    "user_matrix.shape"
   ]
  },
  {
   "cell_type": "code",
   "execution_count": 10,
   "metadata": {},
   "outputs": [
    {
     "data": {
      "text/plain": [
       "array([[1.69203641, 0.06063321, 0.        , ..., 0.        , 0.        ,\n",
       "        0.        ],\n",
       "       [0.        , 0.        , 0.        , ..., 0.        , 0.        ,\n",
       "        0.        ],\n",
       "       [0.23696933, 0.        , 0.05975581, ..., 0.        , 0.        ,\n",
       "        0.        ],\n",
       "       ...,\n",
       "       [0.        , 0.        , 0.        , ..., 0.2008759 , 0.        ,\n",
       "        0.36783002],\n",
       "       [0.        , 0.        , 0.23835905, ..., 4.04501876, 2.83295898,\n",
       "        1.26761156],\n",
       "       [0.        , 0.        , 2.95369826, ..., 0.70189368, 0.        ,\n",
       "        0.30144824]])"
      ]
     },
     "execution_count": 10,
     "metadata": {},
     "output_type": "execute_result"
    }
   ],
   "source": [
    "# print user_matrix\n",
    "user_matrix"
   ]
  },
  {
   "cell_type": "code",
   "execution_count": 11,
   "metadata": {},
   "outputs": [
    {
     "data": {
      "text/plain": [
       "array([1.69203641e+00, 6.06332065e-02, 0.00000000e+00, 8.13628465e-01,\n",
       "       1.39890281e+00, 0.00000000e+00, 9.78953027e-01, 0.00000000e+00,\n",
       "       0.00000000e+00, 0.00000000e+00, 2.52894427e+00, 1.55913229e+00,\n",
       "       0.00000000e+00, 1.23133122e+00, 1.29119922e-01, 2.67213682e-03,\n",
       "       1.04063989e-01, 0.00000000e+00, 1.94633651e+00, 0.00000000e+00,\n",
       "       1.97875532e+00, 0.00000000e+00, 2.54497254e+00, 1.00914138e+00,\n",
       "       0.00000000e+00, 2.40786219e+00, 0.00000000e+00, 2.02945799e+00,\n",
       "       0.00000000e+00, 1.03086289e-01, 3.37495589e+00, 1.83250348e+00,\n",
       "       2.61682332e+00, 0.00000000e+00, 0.00000000e+00, 0.00000000e+00,\n",
       "       0.00000000e+00, 0.00000000e+00, 0.00000000e+00, 0.00000000e+00,\n",
       "       0.00000000e+00, 0.00000000e+00, 0.00000000e+00, 2.31686358e-01,\n",
       "       0.00000000e+00, 0.00000000e+00, 0.00000000e+00, 2.42039683e-01,\n",
       "       0.00000000e+00, 0.00000000e+00, 1.18281146e-01, 0.00000000e+00,\n",
       "       0.00000000e+00, 0.00000000e+00, 0.00000000e+00, 0.00000000e+00,\n",
       "       0.00000000e+00, 0.00000000e+00, 0.00000000e+00, 2.35217688e+00,\n",
       "       0.00000000e+00, 0.00000000e+00, 0.00000000e+00, 0.00000000e+00,\n",
       "       0.00000000e+00, 0.00000000e+00, 0.00000000e+00, 0.00000000e+00,\n",
       "       8.56861338e-01, 0.00000000e+00, 9.98488519e-02, 0.00000000e+00,\n",
       "       0.00000000e+00, 0.00000000e+00, 0.00000000e+00, 4.61577229e-01,\n",
       "       0.00000000e+00, 7.91904339e-02, 8.05900966e-01, 1.20024899e-01,\n",
       "       0.00000000e+00, 0.00000000e+00, 0.00000000e+00, 2.89603283e-01,\n",
       "       5.52879571e-01, 5.07447304e-02, 3.56427160e-01, 0.00000000e+00,\n",
       "       0.00000000e+00, 0.00000000e+00, 6.17583221e-01, 0.00000000e+00,\n",
       "       1.59158086e-01, 1.59387045e+00, 0.00000000e+00, 0.00000000e+00,\n",
       "       0.00000000e+00, 0.00000000e+00, 0.00000000e+00, 0.00000000e+00])"
      ]
     },
     "execution_count": 11,
     "metadata": {},
     "output_type": "execute_result"
    }
   ],
   "source": [
    "# print vector for user_1\n",
    "user_matrix[0]"
   ]
  },
  {
   "cell_type": "code",
   "execution_count": 12,
   "metadata": {},
   "outputs": [
    {
     "data": {
      "text/plain": [
       "array([0.        , 0.        , 0.        , 0.        , 2.5900904 ,\n",
       "       0.89931804, 0.        , 0.        , 0.        , 0.        ,\n",
       "       0.        , 0.        , 0.        , 0.        , 0.        ,\n",
       "       1.46658256, 0.        , 0.        , 0.90379695, 0.        ,\n",
       "       0.        , 0.        , 1.97269063, 0.        , 0.16592362,\n",
       "       0.        , 0.        , 0.        , 0.        , 0.        ,\n",
       "       0.01051949, 0.        , 0.        , 0.        , 2.06240561,\n",
       "       0.        , 0.        , 0.        , 0.        , 0.        ,\n",
       "       0.        , 0.        , 0.22414389, 0.        , 2.44007487,\n",
       "       0.        , 2.45537311, 0.        , 0.        , 0.        ,\n",
       "       0.        , 0.        , 0.        , 0.        , 2.23303095,\n",
       "       0.        , 0.        , 0.        , 0.        , 4.43233486,\n",
       "       0.        , 0.        , 0.64932354, 0.        , 0.        ,\n",
       "       0.        , 0.61429491, 0.        , 0.        , 0.        ,\n",
       "       4.61346812, 0.        , 0.04638268, 3.80025705, 1.63313076,\n",
       "       0.33378364, 0.        , 5.39934089, 0.        , 0.        ,\n",
       "       0.        , 0.        , 0.        , 0.        , 0.        ,\n",
       "       0.        , 0.        , 0.        , 0.        , 0.        ,\n",
       "       0.        , 2.56845181, 0.        , 0.        , 0.        ,\n",
       "       0.        , 0.        , 0.        , 0.        , 0.        ])"
      ]
     },
     "execution_count": 12,
     "metadata": {},
     "output_type": "execute_result"
    }
   ],
   "source": [
    "# print vector for user_2\n",
    "user_matrix[1]"
   ]
  },
  {
   "cell_type": "code",
   "execution_count": 18,
   "metadata": {},
   "outputs": [],
   "source": [
    "# Printing song matrix\n",
    "song_matrix = nmf.components_"
   ]
  },
  {
   "cell_type": "code",
   "execution_count": 19,
   "metadata": {},
   "outputs": [
    {
     "data": {
      "text/plain": [
       "(100, 5000)"
      ]
     },
     "execution_count": 19,
     "metadata": {},
     "output_type": "execute_result"
    }
   ],
   "source": [
    "song_matrix.shape"
   ]
  },
  {
   "cell_type": "code",
   "execution_count": 22,
   "metadata": {
    "scrolled": true
   },
   "outputs": [
    {
     "data": {
      "text/plain": [
       "array([[0.09111663, 0.04599194, 0.35443294, ..., 0.33335427, 0.        ,\n",
       "        0.        ],\n",
       "       [0.17234709, 0.09042347, 0.04767831, ..., 0.16380215, 0.16382856,\n",
       "        0.18483858],\n",
       "       [0.34858481, 0.14847774, 0.46616122, ..., 0.        , 0.17891825,\n",
       "        0.12377252],\n",
       "       ...,\n",
       "       [0.03672748, 0.13177138, 0.4128003 , ..., 0.07299475, 0.18730326,\n",
       "        0.06243832],\n",
       "       [0.29720103, 0.        , 0.30755414, ..., 0.36621594, 0.        ,\n",
       "        0.        ],\n",
       "       [0.        , 0.        , 0.        , ..., 0.29195844, 0.09004042,\n",
       "        0.        ]])"
      ]
     },
     "execution_count": 22,
     "metadata": {},
     "output_type": "execute_result"
    }
   ],
   "source": [
    "# print song_matrix\n",
    "song_matrix = song_matrix.T\n",
    "song_matrix"
   ]
  },
  {
   "cell_type": "code",
   "execution_count": 13,
   "metadata": {},
   "outputs": [],
   "source": [
    "import numpy as np\n",
    "X_ = np.array([[1, 1], [2, 1], [3, 1.2], [4, 1], [5, 0.8], [6, 1]])\n",
    "from sklearn.decomposition import NMF\n",
    "model = NMF(n_components=2, init='random', random_state=0)\n",
    "W = model.fit_transform(X)\n",
    "H = model.components_"
   ]
  },
  {
   "cell_type": "code",
   "execution_count": 15,
   "metadata": {},
   "outputs": [
    {
     "data": {
      "text/plain": [
       "array([[1.43271412, 3.11909926, 2.17613752, ..., 2.84423485, 2.40946773,\n",
       "        2.49793986],\n",
       "       [2.56482291, 0.67835923, 1.81038509, ..., 0.86644628, 1.39466836,\n",
       "        1.4028152 ]])"
      ]
     },
     "execution_count": 15,
     "metadata": {},
     "output_type": "execute_result"
    }
   ],
   "source": [
    "H"
   ]
  },
  {
   "cell_type": "code",
   "execution_count": 23,
   "metadata": {},
   "outputs": [
    {
     "data": {
      "text/plain": [
       "array([0.09111663, 0.04599194, 0.35443294, 0.01807336, 0.45481454,\n",
       "       0.11030071, 0.32513138, 0.19201386, 0.        , 0.        ,\n",
       "       0.        , 0.04944819, 0.        , 0.16101387, 0.24073442,\n",
       "       0.00075456, 0.32126061, 0.16954543, 0.59656673, 0.15765228,\n",
       "       0.        , 0.27756209, 0.23416498, 0.67352397, 0.15266384,\n",
       "       0.07948341, 0.41218156, 0.35904213, 0.        , 0.07746489,\n",
       "       0.        , 0.15683347, 0.31546909, 0.54044087, 0.600034  ,\n",
       "       0.        , 0.07490113, 0.        , 0.4777501 , 0.01566104,\n",
       "       0.07449975, 0.05281405, 0.24060034, 0.        , 0.11226024,\n",
       "       0.19434375, 0.04902285, 0.27219489, 0.        , 0.26689516,\n",
       "       0.16798946, 0.21919109, 0.        , 0.22416773, 0.41715261,\n",
       "       0.37122647, 0.24377222, 0.1367834 , 0.17828258, 0.25532256,\n",
       "       0.2326439 , 0.32253227, 0.07180034, 0.32369538, 0.19685513,\n",
       "       0.34265043, 0.32995926, 0.17779524, 0.40626328, 0.23163461,\n",
       "       0.23674054, 0.00592745, 0.37343888, 0.4582898 , 0.41735739,\n",
       "       0.13732778, 0.        , 0.1550199 , 0.18685349, 0.05117441,\n",
       "       0.        , 0.14269025, 0.17104626, 0.28680319, 0.21922749,\n",
       "       0.30245311, 0.07526685, 0.        , 0.29651319, 0.32456677,\n",
       "       0.12059888, 0.13189676, 0.26808566, 0.        , 0.        ,\n",
       "       0.04128502, 0.00924257, 0.33335427, 0.        , 0.        ])"
      ]
     },
     "execution_count": 23,
     "metadata": {},
     "output_type": "execute_result"
    }
   ],
   "source": [
    "# print vector for song_1\n",
    "song_matrix[0]"
   ]
  },
  {
   "cell_type": "code",
   "execution_count": 24,
   "metadata": {},
   "outputs": [
    {
     "data": {
      "text/plain": [
       "array([0.17234709, 0.09042347, 0.04767831, 0.17444109, 0.        ,\n",
       "       0.70436605, 0.        , 0.3449805 , 0.28226   , 0.34635623,\n",
       "       0.06611348, 0.23416618, 0.13185387, 0.3790926 , 0.        ,\n",
       "       0.68052395, 0.        , 0.54798491, 0.        , 0.        ,\n",
       "       0.15220749, 0.        , 0.44860918, 0.16849852, 0.        ,\n",
       "       0.        , 0.51611823, 0.        , 0.13102265, 0.08208107,\n",
       "       0.        , 0.17885924, 0.13627953, 0.        , 0.        ,\n",
       "       0.        , 0.32961154, 0.10498143, 0.37590898, 0.13258424,\n",
       "       0.36233914, 0.01166212, 0.39610815, 0.        , 0.07254827,\n",
       "       0.        , 0.30195772, 0.18158967, 0.31621634, 0.075405  ,\n",
       "       0.27148074, 0.04279433, 0.77687622, 0.0579463 , 0.30823177,\n",
       "       0.        , 0.37141971, 0.56951789, 0.12098945, 0.25078004,\n",
       "       0.68366096, 0.07760711, 0.        , 0.23933373, 0.28179949,\n",
       "       0.17794485, 0.13542369, 0.16990326, 0.26622262, 0.        ,\n",
       "       0.06128722, 0.27221483, 0.43348063, 0.        , 0.1290777 ,\n",
       "       0.30600026, 0.        , 0.04800421, 0.20118587, 0.        ,\n",
       "       0.16891976, 0.        , 0.        , 0.32520625, 0.48377195,\n",
       "       0.13241078, 0.3047363 , 0.        , 0.42572596, 0.26151203,\n",
       "       0.24222028, 0.06286297, 0.45536909, 0.        , 0.12657493,\n",
       "       0.09622827, 0.46632731, 0.16380215, 0.16382856, 0.18483858])"
      ]
     },
     "execution_count": 24,
     "metadata": {},
     "output_type": "execute_result"
    }
   ],
   "source": [
    "# print vector for song_2\n",
    "song_matrix[1]"
   ]
  },
  {
   "cell_type": "markdown",
   "metadata": {},
   "source": [
    "# Recommendation"
   ]
  },
  {
   "cell_type": "code",
   "execution_count": 25,
   "metadata": {},
   "outputs": [
    {
     "data": {
      "text/plain": [
       "array([[1.69203641, 0.06063321, 0.        , ..., 0.        , 0.        ,\n",
       "        0.        ],\n",
       "       [0.        , 0.        , 0.        , ..., 0.        , 0.        ,\n",
       "        0.        ],\n",
       "       [0.23696933, 0.        , 0.05975581, ..., 0.        , 0.        ,\n",
       "        0.        ],\n",
       "       ...,\n",
       "       [0.        , 0.        , 0.        , ..., 0.2008759 , 0.        ,\n",
       "        0.36783002],\n",
       "       [0.        , 0.        , 0.23835905, ..., 4.04501876, 2.83295898,\n",
       "        1.26761156],\n",
       "       [0.        , 0.        , 2.95369826, ..., 0.70189368, 0.        ,\n",
       "        0.30144824]])"
      ]
     },
     "execution_count": 25,
     "metadata": {},
     "output_type": "execute_result"
    }
   ],
   "source": [
    "user_matrix # 1000*100"
   ]
  },
  {
   "cell_type": "code",
   "execution_count": 26,
   "metadata": {},
   "outputs": [
    {
     "data": {
      "text/plain": [
       "array([[0.09111663, 0.04599194, 0.35443294, ..., 0.33335427, 0.        ,\n",
       "        0.        ],\n",
       "       [0.17234709, 0.09042347, 0.04767831, ..., 0.16380215, 0.16382856,\n",
       "        0.18483858],\n",
       "       [0.34858481, 0.14847774, 0.46616122, ..., 0.        , 0.17891825,\n",
       "        0.12377252],\n",
       "       ...,\n",
       "       [0.03672748, 0.13177138, 0.4128003 , ..., 0.07299475, 0.18730326,\n",
       "        0.06243832],\n",
       "       [0.29720103, 0.        , 0.30755414, ..., 0.36621594, 0.        ,\n",
       "        0.        ],\n",
       "       [0.        , 0.        , 0.        , ..., 0.29195844, 0.09004042,\n",
       "        0.        ]])"
      ]
     },
     "execution_count": 26,
     "metadata": {},
     "output_type": "execute_result"
    }
   ],
   "source": [
    "song_matrix #5000*100"
   ]
  },
  {
   "cell_type": "code",
   "execution_count": 28,
   "metadata": {},
   "outputs": [],
   "source": [
    "# We have user_matrix and song_matrix\n",
    "# Let's say we want to recommend some songs to user_1\n",
    "# step1: we need to find euclidian distance between user_1 to all the other users\n",
    "# step2: Find 5 closest user\n",
    "# step3: Find the songs what these 5 closest users are listening\n",
    "# step4: Recommend those songs to user_1"
   ]
  },
  {
   "cell_type": "code",
   "execution_count": 16,
   "metadata": {},
   "outputs": [
    {
     "data": {
      "text/plain": [
       "0.0"
      ]
     },
     "execution_count": 16,
     "metadata": {},
     "output_type": "execute_result"
    }
   ],
   "source": [
    "# prerequisite: euclidian_distance function\n",
    "def euclidian_distance(v1,v2):\n",
    "    return pow(sum([pow(v1[idx]-v2[idx],2) for idx in range(len(v1))]),0.5)\n",
    "\n",
    "euclidian_distance([1,1],[1,1])"
   ]
  },
  {
   "cell_type": "code",
   "execution_count": 17,
   "metadata": {},
   "outputs": [
    {
     "name": "stdout",
     "output_type": "stream",
     "text": [
      "12.682546952085854\n"
     ]
    }
   ],
   "source": [
    "# we want to recommend songs to user1\n",
    "user1_vec = user_matrix[0]\n",
    "user2_vec = user_matrix[1]\n",
    "print(euclidian_distance(user1_vec,user2_vec))"
   ]
  },
  {
   "cell_type": "code",
   "execution_count": 18,
   "metadata": {},
   "outputs": [
    {
     "name": "stdout",
     "output_type": "stream",
     "text": [
      "12.074322380443364\n"
     ]
    }
   ],
   "source": [
    "user3_vec = user_matrix[2]\n",
    "print(euclidian_distance(user1_vec,user3_vec))"
   ]
  },
  {
   "cell_type": "code",
   "execution_count": 19,
   "metadata": {},
   "outputs": [],
   "source": [
    "\n",
    "eucli_distances = []\n",
    "for idx in range(1000):\n",
    "    other_user = user_matrix[idx]\n",
    "    eu = euclidian_distance(user1_vec,other_user)\n",
    "    eucli_distances.append(eu)"
   ]
  },
  {
   "cell_type": "code",
   "execution_count": 20,
   "metadata": {},
   "outputs": [
    {
     "data": {
      "text/plain": [
       "1000"
      ]
     },
     "execution_count": 20,
     "metadata": {},
     "output_type": "execute_result"
    }
   ],
   "source": [
    "len(eucli_distances)"
   ]
  },
  {
   "cell_type": "code",
   "execution_count": 21,
   "metadata": {},
   "outputs": [],
   "source": [
    "# step2: Find 5 closest user\n",
    "import numpy as np\n",
    "candidate_index = np.argsort(eucli_distances)\n",
    "# First candidate who is closer to user 1 --> index 0\n",
    "# Second candidate who is closer to user 1 --> index 352\n",
    "# Third candidate who is closer to user 1 --> index 737"
   ]
  },
  {
   "cell_type": "code",
   "execution_count": 22,
   "metadata": {},
   "outputs": [
    {
     "data": {
      "text/plain": [
       "array([  0, 352, 737, 284, 501, 609])"
      ]
     },
     "execution_count": 22,
     "metadata": {},
     "output_type": "execute_result"
    }
   ],
   "source": [
    "# top 5 users closer to user_1\n",
    "candidate_index[0:6]"
   ]
  },
  {
   "cell_type": "code",
   "execution_count": 23,
   "metadata": {},
   "outputs": [],
   "source": [
    "# step3: Find the songs what these 5 closest users are listening\n",
    "# @index 0 what user is present --> user 1\n",
    "# @index 352 what user is present --> user_353"
   ]
  },
  {
   "cell_type": "code",
   "execution_count": 24,
   "metadata": {},
   "outputs": [],
   "source": [
    "# df.iloc[353]"
   ]
  },
  {
   "cell_type": "code",
   "execution_count": null,
   "metadata": {},
   "outputs": [],
   "source": []
  },
  {
   "cell_type": "code",
   "execution_count": null,
   "metadata": {},
   "outputs": [],
   "source": []
  },
  {
   "cell_type": "code",
   "execution_count": null,
   "metadata": {},
   "outputs": [],
   "source": []
  },
  {
   "cell_type": "code",
   "execution_count": 25,
   "metadata": {},
   "outputs": [],
   "source": [
    "# step1: we need to find euclidian distance between user_1 to all the other users\n",
    "import sys\n",
    "eucli_distances = []   # define a list in order to maintain distance entry between user_1 to all other user \n",
    "user1_idx = 0           # index of the user_1 in user_matrix\n",
    "counter = 0            # define a variable to track user_ids\n",
    "for other_user in user_matrix[:]:\n",
    "    if user1_idx==counter:\n",
    "        # you need not compare user_1 vector to user_1 vector\n",
    "        eucli_distances.append(sys.float_info.max)\n",
    "    else:\n",
    "        user1 = user_matrix[0]   # find user_1 vector\n",
    "        dist_ = euclidian_distance(user1,other_user)\n",
    "        eucli_distances.append(dist_)\n",
    "    counter+=1"
   ]
  },
  {
   "cell_type": "code",
   "execution_count": 26,
   "metadata": {},
   "outputs": [
    {
     "data": {
      "text/plain": [
       "[1.7976931348623157e+308,\n",
       " 12.682546952085854,\n",
       " 12.074322380443364,\n",
       " 11.129357457060793,\n",
       " 12.736158783422908]"
      ]
     },
     "execution_count": 26,
     "metadata": {},
     "output_type": "execute_result"
    }
   ],
   "source": [
    "# print euclidian distance between first user to 5 other users\n",
    "eucli_distances[0:5]"
   ]
  },
  {
   "cell_type": "code",
   "execution_count": 27,
   "metadata": {},
   "outputs": [
    {
     "data": {
      "text/plain": [
       "array([352, 737, 284, 501, 609])"
      ]
     },
     "execution_count": 27,
     "metadata": {},
     "output_type": "execute_result"
    }
   ],
   "source": [
    "# Finding 5 closest user to user_1\n",
    "import numpy as np\n",
    "user_indcs_closer_to_user1 = np.argsort(eucli_distances)[:5]\n",
    "user_indcs_closer_to_user1"
   ]
  },
  {
   "cell_type": "code",
   "execution_count": 28,
   "metadata": {},
   "outputs": [
    {
     "name": "stdout",
     "output_type": "stream",
     "text": [
      "Index(['song_1', 'song_2', 'song_3', 'song_4', 'song_5', 'song_6', 'song_7',\n",
      "       'song_8', 'song_9', 'song_10',\n",
      "       ...\n",
      "       'song_4988', 'song_4989', 'song_4990', 'song_4991', 'song_4992',\n",
      "       'song_4993', 'song_4994', 'song_4995', 'song_4996', 'song_4997'],\n",
      "      dtype='object', length=4682)\n",
      "Index(['song_1', 'song_2', 'song_3', 'song_4', 'song_5', 'song_7', 'song_8',\n",
      "       'song_9', 'song_10', 'song_11',\n",
      "       ...\n",
      "       'song_4989', 'song_4990', 'song_4991', 'song_4992', 'song_4993',\n",
      "       'song_4994', 'song_4995', 'song_4997', 'song_4998', 'song_4999'],\n",
      "      dtype='object', length=4699)\n",
      "Index(['song_1', 'song_2', 'song_3', 'song_4', 'song_5', 'song_6', 'song_7',\n",
      "       'song_8', 'song_9', 'song_10',\n",
      "       ...\n",
      "       'song_4990', 'song_4991', 'song_4992', 'song_4993', 'song_4994',\n",
      "       'song_4995', 'song_4996', 'song_4997', 'song_4998', 'song_4999'],\n",
      "      dtype='object', length=4704)\n",
      "Index(['song_1', 'song_2', 'song_3', 'song_4', 'song_5', 'song_6', 'song_7',\n",
      "       'song_8', 'song_9', 'song_10',\n",
      "       ...\n",
      "       'song_4988', 'song_4989', 'song_4990', 'song_4991', 'song_4992',\n",
      "       'song_4993', 'song_4994', 'song_4995', 'song_4996', 'song_4998'],\n",
      "      dtype='object', length=4720)\n",
      "Index(['song_1', 'song_2', 'song_4', 'song_5', 'song_6', 'song_7', 'song_8',\n",
      "       'song_9', 'song_10', 'song_11',\n",
      "       ...\n",
      "       'song_4990', 'song_4991', 'song_4992', 'song_4993', 'song_4994',\n",
      "       'song_4995', 'song_4996', 'song_4997', 'song_4998', 'song_4999'],\n",
      "      dtype='object', length=4697)\n"
     ]
    }
   ],
   "source": [
    "# List the songs that these closest 5 users are listening\n",
    "for id_ in user_indcs_closer_to_user1:\n",
    "    temp = pd.DataFrame(df.iloc[id_])\n",
    "    print(temp[temp.values!=0][0:-1].index)"
   ]
  },
  {
   "cell_type": "code",
   "execution_count": null,
   "metadata": {},
   "outputs": [],
   "source": []
  },
  {
   "cell_type": "raw",
   "metadata": {},
   "source": [
    "# user 1\n",
    "\n",
    "-- song_1, song_2, song_4, song_5, song_6\n",
    "\n",
    "\n",
    "# selects song_2 = Flash\n",
    "\n",
    "?"
   ]
  },
  {
   "cell_type": "code",
   "execution_count": 53,
   "metadata": {},
   "outputs": [],
   "source": [
    "flash = song_matrix[1]"
   ]
  },
  {
   "cell_type": "code",
   "execution_count": 54,
   "metadata": {},
   "outputs": [
    {
     "data": {
      "text/plain": [
       "array([0.17234709, 0.09042347, 0.04767831, 0.17444109, 0.        ,\n",
       "       0.70436605, 0.        , 0.3449805 , 0.28226   , 0.34635623,\n",
       "       0.06611348, 0.23416618, 0.13185387, 0.3790926 , 0.        ,\n",
       "       0.68052395, 0.        , 0.54798491, 0.        , 0.        ,\n",
       "       0.15220749, 0.        , 0.44860918, 0.16849852, 0.        ,\n",
       "       0.        , 0.51611823, 0.        , 0.13102265, 0.08208107,\n",
       "       0.        , 0.17885924, 0.13627953, 0.        , 0.        ,\n",
       "       0.        , 0.32961154, 0.10498143, 0.37590898, 0.13258424,\n",
       "       0.36233914, 0.01166212, 0.39610815, 0.        , 0.07254827,\n",
       "       0.        , 0.30195772, 0.18158967, 0.31621634, 0.075405  ,\n",
       "       0.27148074, 0.04279433, 0.77687622, 0.0579463 , 0.30823177,\n",
       "       0.        , 0.37141971, 0.56951789, 0.12098945, 0.25078004,\n",
       "       0.68366096, 0.07760711, 0.        , 0.23933373, 0.28179949,\n",
       "       0.17794485, 0.13542369, 0.16990326, 0.26622262, 0.        ,\n",
       "       0.06128722, 0.27221483, 0.43348063, 0.        , 0.1290777 ,\n",
       "       0.30600026, 0.        , 0.04800421, 0.20118587, 0.        ,\n",
       "       0.16891976, 0.        , 0.        , 0.32520625, 0.48377195,\n",
       "       0.13241078, 0.3047363 , 0.        , 0.42572596, 0.26151203,\n",
       "       0.24222028, 0.06286297, 0.45536909, 0.        , 0.12657493,\n",
       "       0.09622827, 0.46632731, 0.16380215, 0.16382856, 0.18483858])"
      ]
     },
     "execution_count": 54,
     "metadata": {},
     "output_type": "execute_result"
    }
   ],
   "source": [
    "flash"
   ]
  },
  {
   "cell_type": "code",
   "execution_count": 55,
   "metadata": {},
   "outputs": [
    {
     "data": {
      "text/plain": [
       "array([[0.09111663, 0.04599194, 0.35443294, ..., 0.33335427, 0.        ,\n",
       "        0.        ],\n",
       "       [0.17234709, 0.09042347, 0.04767831, ..., 0.16380215, 0.16382856,\n",
       "        0.18483858],\n",
       "       [0.34858481, 0.14847774, 0.46616122, ..., 0.        , 0.17891825,\n",
       "        0.12377252],\n",
       "       ...,\n",
       "       [0.03672748, 0.13177138, 0.4128003 , ..., 0.07299475, 0.18730326,\n",
       "        0.06243832],\n",
       "       [0.29720103, 0.        , 0.30755414, ..., 0.36621594, 0.        ,\n",
       "        0.        ],\n",
       "       [0.        , 0.        , 0.        , ..., 0.29195844, 0.09004042,\n",
       "        0.        ]])"
      ]
     },
     "execution_count": 55,
     "metadata": {},
     "output_type": "execute_result"
    }
   ],
   "source": [
    "# after k-means\n",
    "song_matrix[0:1000], song_matrix[1000:3000],song_matrix[3000:5000]\n",
    "# kmeand find out to which cluster flash will be assigned\n",
    "song_matrix[0:1000] # compare flash to all the songs present in this cluster\n",
    "# find the k nearest neighbours"
   ]
  },
  {
   "cell_type": "code",
   "execution_count": null,
   "metadata": {},
   "outputs": [],
   "source": []
  },
  {
   "cell_type": "code",
   "execution_count": null,
   "metadata": {},
   "outputs": [],
   "source": []
  },
  {
   "cell_type": "code",
   "execution_count": null,
   "metadata": {},
   "outputs": [],
   "source": []
  },
  {
   "cell_type": "code",
   "execution_count": null,
   "metadata": {},
   "outputs": [],
   "source": []
  },
  {
   "cell_type": "code",
   "execution_count": null,
   "metadata": {},
   "outputs": [],
   "source": []
  },
  {
   "cell_type": "code",
   "execution_count": null,
   "metadata": {},
   "outputs": [],
   "source": []
  },
  {
   "cell_type": "code",
   "execution_count": null,
   "metadata": {},
   "outputs": [],
   "source": []
  },
  {
   "cell_type": "code",
   "execution_count": null,
   "metadata": {},
   "outputs": [],
   "source": []
  },
  {
   "cell_type": "code",
   "execution_count": null,
   "metadata": {},
   "outputs": [],
   "source": []
  },
  {
   "cell_type": "markdown",
   "metadata": {},
   "source": [
    "# K Means"
   ]
  },
  {
   "cell_type": "code",
   "execution_count": 56,
   "metadata": {},
   "outputs": [
    {
     "data": {
      "text/plain": [
       "(1000, 100)"
      ]
     },
     "execution_count": 56,
     "metadata": {},
     "output_type": "execute_result"
    }
   ],
   "source": [
    "user_matrix.shape"
   ]
  },
  {
   "cell_type": "code",
   "execution_count": 57,
   "metadata": {},
   "outputs": [
    {
     "data": {
      "text/plain": [
       "(5000, 100)"
      ]
     },
     "execution_count": 57,
     "metadata": {},
     "output_type": "execute_result"
    }
   ],
   "source": [
    "song_matrix.shape"
   ]
  },
  {
   "cell_type": "code",
   "execution_count": null,
   "metadata": {},
   "outputs": [],
   "source": []
  },
  {
   "cell_type": "code",
   "execution_count": 66,
   "metadata": {},
   "outputs": [],
   "source": [
    "# Recommended songs -- user 1\n",
    "# ['song_1', 'song_2', 'song_3', 'song_4', 'song_5', 'song_6', 'song_7',\n",
    "#        'song_8', 'song_9', 'song_10]\n",
    "# Let's say user1 started listening to 'song_1'\n",
    "# 'song_1' == 'flash'"
   ]
  },
  {
   "cell_type": "markdown",
   "metadata": {},
   "source": [
    "# Define number of clusters"
   ]
  },
  {
   "cell_type": "code",
   "execution_count": 67,
   "metadata": {},
   "outputs": [
    {
     "data": {
      "text/plain": [
       "KMeans(algorithm='auto', copy_x=True, init='k-means++', max_iter=300,\n",
       "    n_clusters=10, n_init=10, n_jobs=1, precompute_distances='auto',\n",
       "    random_state=None, tol=0.0001, verbose=0)"
      ]
     },
     "execution_count": 67,
     "metadata": {},
     "output_type": "execute_result"
    }
   ],
   "source": [
    "# First we will make some clusters\n",
    "# we will use song_matrix\n",
    "k = 10\n",
    "from sklearn.cluster import KMeans\n",
    "kmeans = KMeans(n_clusters=k)\n",
    "kmeans.fit(song_matrix)"
   ]
  },
  {
   "cell_type": "markdown",
   "metadata": {},
   "source": [
    "# Find the cluster to which selected song will be assigned"
   ]
  },
  {
   "cell_type": "code",
   "execution_count": 68,
   "metadata": {},
   "outputs": [],
   "source": [
    "# Let's find out in which cluster 'song_2' will fall\n",
    "# step:1 find the vector for 'song_2'\n",
    "index_in_df = list(df.columns).index('song_2')\n",
    "index_in_df\n",
    "song1_vec = song_matrix[index_in_df]"
   ]
  },
  {
   "cell_type": "code",
   "execution_count": 69,
   "metadata": {},
   "outputs": [
    {
     "data": {
      "text/plain": [
       "array([0], dtype=int32)"
      ]
     },
     "execution_count": 69,
     "metadata": {},
     "output_type": "execute_result"
    }
   ],
   "source": [
    "# Find the cluster in which song_1 will fall\n",
    "kmeans.predict([song1_vec])"
   ]
  },
  {
   "cell_type": "code",
   "execution_count": 70,
   "metadata": {},
   "outputs": [],
   "source": [
    "# song 2 has been allocated to cluser 0\n",
    "# total number of clusters: 10\n",
    "# selected cluster: 0"
   ]
  },
  {
   "cell_type": "code",
   "execution_count": null,
   "metadata": {},
   "outputs": [],
   "source": []
  },
  {
   "cell_type": "markdown",
   "metadata": {},
   "source": [
    "# Find all the songs present in cluster  0"
   ]
  },
  {
   "cell_type": "code",
   "execution_count": 82,
   "metadata": {},
   "outputs": [
    {
     "data": {
      "text/plain": [
       "(5000, 100)"
      ]
     },
     "execution_count": 82,
     "metadata": {},
     "output_type": "execute_result"
    }
   ],
   "source": [
    "song_matrix.shape"
   ]
  },
  {
   "cell_type": "markdown",
   "metadata": {},
   "source": [
    "# PCA"
   ]
  },
  {
   "cell_type": "code",
   "execution_count": 84,
   "metadata": {},
   "outputs": [],
   "source": [
    "from sklearn.decomposition import PCA\n",
    "pca = PCA(n_components=2)\n",
    "transformed_song_matrix = pca.fit_transform(song_matrix)"
   ]
  },
  {
   "cell_type": "code",
   "execution_count": 85,
   "metadata": {},
   "outputs": [
    {
     "data": {
      "text/plain": [
       "(5000, 2)"
      ]
     },
     "execution_count": 85,
     "metadata": {},
     "output_type": "execute_result"
    }
   ],
   "source": [
    "transformed_song_matrix.shape"
   ]
  },
  {
   "cell_type": "code",
   "execution_count": 87,
   "metadata": {},
   "outputs": [
    {
     "data": {
      "text/plain": [
       "(5000, 2)"
      ]
     },
     "execution_count": 87,
     "metadata": {},
     "output_type": "execute_result"
    }
   ],
   "source": [
    "transformed_song_matrix.shape"
   ]
  },
  {
   "cell_type": "code",
   "execution_count": 91,
   "metadata": {},
   "outputs": [
    {
     "data": {
      "text/plain": [
       "<matplotlib.collections.PathCollection at 0x12b24a2e8>"
      ]
     },
     "execution_count": 91,
     "metadata": {},
     "output_type": "execute_result"
    },
    {
     "data": {
      "image/png": "[encoded data removed]",
      "text/plain": [
       "<matplotlib.figure.Figure at 0x129c73588>"
      ]
     },
     "metadata": {},
     "output_type": "display_data"
    }
   ],
   "source": [
    "import matplotlib.pyplot as plt\n",
    "%matplotlib inline\n",
    "plt.scatter(transformed_song_matrix[:,0],transformed_song_matrix[:,1],c=all_labels)"
   ]
  },
  {
   "cell_type": "code",
   "execution_count": null,
   "metadata": {},
   "outputs": [],
   "source": []
  },
  {
   "cell_type": "code",
   "execution_count": null,
   "metadata": {},
   "outputs": [],
   "source": []
  },
  {
   "cell_type": "code",
   "execution_count": 71,
   "metadata": {},
   "outputs": [],
   "source": [
    "# Find all the songs present in cluster  = [0]\n",
    "cluster_id = 0\n",
    "all_labels = list(kmeans.predict(song_matrix))\n",
    "zero_cluster_candidate_ids = [idx for idx in range(len(all_labels)) if all_labels[idx]==cluster_id]\n",
    "zero_cluster_candidates = song_matrix[zero_cluster_candidate_ids]"
   ]
  },
  {
   "cell_type": "code",
   "execution_count": 72,
   "metadata": {},
   "outputs": [
    {
     "data": {
      "text/plain": [
       "[1,\n",
       " 13,\n",
       " 14,\n",
       " 26,\n",
       " 31,\n",
       " 42,\n",
       " 49,\n",
       " 60,\n",
       " 64,\n",
       " 78,\n",
       " 81,\n",
       " 99,\n",
       " 101,\n",
       " 113,\n",
       " 119,\n",
       " 127,\n",
       " 140,\n",
       " 150,\n",
       " 184,\n",
       " 196,\n",
       " 201,\n",
       " 208,\n",
       " 226,\n",
       " 227,\n",
       " 231,\n",
       " 238,\n",
       " 242,\n",
       " 257,\n",
       " 281,\n",
       " 291,\n",
       " 304,\n",
       " 305,\n",
       " 311,\n",
       " 337,\n",
       " 347,\n",
       " 354,\n",
       " 368,\n",
       " 375,\n",
       " 383,\n",
       " 398,\n",
       " 406,\n",
       " 473,\n",
       " 486,\n",
       " 503,\n",
       " 516,\n",
       " 517,\n",
       " 522,\n",
       " 534,\n",
       " 540,\n",
       " 544,\n",
       " 593,\n",
       " 594,\n",
       " 615,\n",
       " 616,\n",
       " 654,\n",
       " 659,\n",
       " 660,\n",
       " 662,\n",
       " 668,\n",
       " 672,\n",
       " 682,\n",
       " 687,\n",
       " 688,\n",
       " 700,\n",
       " 743,\n",
       " 748,\n",
       " 759,\n",
       " 760,\n",
       " 778,\n",
       " 803,\n",
       " 808,\n",
       " 812,\n",
       " 828,\n",
       " 835,\n",
       " 838,\n",
       " 839,\n",
       " 850,\n",
       " 856,\n",
       " 860,\n",
       " 899,\n",
       " 901,\n",
       " 926,\n",
       " 934,\n",
       " 957,\n",
       " 986,\n",
       " 989,\n",
       " 993,\n",
       " 1018,\n",
       " 1019,\n",
       " 1023,\n",
       " 1031,\n",
       " 1040,\n",
       " 1042,\n",
       " 1053,\n",
       " 1061,\n",
       " 1071,\n",
       " 1080,\n",
       " 1113,\n",
       " 1118,\n",
       " 1123,\n",
       " 1131,\n",
       " 1139,\n",
       " 1142,\n",
       " 1167,\n",
       " 1179,\n",
       " 1200,\n",
       " 1210,\n",
       " 1213,\n",
       " 1226,\n",
       " 1244,\n",
       " 1245,\n",
       " 1251,\n",
       " 1252,\n",
       " 1260,\n",
       " 1289,\n",
       " 1296,\n",
       " 1297,\n",
       " 1298,\n",
       " 1318,\n",
       " 1338,\n",
       " 1339,\n",
       " 1342,\n",
       " 1353,\n",
       " 1359,\n",
       " 1374,\n",
       " 1407,\n",
       " 1409,\n",
       " 1420,\n",
       " 1424,\n",
       " 1425,\n",
       " 1430,\n",
       " 1432,\n",
       " 1439,\n",
       " 1479,\n",
       " 1489,\n",
       " 1490,\n",
       " 1537,\n",
       " 1539,\n",
       " 1543,\n",
       " 1567,\n",
       " 1575,\n",
       " 1591,\n",
       " 1607,\n",
       " 1611,\n",
       " 1613,\n",
       " 1615,\n",
       " 1636,\n",
       " 1639,\n",
       " 1640,\n",
       " 1644,\n",
       " 1668,\n",
       " 1672,\n",
       " 1676,\n",
       " 1677,\n",
       " 1678,\n",
       " 1704,\n",
       " 1713,\n",
       " 1718,\n",
       " 1723,\n",
       " 1734,\n",
       " 1742,\n",
       " 1745,\n",
       " 1751,\n",
       " 1754,\n",
       " 1767,\n",
       " 1770,\n",
       " 1794,\n",
       " 1807,\n",
       " 1822,\n",
       " 1847,\n",
       " 1854,\n",
       " 1863,\n",
       " 1870,\n",
       " 1880,\n",
       " 1901,\n",
       " 1911,\n",
       " 1942,\n",
       " 1958,\n",
       " 1989,\n",
       " 2012,\n",
       " 2020,\n",
       " 2039,\n",
       " 2053,\n",
       " 2060,\n",
       " 2078,\n",
       " 2082,\n",
       " 2086,\n",
       " 2101,\n",
       " 2108,\n",
       " 2110,\n",
       " 2111,\n",
       " 2152,\n",
       " 2155,\n",
       " 2158,\n",
       " 2167,\n",
       " 2169,\n",
       " 2177,\n",
       " 2184,\n",
       " 2186,\n",
       " 2214,\n",
       " 2222,\n",
       " 2223,\n",
       " 2276,\n",
       " 2278,\n",
       " 2292,\n",
       " 2294,\n",
       " 2301,\n",
       " 2307,\n",
       " 2309,\n",
       " 2332,\n",
       " 2334,\n",
       " 2342,\n",
       " 2343,\n",
       " 2362,\n",
       " 2402,\n",
       " 2408,\n",
       " 2420,\n",
       " 2428,\n",
       " 2443,\n",
       " 2476,\n",
       " 2478,\n",
       " 2513,\n",
       " 2516,\n",
       " 2522,\n",
       " 2523,\n",
       " 2525,\n",
       " 2526,\n",
       " 2548,\n",
       " 2550,\n",
       " 2552,\n",
       " 2556,\n",
       " 2563,\n",
       " 2572,\n",
       " 2597,\n",
       " 2613,\n",
       " 2626,\n",
       " 2627,\n",
       " 2658,\n",
       " 2659,\n",
       " 2660,\n",
       " 2669,\n",
       " 2674,\n",
       " 2678,\n",
       " 2683,\n",
       " 2688,\n",
       " 2692,\n",
       " 2704,\n",
       " 2724,\n",
       " 2740,\n",
       " 2744,\n",
       " 2762,\n",
       " 2776,\n",
       " 2793,\n",
       " 2804,\n",
       " 2811,\n",
       " 2813,\n",
       " 2820,\n",
       " 2823,\n",
       " 2825,\n",
       " 2826,\n",
       " 2841,\n",
       " 2843,\n",
       " 2845,\n",
       " 2896,\n",
       " 2911,\n",
       " 2915,\n",
       " 2930,\n",
       " 2951,\n",
       " 2982,\n",
       " 2997,\n",
       " 3005,\n",
       " 3015,\n",
       " 3017,\n",
       " 3026,\n",
       " 3057,\n",
       " 3074,\n",
       " 3082,\n",
       " 3083,\n",
       " 3092,\n",
       " 3102,\n",
       " 3103,\n",
       " 3106,\n",
       " 3112,\n",
       " 3117,\n",
       " 3120,\n",
       " 3122,\n",
       " 3130,\n",
       " 3146,\n",
       " 3157,\n",
       " 3209,\n",
       " 3215,\n",
       " 3217,\n",
       " 3224,\n",
       " 3247,\n",
       " 3269,\n",
       " 3274,\n",
       " 3292,\n",
       " 3295,\n",
       " 3306,\n",
       " 3307,\n",
       " 3312,\n",
       " 3321,\n",
       " 3323,\n",
       " 3344,\n",
       " 3358,\n",
       " 3362,\n",
       " 3383,\n",
       " 3425,\n",
       " 3443,\n",
       " 3465,\n",
       " 3470,\n",
       " 3480,\n",
       " 3482,\n",
       " 3491,\n",
       " 3515,\n",
       " 3518,\n",
       " 3523,\n",
       " 3524,\n",
       " 3540,\n",
       " 3545,\n",
       " 3547,\n",
       " 3555,\n",
       " 3576,\n",
       " 3591,\n",
       " 3610,\n",
       " 3620,\n",
       " 3626,\n",
       " 3641,\n",
       " 3645,\n",
       " 3646,\n",
       " 3658,\n",
       " 3661,\n",
       " 3675,\n",
       " 3680,\n",
       " 3681,\n",
       " 3700,\n",
       " 3745,\n",
       " 3756,\n",
       " 3758,\n",
       " 3763,\n",
       " 3766,\n",
       " 3775,\n",
       " 3786,\n",
       " 3788,\n",
       " 3804,\n",
       " 3818,\n",
       " 3819,\n",
       " 3822,\n",
       " 3823,\n",
       " 3849,\n",
       " 3877,\n",
       " 3885,\n",
       " 3888,\n",
       " 3893,\n",
       " 3921,\n",
       " 3928,\n",
       " 3945,\n",
       " 3955,\n",
       " 3956,\n",
       " 3963,\n",
       " 3968,\n",
       " 3974,\n",
       " 3975,\n",
       " 3980,\n",
       " 3983,\n",
       " 3996,\n",
       " 4008,\n",
       " 4011,\n",
       " 4020,\n",
       " 4021,\n",
       " 4039,\n",
       " 4069,\n",
       " 4074,\n",
       " 4097,\n",
       " 4099,\n",
       " 4103,\n",
       " 4110,\n",
       " 4113,\n",
       " 4114,\n",
       " 4124,\n",
       " 4126,\n",
       " 4130,\n",
       " 4131,\n",
       " 4150,\n",
       " 4187,\n",
       " 4226,\n",
       " 4258,\n",
       " 4267,\n",
       " 4269,\n",
       " 4274,\n",
       " 4275,\n",
       " 4277,\n",
       " 4283,\n",
       " 4314,\n",
       " 4320,\n",
       " 4343,\n",
       " 4348,\n",
       " 4352,\n",
       " 4358,\n",
       " 4364,\n",
       " 4374,\n",
       " 4379,\n",
       " 4386,\n",
       " 4399,\n",
       " 4403,\n",
       " 4408,\n",
       " 4409,\n",
       " 4450,\n",
       " 4479,\n",
       " 4485,\n",
       " 4492,\n",
       " 4503,\n",
       " 4509,\n",
       " 4515,\n",
       " 4531,\n",
       " 4536,\n",
       " 4541,\n",
       " 4543,\n",
       " 4563,\n",
       " 4565,\n",
       " 4571,\n",
       " 4572,\n",
       " 4581,\n",
       " 4582,\n",
       " 4584,\n",
       " 4587,\n",
       " 4593,\n",
       " 4594,\n",
       " 4617,\n",
       " 4621,\n",
       " 4625,\n",
       " 4651,\n",
       " 4710,\n",
       " 4725,\n",
       " 4757,\n",
       " 4758,\n",
       " 4759,\n",
       " 4780,\n",
       " 4787,\n",
       " 4817,\n",
       " 4831,\n",
       " 4833,\n",
       " 4835,\n",
       " 4842,\n",
       " 4849,\n",
       " 4866,\n",
       " 4886,\n",
       " 4907,\n",
       " 4924,\n",
       " 4926,\n",
       " 4935,\n",
       " 4937,\n",
       " 4949,\n",
       " 4968,\n",
       " 4971,\n",
       " 4991]"
      ]
     },
     "execution_count": 72,
     "metadata": {},
     "output_type": "execute_result"
    }
   ],
   "source": [
    "zero_cluster_candidate_ids # songs corresponding to cluster: 0 "
   ]
  },
  {
   "cell_type": "markdown",
   "metadata": {},
   "source": [
    "# KNN"
   ]
  },
  {
   "cell_type": "code",
   "execution_count": 74,
   "metadata": {},
   "outputs": [],
   "source": [
    "# user selected song\n",
    "# candidate song list"
   ]
  },
  {
   "cell_type": "code",
   "execution_count": 75,
   "metadata": {},
   "outputs": [
    {
     "data": {
      "text/plain": [
       "NearestNeighbors(algorithm='auto', leaf_size=30, metric='minkowski',\n",
       "         metric_params=None, n_jobs=1, n_neighbors=5, p=2, radius=1.0)"
      ]
     },
     "execution_count": 75,
     "metadata": {},
     "output_type": "execute_result"
    }
   ],
   "source": [
    "# Step 2: Find the closest song using NN\n",
    "from sklearn.neighbors import NearestNeighbors\n",
    "knn = NearestNeighbors(n_neighbors=5)\n",
    "knn.fit(zero_cluster_candidates)"
   ]
  },
  {
   "cell_type": "code",
   "execution_count": 76,
   "metadata": {},
   "outputs": [
    {
     "data": {
      "text/plain": [
       "(array([[0.        , 2.00360455, 2.03952947, 2.07659209, 2.07939091]]),\n",
       " array([[  0, 215,  91,  90, 399]]))"
      ]
     },
     "execution_count": 76,
     "metadata": {},
     "output_type": "execute_result"
    }
   ],
   "source": [
    "knn.kneighbors([song_matrix[index_in_df]])"
   ]
  },
  {
   "cell_type": "code",
   "execution_count": null,
   "metadata": {},
   "outputs": [],
   "source": []
  },
  {
   "cell_type": "code",
   "execution_count": null,
   "metadata": {},
   "outputs": [],
   "source": []
  },
  {
   "cell_type": "code",
   "execution_count": null,
   "metadata": {},
   "outputs": [],
   "source": []
  },
  {
   "cell_type": "code",
   "execution_count": null,
   "metadata": {},
   "outputs": [],
   "source": []
  },
  {
   "cell_type": "code",
   "execution_count": null,
   "metadata": {},
   "outputs": [],
   "source": []
  }
 ],
 "metadata": {
  "kernelspec": {
   "display_name": "Python 3",
   "language": "python",
   "name": "python3"
  },
  "language_info": {
   "codemirror_mode": {
    "name": "ipython",
    "version": 3
   },
   "file_extension": ".py",
   "mimetype": "text/x-python",
   "name": "python",
   "nbconvert_exporter": "python",
   "pygments_lexer": "ipython3",
   "version": "3.6.9"
  }
 },
 "nbformat": 4,
 "nbformat_minor": 2
}
