{
 "cells": [
  {
   "cell_type": "code",
   "execution_count": 3,
   "metadata": {},
   "outputs": [
    {
     "name": "stdout",
     "output_type": "stream",
     "text": [
      "1.036756838522439\n",
      "4.9632431614775605\n"
     ]
    }
   ],
   "source": [
    "from scipy.stats import sem, t\n",
    "from scipy import mean\n",
    "confidence = 0.95\n",
    "data = [1, 2, 3, 4, 5]\n",
    "\n",
    "n = len(data)\n",
    "m = mean(data)\n",
    "std_err = sem(data)\n",
    "h = std_err * t.ppf((1 + confidence) / 2, n - 1)\n",
    "\n",
    "start = m - h\n",
    "print (start)\n",
    "# OUTPUT\n",
    "end = m + h\n",
    "print (end)\n"
   ]
  },
  {
   "cell_type": "code",
   "execution_count": 43,
   "metadata": {},
   "outputs": [
    {
     "ename": "NameError",
     "evalue": "name 'periscope' is not defined",
     "output_type": "error",
     "traceback": [
      "\u001b[0;31m---------------------------------------------------------------------------\u001b[0m",
      "\u001b[0;31mNameError\u001b[0m                                 Traceback (most recent call last)",
      "\u001b[0;32m<ipython-input-43-bc46a013982e>\u001b[0m in \u001b[0;36m<module>\u001b[0;34m\u001b[0m\n\u001b[1;32m     32\u001b[0m \u001b[0;34m\u001b[0m\u001b[0m\n\u001b[1;32m     33\u001b[0m \u001b[0;31m# Use Periscope to visualize a dataframe or an image by passing data to periscope.output()\u001b[0m\u001b[0;34m\u001b[0m\u001b[0;34m\u001b[0m\u001b[0;34m\u001b[0m\u001b[0m\n\u001b[0;32m---> 34\u001b[0;31m \u001b[0mperiscope\u001b[0m\u001b[0;34m.\u001b[0m\u001b[0moutput\u001b[0m\u001b[0;34m(\u001b[0m\u001b[0mCI_printout\u001b[0m\u001b[0;34m(\u001b[0m\u001b[0mdf\u001b[0m\u001b[0;34m)\u001b[0m\u001b[0;34m)\u001b[0m\u001b[0;34m\u001b[0m\u001b[0;34m\u001b[0m\u001b[0m\n\u001b[0m",
      "\u001b[0;31mNameError\u001b[0m: name 'periscope' is not defined"
     ]
    }
   ],
   "source": [
    "# SQL output is imported as a pandas dataframe variable called \"df\"\n",
    "import pandas as pd\n",
    "from scipy import stats\n",
    "import math\n",
    "import matplotlib.pyplot as plt\n",
    "import numpy as np\n",
    "\n",
    "#Function: CI_prinout, a function that outputs a number overlay expressing a sample's Confidence Interval\n",
    "#Inputs: a dataframe with one column of values. Optional paramater interval for the size of the confidence interval (default is 0.95). Option parameter method that specifies whether the confidence interval will be calculating using the t distribution or a z/normal distribution.\n",
    "#Outputs: a matplotlib text chart with the % confidence interval and the lower and upper bounds\n",
    "def CI_printout(series, interval = 0.95, method = 't'):\n",
    "  mean_val = series.mean()\n",
    "  n = series.count()\n",
    "  stdev = series.std()\n",
    "  if method == 't':\n",
    "    test_stat = stats.t.ppf((interval + 1)/2, n)\n",
    "  elif method == 'z':\n",
    "    test_stat = stats.norm.ppf((interval + 1)/2)\n",
    "  lower_bound = mean_val - test_stat * stdev / math.sqrt(n)\n",
    "  upper_bound = mean_val + test_stat * stdev / math.sqrt(n)\n",
    "\n",
    "  fig = plt.figure()\n",
    "  plt.axis('off')\n",
    "  plt.gcf().set_size_inches(8, 2)\n",
    "  plt.xticks([])\n",
    "  plt.yticks([])\n",
    "\n",
    "  plt.text(.5, .75, str(round(interval * 100))+ '% Confidence Interval', fontsize=25, color='black', ha='center')\n",
    "  plt.text(.5, .35, str(round(lower_bound[0],2)) + ' to ' + str(round(upper_bound[0],2)), fontsize=25, color='black', ha='center')\n",
    "\n",
    "  return plt\n",
    "\n",
    "# Use Periscope to visualize a dataframe or an image by passing data to periscope.output()\n",
    "periscope.output(CI_printout(df))"
   ]
  },
  {
   "cell_type": "code",
   "execution_count": 4,
   "metadata": {
    "colab": {},
    "colab_type": "code",
    "id": "6vWSpbXxl4Cm"
   },
   "outputs": [],
   "source": [
    "import numpy as np"
   ]
  },
  {
   "cell_type": "code",
   "execution_count": 12,
   "metadata": {
    "colab": {},
    "colab_type": "code",
    "id": "J9_2sMN7l45p"
   },
   "outputs": [],
   "source": [
    "population = [1]*50 + [2]*25 + [3]*60 + [4]*80 + [5]*10 + [6]*20"
   ]
  },
  {
   "cell_type": "markdown",
   "metadata": {
    "colab_type": "text",
    "id": "LP6lojt4l75a"
   },
   "source": [
    "# Population distribution"
   ]
  },
  {
   "cell_type": "code",
   "execution_count": 13,
   "metadata": {
    "colab": {
     "base_uri": "https://localhost:8080/",
     "height": 269
    },
    "colab_type": "code",
    "executionInfo": {
     "elapsed": 1389,
     "status": "ok",
     "timestamp": 1570499200684,
     "user": {
      "displayName": "Dharmanath PATIL",
      "photoUrl": "https://lh3.googleusercontent.com/a-/AAuE7mC6ge8KNDISjWm-FphDTvfeEhrPZkXjmizWV21HJg=s64",
      "userId": "15515686314360430415"
     },
     "user_tz": -330
    },
    "id": "Rd1UrkC0l6aY",
    "outputId": "fbfbcf84-66b1-4610-e952-e91666ed27ba"
   },
   "outputs": [
    {
     "data": {
      "image/png": "[encoded data removed]",
      "text/plain": [
       "<Figure size 432x288 with 1 Axes>"
      ]
     },
     "metadata": {
      "needs_background": "light"
     },
     "output_type": "display_data"
    }
   ],
   "source": [
    "import matplotlib.pyplot as plt\n",
    "plt.hist(population, range=(0,10))\n",
    "plt.show()"
   ]
  },
  {
   "cell_type": "code",
   "execution_count": 14,
   "metadata": {
    "colab": {
     "base_uri": "https://localhost:8080/",
     "height": 52
    },
    "colab_type": "code",
    "executionInfo": {
     "elapsed": 1379,
     "status": "ok",
     "timestamp": 1570499200688,
     "user": {
      "displayName": "Dharmanath PATIL",
      "photoUrl": "https://lh3.googleusercontent.com/a-/AAuE7mC6ge8KNDISjWm-FphDTvfeEhrPZkXjmizWV21HJg=s64",
      "userId": "15515686314360430415"
     },
     "user_tz": -330
    },
    "id": "qRCmjqsBmAl9",
    "outputId": "7786baa4-1d54-48f7-d78a-7970556afd39"
   },
   "outputs": [
    {
     "name": "stdout",
     "output_type": "stream",
     "text": [
      "Mean of population  3.142857142857143\n",
      "Population size  245\n"
     ]
    }
   ],
   "source": [
    "print(\"Mean of population \",np.mean(population))\n",
    "print(\"Population size \",len(population))"
   ]
  },
  {
   "cell_type": "code",
   "execution_count": 15,
   "metadata": {
    "colab": {
     "base_uri": "https://localhost:8080/",
     "height": 269
    },
    "colab_type": "code",
    "executionInfo": {
     "elapsed": 856,
     "status": "ok",
     "timestamp": 1570501231505,
     "user": {
      "displayName": "Dharmanath PATIL",
      "photoUrl": "https://lh3.googleusercontent.com/a-/AAuE7mC6ge8KNDISjWm-FphDTvfeEhrPZkXjmizWV21HJg=s64",
      "userId": "15515686314360430415"
     },
     "user_tz": -330
    },
    "id": "U48Bm3IvKsst",
    "outputId": "c84fb2c4-b37f-446e-9244-3ecda0e98215"
   },
   "outputs": [
    {
     "data": {
      "image/png": "[encoded data removed]",
      "text/plain": [
       "<Figure size 432x288 with 1 Axes>"
      ]
     },
     "metadata": {
      "needs_background": "light"
     },
     "output_type": "display_data"
    }
   ],
   "source": [
    "import matplotlib.pyplot as plt\n",
    "plt.hist(population, range=(0,10))\n",
    "plt.show()"
   ]
  },
  {
   "cell_type": "code",
   "execution_count": 9,
   "metadata": {
    "colab": {
     "base_uri": "https://localhost:8080/",
     "height": 52
    },
    "colab_type": "code",
    "executionInfo": {
     "elapsed": 966,
     "status": "ok",
     "timestamp": 1570501239145,
     "user": {
      "displayName": "Dharmanath PATIL",
      "photoUrl": "https://lh3.googleusercontent.com/a-/AAuE7mC6ge8KNDISjWm-FphDTvfeEhrPZkXjmizWV21HJg=s64",
      "userId": "15515686314360430415"
     },
     "user_tz": -330
    },
    "id": "IhJVrYifEwTo",
    "outputId": "177c855b-c02a-476f-ac61-b3fe37537b1e"
   },
   "outputs": [
    {
     "name": "stdout",
     "output_type": "stream",
     "text": [
      "Mean of population  3.6923076923076925\n",
      "Population size  195\n"
     ]
    }
   ],
   "source": [
    "print(\"Mean of population \",np.mean(population))\n",
    "print(\"Population size \",len(population))"
   ]
  },
  {
   "cell_type": "code",
   "execution_count": 16,
   "metadata": {
    "colab": {
     "base_uri": "https://localhost:8080/",
     "height": 52
    },
    "colab_type": "code",
    "executionInfo": {
     "elapsed": 820,
     "status": "ok",
     "timestamp": 1570500058617,
     "user": {
      "displayName": "Dharmanath PATIL",
      "photoUrl": "https://lh3.googleusercontent.com/a-/AAuE7mC6ge8KNDISjWm-FphDTvfeEhrPZkXjmizWV21HJg=s64",
      "userId": "15515686314360430415"
     },
     "user_tz": -330
    },
    "id": "Xzfri15_GQRz",
    "outputId": "4b6aa0dd-be85-4bc5-b0d9-f04e468e4468"
   },
   "outputs": [
    {
     "ename": "NameError",
     "evalue": "name 'get_sample' is not defined",
     "output_type": "error",
     "traceback": [
      "\u001b[0;31m---------------------------------------------------------------------------\u001b[0m",
      "\u001b[0;31mNameError\u001b[0m                                 Traceback (most recent call last)",
      "\u001b[0;32m<ipython-input-16-66b1dd8a62f9>\u001b[0m in \u001b[0;36m<module>\u001b[0;34m\u001b[0m\n\u001b[0;32m----> 1\u001b[0;31m \u001b[0mget_sample\u001b[0m\u001b[0;34m(\u001b[0m\u001b[0mpopulation\u001b[0m\u001b[0;34m,\u001b[0m\u001b[0;36m10\u001b[0m\u001b[0;34m)\u001b[0m\u001b[0;34m\u001b[0m\u001b[0;34m\u001b[0m\u001b[0m\n\u001b[0m",
      "\u001b[0;31mNameError\u001b[0m: name 'get_sample' is not defined"
     ]
    }
   ],
   "source": [
    "get_sample(population,10)"
   ]
  },
  {
   "cell_type": "code",
   "execution_count": 17,
   "metadata": {
    "colab": {
     "base_uri": "https://localhost:8080/",
     "height": 52
    },
    "colab_type": "code",
    "executionInfo": {
     "elapsed": 797,
     "status": "ok",
     "timestamp": 1570500067762,
     "user": {
      "displayName": "Dharmanath PATIL",
      "photoUrl": "https://lh3.googleusercontent.com/a-/AAuE7mC6ge8KNDISjWm-FphDTvfeEhrPZkXjmizWV21HJg=s64",
      "userId": "15515686314360430415"
     },
     "user_tz": -330
    },
    "id": "sU5bnIB-GSIc",
    "outputId": "a9b7cc1a-a439-4db4-81c8-e9740ca8086e"
   },
   "outputs": [
    {
     "ename": "NameError",
     "evalue": "name 'get_sample' is not defined",
     "output_type": "error",
     "traceback": [
      "\u001b[0;31m---------------------------------------------------------------------------\u001b[0m",
      "\u001b[0;31mNameError\u001b[0m                                 Traceback (most recent call last)",
      "\u001b[0;32m<ipython-input-17-a0a1d6a6cbbf>\u001b[0m in \u001b[0;36m<module>\u001b[0;34m\u001b[0m\n\u001b[0;32m----> 1\u001b[0;31m \u001b[0mget_sample\u001b[0m\u001b[0;34m(\u001b[0m\u001b[0mpopulation\u001b[0m\u001b[0;34m,\u001b[0m\u001b[0;36m15\u001b[0m\u001b[0;34m)\u001b[0m\u001b[0;34m\u001b[0m\u001b[0;34m\u001b[0m\u001b[0m\n\u001b[0m",
      "\u001b[0;31mNameError\u001b[0m: name 'get_sample' is not defined"
     ]
    }
   ],
   "source": [
    "get_sample(population,15)"
   ]
  },
  {
   "cell_type": "code",
   "execution_count": 18,
   "metadata": {
    "colab": {},
    "colab_type": "code",
    "id": "yx0KUd11Ggd8"
   },
   "outputs": [
    {
     "ename": "SyntaxError",
     "evalue": "invalid syntax (<ipython-input-18-a3664ab264dc>, line 1)",
     "output_type": "error",
     "traceback": [
      "\u001b[0;36m  File \u001b[0;32m\"<ipython-input-18-a3664ab264dc>\"\u001b[0;36m, line \u001b[0;32m1\u001b[0m\n\u001b[0;31m    [1,1,1,1,1,1,1,1,1,1,1,1,1,1,1,,1,1,1,1,1,1,1,1,1,1,1,1,1,1,1]\u001b[0m\n\u001b[0m                                   ^\u001b[0m\n\u001b[0;31mSyntaxError\u001b[0m\u001b[0;31m:\u001b[0m invalid syntax\n"
     ]
    }
   ],
   "source": [
    "[1,1,1,1,1,1,1,1,1,1,1,1,1,1,1,,1,1,1,1,1,1,1,1,1,1,1,1,1,1,1]"
   ]
  },
  {
   "cell_type": "markdown",
   "metadata": {
    "colab_type": "text",
    "id": "39YnULKGo2yO"
   },
   "source": [
    "# Confidence Interval"
   ]
  },
  {
   "cell_type": "code",
   "execution_count": 19,
   "metadata": {
    "colab": {
     "base_uri": "https://localhost:8080/",
     "height": 87
    },
    "colab_type": "code",
    "executionInfo": {
     "elapsed": 837,
     "status": "ok",
     "timestamp": 1570458780785,
     "user": {
      "displayName": "Dharmanath PATIL",
      "photoUrl": "https://lh3.googleusercontent.com/a-/AAuE7mC6ge8KNDISjWm-FphDTvfeEhrPZkXjmizWV21HJg=s64",
      "userId": "15515686314360430415"
     },
     "user_tz": -330
    },
    "id": "9eko4XYeouGK",
    "outputId": "6863c19f-eb3c-4648-8dac-540591ffe2d1"
   },
   "outputs": [
    {
     "data": {
      "text/html": [
       "<img src='https://i0.wp.com/s3-ap-south-1.amazonaws.com/av-blog-media/wp-content/uploads/2017/01/30111025/image_11.png?resize=290%2C65&ssl=1' />\n"
      ],
      "text/plain": [
       "<IPython.core.display.HTML object>"
      ]
     },
     "metadata": {},
     "output_type": "display_data"
    }
   ],
   "source": [
    "%%html\n",
    "<img src='https://i0.wp.com/s3-ap-south-1.amazonaws.com/av-blog-media/wp-content/uploads/2017/01/30111025/image_11.png?resize=290%2C65&ssl=1' />"
   ]
  },
  {
   "cell_type": "markdown",
   "metadata": {
    "colab_type": "text",
    "id": "6GGAYXNtmFMm"
   },
   "source": [
    "# Sample 1 integrity"
   ]
  },
  {
   "cell_type": "code",
   "execution_count": 20,
   "metadata": {
    "colab": {},
    "colab_type": "code",
    "id": "pgjtSKjAmCBN"
   },
   "outputs": [],
   "source": [
    "import random\n",
    "def get_sample(population,num_selections):\n",
    "  sample= random.sample(population, num_selections)\n",
    "  print(sample)\n",
    "  return sample"
   ]
  },
  {
   "cell_type": "code",
   "execution_count": 21,
   "metadata": {
    "colab": {
     "base_uri": "https://localhost:8080/",
     "height": 52
    },
    "colab_type": "code",
    "executionInfo": {
     "elapsed": 608,
     "status": "ok",
     "timestamp": 1570499276441,
     "user": {
      "displayName": "Dharmanath PATIL",
      "photoUrl": "https://lh3.googleusercontent.com/a-/AAuE7mC6ge8KNDISjWm-FphDTvfeEhrPZkXjmizWV21HJg=s64",
      "userId": "15515686314360430415"
     },
     "user_tz": -330
    },
    "id": "n-43vuZZmMd3",
    "outputId": "93015621-3dc3-419e-ed15-23a1c399bcd8"
   },
   "outputs": [
    {
     "name": "stdout",
     "output_type": "stream",
     "text": [
      "[4, 4, 4, 3]\n"
     ]
    },
    {
     "data": {
      "text/plain": [
       "3.75"
      ]
     },
     "execution_count": 21,
     "metadata": {},
     "output_type": "execute_result"
    }
   ],
   "source": [
    "sample1_mean = np.mean(get_sample(population,4))\n",
    "sample1_mean"
   ]
  },
  {
   "cell_type": "code",
   "execution_count": 32,
   "metadata": {
    "colab": {
     "base_uri": "https://localhost:8080/",
     "height": 34
    },
    "colab_type": "code",
    "executionInfo": {
     "elapsed": 805,
     "status": "ok",
     "timestamp": 1570499464112,
     "user": {
      "displayName": "Dharmanath PATIL",
      "photoUrl": "https://lh3.googleusercontent.com/a-/AAuE7mC6ge8KNDISjWm-FphDTvfeEhrPZkXjmizWV21HJg=s64",
      "userId": "15515686314360430415"
     },
     "user_tz": -330
    },
    "id": "O4RKDLmamYu8",
    "outputId": "4c979db9-fab5-4db2-b980-9a7d07e74c0f"
   },
   "outputs": [
    {
     "data": {
      "text/plain": [
       "(2.32227453619402, 5.17772546380598)"
      ]
     },
     "execution_count": 32,
     "metadata": {},
     "output_type": "execute_result"
    }
   ],
   "source": [
    "# For an alpha value of 0.95 i.e 95% confidence interval, z=1.96. please refer Z table\n",
    "sample1_mean - ((1.96 * np.std(population))/np.power(4,0.5)), sample1_mean + ((1.96 * np.std(population))/np.power(4,0.5))"
   ]
  },
  {
   "cell_type": "code",
   "execution_count": 33,
   "metadata": {
    "colab": {
     "base_uri": "https://localhost:8080/",
     "height": 34
    },
    "colab_type": "code",
    "executionInfo": {
     "elapsed": 689,
     "status": "ok",
     "timestamp": 1570499559718,
     "user": {
      "displayName": "Dharmanath PATIL",
      "photoUrl": "https://lh3.googleusercontent.com/a-/AAuE7mC6ge8KNDISjWm-FphDTvfeEhrPZkXjmizWV21HJg=s64",
      "userId": "15515686314360430415"
     },
     "user_tz": -330
    },
    "id": "qUMeRx5XEWJX",
    "outputId": "e28a32d1-cb32-4300-91f3-286ceea61ef7"
   },
   "outputs": [
    {
     "data": {
      "text/plain": [
       "2.87"
      ]
     },
     "execution_count": 33,
     "metadata": {},
     "output_type": "execute_result"
    }
   ],
   "source": [
    "4.17-1.3"
   ]
  },
  {
   "cell_type": "markdown",
   "metadata": {
    "colab_type": "text",
    "id": "qwwianuXni3U"
   },
   "source": [
    "# Sample 2 integrity"
   ]
  },
  {
   "cell_type": "code",
   "execution_count": 36,
   "metadata": {
    "colab": {
     "base_uri": "https://localhost:8080/",
     "height": 52
    },
    "colab_type": "code",
    "executionInfo": {
     "elapsed": 814,
     "status": "ok",
     "timestamp": 1570499466964,
     "user": {
      "displayName": "Dharmanath PATIL",
      "photoUrl": "https://lh3.googleusercontent.com/a-/AAuE7mC6ge8KNDISjWm-FphDTvfeEhrPZkXjmizWV21HJg=s64",
      "userId": "15515686314360430415"
     },
     "user_tz": -330
    },
    "id": "Tv5Edv4VnT7B",
    "outputId": "0ed8a0e6-2813-44de-a474-f75956876cb1"
   },
   "outputs": [
    {
     "name": "stdout",
     "output_type": "stream",
     "text": [
      "[4, 3, 3, 2, 4, 4, 3, 4, 4, 3, 3, 1, 4, 4, 5, 3]\n"
     ]
    },
    {
     "data": {
      "text/plain": [
       "3.375"
      ]
     },
     "execution_count": 36,
     "metadata": {},
     "output_type": "execute_result"
    }
   ],
   "source": [
    "sample2_mean = np.mean(get_sample(population,16))\n",
    "sample2_mean"
   ]
  },
  {
   "cell_type": "code",
   "execution_count": 37,
   "metadata": {
    "colab": {
     "base_uri": "https://localhost:8080/",
     "height": 34
    },
    "colab_type": "code",
    "executionInfo": {
     "elapsed": 783,
     "status": "ok",
     "timestamp": 1570499479749,
     "user": {
      "displayName": "Dharmanath PATIL",
      "photoUrl": "https://lh3.googleusercontent.com/a-/AAuE7mC6ge8KNDISjWm-FphDTvfeEhrPZkXjmizWV21HJg=s64",
      "userId": "15515686314360430415"
     },
     "user_tz": -330
    },
    "id": "4XimlsTLnnk0",
    "outputId": "6ac7428f-a53e-4fab-f0d1-bb7d8d8619d5"
   },
   "outputs": [
    {
     "data": {
      "text/plain": [
       "(1.9472745361940202, 4.80272546380598)"
      ]
     },
     "execution_count": 37,
     "metadata": {},
     "output_type": "execute_result"
    }
   ],
   "source": [
    "# For an alpha value of 0.95 i.e 95% confidence interval, z=1.96. please refer Z table\n",
    "sample2_mean - ((1.96 * np.std(population))/np.power(4,0.5)), sample2_mean + ((1.96 * np.std(population))/np.power(4,0.5))"
   ]
  },
  {
   "cell_type": "code",
   "execution_count": 38,
   "metadata": {
    "colab": {
     "base_uri": "https://localhost:8080/",
     "height": 34
    },
    "colab_type": "code",
    "executionInfo": {
     "elapsed": 832,
     "status": "ok",
     "timestamp": 1570499582474,
     "user": {
      "displayName": "Dharmanath PATIL",
      "photoUrl": "https://lh3.googleusercontent.com/a-/AAuE7mC6ge8KNDISjWm-FphDTvfeEhrPZkXjmizWV21HJg=s64",
      "userId": "15515686314360430415"
     },
     "user_tz": -330
    },
    "id": "8FaeihQ2EZx4",
    "outputId": "ea1987bf-096a-49c8-f033-b68c79d1f3b4"
   },
   "outputs": [
    {
     "data": {
      "text/plain": [
       "2.85545092761196"
      ]
     },
     "execution_count": 38,
     "metadata": {},
     "output_type": "execute_result"
    }
   ],
   "source": [
    "4.67772546380598-1.8222745361940202"
   ]
  },
  {
   "cell_type": "markdown",
   "metadata": {
    "colab_type": "text",
    "id": "DrY-q-Jantbt"
   },
   "source": [
    "# Sample 3 integrity"
   ]
  },
  {
   "cell_type": "code",
   "execution_count": 39,
   "metadata": {
    "colab": {
     "base_uri": "https://localhost:8080/",
     "height": 72
    },
    "colab_type": "code",
    "executionInfo": {
     "elapsed": 1004,
     "status": "ok",
     "timestamp": 1570499508624,
     "user": {
      "displayName": "Dharmanath PATIL",
      "photoUrl": "https://lh3.googleusercontent.com/a-/AAuE7mC6ge8KNDISjWm-FphDTvfeEhrPZkXjmizWV21HJg=s64",
      "userId": "15515686314360430415"
     },
     "user_tz": -330
    },
    "id": "ZWSjod8_nqma",
    "outputId": "e0b943aa-a7fd-4f2c-ec19-f39004dca9ee"
   },
   "outputs": [
    {
     "name": "stdout",
     "output_type": "stream",
     "text": [
      "[4, 6, 2, 1, 1, 6, 4, 4, 3, 4, 4, 4, 3, 1, 4, 5, 4, 4, 3, 1, 2, 4, 1, 3, 2, 4, 6, 4, 4, 2, 3, 4, 3, 1, 4, 4, 3, 3, 3, 1, 6, 6, 1, 4, 1, 1, 4, 1, 6, 3, 3, 4, 1, 6, 3, 1, 4, 1, 2, 4, 3, 4, 4, 4, 4, 4, 1, 4, 3, 2, 2, 3, 2, 5, 3, 5, 3, 4, 6, 2, 4, 3, 6, 1]\n"
     ]
    },
    {
     "data": {
      "text/plain": [
       "3.25"
      ]
     },
     "execution_count": 39,
     "metadata": {},
     "output_type": "execute_result"
    }
   ],
   "source": [
    "sample3_mean = np.mean(get_sample(population,84))\n",
    "sample3_mean"
   ]
  },
  {
   "cell_type": "code",
   "execution_count": 40,
   "metadata": {
    "colab": {
     "base_uri": "https://localhost:8080/",
     "height": 34
    },
    "colab_type": "code",
    "executionInfo": {
     "elapsed": 763,
     "status": "ok",
     "timestamp": 1570499516334,
     "user": {
      "displayName": "Dharmanath PATIL",
      "photoUrl": "https://lh3.googleusercontent.com/a-/AAuE7mC6ge8KNDISjWm-FphDTvfeEhrPZkXjmizWV21HJg=s64",
      "userId": "15515686314360430415"
     },
     "user_tz": -330
    },
    "id": "OoxEubxnnxBp",
    "outputId": "dc2ebe17-c221-473c-8366-6a2761597290"
   },
   "outputs": [
    {
     "data": {
      "text/plain": [
       "(1.8222745361940202, 4.67772546380598)"
      ]
     },
     "execution_count": 40,
     "metadata": {},
     "output_type": "execute_result"
    }
   ],
   "source": [
    "# For an alpha value of 0.95 i.e 95% confidence interval, z=1.96. please refer Z table\n",
    "sample3_mean - ((1.96 * np.std(population))/np.power(4,0.5)), sample3_mean + ((1.96 * np.std(population))/np.power(4,0.5))"
   ]
  },
  {
   "cell_type": "code",
   "execution_count": 41,
   "metadata": {
    "colab": {
     "base_uri": "https://localhost:8080/",
     "height": 34
    },
    "colab_type": "code",
    "executionInfo": {
     "elapsed": 795,
     "status": "ok",
     "timestamp": 1570499596681,
     "user": {
      "displayName": "Dharmanath PATIL",
      "photoUrl": "https://lh3.googleusercontent.com/a-/AAuE7mC6ge8KNDISjWm-FphDTvfeEhrPZkXjmizWV21HJg=s64",
      "userId": "15515686314360430415"
     },
     "user_tz": -330
    },
    "id": "6xRQyzLcEe-S",
    "outputId": "93989b34-cfee-4885-f15a-456e4600fea1"
   },
   "outputs": [
    {
     "data": {
      "text/plain": [
       "2.855450927611959"
      ]
     },
     "execution_count": 41,
     "metadata": {},
     "output_type": "execute_result"
    }
   ],
   "source": [
    "4.5586778447583605 - 1.7032269171464012"
   ]
  },
  {
   "cell_type": "code",
   "execution_count": 42,
   "metadata": {
    "colab": {},
    "colab_type": "code",
    "id": "k0_mrFnen1ea"
   },
   "outputs": [],
   "source": [
    "# We can say that sample 4 represent the population very well because \n",
    "# Sample4 representing the parameter of population very well compared to any other sampples"
   ]
  },
  {
   "cell_type": "code",
   "execution_count": null,
   "metadata": {},
   "outputs": [],
   "source": []
  }
 ],
 "metadata": {
  "colab": {
   "name": "Confidence Interval.ipynb",
   "provenance": []
  },
  "kernelspec": {
   "display_name": "Python 3",
   "language": "python",
   "name": "python3"
  },
  "language_info": {
   "codemirror_mode": {
    "name": "ipython",
    "version": 3
   },
   "file_extension": ".py",
   "mimetype": "text/x-python",
   "name": "python",
   "nbconvert_exporter": "python",
   "pygments_lexer": "ipython3",
   "version": "3.6.9"
  }
 },
 "nbformat": 4,
 "nbformat_minor": 1
}
