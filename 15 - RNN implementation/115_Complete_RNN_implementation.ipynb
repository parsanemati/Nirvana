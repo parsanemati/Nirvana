{
 "cells": [
  {
   "cell_type": "markdown",
   "metadata": {
    "colab_type": "text",
    "id": "l5y8PnQ0415y"
   },
   "source": [
    "# Introduction"
   ]
  },
  {
   "cell_type": "code",
   "execution_count": 0,
   "metadata": {
    "colab": {},
    "colab_type": "code",
    "id": "fXW3vsJ-EXjT"
   },
   "outputs": [],
   "source": [
    "# Problem : \n",
    "# sequence classification\n",
    "# input          : \"this is very good\" \n",
    "# target         : Good\n",
    "# All categories :  Good, Bad , Neutral\n",
    "#\n",
    "# sequence tagging\n",
    "# \"Camera is very good and display is also nice\" \n",
    "#    A.   NA.  NA. NA.  NA.  A.    NA. NA.  NA.\n",
    "# All categories: Attribute, Not-a-attribute"
   ]
  },
  {
   "cell_type": "code",
   "execution_count": 0,
   "metadata": {
    "colab": {},
    "colab_type": "code",
    "id": "G3DyZjZkFgBH"
   },
   "outputs": [],
   "source": [
    "# Padding\n",
    "# Sample dataset:\n",
    "# s1: display is very good  : 4\n",
    "# s2: camera is good        : 3\n",
    "# s3: battery is bad        : 3\n",
    "\n",
    "# s1: display is very good  : 4\n",
    "# s2: camera is good <pad>  : 4\n",
    "# s3: battery is bad <pad>  : 4\n",
    "# <pad> = [0,0,0,0,0]"
   ]
  },
  {
   "cell_type": "code",
   "execution_count": 0,
   "metadata": {
    "colab": {},
    "colab_type": "code",
    "id": "bCkdauEVGErB"
   },
   "outputs": [],
   "source": [
    "# Count vectorizer for representing all the words present in our sentence\n",
    "# s1: display is very good  : CV\n",
    "# s1: display is very good  : TFIDF\n",
    "# s1: display is very good  : NMF   # \n",
    "# s1: display is very good  : Words can be represented as n-dimension vectors : skip-gram, CBOW  "
   ]
  },
  {
   "cell_type": "code",
   "execution_count": 0,
   "metadata": {
    "colab": {},
    "colab_type": "code",
    "id": "j-fvjWIhHcQy"
   },
   "outputs": [],
   "source": [
    "# NMF : document matrix    word matrix\n",
    "# 5 documents --> 10 words. \n",
    "# NMF --> dimension = 3\n",
    "# document matrix 5*3\n",
    "# word matrix 10*3\n",
    "\n",
    "\n",
    "# display [1,1,2]\n",
    "# is [1,1,1]\n",
    "# good [1,0,1]\n",
    "#...\n",
    "# w10\n"
   ]
  },
  {
   "cell_type": "code",
   "execution_count": 0,
   "metadata": {
    "colab": {},
    "colab_type": "code",
    "id": "uIWstmZuIdwf"
   },
   "outputs": [],
   "source": [
    "# sentence = display is good\n",
    "# CV == no neurons in input layer == Vocab size\n",
    "# NMF == no neurons in input layer == dimension in NMF"
   ]
  },
  {
   "cell_type": "markdown",
   "metadata": {
    "colab_type": "text",
    "id": "QKrJ2F_P7BoF"
   },
   "source": [
    "#     \n",
    "\n",
    "\n",
    "\n",
    "\n",
    "\n",
    "\n",
    "\n",
    "\n",
    "\n",
    "\n"
   ]
  },
  {
   "cell_type": "markdown",
   "metadata": {
    "colab_type": "text",
    "id": "_MhEt-QlDWvN"
   },
   "source": [
    "# Sequence tagging task"
   ]
  },
  {
   "cell_type": "markdown",
   "metadata": {
    "colab_type": "text",
    "id": "4bQw4fxSvU9o"
   },
   "source": [
    "## Reading the data"
   ]
  },
  {
   "cell_type": "code",
   "execution_count": 1,
   "metadata": {
    "colab": {},
    "colab_type": "code",
    "id": "bkXdpO-q7FYk"
   },
   "outputs": [],
   "source": [
    "# Read data\n",
    "import pandas as pd\n",
    "import numpy as np\n",
    "\n",
    "data = pd.read_csv(\"./rnn_data.csv\")"
   ]
  },
  {
   "cell_type": "code",
   "execution_count": 2,
   "metadata": {
    "colab": {
     "base_uri": "https://localhost:8080/",
     "height": 112
    },
    "colab_type": "code",
    "id": "btmNbQEuDduW",
    "outputId": "09b002db-6f7f-40f9-cd0e-87aec3418315"
   },
   "outputs": [
    {
     "data": {
      "text/html": [
       "<div>\n",
       "<style scoped>\n",
       "    .dataframe tbody tr th:only-of-type {\n",
       "        vertical-align: middle;\n",
       "    }\n",
       "\n",
       "    .dataframe tbody tr th {\n",
       "        vertical-align: top;\n",
       "    }\n",
       "\n",
       "    .dataframe thead th {\n",
       "        text-align: right;\n",
       "    }\n",
       "</style>\n",
       "<table border=\"1\" class=\"dataframe\">\n",
       "  <thead>\n",
       "    <tr style=\"text-align: right;\">\n",
       "      <th></th>\n",
       "      <th>product_description</th>\n",
       "      <th>meta_description</th>\n",
       "      <th>description</th>\n",
       "      <th>bread_crumb</th>\n",
       "      <th>highlights</th>\n",
       "      <th>formated_reviews</th>\n",
       "    </tr>\n",
       "  </thead>\n",
       "  <tbody>\n",
       "    <tr>\n",
       "      <th>0</th>\n",
       "      <td>NaN</td>\n",
       "      <td>Buy Moto G5s (Lunar Gray, 32 GB) online at bes...</td>\n",
       "      <td>NaN</td>\n",
       "      <td>Home &gt; Mobiles &amp; Accessories &gt; Mobiles &gt; Motor...</td>\n",
       "      <td>[]</td>\n",
       "      <td>['Nice Good but over priced', 'Absolute rubbis...</td>\n",
       "    </tr>\n",
       "    <tr>\n",
       "      <th>1</th>\n",
       "      <td>NaN</td>\n",
       "      <td>Buy Imported ShengShow Gold Mirror Rubik Magic...</td>\n",
       "      <td>Very Good Fantastic Product. No compromise on ...</td>\n",
       "      <td>Home &gt; Toys &gt; Puzzles &amp; Board Games &gt; Puzzles ...</td>\n",
       "      <td>[]</td>\n",
       "      <td>['Really Nice Smooth', 'Excellent It is a good...</td>\n",
       "    </tr>\n",
       "  </tbody>\n",
       "</table>\n",
       "</div>"
      ],
      "text/plain": [
       "  product_description                                   meta_description  \\\n",
       "0                 NaN  Buy Moto G5s (Lunar Gray, 32 GB) online at bes...   \n",
       "1                 NaN  Buy Imported ShengShow Gold Mirror Rubik Magic...   \n",
       "\n",
       "                                         description  \\\n",
       "0                                                NaN   \n",
       "1  Very Good Fantastic Product. No compromise on ...   \n",
       "\n",
       "                                         bread_crumb highlights  \\\n",
       "0  Home > Mobiles & Accessories > Mobiles > Motor...         []   \n",
       "1  Home > Toys > Puzzles & Board Games > Puzzles ...         []   \n",
       "\n",
       "                                    formated_reviews  \n",
       "0  ['Nice Good but over priced', 'Absolute rubbis...  \n",
       "1  ['Really Nice Smooth', 'Excellent It is a good...  "
      ]
     },
     "execution_count": 2,
     "metadata": {},
     "output_type": "execute_result"
    }
   ],
   "source": [
    "# Understand your data\n",
    "data.head(2)"
   ]
  },
  {
   "cell_type": "code",
   "execution_count": 3,
   "metadata": {
    "colab": {},
    "colab_type": "code",
    "id": "AB0FRw4yDhoF"
   },
   "outputs": [
    {
     "ename": "KeyError",
     "evalue": "'review'",
     "output_type": "error",
     "traceback": [
      "\u001b[0;31m---------------------------------------------------------------------------\u001b[0m",
      "\u001b[0;31mKeyError\u001b[0m                                  Traceback (most recent call last)",
      "\u001b[0;32m~/anaconda3/lib/python3.7/site-packages/pandas/core/indexes/base.py\u001b[0m in \u001b[0;36mget_loc\u001b[0;34m(self, key, method, tolerance)\u001b[0m\n\u001b[1;32m   2896\u001b[0m             \u001b[0;32mtry\u001b[0m\u001b[0;34m:\u001b[0m\u001b[0;34m\u001b[0m\u001b[0;34m\u001b[0m\u001b[0m\n\u001b[0;32m-> 2897\u001b[0;31m                 \u001b[0;32mreturn\u001b[0m \u001b[0mself\u001b[0m\u001b[0;34m.\u001b[0m\u001b[0m_engine\u001b[0m\u001b[0;34m.\u001b[0m\u001b[0mget_loc\u001b[0m\u001b[0;34m(\u001b[0m\u001b[0mkey\u001b[0m\u001b[0;34m)\u001b[0m\u001b[0;34m\u001b[0m\u001b[0;34m\u001b[0m\u001b[0m\n\u001b[0m\u001b[1;32m   2898\u001b[0m             \u001b[0;32mexcept\u001b[0m \u001b[0mKeyError\u001b[0m\u001b[0;34m:\u001b[0m\u001b[0;34m\u001b[0m\u001b[0;34m\u001b[0m\u001b[0m\n",
      "\u001b[0;32mpandas/_libs/index.pyx\u001b[0m in \u001b[0;36mpandas._libs.index.IndexEngine.get_loc\u001b[0;34m()\u001b[0m\n",
      "\u001b[0;32mpandas/_libs/index.pyx\u001b[0m in \u001b[0;36mpandas._libs.index.IndexEngine.get_loc\u001b[0;34m()\u001b[0m\n",
      "\u001b[0;32mpandas/_libs/hashtable_class_helper.pxi\u001b[0m in \u001b[0;36mpandas._libs.hashtable.PyObjectHashTable.get_item\u001b[0;34m()\u001b[0m\n",
      "\u001b[0;32mpandas/_libs/hashtable_class_helper.pxi\u001b[0m in \u001b[0;36mpandas._libs.hashtable.PyObjectHashTable.get_item\u001b[0;34m()\u001b[0m\n",
      "\u001b[0;31mKeyError\u001b[0m: 'review'",
      "\nDuring handling of the above exception, another exception occurred:\n",
      "\u001b[0;31mKeyError\u001b[0m                                  Traceback (most recent call last)",
      "\u001b[0;32m<ipython-input-3-8957296ad22e>\u001b[0m in \u001b[0;36m<module>\u001b[0;34m\u001b[0m\n\u001b[1;32m      1\u001b[0m \u001b[0;31m# create X representing input\u001b[0m\u001b[0;34m\u001b[0m\u001b[0;34m\u001b[0m\u001b[0;34m\u001b[0m\u001b[0m\n\u001b[0;32m----> 2\u001b[0;31m \u001b[0mX\u001b[0m \u001b[0;34m=\u001b[0m \u001b[0mdata\u001b[0m\u001b[0;34m[\u001b[0m\u001b[0;34m'review'\u001b[0m\u001b[0;34m]\u001b[0m\u001b[0;34m\u001b[0m\u001b[0;34m\u001b[0m\u001b[0m\n\u001b[0m",
      "\u001b[0;32m~/anaconda3/lib/python3.7/site-packages/pandas/core/frame.py\u001b[0m in \u001b[0;36m__getitem__\u001b[0;34m(self, key)\u001b[0m\n\u001b[1;32m   2993\u001b[0m             \u001b[0;32mif\u001b[0m \u001b[0mself\u001b[0m\u001b[0;34m.\u001b[0m\u001b[0mcolumns\u001b[0m\u001b[0;34m.\u001b[0m\u001b[0mnlevels\u001b[0m \u001b[0;34m>\u001b[0m \u001b[0;36m1\u001b[0m\u001b[0;34m:\u001b[0m\u001b[0;34m\u001b[0m\u001b[0;34m\u001b[0m\u001b[0m\n\u001b[1;32m   2994\u001b[0m                 \u001b[0;32mreturn\u001b[0m \u001b[0mself\u001b[0m\u001b[0;34m.\u001b[0m\u001b[0m_getitem_multilevel\u001b[0m\u001b[0;34m(\u001b[0m\u001b[0mkey\u001b[0m\u001b[0;34m)\u001b[0m\u001b[0;34m\u001b[0m\u001b[0;34m\u001b[0m\u001b[0m\n\u001b[0;32m-> 2995\u001b[0;31m             \u001b[0mindexer\u001b[0m \u001b[0;34m=\u001b[0m \u001b[0mself\u001b[0m\u001b[0;34m.\u001b[0m\u001b[0mcolumns\u001b[0m\u001b[0;34m.\u001b[0m\u001b[0mget_loc\u001b[0m\u001b[0;34m(\u001b[0m\u001b[0mkey\u001b[0m\u001b[0;34m)\u001b[0m\u001b[0;34m\u001b[0m\u001b[0;34m\u001b[0m\u001b[0m\n\u001b[0m\u001b[1;32m   2996\u001b[0m             \u001b[0;32mif\u001b[0m \u001b[0mis_integer\u001b[0m\u001b[0;34m(\u001b[0m\u001b[0mindexer\u001b[0m\u001b[0;34m)\u001b[0m\u001b[0;34m:\u001b[0m\u001b[0;34m\u001b[0m\u001b[0;34m\u001b[0m\u001b[0m\n\u001b[1;32m   2997\u001b[0m                 \u001b[0mindexer\u001b[0m \u001b[0;34m=\u001b[0m \u001b[0;34m[\u001b[0m\u001b[0mindexer\u001b[0m\u001b[0;34m]\u001b[0m\u001b[0;34m\u001b[0m\u001b[0;34m\u001b[0m\u001b[0m\n",
      "\u001b[0;32m~/anaconda3/lib/python3.7/site-packages/pandas/core/indexes/base.py\u001b[0m in \u001b[0;36mget_loc\u001b[0;34m(self, key, method, tolerance)\u001b[0m\n\u001b[1;32m   2897\u001b[0m                 \u001b[0;32mreturn\u001b[0m \u001b[0mself\u001b[0m\u001b[0;34m.\u001b[0m\u001b[0m_engine\u001b[0m\u001b[0;34m.\u001b[0m\u001b[0mget_loc\u001b[0m\u001b[0;34m(\u001b[0m\u001b[0mkey\u001b[0m\u001b[0;34m)\u001b[0m\u001b[0;34m\u001b[0m\u001b[0;34m\u001b[0m\u001b[0m\n\u001b[1;32m   2898\u001b[0m             \u001b[0;32mexcept\u001b[0m \u001b[0mKeyError\u001b[0m\u001b[0;34m:\u001b[0m\u001b[0;34m\u001b[0m\u001b[0;34m\u001b[0m\u001b[0m\n\u001b[0;32m-> 2899\u001b[0;31m                 \u001b[0;32mreturn\u001b[0m \u001b[0mself\u001b[0m\u001b[0;34m.\u001b[0m\u001b[0m_engine\u001b[0m\u001b[0;34m.\u001b[0m\u001b[0mget_loc\u001b[0m\u001b[0;34m(\u001b[0m\u001b[0mself\u001b[0m\u001b[0;34m.\u001b[0m\u001b[0m_maybe_cast_indexer\u001b[0m\u001b[0;34m(\u001b[0m\u001b[0mkey\u001b[0m\u001b[0;34m)\u001b[0m\u001b[0;34m)\u001b[0m\u001b[0;34m\u001b[0m\u001b[0;34m\u001b[0m\u001b[0m\n\u001b[0m\u001b[1;32m   2900\u001b[0m         \u001b[0mindexer\u001b[0m \u001b[0;34m=\u001b[0m \u001b[0mself\u001b[0m\u001b[0;34m.\u001b[0m\u001b[0mget_indexer\u001b[0m\u001b[0;34m(\u001b[0m\u001b[0;34m[\u001b[0m\u001b[0mkey\u001b[0m\u001b[0;34m]\u001b[0m\u001b[0;34m,\u001b[0m \u001b[0mmethod\u001b[0m\u001b[0;34m=\u001b[0m\u001b[0mmethod\u001b[0m\u001b[0;34m,\u001b[0m \u001b[0mtolerance\u001b[0m\u001b[0;34m=\u001b[0m\u001b[0mtolerance\u001b[0m\u001b[0;34m)\u001b[0m\u001b[0;34m\u001b[0m\u001b[0;34m\u001b[0m\u001b[0m\n\u001b[1;32m   2901\u001b[0m         \u001b[0;32mif\u001b[0m \u001b[0mindexer\u001b[0m\u001b[0;34m.\u001b[0m\u001b[0mndim\u001b[0m \u001b[0;34m>\u001b[0m \u001b[0;36m1\u001b[0m \u001b[0;32mor\u001b[0m \u001b[0mindexer\u001b[0m\u001b[0;34m.\u001b[0m\u001b[0msize\u001b[0m \u001b[0;34m>\u001b[0m \u001b[0;36m1\u001b[0m\u001b[0;34m:\u001b[0m\u001b[0;34m\u001b[0m\u001b[0;34m\u001b[0m\u001b[0m\n",
      "\u001b[0;32mpandas/_libs/index.pyx\u001b[0m in \u001b[0;36mpandas._libs.index.IndexEngine.get_loc\u001b[0;34m()\u001b[0m\n",
      "\u001b[0;32mpandas/_libs/index.pyx\u001b[0m in \u001b[0;36mpandas._libs.index.IndexEngine.get_loc\u001b[0;34m()\u001b[0m\n",
      "\u001b[0;32mpandas/_libs/hashtable_class_helper.pxi\u001b[0m in \u001b[0;36mpandas._libs.hashtable.PyObjectHashTable.get_item\u001b[0;34m()\u001b[0m\n",
      "\u001b[0;32mpandas/_libs/hashtable_class_helper.pxi\u001b[0m in \u001b[0;36mpandas._libs.hashtable.PyObjectHashTable.get_item\u001b[0;34m()\u001b[0m\n",
      "\u001b[0;31mKeyError\u001b[0m: 'review'"
     ]
    }
   ],
   "source": [
    "# create X representing input\n",
    "X = data['review']"
   ]
  },
  {
   "cell_type": "code",
   "execution_count": 0,
   "metadata": {
    "colab": {},
    "colab_type": "code",
    "id": "C2BsXPSEDm-C"
   },
   "outputs": [],
   "source": [
    "# create y representing target\n",
    "y = data['tags']"
   ]
  },
  {
   "cell_type": "code",
   "execution_count": 0,
   "metadata": {
    "colab": {
     "base_uri": "https://localhost:8080/",
     "height": 34
    },
    "colab_type": "code",
    "id": "elePexwQ8owA",
    "outputId": "1fb3a2fe-2c55-4fe5-87f3-ee01c3f0f7dd"
   },
   "outputs": [
    {
     "data": {
      "text/plain": [
       "'camera of this phone is good'"
      ]
     },
     "execution_count": 6,
     "metadata": {
      "tags": []
     },
     "output_type": "execute_result"
    }
   ],
   "source": [
    "# feature\n",
    "X[0]"
   ]
  },
  {
   "cell_type": "code",
   "execution_count": 0,
   "metadata": {
    "colab": {
     "base_uri": "https://localhost:8080/",
     "height": 34
    },
    "colab_type": "code",
    "id": "H1N7-oRh8seW",
    "outputId": "9e287fa2-1ad1-48a6-95ad-961be659bcfe"
   },
   "outputs": [
    {
     "data": {
      "text/plain": [
       "'ATTR NATTR NATTR NATTR NATTR NATTR'"
      ]
     },
     "execution_count": 7,
     "metadata": {
      "tags": []
     },
     "output_type": "execute_result"
    }
   ],
   "source": [
    "# target\n",
    "y[0]"
   ]
  },
  {
   "cell_type": "markdown",
   "metadata": {
    "colab_type": "text",
    "id": "_mrTNJgxwMu5"
   },
   "source": [
    "## Vocab creation"
   ]
  },
  {
   "cell_type": "code",
   "execution_count": 0,
   "metadata": {
    "colab": {
     "base_uri": "https://localhost:8080/",
     "height": 34
    },
    "colab_type": "code",
    "id": "Bf-QvGazDpFR",
    "outputId": "d08492c5-7cc1-4b68-a860-06bc8beb5481"
   },
   "outputs": [
    {
     "data": {
      "text/plain": [
       "75"
      ]
     },
     "execution_count": 11,
     "metadata": {
      "tags": []
     },
     "output_type": "execute_result"
    }
   ],
   "source": [
    "# Create vocab\n",
    "vocab = []\n",
    "for review in X:\n",
    "  review = review.lower().split(\" \")\n",
    "  vocab.extend(review)\n",
    "vocab = list(set(vocab))\n",
    "vocab.append(\"<PAD>\")\n",
    "len(vocab)"
   ]
  },
  {
   "cell_type": "code",
   "execution_count": 0,
   "metadata": {
    "colab": {},
    "colab_type": "code",
    "id": "qadd8nbe-DFp"
   },
   "outputs": [],
   "source": [
    "# idx to word mapping\n",
    "idx_to_word = {idx:vocab[idx] for idx in range(len(vocab))}\n",
    "# word to id mapping\n",
    "word_to_idx = {idx_to_word[idx]:idx for idx in idx_to_word}\n"
   ]
  },
  {
   "cell_type": "markdown",
   "metadata": {
    "colab_type": "text",
    "id": "mHks6nxfwRSp"
   },
   "source": [
    "## Padding"
   ]
  },
  {
   "cell_type": "code",
   "execution_count": 0,
   "metadata": {
    "colab": {},
    "colab_type": "code",
    "id": "OR54_4ou_qJh"
   },
   "outputs": [],
   "source": [
    "# X --> feature\n",
    "# y --> target\n",
    "# vocab\n",
    "# idx_to_word\n",
    "# word_to_idx"
   ]
  },
  {
   "cell_type": "code",
   "execution_count": 0,
   "metadata": {
    "colab": {
     "base_uri": "https://localhost:8080/",
     "height": 34
    },
    "colab_type": "code",
    "id": "IHSFdOTlDpn8",
    "outputId": "f745a34d-60fa-4392-dd7a-e7dd254eefc5"
   },
   "outputs": [
    {
     "data": {
      "text/plain": [
       "('quality and service of this product is good', 8)"
      ]
     },
     "execution_count": 22,
     "metadata": {
      "tags": []
     },
     "output_type": "execute_result"
    }
   ],
   "source": [
    "# Find sentence with maximum words and find the number of words present in it\n",
    "max_len_sentence = None # \"Str\" this particular sentence will have max no of words compared to any other sample\n",
    "max_len = 0 # Number of words present in the sentence \"max_len_sentence\"\n",
    "for sen in X:\n",
    "  no_of_words = len(sen.split())\n",
    "  if no_of_words>max_len:\n",
    "    max_len = no_of_words\n",
    "    max_len_sentence = sen\n",
    "max_len_sentence, max_len"
   ]
  },
  {
   "cell_type": "code",
   "execution_count": 0,
   "metadata": {
    "colab": {
     "base_uri": "https://localhost:8080/",
     "height": 451
    },
    "colab_type": "code",
    "id": "mQOW-sL0EnAJ",
    "outputId": "8edf80c2-30e8-4844-ae38-0d45236db9bf"
   },
   "outputs": [
    {
     "data": {
      "text/plain": [
       "[['camera', 'of', 'this', 'phone', 'is', 'good', '<PAD>', '<PAD>'],\n",
       " ['screen', 'size', 'is', 'very', 'bad', '<PAD>', '<PAD>', '<PAD>'],\n",
       " ['quality', 'of', 'the', 'material', 'is', 'awesome', '<PAD>', '<PAD>'],\n",
       " ['phone', 'size', 'is', 'super', '<PAD>', '<PAD>', '<PAD>', '<PAD>'],\n",
       " ['display', 'of', 'the', 'phone', 'is', 'great', '<PAD>', '<PAD>'],\n",
       " ['battery', 'life', 'is', 'incredible', '<PAD>', '<PAD>', '<PAD>', '<PAD>'],\n",
       " ['cloth', 'texture', 'and', 'materials', 'are', 'great', '<PAD>', '<PAD>'],\n",
       " ['this', 'has', 'got', 'stupid', 'material', '<PAD>', '<PAD>', '<PAD>'],\n",
       " ['delivery', 'of', 'this', 'product', 'took', 'long', 'time', '<PAD>'],\n",
       " ['screen', 'glass', 'has', 'been', 'broken', '<PAD>', '<PAD>', '<PAD>'],\n",
       " ['this', 'is', 'an', 'excellent', 'camera', '<PAD>', '<PAD>', '<PAD>'],\n",
       " ['phone', 'software', 'is', 'so', 'worst', '<PAD>', '<PAD>', '<PAD>'],\n",
       " ['smell', 'of', 'the', 'perfume', 'is', 'good', '<PAD>', '<PAD>'],\n",
       " ['the', 'surface', 'is', 'very', 'smooth', 'and', 'clear', '<PAD>'],\n",
       " ['design', 'is', 'excellent', '<PAD>', '<PAD>', '<PAD>', '<PAD>', '<PAD>'],\n",
       " ['car', 'break', 'box', 'is', 'very', 'super', '<PAD>', '<PAD>'],\n",
       " ['shoe', 'sole', 'has', 'got', 'good', 'grip', '<PAD>', '<PAD>'],\n",
       " ['this', 'has', 'the', 'best', 'shoe', 'material', '<PAD>', '<PAD>'],\n",
       " ['quality', 'and', 'service', 'of', 'this', 'product', 'is', 'good'],\n",
       " ['fine', 'design', 'adds', 'beauty', 'to', 'this', '<PAD>', '<PAD>'],\n",
       " ['lipstick', 'comes', 'with', 'bad', 'smell', '<PAD>', '<PAD>', '<PAD>'],\n",
       " ['i', 'am', 'not', 'satisfied', 'with', 'the', 'price', '<PAD>'],\n",
       " ['design', 'of', 'this', 'cloth', 'is', 'very', 'bad', '<PAD>'],\n",
       " ['the', 'camera', 'sucks', 'when', 'it', 'starts', '<PAD>', '<PAD>'],\n",
       " ['stand', 'of', 'this', 'tv', 'box', 'is', 'fab', '<PAD>']]"
      ]
     },
     "execution_count": 31,
     "metadata": {
      "tags": []
     },
     "output_type": "execute_result"
    }
   ],
   "source": [
    "# Pad all the sentences if sentence size is less than max_len \n",
    "# <PAD>\n",
    "X = [X[idx].split() + [\"<PAD>\"] * (max_len - len(X[idx].split()) ) for idx in range(len(X))]\n",
    "# print x\n",
    "X"
   ]
  },
  {
   "cell_type": "code",
   "execution_count": 0,
   "metadata": {
    "colab": {
     "base_uri": "https://localhost:8080/",
     "height": 34
    },
    "colab_type": "code",
    "id": "KQw91frbBgoO",
    "outputId": "a479c841-fbd1-45c3-9471-1399a1f08891"
   },
   "outputs": [
    {
     "data": {
      "text/plain": [
       "['camera', 'of', 'this', 'phone', 'is', 'good', '<PAD>', '<PAD>']"
      ]
     },
     "execution_count": 32,
     "metadata": {
      "tags": []
     },
     "output_type": "execute_result"
    }
   ],
   "source": [
    "X[0]"
   ]
  },
  {
   "cell_type": "code",
   "execution_count": 0,
   "metadata": {
    "colab": {
     "base_uri": "https://localhost:8080/",
     "height": 34
    },
    "colab_type": "code",
    "id": "xQ3ZtrnWBi00",
    "outputId": "ee389fa3-2859-4239-eb4b-7a04a3b8fd55"
   },
   "outputs": [
    {
     "data": {
      "text/plain": [
       "'ATTR NATTR NATTR NATTR NATTR NATTR'"
      ]
     },
     "execution_count": 33,
     "metadata": {
      "tags": []
     },
     "output_type": "execute_result"
    }
   ],
   "source": [
    "y[0]"
   ]
  },
  {
   "cell_type": "code",
   "execution_count": 0,
   "metadata": {
    "colab": {
     "base_uri": "https://localhost:8080/",
     "height": 451
    },
    "colab_type": "code",
    "id": "6leUt2_pGFVK",
    "outputId": "32944e17-b356-4fa8-9628-99e2449297b7"
   },
   "outputs": [
    {
     "data": {
      "text/plain": [
       "[['ATTR', 'NATTR', 'NATTR', 'NATTR', 'NATTR', 'NATTR', 'NATTR', 'NATTR'],\n",
       " ['ATTR', 'ATTR', 'NATTR', 'NATTR', 'NATTR', 'NATTR', 'NATTR', 'NATTR'],\n",
       " ['ATTR', 'NATTR', 'NATTR', 'NATTR', 'NATTR', 'NATTR', 'NATTR', 'NATTR'],\n",
       " ['NATTR', 'ATTR', 'NATTR', 'NATTR', 'NATTR', 'NATTR', 'NATTR', 'NATTR'],\n",
       " ['ATTR', 'NATTR', 'NATTR', 'NATTR', 'NATTR', 'NATTR', 'NATTR', 'NATTR'],\n",
       " ['ATTR', 'ATTR', 'NATTR', 'NATTR', 'NATTR', 'NATTR', 'NATTR', 'NATTR'],\n",
       " ['NATTR', 'ATTR', 'NATTR', 'ATTR', 'NATTR', 'NATTR', 'NATTR', 'NATTR'],\n",
       " ['NATTR', 'NATTR', 'NATTR', 'NATTR', 'ATTR', 'NATTR', 'NATTR', 'NATTR'],\n",
       " ['ATTR', 'NATTR', 'NATTR', 'NATTR', 'NATTR', 'NATTR', 'NATTR', 'NATTR'],\n",
       " ['ATTR', 'ATTR', 'NATTR', 'NATTR', 'NATTR', 'NATTR', 'NATTR', 'NATTR'],\n",
       " ['NATTR', 'NATTR', 'NATTR', 'NATTR', 'ATTR', 'NATTR', 'NATTR', 'NATTR'],\n",
       " ['NATTR', 'ATTR', 'NATTR', 'NATTR', 'NATTR', 'NATTR', 'NATTR', 'NATTR'],\n",
       " ['ATTR', 'NATTR', 'NATTR', 'NATTR', 'NATTR', 'NATTR', 'NATTR', 'NATTR'],\n",
       " ['NATTR', 'ATTR', 'NATTR', 'NATTR', 'NATTR', 'NATTR', 'NATTR', 'NATTR'],\n",
       " ['ATTR', 'NATTR', 'NATTR', 'NATTR', 'NATTR', 'NATTR', 'NATTR', 'NATTR'],\n",
       " ['NATTR', 'ATTR', 'ATTR', 'NATTR', 'NATTR', 'NATTR', 'NATTR', 'NATTR'],\n",
       " ['NATTR', 'ATTR', 'NATTR', 'NATTR', 'NATTR', 'NATTR', 'NATTR', 'NATTR'],\n",
       " ['NATTR', 'NATTR', 'NATTR', 'NATTR', 'NATTR', 'ATTR', 'NATTR', 'NATTR'],\n",
       " ['ATTR', 'NATTR', 'ATTR', 'NATTR', 'NATTR', 'NATTR', 'NATTR', 'NATTR'],\n",
       " ['NATTR', 'ATTR', 'NATTR', 'NATTR', 'NATTR', 'NATTR', 'NATTR', 'NATTR'],\n",
       " ['NATTR', 'NATTR', 'NATTR', 'NATTR', 'ATTR', 'NATTR', 'NATTR', 'NATTR'],\n",
       " ['NATTR', 'NATTR', 'NATTR', 'NATTR', 'NATTR', 'NATTR', 'NATTR', 'NATTR'],\n",
       " ['ATTR', 'NATTR', 'NATTR', 'NATTR', 'NATTR', 'NATTR', 'NATTR', 'NATTR'],\n",
       " ['NATTR', 'ATTR', 'NATTR', 'NATTR', 'NATTR', 'NATTR', 'NATTR', 'NATTR'],\n",
       " ['ATTR', 'NATTR', 'NATTR', 'NATTR', 'NATTR', 'NATTR', 'NATTR', 'NATTR']]"
      ]
     },
     "execution_count": 36,
     "metadata": {
      "tags": []
     },
     "output_type": "execute_result"
    }
   ],
   "source": [
    "# pad all tags if length is less than max_len\n",
    "y = [y[idx].split() + [\"NATTR\"] * (max_len - len(y[idx].split()) ) for idx in range(len(y))]\n",
    "# print y\n",
    "y"
   ]
  },
  {
   "cell_type": "code",
   "execution_count": 0,
   "metadata": {
    "colab": {
     "base_uri": "https://localhost:8080/",
     "height": 34
    },
    "colab_type": "code",
    "id": "e_dtjwFvCI8C",
    "outputId": "6846e30a-7f0b-4861-c05e-baf84278701e"
   },
   "outputs": [
    {
     "data": {
      "text/plain": [
       "((25, 8), (25, 8))"
      ]
     },
     "execution_count": 38,
     "metadata": {
      "tags": []
     },
     "output_type": "execute_result"
    }
   ],
   "source": [
    "np.array(X).shape, np.array(y).shape"
   ]
  },
  {
   "cell_type": "markdown",
   "metadata": {
    "colab_type": "text",
    "id": "PpdS2KwhwUOV"
   },
   "source": [
    "## Numerising the data"
   ]
  },
  {
   "cell_type": "code",
   "execution_count": 0,
   "metadata": {
    "colab": {},
    "colab_type": "code",
    "id": "cMbdDAAmCWUz"
   },
   "outputs": [],
   "source": [
    "# X --> feature\n",
    "# y --> target\n",
    "# vocab\n",
    "# idx_to_word\n",
    "# word_to_idx\n",
    "# padding"
   ]
  },
  {
   "cell_type": "code",
   "execution_count": 0,
   "metadata": {
    "colab": {
     "base_uri": "https://localhost:8080/",
     "height": 451
    },
    "colab_type": "code",
    "id": "yh5IO5s2CcSQ",
    "outputId": "e613f1fe-0e92-4b16-b450-425dde0297a7"
   },
   "outputs": [
    {
     "data": {
      "text/plain": [
       "[['camera', 'of', 'this', 'phone', 'is', 'good', '<PAD>', '<PAD>'],\n",
       " ['screen', 'size', 'is', 'very', 'bad', '<PAD>', '<PAD>', '<PAD>'],\n",
       " ['quality', 'of', 'the', 'material', 'is', 'awesome', '<PAD>', '<PAD>'],\n",
       " ['phone', 'size', 'is', 'super', '<PAD>', '<PAD>', '<PAD>', '<PAD>'],\n",
       " ['display', 'of', 'the', 'phone', 'is', 'great', '<PAD>', '<PAD>'],\n",
       " ['battery', 'life', 'is', 'incredible', '<PAD>', '<PAD>', '<PAD>', '<PAD>'],\n",
       " ['cloth', 'texture', 'and', 'materials', 'are', 'great', '<PAD>', '<PAD>'],\n",
       " ['this', 'has', 'got', 'stupid', 'material', '<PAD>', '<PAD>', '<PAD>'],\n",
       " ['delivery', 'of', 'this', 'product', 'took', 'long', 'time', '<PAD>'],\n",
       " ['screen', 'glass', 'has', 'been', 'broken', '<PAD>', '<PAD>', '<PAD>'],\n",
       " ['this', 'is', 'an', 'excellent', 'camera', '<PAD>', '<PAD>', '<PAD>'],\n",
       " ['phone', 'software', 'is', 'so', 'worst', '<PAD>', '<PAD>', '<PAD>'],\n",
       " ['smell', 'of', 'the', 'perfume', 'is', 'good', '<PAD>', '<PAD>'],\n",
       " ['the', 'surface', 'is', 'very', 'smooth', 'and', 'clear', '<PAD>'],\n",
       " ['design', 'is', 'excellent', '<PAD>', '<PAD>', '<PAD>', '<PAD>', '<PAD>'],\n",
       " ['car', 'break', 'box', 'is', 'very', 'super', '<PAD>', '<PAD>'],\n",
       " ['shoe', 'sole', 'has', 'got', 'good', 'grip', '<PAD>', '<PAD>'],\n",
       " ['this', 'has', 'the', 'best', 'shoe', 'material', '<PAD>', '<PAD>'],\n",
       " ['quality', 'and', 'service', 'of', 'this', 'product', 'is', 'good'],\n",
       " ['fine', 'design', 'adds', 'beauty', 'to', 'this', '<PAD>', '<PAD>'],\n",
       " ['lipstick', 'comes', 'with', 'bad', 'smell', '<PAD>', '<PAD>', '<PAD>'],\n",
       " ['i', 'am', 'not', 'satisfied', 'with', 'the', 'price', '<PAD>'],\n",
       " ['design', 'of', 'this', 'cloth', 'is', 'very', 'bad', '<PAD>'],\n",
       " ['the', 'camera', 'sucks', 'when', 'it', 'starts', '<PAD>', '<PAD>'],\n",
       " ['stand', 'of', 'this', 'tv', 'box', 'is', 'fab', '<PAD>']]"
      ]
     },
     "execution_count": 39,
     "metadata": {
      "tags": []
     },
     "output_type": "execute_result"
    }
   ],
   "source": [
    "X"
   ]
  },
  {
   "cell_type": "code",
   "execution_count": 0,
   "metadata": {
    "colab": {
     "base_uri": "https://localhost:8080/",
     "height": 451
    },
    "colab_type": "code",
    "id": "3TyiV0Z_CfVF",
    "outputId": "8f6c3d27-f7d7-4b2e-a453-0ab8a7cbf4a1"
   },
   "outputs": [
    {
     "data": {
      "text/plain": [
       "[['ATTR', 'NATTR', 'NATTR', 'NATTR', 'NATTR', 'NATTR', 'NATTR', 'NATTR'],\n",
       " ['ATTR', 'ATTR', 'NATTR', 'NATTR', 'NATTR', 'NATTR', 'NATTR', 'NATTR'],\n",
       " ['ATTR', 'NATTR', 'NATTR', 'NATTR', 'NATTR', 'NATTR', 'NATTR', 'NATTR'],\n",
       " ['NATTR', 'ATTR', 'NATTR', 'NATTR', 'NATTR', 'NATTR', 'NATTR', 'NATTR'],\n",
       " ['ATTR', 'NATTR', 'NATTR', 'NATTR', 'NATTR', 'NATTR', 'NATTR', 'NATTR'],\n",
       " ['ATTR', 'ATTR', 'NATTR', 'NATTR', 'NATTR', 'NATTR', 'NATTR', 'NATTR'],\n",
       " ['NATTR', 'ATTR', 'NATTR', 'ATTR', 'NATTR', 'NATTR', 'NATTR', 'NATTR'],\n",
       " ['NATTR', 'NATTR', 'NATTR', 'NATTR', 'ATTR', 'NATTR', 'NATTR', 'NATTR'],\n",
       " ['ATTR', 'NATTR', 'NATTR', 'NATTR', 'NATTR', 'NATTR', 'NATTR', 'NATTR'],\n",
       " ['ATTR', 'ATTR', 'NATTR', 'NATTR', 'NATTR', 'NATTR', 'NATTR', 'NATTR'],\n",
       " ['NATTR', 'NATTR', 'NATTR', 'NATTR', 'ATTR', 'NATTR', 'NATTR', 'NATTR'],\n",
       " ['NATTR', 'ATTR', 'NATTR', 'NATTR', 'NATTR', 'NATTR', 'NATTR', 'NATTR'],\n",
       " ['ATTR', 'NATTR', 'NATTR', 'NATTR', 'NATTR', 'NATTR', 'NATTR', 'NATTR'],\n",
       " ['NATTR', 'ATTR', 'NATTR', 'NATTR', 'NATTR', 'NATTR', 'NATTR', 'NATTR'],\n",
       " ['ATTR', 'NATTR', 'NATTR', 'NATTR', 'NATTR', 'NATTR', 'NATTR', 'NATTR'],\n",
       " ['NATTR', 'ATTR', 'ATTR', 'NATTR', 'NATTR', 'NATTR', 'NATTR', 'NATTR'],\n",
       " ['NATTR', 'ATTR', 'NATTR', 'NATTR', 'NATTR', 'NATTR', 'NATTR', 'NATTR'],\n",
       " ['NATTR', 'NATTR', 'NATTR', 'NATTR', 'NATTR', 'ATTR', 'NATTR', 'NATTR'],\n",
       " ['ATTR', 'NATTR', 'ATTR', 'NATTR', 'NATTR', 'NATTR', 'NATTR', 'NATTR'],\n",
       " ['NATTR', 'ATTR', 'NATTR', 'NATTR', 'NATTR', 'NATTR', 'NATTR', 'NATTR'],\n",
       " ['NATTR', 'NATTR', 'NATTR', 'NATTR', 'ATTR', 'NATTR', 'NATTR', 'NATTR'],\n",
       " ['NATTR', 'NATTR', 'NATTR', 'NATTR', 'NATTR', 'NATTR', 'NATTR', 'NATTR'],\n",
       " ['ATTR', 'NATTR', 'NATTR', 'NATTR', 'NATTR', 'NATTR', 'NATTR', 'NATTR'],\n",
       " ['NATTR', 'ATTR', 'NATTR', 'NATTR', 'NATTR', 'NATTR', 'NATTR', 'NATTR'],\n",
       " ['ATTR', 'NATTR', 'NATTR', 'NATTR', 'NATTR', 'NATTR', 'NATTR', 'NATTR']]"
      ]
     },
     "execution_count": 40,
     "metadata": {
      "tags": []
     },
     "output_type": "execute_result"
    }
   ],
   "source": [
    "y"
   ]
  },
  {
   "cell_type": "code",
   "execution_count": 0,
   "metadata": {
    "colab": {
     "base_uri": "https://localhost:8080/",
     "height": 54
    },
    "colab_type": "code",
    "id": "O5_bkZQNG6x0",
    "outputId": "bc333efb-5abd-46ee-df43-19efce48557d"
   },
   "outputs": [
    {
     "name": "stdout",
     "output_type": "stream",
     "text": [
      "[[0, 0, 0, 0, 0, 0, 0, 0, 0, 0, 0, 0, 0, 0, 0, 0, 0, 0, 0, 0, 0, 0, 0, 0, 0, 0, 0, 0, 0, 0, 0, 0, 1, 0, 0, 0, 0, 0, 0, 0, 0, 0, 0, 0, 0, 0, 0, 0, 0, 0, 0, 0, 0, 0, 0, 0, 0, 0, 0, 0, 0, 0, 0, 0, 0, 0, 0, 0, 0, 0, 0, 0, 0, 0, 0], [0, 0, 0, 0, 0, 0, 0, 0, 0, 0, 0, 0, 0, 0, 0, 0, 0, 0, 0, 0, 0, 0, 0, 0, 0, 0, 0, 0, 0, 0, 0, 0, 0, 0, 0, 0, 0, 0, 0, 1, 0, 0, 0, 0, 0, 0, 0, 0, 0, 0, 0, 0, 0, 0, 0, 0, 0, 0, 0, 0, 0, 0, 0, 0, 0, 0, 0, 0, 0, 0, 0, 0, 0, 0, 0], [0, 0, 0, 0, 0, 0, 0, 0, 0, 0, 0, 0, 0, 0, 0, 0, 0, 0, 0, 0, 0, 0, 0, 0, 0, 0, 0, 0, 0, 0, 0, 0, 0, 0, 0, 0, 0, 0, 0, 0, 1, 0, 0, 0, 0, 0, 0, 0, 0, 0, 0, 0, 0, 0, 0, 0, 0, 0, 0, 0, 0, 0, 0, 0, 0, 0, 0, 0, 0, 0, 0, 0, 0, 0, 0], [0, 0, 0, 0, 0, 0, 0, 0, 0, 0, 0, 0, 0, 0, 0, 0, 0, 0, 0, 0, 0, 0, 0, 0, 0, 0, 0, 0, 0, 0, 0, 0, 0, 0, 0, 0, 0, 1, 0, 0, 0, 0, 0, 0, 0, 0, 0, 0, 0, 0, 0, 0, 0, 0, 0, 0, 0, 0, 0, 0, 0, 0, 0, 0, 0, 0, 0, 0, 0, 0, 0, 0, 0, 0, 0], [0, 0, 0, 0, 0, 0, 0, 0, 0, 0, 0, 0, 0, 0, 0, 0, 0, 0, 0, 0, 0, 0, 0, 0, 0, 0, 0, 0, 0, 0, 0, 0, 0, 0, 0, 1, 0, 0, 0, 0, 0, 0, 0, 0, 0, 0, 0, 0, 0, 0, 0, 0, 0, 0, 0, 0, 0, 0, 0, 0, 0, 0, 0, 0, 0, 0, 0, 0, 0, 0, 0, 0, 0, 0, 0], [0, 0, 0, 0, 0, 0, 0, 0, 0, 0, 0, 0, 0, 0, 0, 0, 0, 0, 0, 0, 0, 0, 0, 0, 0, 0, 0, 0, 0, 0, 0, 0, 0, 0, 0, 0, 0, 0, 0, 0, 0, 0, 0, 0, 0, 0, 0, 0, 0, 0, 0, 0, 0, 0, 0, 0, 0, 0, 0, 0, 0, 0, 1, 0, 0, 0, 0, 0, 0, 0, 0, 0, 0, 0, 0], [0, 0, 0, 0, 0, 0, 0, 0, 0, 0, 0, 0, 0, 0, 0, 0, 0, 0, 0, 0, 0, 0, 0, 0, 0, 0, 0, 0, 0, 0, 0, 0, 0, 0, 0, 0, 0, 0, 0, 0, 0, 0, 0, 0, 0, 0, 0, 0, 0, 0, 0, 0, 0, 0, 0, 0, 0, 0, 0, 0, 0, 0, 0, 0, 0, 0, 0, 0, 0, 0, 0, 0, 0, 0, 1], [0, 0, 0, 0, 0, 0, 0, 0, 0, 0, 0, 0, 0, 0, 0, 0, 0, 0, 0, 0, 0, 0, 0, 0, 0, 0, 0, 0, 0, 0, 0, 0, 0, 0, 0, 0, 0, 0, 0, 0, 0, 0, 0, 0, 0, 0, 0, 0, 0, 0, 0, 0, 0, 0, 0, 0, 0, 0, 0, 0, 0, 0, 0, 0, 0, 0, 0, 0, 0, 0, 0, 0, 0, 0, 1]]\n"
     ]
    }
   ],
   "source": [
    "# Numerise matrix X using word_to_idx map\n",
    "# X[0][0]\n",
    "# word_vector = [0]*len(vocab)\n",
    "# idx = word_to_idx[X[0][0]]\n",
    "# print(word_vector)\n",
    "# word_vector[idx] = 1\n",
    "# print(word_vector)\n",
    "\n",
    "## vocab --> camera phone display material\n",
    "## camera-->   1.     0.   0.      0\n",
    "## word_to_idx['camera'] returns 0\n",
    "numerized_X = [[[1 if idx==word_to_idx[word] else 0 for idx in range(len(vocab))] for word in sen] for sen in X]\n",
    "print(numerized_X[0])"
   ]
  },
  {
   "cell_type": "code",
   "execution_count": 0,
   "metadata": {
    "colab": {
     "base_uri": "https://localhost:8080/",
     "height": 451
    },
    "colab_type": "code",
    "id": "p6S0ggvDHKVH",
    "outputId": "60f24052-2be0-4e06-bb77-987d97fa3c81"
   },
   "outputs": [
    {
     "data": {
      "text/plain": [
       "[[1, 0, 0, 0, 0, 0, 0, 0],\n",
       " [1, 1, 0, 0, 0, 0, 0, 0],\n",
       " [1, 0, 0, 0, 0, 0, 0, 0],\n",
       " [0, 1, 0, 0, 0, 0, 0, 0],\n",
       " [1, 0, 0, 0, 0, 0, 0, 0],\n",
       " [1, 1, 0, 0, 0, 0, 0, 0],\n",
       " [0, 1, 0, 1, 0, 0, 0, 0],\n",
       " [0, 0, 0, 0, 1, 0, 0, 0],\n",
       " [1, 0, 0, 0, 0, 0, 0, 0],\n",
       " [1, 1, 0, 0, 0, 0, 0, 0],\n",
       " [0, 0, 0, 0, 1, 0, 0, 0],\n",
       " [0, 1, 0, 0, 0, 0, 0, 0],\n",
       " [1, 0, 0, 0, 0, 0, 0, 0],\n",
       " [0, 1, 0, 0, 0, 0, 0, 0],\n",
       " [1, 0, 0, 0, 0, 0, 0, 0],\n",
       " [0, 1, 1, 0, 0, 0, 0, 0],\n",
       " [0, 1, 0, 0, 0, 0, 0, 0],\n",
       " [0, 0, 0, 0, 0, 1, 0, 0],\n",
       " [1, 0, 1, 0, 0, 0, 0, 0],\n",
       " [0, 1, 0, 0, 0, 0, 0, 0],\n",
       " [0, 0, 0, 0, 1, 0, 0, 0],\n",
       " [0, 0, 0, 0, 0, 0, 0, 0],\n",
       " [1, 0, 0, 0, 0, 0, 0, 0],\n",
       " [0, 1, 0, 0, 0, 0, 0, 0],\n",
       " [1, 0, 0, 0, 0, 0, 0, 0]]"
      ]
     },
     "execution_count": 55,
     "metadata": {
      "tags": []
     },
     "output_type": "execute_result"
    }
   ],
   "source": [
    "# Numerise matrix y : Label 1 for \"ATTR\" and 0 for \"NATTR\"\n",
    "numerized_y = [[1 if tag==\"ATTR\" else 0 for tag in sen] for sen in y]\n",
    "numerized_y"
   ]
  },
  {
   "cell_type": "markdown",
   "metadata": {
    "colab_type": "text",
    "id": "hXcw15i4xQ_7"
   },
   "source": [
    "## Write a batch function"
   ]
  },
  {
   "cell_type": "code",
   "execution_count": 0,
   "metadata": {
    "colab": {},
    "colab_type": "code",
    "id": "6BnSG-zNFBlZ"
   },
   "outputs": [],
   "source": [
    "# X --> feature\n",
    "# y --> target\n",
    "# vocab\n",
    "# idx_to_word\n",
    "# word_to_idx\n",
    "# padding"
   ]
  },
  {
   "cell_type": "code",
   "execution_count": 0,
   "metadata": {
    "colab": {
     "base_uri": "https://localhost:8080/",
     "height": 34
    },
    "colab_type": "code",
    "id": "67msS_8PFOeS",
    "outputId": "5b2f6ac2-1b72-45b2-8c66-00cade6829bc"
   },
   "outputs": [
    {
     "data": {
      "text/plain": [
       "((25, 8, 75), (25, 8))"
      ]
     },
     "execution_count": 58,
     "metadata": {
      "tags": []
     },
     "output_type": "execute_result"
    }
   ],
   "source": [
    "np.array(numerized_X).shape, np.array(numerized_y).shape"
   ]
  },
  {
   "cell_type": "code",
   "execution_count": 0,
   "metadata": {
    "colab": {},
    "colab_type": "code",
    "id": "sIfdYBpXHtTS"
   },
   "outputs": [],
   "source": [
    "# batch function\n",
    "def get_batch(nu_x, nu_y, not_numerized_X, batch_size = 5):\n",
    "  # no of samples = 21\n",
    "  # batch_size = 5\n",
    "  # 21/5 = 4 batches + 1 = 5 batches\n",
    "  no_of_batches = len(nu_x)/batch_size\n",
    "  if len(nu_x)%batch_size!=0:\n",
    "    no_of_batches=no_of_batches+1\n",
    "  for batch_id in range(int(no_of_batches)):\n",
    "    start_index = (batch_id*batch_size)\n",
    "    end_index = start_index + batch_size\n",
    "    yield np.array(nu_x[start_index:end_index]), np.array(nu_y[start_index:end_index]), not_numerized_X[start_index:end_index]"
   ]
  },
  {
   "cell_type": "code",
   "execution_count": 0,
   "metadata": {
    "colab": {
     "base_uri": "https://localhost:8080/",
     "height": 225
    },
    "colab_type": "code",
    "id": "se_2re6nGifu",
    "outputId": "40ca422c-24b6-4437-deee-86ba2a12ca39"
   },
   "outputs": [
    {
     "data": {
      "text/plain": [
       "((5, 8, 75),\n",
       " (5, 8),\n",
       " [['camera', 'of', 'this', 'phone', 'is', 'good', '<PAD>', '<PAD>'],\n",
       "  ['screen', 'size', 'is', 'very', 'bad', '<PAD>', '<PAD>', '<PAD>'],\n",
       "  ['quality', 'of', 'the', 'material', 'is', 'awesome', '<PAD>', '<PAD>'],\n",
       "  ['phone', 'size', 'is', 'super', '<PAD>', '<PAD>', '<PAD>', '<PAD>'],\n",
       "  ['display', 'of', 'the', 'phone', 'is', 'great', '<PAD>', '<PAD>']],\n",
       " array([[1, 0, 0, 0, 0, 0, 0, 0],\n",
       "        [1, 1, 0, 0, 0, 0, 0, 0],\n",
       "        [1, 0, 0, 0, 0, 0, 0, 0],\n",
       "        [0, 1, 0, 0, 0, 0, 0, 0],\n",
       "        [1, 0, 0, 0, 0, 0, 0, 0]]))"
      ]
     },
     "execution_count": 71,
     "metadata": {
      "tags": []
     },
     "output_type": "execute_result"
    }
   ],
   "source": [
    "input_,target_,message_ = next(get_batch(numerized_X, numerized_y, X, batch_size=5))\n",
    "input_.shape, target_.shape, message_,target_"
   ]
  },
  {
   "cell_type": "code",
   "execution_count": 0,
   "metadata": {
    "colab": {
     "base_uri": "https://localhost:8080/",
     "height": 34
    },
    "colab_type": "code",
    "id": "WCqhP0GwIZsz",
    "outputId": "f5d71c83-55d7-43aa-da54-a290938f1cbe"
   },
   "outputs": [
    {
     "data": {
      "text/plain": [
       "((25, 8, 75), (25, 8))"
      ]
     },
     "execution_count": 70,
     "metadata": {
      "tags": []
     },
     "output_type": "execute_result"
    }
   ],
   "source": [
    "np.array(numerized_X).shape, np.array(numerized_y).shape"
   ]
  },
  {
   "cell_type": "markdown",
   "metadata": {
    "colab_type": "text",
    "id": "SmjutIeLxVjs"
   },
   "source": [
    "## Model development"
   ]
  },
  {
   "cell_type": "code",
   "execution_count": 0,
   "metadata": {
    "colab": {
     "base_uri": "https://localhost:8080/",
     "height": 217
    },
    "colab_type": "code",
    "id": "O6MA_3wt21Sr",
    "outputId": "505d36a3-8639-4f8f-8e75-2f1a11fcaac2"
   },
   "outputs": [
    {
     "data": {
      "image/png": "[encoded data removed]",
      "text/plain": [
       "<IPython.core.display.Image object>"
      ]
     },
     "execution_count": 8,
     "metadata": {
      "image/png": {
       "height": 200,
       "width": 200
      },
      "tags": []
     },
     "output_type": "execute_result"
    }
   ],
   "source": [
    "from IPython.display import Image\n",
    "Image('rnn.png',width=200, height=200)"
   ]
  },
  {
   "cell_type": "code",
   "execution_count": 0,
   "metadata": {
    "colab": {},
    "colab_type": "code",
    "id": "wH7E3l8gMeQs"
   },
   "outputs": [],
   "source": [
    "# W1 = (no_of_neurons_inpu+no_neurons_in_state_layer) * no_of_neurons_in_hidden_layer"
   ]
  },
  {
   "cell_type": "code",
   "execution_count": 0,
   "metadata": {
    "colab": {
     "base_uri": "https://localhost:8080/",
     "height": 176
    },
    "colab_type": "code",
    "id": "JH3d5l_dIPuS",
    "outputId": "d93bfce7-8063-406e-e5a5-de14b0ad0985"
   },
   "outputs": [
    {
     "name": "stdout",
     "output_type": "stream",
     "text": [
      "WARNING:tensorflow:From <ipython-input-73-8f08e6f85890>:67: softmax_cross_entropy_with_logits (from tensorflow.python.ops.nn_ops) is deprecated and will be removed in a future version.\n",
      "Instructions for updating:\n",
      "\n",
      "Future major versions of TensorFlow will allow gradients to flow\n",
      "into the labels input on backprop by default.\n",
      "\n",
      "See `tf.nn.softmax_cross_entropy_with_logits_v2`.\n",
      "\n"
     ]
    }
   ],
   "source": [
    "import tensorflow as tf\n",
    "tf.reset_default_graph()\n",
    "################################################ ********* FEED FORWARD *********** ############################\n",
    "# define number of neurons in hidden layer\n",
    "hidden_neurons = 10\n",
    "# define batch_size\n",
    "batch_size = 5\n",
    "# define number of classes / no of neurons in output layer\n",
    "output_neurons = 1\n",
    "\n",
    "\n",
    "########### INPUT ################\n",
    "## Batch 1:\n",
    "## Screen is good\n",
    "## Battery is bad\n",
    "## Camera is good\n",
    "## Shape of batch input: ?\n",
    "# placeholder for input data\n",
    "input_ = tf.placeholder(tf.float32, [None, None, len(vocab)])\n",
    "\n",
    "\n",
    "########### TAGET ################ \n",
    "## ATTR NATTR NATTR\n",
    "## ATTR NATTR NATTR\n",
    "## ATTR NATTR NATTR\n",
    "## Shape of batch target: ?\n",
    "# placeholder for target data\n",
    "target_ = tf.placeholder(tf.float32,[None,max_len])\n",
    "\n",
    "\n",
    "# placeholder for initial state layer inputs\n",
    "init_state = tf.placeholder(tf.float32, [None, hidden_neurons])\n",
    "\n",
    "# RNN cell \n",
    "# Define weight matrix\n",
    "# Define bias matrix\n",
    "W1 = tf.Variable(np.random.rand(len(vocab)+hidden_neurons, hidden_neurons), dtype=tf.float32)\n",
    "b1 = tf.Variable(np.zeros((1,hidden_neurons)), dtype=tf.float32)\n",
    "\n",
    "# Output layer\n",
    "# Define  weight matrix\n",
    "# Define bias matrix\n",
    "W2 = tf.Variable(np.random.rand(hidden_neurons,output_neurons), dtype=tf.float32)\n",
    "b2 = tf.Variable(np.zeros((1,output_neurons)), dtype=tf.float32)\n",
    "\n",
    "\n",
    "# Define current state and a list to save context vectors generated at each time step\n",
    "context_vector = init_state\n",
    "rnn_context_vectors = []\n",
    "# feed forward through rnn\n",
    "for time_step in range(max_len):\n",
    "  current_input = input_[:,time_step,:]\n",
    "  input_state_concat = tf.concat([current_input,context_vector],axis=1)\n",
    "  \n",
    "  # RNN cell ff\n",
    "  context_vector = tf.nn.sigmoid(tf.matmul(input_state_concat,W1) + b1)\n",
    "  rnn_context_vectors.append(context_vector)\n",
    "\n",
    "# classifying words into different classes out side the RNN\n",
    "logits = [tf.matmul(time_step_output,W2) + b2 for time_step_output in rnn_context_vectors]\n",
    "act_logits = [tf.nn.sigmoid(l) for l in logits]\n",
    "\n",
    "################################################ ********* Loss calculation *********** ############################\n",
    "# squeeze output\n",
    "logits = [tf.squeeze(l) for l in logits]\n",
    "targets_ = tf.unstack(target_, axis=1)\n",
    "losses = [tf.nn.softmax_cross_entropy_with_logits(logits=l, labels=t) for l,t in zip(logits,targets_)]\n",
    "total_loss = tf.reduce_mean(losses)\n",
    "\n",
    "\n",
    "################################################ ********* Optimization *********** ############################\n",
    "optimize_ = tf.train.AdamOptimizer(0.5).minimize(total_loss)\n"
   ]
  },
  {
   "cell_type": "code",
   "execution_count": 0,
   "metadata": {
    "colab": {},
    "colab_type": "code",
    "id": "kONGeCw2I-DF"
   },
   "outputs": [],
   "source": [
    "# Training"
   ]
  },
  {
   "cell_type": "markdown",
   "metadata": {
    "colab_type": "text",
    "id": "tRO_2hjZ7Oub"
   },
   "source": [
    "#     \n",
    "\n",
    "\n",
    "\n",
    "\n",
    "\n",
    "\n",
    "\n",
    "\n",
    "\n",
    "\n"
   ]
  },
  {
   "cell_type": "markdown",
   "metadata": {
    "colab_type": "text",
    "id": "sCQ03152JWej"
   },
   "source": [
    "# Sequence classification task"
   ]
  },
  {
   "cell_type": "code",
   "execution_count": 0,
   "metadata": {
    "colab": {},
    "colab_type": "code",
    "id": "1vJjJppjUZVt"
   },
   "outputs": [],
   "source": [
    "# print x"
   ]
  },
  {
   "cell_type": "code",
   "execution_count": 0,
   "metadata": {
    "colab": {},
    "colab_type": "code",
    "id": "fivACTMlJdKZ"
   },
   "outputs": [],
   "source": [
    "# create y for sequence classification\n",
    "y = data['classes']"
   ]
  },
  {
   "cell_type": "code",
   "execution_count": 0,
   "metadata": {
    "colab": {},
    "colab_type": "code",
    "id": "Yb3oWRFEJfjJ"
   },
   "outputs": [],
   "source": [
    "#print(np.array(numerized_X))"
   ]
  },
  {
   "cell_type": "code",
   "execution_count": 0,
   "metadata": {
    "colab": {},
    "colab_type": "code",
    "id": "8-k4_ZgeJhgg"
   },
   "outputs": [],
   "source": [
    "# model development"
   ]
  },
  {
   "cell_type": "code",
   "execution_count": 0,
   "metadata": {
    "colab": {},
    "colab_type": "code",
    "id": "Ul0Oh0mAJ60t"
   },
   "outputs": [],
   "source": [
    "# Training"
   ]
  },
  {
   "cell_type": "markdown",
   "metadata": {
    "colab_type": "text",
    "id": "x9sFEbai7Smh"
   },
   "source": [
    "#     \n",
    "\n",
    "\n",
    "\n",
    "\n",
    "\n",
    "\n",
    "\n",
    "\n",
    "\n",
    "\n"
   ]
  },
  {
   "cell_type": "markdown",
   "metadata": {
    "colab_type": "text",
    "id": "Bs0Qs9A-OVjr"
   },
   "source": [
    "# Multi task models"
   ]
  },
  {
   "cell_type": "code",
   "execution_count": 0,
   "metadata": {
    "colab": {},
    "colab_type": "code",
    "id": "3oXE9Az8KGG-"
   },
   "outputs": [],
   "source": [
    "# batch function\n",
    "def get_batch(x,y1,y2,z,batch_size=5):\n",
    "  no_of_batches = len(x)/batch_size\n",
    "  if len(x)%batch_size!=0:\n",
    "    no_of_batches+=1\n",
    "  for batch_id in range(int(no_of_batches)):\n",
    "    yield np.array(x[(batch_id*batch_size):(batch_id*batch_size)+batch_size]), \\\n",
    "    np.array(y1[(batch_id*batch_size):(batch_id*batch_size)+batch_size]),\\\n",
    "    np.array(y2[(batch_id*batch_size):(batch_id*batch_size)+batch_size]),\\\n",
    "    z[(batch_id*batch_size):(batch_id*batch_size)+batch_size]"
   ]
  },
  {
   "cell_type": "code",
   "execution_count": 0,
   "metadata": {
    "colab": {},
    "colab_type": "code",
    "id": "QOvndA9kOgT4"
   },
   "outputs": [],
   "source": [
    "# X,numerized_X"
   ]
  },
  {
   "cell_type": "code",
   "execution_count": 0,
   "metadata": {
    "colab": {},
    "colab_type": "code",
    "id": "aQ0lXUJWOicU"
   },
   "outputs": [],
   "source": [
    "# define y1 = sequence tags ; y2 = sequence class"
   ]
  },
  {
   "cell_type": "code",
   "execution_count": 0,
   "metadata": {
    "colab": {},
    "colab_type": "code",
    "id": "k_TZ42vyOquP"
   },
   "outputs": [],
   "source": [
    "# model development"
   ]
  },
  {
   "cell_type": "code",
   "execution_count": 0,
   "metadata": {
    "colab": {},
    "colab_type": "code",
    "id": "w0XIzHfrPGxe"
   },
   "outputs": [],
   "source": [
    "# training"
   ]
  },
  {
   "cell_type": "code",
   "execution_count": 0,
   "metadata": {
    "colab": {},
    "colab_type": "code",
    "id": "FtxG_8HHP4rD"
   },
   "outputs": [],
   "source": []
  }
 ],
 "metadata": {
  "colab": {
   "collapsed_sections": [
    "4bQw4fxSvU9o",
    "_mrTNJgxwMu5",
    "mHks6nxfwRSp",
    "PpdS2KwhwUOV",
    "sCQ03152JWej",
    "Bs0Qs9A-OVjr"
   ],
   "name": "115_Complete_RNN_implementation.ipynb",
   "provenance": []
  },
  "kernelspec": {
   "display_name": "Python 3",
   "language": "python",
   "name": "python3"
  },
  "language_info": {
   "codemirror_mode": {
    "name": "ipython",
    "version": 3
   },
   "file_extension": ".py",
   "mimetype": "text/x-python",
   "name": "python",
   "nbconvert_exporter": "python",
   "pygments_lexer": "ipython3",
   "version": "3.7.3"
  }
 },
 "nbformat": 4,
 "nbformat_minor": 1
}
