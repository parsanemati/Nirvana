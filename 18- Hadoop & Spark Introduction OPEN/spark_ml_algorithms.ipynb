{
 "cells": [
  {
   "cell_type": "code",
   "execution_count": 1,
   "metadata": {},
   "outputs": [],
   "source": [
    "from pyspark.context import SparkContext\n",
    "from pyspark.sql.session import SparkSession\n",
    "sc = SparkContext('local')\n",
    "spark = SparkSession(sc) \n",
    "from sklearn.metrics import confusion_matrix\n",
    "import matplotlib.pyplot as plt\n",
    "from matplotlib.pyplot import cm as color\n",
    "\n",
    "# SparkSession is now the new entry point of Spark that replaces the old SQLContext and HiveContext. Note that the old SQLContext and HiveContext are kept for backward compatibility.\n",
    "# SparkSession provides a single point of entry to interact with underlying Spark functionality and allows programming Spark with DataFrame and Dataset APIs. All the functionality available with sparkContext are also available in sparkSession."
   ]
  },
  {
   "cell_type": "code",
   "execution_count": 2,
   "metadata": {},
   "outputs": [],
   "source": [
    "from pyspark.sql import *\n",
    "import pyspark.sql.functions as f\n",
    "from pyspark.sql.functions import udf\n",
    "from pyspark.sql.types import *"
   ]
  },
  {
   "cell_type": "code",
   "execution_count": 3,
   "metadata": {},
   "outputs": [
    {
     "ename": "AnalysisException",
     "evalue": "'Path does not exist: file:/home/alinemati/Yandex.Disk/Nirvana/DATA/18- Hadoop & Spark Introduction OPEN/train.csv;'",
     "output_type": "error",
     "traceback": [
      "\u001b[0;31m---------------------------------------------------------------------------\u001b[0m",
      "\u001b[0;31mPy4JJavaError\u001b[0m                             Traceback (most recent call last)",
      "\u001b[0;32m~/anaconda3/lib/python3.6/site-packages/pyspark/sql/utils.py\u001b[0m in \u001b[0;36mdeco\u001b[0;34m(*a, **kw)\u001b[0m\n\u001b[1;32m     62\u001b[0m         \u001b[0;32mtry\u001b[0m\u001b[0;34m:\u001b[0m\u001b[0;34m\u001b[0m\u001b[0;34m\u001b[0m\u001b[0m\n\u001b[0;32m---> 63\u001b[0;31m             \u001b[0;32mreturn\u001b[0m \u001b[0mf\u001b[0m\u001b[0;34m(\u001b[0m\u001b[0;34m*\u001b[0m\u001b[0ma\u001b[0m\u001b[0;34m,\u001b[0m \u001b[0;34m**\u001b[0m\u001b[0mkw\u001b[0m\u001b[0;34m)\u001b[0m\u001b[0;34m\u001b[0m\u001b[0;34m\u001b[0m\u001b[0m\n\u001b[0m\u001b[1;32m     64\u001b[0m         \u001b[0;32mexcept\u001b[0m \u001b[0mpy4j\u001b[0m\u001b[0;34m.\u001b[0m\u001b[0mprotocol\u001b[0m\u001b[0;34m.\u001b[0m\u001b[0mPy4JJavaError\u001b[0m \u001b[0;32mas\u001b[0m \u001b[0me\u001b[0m\u001b[0;34m:\u001b[0m\u001b[0;34m\u001b[0m\u001b[0;34m\u001b[0m\u001b[0m\n",
      "\u001b[0;32m~/anaconda3/lib/python3.6/site-packages/py4j/protocol.py\u001b[0m in \u001b[0;36mget_return_value\u001b[0;34m(answer, gateway_client, target_id, name)\u001b[0m\n\u001b[1;32m    327\u001b[0m                     \u001b[0;34m\"An error occurred while calling {0}{1}{2}.\\n\"\u001b[0m\u001b[0;34m.\u001b[0m\u001b[0;34m\u001b[0m\u001b[0;34m\u001b[0m\u001b[0m\n\u001b[0;32m--> 328\u001b[0;31m                     format(target_id, \".\", name), value)\n\u001b[0m\u001b[1;32m    329\u001b[0m             \u001b[0;32melse\u001b[0m\u001b[0;34m:\u001b[0m\u001b[0;34m\u001b[0m\u001b[0;34m\u001b[0m\u001b[0m\n",
      "\u001b[0;31mPy4JJavaError\u001b[0m: An error occurred while calling o25.csv.\n: org.apache.spark.sql.AnalysisException: Path does not exist: file:/home/alinemati/Yandex.Disk/Nirvana/DATA/18- Hadoop & Spark Introduction OPEN/train.csv;\n\tat org.apache.spark.sql.execution.datasources.DataSource$$anonfun$org$apache$spark$sql$execution$datasources$DataSource$$checkAndGlobPathIfNecessary$1.apply(DataSource.scala:558)\n\tat org.apache.spark.sql.execution.datasources.DataSource$$anonfun$org$apache$spark$sql$execution$datasources$DataSource$$checkAndGlobPathIfNecessary$1.apply(DataSource.scala:545)\n\tat scala.collection.TraversableLike$$anonfun$flatMap$1.apply(TraversableLike.scala:241)\n\tat scala.collection.TraversableLike$$anonfun$flatMap$1.apply(TraversableLike.scala:241)\n\tat scala.collection.immutable.List.foreach(List.scala:392)\n\tat scala.collection.TraversableLike$class.flatMap(TraversableLike.scala:241)\n\tat scala.collection.immutable.List.flatMap(List.scala:355)\n\tat org.apache.spark.sql.execution.datasources.DataSource.org$apache$spark$sql$execution$datasources$DataSource$$checkAndGlobPathIfNecessary(DataSource.scala:545)\n\tat org.apache.spark.sql.execution.datasources.DataSource.resolveRelation(DataSource.scala:359)\n\tat org.apache.spark.sql.DataFrameReader.loadV1Source(DataFrameReader.scala:223)\n\tat org.apache.spark.sql.DataFrameReader.load(DataFrameReader.scala:211)\n\tat org.apache.spark.sql.DataFrameReader.csv(DataFrameReader.scala:618)\n\tat sun.reflect.NativeMethodAccessorImpl.invoke0(Native Method)\n\tat sun.reflect.NativeMethodAccessorImpl.invoke(NativeMethodAccessorImpl.java:62)\n\tat sun.reflect.DelegatingMethodAccessorImpl.invoke(DelegatingMethodAccessorImpl.java:43)\n\tat java.lang.reflect.Method.invoke(Method.java:497)\n\tat py4j.reflection.MethodInvoker.invoke(MethodInvoker.java:244)\n\tat py4j.reflection.ReflectionEngine.invoke(ReflectionEngine.java:357)\n\tat py4j.Gateway.invoke(Gateway.java:282)\n\tat py4j.commands.AbstractCommand.invokeMethod(AbstractCommand.java:132)\n\tat py4j.commands.CallCommand.execute(CallCommand.java:79)\n\tat py4j.GatewayConnection.run(GatewayConnection.java:238)\n\tat java.lang.Thread.run(Thread.java:745)\n",
      "\nDuring handling of the above exception, another exception occurred:\n",
      "\u001b[0;31mAnalysisException\u001b[0m                         Traceback (most recent call last)",
      "\u001b[0;32m<ipython-input-3-eb4871033c34>\u001b[0m in \u001b[0;36m<module>\u001b[0;34m\u001b[0m\n\u001b[0;32m----> 1\u001b[0;31m \u001b[0mdf\u001b[0m \u001b[0;34m=\u001b[0m \u001b[0mspark\u001b[0m\u001b[0;34m.\u001b[0m\u001b[0mread\u001b[0m\u001b[0;34m.\u001b[0m\u001b[0mcsv\u001b[0m\u001b[0;34m(\u001b[0m\u001b[0;34m\"train.csv\"\u001b[0m\u001b[0;34m,\u001b[0m \u001b[0minferSchema\u001b[0m \u001b[0;34m=\u001b[0m \u001b[0;32mTrue\u001b[0m\u001b[0;34m,\u001b[0m \u001b[0mheader\u001b[0m \u001b[0;34m=\u001b[0m \u001b[0;32mTrue\u001b[0m\u001b[0;34m)\u001b[0m\u001b[0;34m\u001b[0m\u001b[0;34m\u001b[0m\u001b[0m\n\u001b[0m\u001b[1;32m      2\u001b[0m \u001b[0mdf\u001b[0m\u001b[0;34m.\u001b[0m\u001b[0mshow\u001b[0m\u001b[0;34m(\u001b[0m\u001b[0;36m1\u001b[0m\u001b[0;34m)\u001b[0m\u001b[0;34m\u001b[0m\u001b[0;34m\u001b[0m\u001b[0m\n\u001b[1;32m      3\u001b[0m \u001b[0mdf\u001b[0m\u001b[0;34m.\u001b[0m\u001b[0mcolumns\u001b[0m\u001b[0;34m\u001b[0m\u001b[0;34m\u001b[0m\u001b[0m\n\u001b[1;32m      4\u001b[0m \u001b[0mdf\u001b[0m\u001b[0;34m.\u001b[0m\u001b[0mcount\u001b[0m\u001b[0;34m(\u001b[0m\u001b[0;34m)\u001b[0m\u001b[0;34m\u001b[0m\u001b[0;34m\u001b[0m\u001b[0m\n",
      "\u001b[0;32m~/anaconda3/lib/python3.6/site-packages/pyspark/sql/readwriter.py\u001b[0m in \u001b[0;36mcsv\u001b[0;34m(self, path, schema, sep, encoding, quote, escape, comment, header, inferSchema, ignoreLeadingWhiteSpace, ignoreTrailingWhiteSpace, nullValue, nanValue, positiveInf, negativeInf, dateFormat, timestampFormat, maxColumns, maxCharsPerColumn, maxMalformedLogPerPartition, mode, columnNameOfCorruptRecord, multiLine, charToEscapeQuoteEscaping, samplingRatio, enforceSchema, emptyValue)\u001b[0m\n\u001b[1;32m    474\u001b[0m             \u001b[0mpath\u001b[0m \u001b[0;34m=\u001b[0m \u001b[0;34m[\u001b[0m\u001b[0mpath\u001b[0m\u001b[0;34m]\u001b[0m\u001b[0;34m\u001b[0m\u001b[0;34m\u001b[0m\u001b[0m\n\u001b[1;32m    475\u001b[0m         \u001b[0;32mif\u001b[0m \u001b[0mtype\u001b[0m\u001b[0;34m(\u001b[0m\u001b[0mpath\u001b[0m\u001b[0;34m)\u001b[0m \u001b[0;34m==\u001b[0m \u001b[0mlist\u001b[0m\u001b[0;34m:\u001b[0m\u001b[0;34m\u001b[0m\u001b[0;34m\u001b[0m\u001b[0m\n\u001b[0;32m--> 476\u001b[0;31m             \u001b[0;32mreturn\u001b[0m \u001b[0mself\u001b[0m\u001b[0;34m.\u001b[0m\u001b[0m_df\u001b[0m\u001b[0;34m(\u001b[0m\u001b[0mself\u001b[0m\u001b[0;34m.\u001b[0m\u001b[0m_jreader\u001b[0m\u001b[0;34m.\u001b[0m\u001b[0mcsv\u001b[0m\u001b[0;34m(\u001b[0m\u001b[0mself\u001b[0m\u001b[0;34m.\u001b[0m\u001b[0m_spark\u001b[0m\u001b[0;34m.\u001b[0m\u001b[0m_sc\u001b[0m\u001b[0;34m.\u001b[0m\u001b[0m_jvm\u001b[0m\u001b[0;34m.\u001b[0m\u001b[0mPythonUtils\u001b[0m\u001b[0;34m.\u001b[0m\u001b[0mtoSeq\u001b[0m\u001b[0;34m(\u001b[0m\u001b[0mpath\u001b[0m\u001b[0;34m)\u001b[0m\u001b[0;34m)\u001b[0m\u001b[0;34m)\u001b[0m\u001b[0;34m\u001b[0m\u001b[0;34m\u001b[0m\u001b[0m\n\u001b[0m\u001b[1;32m    477\u001b[0m         \u001b[0;32melif\u001b[0m \u001b[0misinstance\u001b[0m\u001b[0;34m(\u001b[0m\u001b[0mpath\u001b[0m\u001b[0;34m,\u001b[0m \u001b[0mRDD\u001b[0m\u001b[0;34m)\u001b[0m\u001b[0;34m:\u001b[0m\u001b[0;34m\u001b[0m\u001b[0;34m\u001b[0m\u001b[0m\n\u001b[1;32m    478\u001b[0m             \u001b[0;32mdef\u001b[0m \u001b[0mfunc\u001b[0m\u001b[0;34m(\u001b[0m\u001b[0miterator\u001b[0m\u001b[0;34m)\u001b[0m\u001b[0;34m:\u001b[0m\u001b[0;34m\u001b[0m\u001b[0;34m\u001b[0m\u001b[0m\n",
      "\u001b[0;32m~/anaconda3/lib/python3.6/site-packages/py4j/java_gateway.py\u001b[0m in \u001b[0;36m__call__\u001b[0;34m(self, *args)\u001b[0m\n\u001b[1;32m   1255\u001b[0m         \u001b[0manswer\u001b[0m \u001b[0;34m=\u001b[0m \u001b[0mself\u001b[0m\u001b[0;34m.\u001b[0m\u001b[0mgateway_client\u001b[0m\u001b[0;34m.\u001b[0m\u001b[0msend_command\u001b[0m\u001b[0;34m(\u001b[0m\u001b[0mcommand\u001b[0m\u001b[0;34m)\u001b[0m\u001b[0;34m\u001b[0m\u001b[0;34m\u001b[0m\u001b[0m\n\u001b[1;32m   1256\u001b[0m         return_value = get_return_value(\n\u001b[0;32m-> 1257\u001b[0;31m             answer, self.gateway_client, self.target_id, self.name)\n\u001b[0m\u001b[1;32m   1258\u001b[0m \u001b[0;34m\u001b[0m\u001b[0m\n\u001b[1;32m   1259\u001b[0m         \u001b[0;32mfor\u001b[0m \u001b[0mtemp_arg\u001b[0m \u001b[0;32min\u001b[0m \u001b[0mtemp_args\u001b[0m\u001b[0;34m:\u001b[0m\u001b[0;34m\u001b[0m\u001b[0;34m\u001b[0m\u001b[0m\n",
      "\u001b[0;32m~/anaconda3/lib/python3.6/site-packages/pyspark/sql/utils.py\u001b[0m in \u001b[0;36mdeco\u001b[0;34m(*a, **kw)\u001b[0m\n\u001b[1;32m     67\u001b[0m                                              e.java_exception.getStackTrace()))\n\u001b[1;32m     68\u001b[0m             \u001b[0;32mif\u001b[0m \u001b[0ms\u001b[0m\u001b[0;34m.\u001b[0m\u001b[0mstartswith\u001b[0m\u001b[0;34m(\u001b[0m\u001b[0;34m'org.apache.spark.sql.AnalysisException: '\u001b[0m\u001b[0;34m)\u001b[0m\u001b[0;34m:\u001b[0m\u001b[0;34m\u001b[0m\u001b[0;34m\u001b[0m\u001b[0m\n\u001b[0;32m---> 69\u001b[0;31m                 \u001b[0;32mraise\u001b[0m \u001b[0mAnalysisException\u001b[0m\u001b[0;34m(\u001b[0m\u001b[0ms\u001b[0m\u001b[0;34m.\u001b[0m\u001b[0msplit\u001b[0m\u001b[0;34m(\u001b[0m\u001b[0;34m': '\u001b[0m\u001b[0;34m,\u001b[0m \u001b[0;36m1\u001b[0m\u001b[0;34m)\u001b[0m\u001b[0;34m[\u001b[0m\u001b[0;36m1\u001b[0m\u001b[0;34m]\u001b[0m\u001b[0;34m,\u001b[0m \u001b[0mstackTrace\u001b[0m\u001b[0;34m)\u001b[0m\u001b[0;34m\u001b[0m\u001b[0;34m\u001b[0m\u001b[0m\n\u001b[0m\u001b[1;32m     70\u001b[0m             \u001b[0;32mif\u001b[0m \u001b[0ms\u001b[0m\u001b[0;34m.\u001b[0m\u001b[0mstartswith\u001b[0m\u001b[0;34m(\u001b[0m\u001b[0;34m'org.apache.spark.sql.catalyst.analysis'\u001b[0m\u001b[0;34m)\u001b[0m\u001b[0;34m:\u001b[0m\u001b[0;34m\u001b[0m\u001b[0;34m\u001b[0m\u001b[0m\n\u001b[1;32m     71\u001b[0m                 \u001b[0;32mraise\u001b[0m \u001b[0mAnalysisException\u001b[0m\u001b[0;34m(\u001b[0m\u001b[0ms\u001b[0m\u001b[0;34m.\u001b[0m\u001b[0msplit\u001b[0m\u001b[0;34m(\u001b[0m\u001b[0;34m': '\u001b[0m\u001b[0;34m,\u001b[0m \u001b[0;36m1\u001b[0m\u001b[0;34m)\u001b[0m\u001b[0;34m[\u001b[0m\u001b[0;36m1\u001b[0m\u001b[0;34m]\u001b[0m\u001b[0;34m,\u001b[0m \u001b[0mstackTrace\u001b[0m\u001b[0;34m)\u001b[0m\u001b[0;34m\u001b[0m\u001b[0;34m\u001b[0m\u001b[0m\n",
      "\u001b[0;31mAnalysisException\u001b[0m: 'Path does not exist: file:/home/alinemati/Yandex.Disk/Nirvana/DATA/18- Hadoop & Spark Introduction OPEN/train.csv;'"
     ]
    }
   ],
   "source": [
    "df = spark.read.csv(\"train.csv\", inferSchema = True, header = True)\n",
    "df.show(1)\n",
    "df.columns\n",
    "df.count()"
   ]
  },
  {
   "cell_type": "code",
   "execution_count": 4,
   "metadata": {},
   "outputs": [],
   "source": [
    "from pyspark.sql import Row\n",
    "from pyspark.sql import SQLContext\n",
    "sqlContext = SQLContext(sc)"
   ]
  },
  {
   "cell_type": "code",
   "execution_count": 5,
   "metadata": {},
   "outputs": [
    {
     "name": "stdout",
     "output_type": "stream",
     "text": [
      "+------+------------+--------------------+\n",
      "|    id|label_actual|                text|\n",
      "+------+------------+--------------------+\n",
      "| 34098|           9|Selena Gomez s Sp...|\n",
      "|126472|          11|Mitch McConnell S...|\n",
      "+------+------------+--------------------+\n",
      "only showing top 2 rows\n",
      "\n",
      "+------+------------+--------------------+\n",
      "|    id|label_actual|                text|\n",
      "+------+------------+--------------------+\n",
      "| 34098|           9|Selena Gomez s Sp...|\n",
      "|126472|          11|Mitch McConnell S...|\n",
      "+------+------------+--------------------+\n",
      "only showing top 2 rows\n",
      "\n"
     ]
    }
   ],
   "source": [
    "#SQL QUERIES\n",
    "df.select('*').show(2)\n",
    "# WE CAN ALSO PASS SQL QUERIES DIRECTLY TO DATAFRAME  BY REGISTERING IT AS TABLE\n",
    "df.registerTempTable('data_table')\n",
    "sqlContext.sql('select * from data_table').show(2)\n",
    "# we can perform similarly any sql query in similar way"
   ]
  },
  {
   "cell_type": "code",
   "execution_count": 6,
   "metadata": {},
   "outputs": [],
   "source": [
    "# Understanding udf function"
   ]
  },
  {
   "cell_type": "code",
   "execution_count": 7,
   "metadata": {},
   "outputs": [],
   "source": [
    "#clean func\n",
    "\n",
    "from string import punctuation\n",
    "from nltk.corpus import stopwords\n",
    "from nltk.stem import PorterStemmer \n",
    "from nltk.tokenize import word_tokenize,sent_tokenize\n",
    "stop_words = set(stopwords.words('english')) \n",
    "ps=PorterStemmer()  \n",
    "def clean_text(text):\n",
    "    text=text.lower()\n",
    "    text=''.join(c for c in text if c not in punctuation)\n",
    "    word_tokens = word_tokenize(text) \n",
    "    cleaned_sentence = [w for w in word_tokens if not w in stop_words] \n",
    "    cleaned_sentence=[ps.stem(w) for w in cleaned_sentence]  \n",
    "    cleaned_sentence =\" \".join(c for c in cleaned_sentence)\n",
    "    return cleaned_sentence\n",
    "\n",
    "udf_function = udf(clean_text,StringType()) # function name and return type should be passed as arguments\n",
    "df = df.withColumn(\"cleaned_text\", udf_function(\"text\"))"
   ]
  },
  {
   "cell_type": "code",
   "execution_count": 8,
   "metadata": {},
   "outputs": [
    {
     "name": "stdout",
     "output_type": "stream",
     "text": [
      "== Parsed Logical Plan ==\n",
      "'Project [id#10, label_actual#11, text#12, clean_text('text) AS cleaned_text#72]\n",
      "+- AnalysisBarrier\n",
      "      +- Relation[id#10,label_actual#11,text#12] csv\n",
      "\n",
      "== Analyzed Logical Plan ==\n",
      "id: int, label_actual: int, text: string, cleaned_text: string\n",
      "Project [id#10, label_actual#11, text#12, clean_text(text#12) AS cleaned_text#72]\n",
      "+- Relation[id#10,label_actual#11,text#12] csv\n",
      "\n",
      "== Optimized Logical Plan ==\n",
      "Project [id#10, label_actual#11, text#12, clean_text(text#12) AS cleaned_text#72]\n",
      "+- Relation[id#10,label_actual#11,text#12] csv\n",
      "\n",
      "== Physical Plan ==\n",
      "*(2) Project [id#10, label_actual#11, text#12, pythonUDF0#77 AS cleaned_text#72]\n",
      "+- BatchEvalPython [clean_text(text#12)], [id#10, label_actual#11, text#12, pythonUDF0#77]\n",
      "   +- *(1) FileScan csv [id#10,label_actual#11,text#12] Batched: false, Format: CSV, Location: InMemoryFileIndex[file:/Users/dharmanathpatil/Desktop/pres/__sessions__/119/info/train.csv], PartitionFilters: [], PushedFilters: [], ReadSchema: struct<id:int,label_actual:int,text:string>\n"
     ]
    }
   ],
   "source": [
    "df.explain(True)"
   ]
  },
  {
   "cell_type": "code",
   "execution_count": 9,
   "metadata": {},
   "outputs": [
    {
     "name": "stdout",
     "output_type": "stream",
     "text": [
      "+------+------------+--------------------+--------------------+\n",
      "|    id|label_actual|                text|        cleaned_text|\n",
      "+------+------------+--------------------+--------------------+\n",
      "| 34098|           9|Selena Gomez s Sp...|selena gomez spri...|\n",
      "|126472|          11|Mitch McConnell S...|mitch mcconnel sa...|\n",
      "|167309|           5|this fast chargin...|fast charg sync m...|\n",
      "|214589|           0|exclusive sanjay ...|exclus sanjay dut...|\n",
      "| 85052|           9|Adriana Lima s St...|adriana lima styl...|\n",
      "|114130|           8|High Fiber Diet H...|high fiber diet h...|\n",
      "| 99576|          11|Bernie Sanders An...|berni sander top ...|\n",
      "|226414|          14|hull city manager...|hull citi manag p...|\n",
      "|148595|           3|cbse orders re ex...|cbse order exam d...|\n",
      "|146968|           6|The Good News Abo...|good news adhd fa...|\n",
      "| 91302|          11|SEC Chief Mary Jo...|sec chief mari jo...|\n",
      "| 81423|           8|WATCH Find Yourse...|watch find quit l...|\n",
      "|138166|           9|How Did We Almost...|almost miss met gala|\n",
      "|210671|          11|iaf chief leads m...|iaf chief lead mi...|\n",
      "|148382|           3|common exam to hi...|common exam hire ...|\n",
      "|162388|           5|google’s unknown ...|googl ’ unknown c...|\n",
      "|122491|          11|Dianne Feinstein ...|diann feinstein n...|\n",
      "| 27669|          10|The Huffington Po...|huffington post r...|\n",
      "| 56163|          15|Japan s Earthquak...|japan earthquak c...|\n",
      "|127706|           6|11 Facts About Tw...|11 fact twin make...|\n",
      "+------+------------+--------------------+--------------------+\n",
      "only showing top 20 rows\n",
      "\n"
     ]
    }
   ],
   "source": [
    "df.show()"
   ]
  },
  {
   "cell_type": "code",
   "execution_count": 10,
   "metadata": {},
   "outputs": [],
   "source": [
    "df2 = df.select([column for column in df.columns if column in ['cleaned_text']])"
   ]
  },
  {
   "cell_type": "code",
   "execution_count": 11,
   "metadata": {},
   "outputs": [
    {
     "name": "stdout",
     "output_type": "stream",
     "text": [
      "+--------------------+\n",
      "|        cleaned_text|\n",
      "+--------------------+\n",
      "|selena gomez spri...|\n",
      "|mitch mcconnel sa...|\n",
      "+--------------------+\n",
      "only showing top 2 rows\n",
      "\n"
     ]
    }
   ],
   "source": [
    "df2.show(2)"
   ]
  },
  {
   "cell_type": "code",
   "execution_count": 12,
   "metadata": {},
   "outputs": [],
   "source": [
    "df = df.withColumn('len', f.size(f.split(f.col('cleaned_text'), ' ')))"
   ]
  },
  {
   "cell_type": "code",
   "execution_count": 13,
   "metadata": {},
   "outputs": [
    {
     "name": "stdout",
     "output_type": "stream",
     "text": [
      "+------+------------+--------------------+--------------------+---+\n",
      "|    id|label_actual|                text|        cleaned_text|len|\n",
      "+------+------------+--------------------+--------------------+---+\n",
      "| 34098|           9|Selena Gomez s Sp...|selena gomez spri...| 24|\n",
      "|126472|          11|Mitch McConnell S...|mitch mcconnel sa...| 17|\n",
      "+------+------------+--------------------+--------------------+---+\n",
      "only showing top 2 rows\n",
      "\n"
     ]
    }
   ],
   "source": [
    "df.show(2)"
   ]
  },
  {
   "cell_type": "code",
   "execution_count": 14,
   "metadata": {},
   "outputs": [],
   "source": [
    "# len_histogram = df.select('len').rdd.flatMap(lambda x: x).histogram(11)\n",
    "# import pandas as pd\n",
    "# pd.DataFrame(\n",
    "#     list(zip(*len_histogram)), \n",
    "#     columns=['bin', 'frequency']\n",
    "# ).set_index(\n",
    "#     'bin'\n",
    "# ).plot(kind='bar');"
   ]
  },
  {
   "cell_type": "code",
   "execution_count": 15,
   "metadata": {},
   "outputs": [],
   "source": [
    "# df = df.filter(\"len >='100' AND len <='0'\")\n",
    "# df.cache().count() # cache will make rdd to store the data hence helpful for reuse\n",
    "\n",
    "# #not removing samples"
   ]
  },
  {
   "cell_type": "code",
   "execution_count": 16,
   "metadata": {},
   "outputs": [
    {
     "name": "stdout",
     "output_type": "stream",
     "text": [
      "CPU times: user 16.1 ms, sys: 9.68 ms, total: 25.8 ms\n",
      "Wall time: 5min 29s\n"
     ]
    },
    {
     "data": {
      "text/plain": [
       "240498"
      ]
     },
     "execution_count": 16,
     "metadata": {},
     "output_type": "execute_result"
    }
   ],
   "source": [
    "%%time\n",
    "df.cache().count()"
   ]
  },
  {
   "cell_type": "markdown",
   "metadata": {},
   "source": [
    "# KMEANS CLUSTERING"
   ]
  },
  {
   "cell_type": "markdown",
   "metadata": {},
   "source": [
    "Hashing TF"
   ]
  },
  {
   "cell_type": "markdown",
   "metadata": {},
   "source": [
    "MLlib has two algorithms that compute TF-IDF: HashingTF and IDF, both in the mllib.feature package. HashingTF computes a term frequency vector of a given size from a document. In order to map terms to vector indices, it uses a technique known as the hashing trick. Within a language like English, there are hundreds of thousands of words, so tracking a distinct mapping from each word to an index in the vector would be expensive. Instead, HashingTF takes the hash code of each word modulo a desired vector size, S, and thus maps each word to a number between 0 and S–1. This always yields an S-dimensional vector, and in practice is quite robust even if multiple words map to the same hash code. The MLlib developers recommend setting S between  and ."
   ]
  },
  {
   "cell_type": "code",
   "execution_count": 20,
   "metadata": {},
   "outputs": [
    {
     "name": "stdout",
     "output_type": "stream",
     "text": [
      "+------+------------+--------------------+--------------------+---+--------------------+----------------------+--------------------+--------------------+\n",
      "|    id|label_actual|                text|        cleaned_text|len|              tokens|stopWordsRemovedTokens|         rawFeatures|            features|\n",
      "+------+------------+--------------------+--------------------+---+--------------------+----------------------+--------------------+--------------------+\n",
      "| 34098|           9|Selena Gomez s Sp...|selena gomez spri...| 24|[selena, gomez, s...|  [selena, gomez, s...|(2000,[30,39,40,1...|(2000,[30,39,40,1...|\n",
      "|126472|          11|Mitch McConnell S...|mitch mcconnel sa...| 17|[mitch, mcconnell...|  [mitch, mcconnell...|(2000,[18,70,116,...|(2000,[18,70,116,...|\n",
      "|167309|           5|this fast chargin...|fast charg sync m...| 73|[this, fast, char...|  [fast, charging, ...|(2000,[116,222,29...|(2000,[116,222,29...|\n",
      "|214589|           0|exclusive sanjay ...|exclus sanjay dut...| 24|[exclusive, sanja...|  [exclusive, sanja...|(2000,[57,121,197...|(2000,[57,121,197...|\n",
      "| 85052|           9|Adriana Lima s St...|adriana lima styl...| 26|[adriana, lima, s...|  [adriana, lima, s...|(2000,[122,155,23...|(2000,[122,155,23...|\n",
      "+------+------------+--------------------+--------------------+---+--------------------+----------------------+--------------------+--------------------+\n",
      "only showing top 5 rows\n",
      "\n",
      "Training Dataset Count: 144192\n",
      "Test Dataset Count: 96306\n",
      "Silhouette score for kmeans -0.07338350196153481\n"
     ]
    },
    {
     "data": {
      "text/plain": [
       "DataFrame[id: int, label_actual: int, text: string, cleaned_text: string, len: int, tokens: array<string>, stopWordsRemovedTokens: array<string>, rawFeatures: vector, features: vector, prediction: int]"
      ]
     },
     "execution_count": 20,
     "metadata": {},
     "output_type": "execute_result"
    }
   ],
   "source": [
    "from pyspark.ml.feature import HashingTF, IDF, Tokenizer, CountVectorizer, StopWordsRemover\n",
    "from pyspark.ml.clustering import KMeans\n",
    "from pyspark.ml.evaluation import ClusteringEvaluator\n",
    "from pyspark.ml import Pipeline\n",
    "\n",
    "\n",
    "\n",
    "# cleaning and hashing tf for text representations\n",
    "tokenizer = Tokenizer(inputCol=\"text\", outputCol=\"tokens\") # WE CAN USE UDF FUNCTIONS TO CLEAN OR ML PACKAGE FROM PYSPARK DOES\n",
    "remover = StopWordsRemover(inputCol=\"tokens\", outputCol=\"stopWordsRemovedTokens\")\n",
    "hashingTF = HashingTF(inputCol=\"stopWordsRemovedTokens\", outputCol=\"rawFeatures\", numFeatures=2000)\n",
    "idf = IDF(inputCol=\"rawFeatures\", outputCol=\"features\", minDocFreq=5)\n",
    "\n",
    "\n",
    "pipeline = Pipeline(stages=[tokenizer, remover, hashingTF, idf])\n",
    "pipelineFit = pipeline.fit(df)\n",
    "dataset = pipelineFit.transform(df)\n",
    "dataset.show(5)\n",
    "\n",
    "(trainingData, testData) = dataset.randomSplit([0.6, 0.4], seed = 100)\n",
    "print(\"Training Dataset Count: \" + str(trainingData.count()))\n",
    "print(\"Test Dataset Count: \" + str(testData.count()))\n",
    "\n",
    "kmeans = KMeans(k=17)\n",
    "\n",
    "kmeans_model=kmeans.fit(trainingData)\n",
    "test_predictions = kmeans_model.transform(testData)\n",
    "\n",
    "evaluator = ClusteringEvaluator()\n",
    "\n",
    "silhouette_test_predictions = evaluator.evaluate(test_predictions)\n",
    "print(\"Silhouette score for kmeans \" + str(silhouette_test_predictions))\n",
    "\n",
    "\n",
    "\n",
    "\n",
    "test_predictions.cache()"
   ]
  },
  {
   "cell_type": "code",
   "execution_count": 17,
   "metadata": {},
   "outputs": [
    {
     "data": {
      "text/plain": [
       "95861"
      ]
     },
     "execution_count": 17,
     "metadata": {},
     "output_type": "execute_result"
    }
   ],
   "source": [
    "\n",
    "test_predictions.count()"
   ]
  },
  {
   "cell_type": "code",
   "execution_count": 18,
   "metadata": {},
   "outputs": [
    {
     "name": "stdout",
     "output_type": "stream",
     "text": [
      "+----------+-----+\n",
      "|prediction|count|\n",
      "+----------+-----+\n",
      "|        12| 1561|\n",
      "|         1| 5673|\n",
      "|        13| 2535|\n",
      "|        16|  621|\n",
      "|         6|    1|\n",
      "|         3| 3278|\n",
      "|         5| 6975|\n",
      "|         9|  558|\n",
      "|         4| 2311|\n",
      "|         8|  219|\n",
      "|         7|   12|\n",
      "|        10|  332|\n",
      "|        11| 1042|\n",
      "|        14|   95|\n",
      "|         2|  877|\n",
      "|         0|69771|\n",
      "+----------+-----+\n",
      "\n"
     ]
    }
   ],
   "source": [
    "test_predictions.groupBy(\"prediction\").count().show()"
   ]
  },
  {
   "cell_type": "code",
   "execution_count": 21,
   "metadata": {},
   "outputs": [],
   "source": [
    "kmeans_df= test_predictions.toPandas()"
   ]
  },
  {
   "cell_type": "code",
   "execution_count": 25,
   "metadata": {},
   "outputs": [
    {
     "name": "stdout",
     "output_type": "stream",
     "text": [
      "+---+------------+--------------------+--------------------+---+--------------------+----------------------+--------------------+--------------------+----------+\n",
      "| id|label_actual|                text|        cleaned_text|len|              tokens|stopWordsRemovedTokens|         rawFeatures|            features|prediction|\n",
      "+---+------------+--------------------+--------------------+---+--------------------+----------------------+--------------------+--------------------+----------+\n",
      "|  0|           9|Blake Lively s We...|blake live wed dr...| 16|[blake, lively, s...|  [blake, lively, w...|(2000,[123,219,39...|(2000,[123,219,39...|         0|\n",
      "|  4|           7|Kohlrabi Recipes ...|kohlrabi recip co...| 12|[kohlrabi, recipe...|  [kohlrabi, recipe...|(2000,[276,352,40...|(2000,[276,352,40...|         1|\n",
      "+---+------------+--------------------+--------------------+---+--------------------+----------------------+--------------------+--------------------+----------+\n",
      "only showing top 2 rows\n",
      "\n"
     ]
    }
   ],
   "source": [
    "# kmeans_df['prediction'], \n",
    "test_predictions.show(2)"
   ]
  },
  {
   "cell_type": "code",
   "execution_count": 20,
   "metadata": {},
   "outputs": [],
   "source": [
    "class_to_id = {'Arts, Culture & Entertainment': 0,\n",
    "                'Business and Finance': 1,\n",
    "                            'Crime': 2,\n",
    "                            'Education': 3,\n",
    "                            'Environment': 4,\n",
    "                            'Family & Parenting': 6,\n",
    "                            'Food & drink': 7,\n",
    "                            'Health & Fitness': 8,\n",
    "                            'Home & Living / Lifestyle & Beauty': 9,\n",
    "                            'Media': 10,\n",
    "                            'Politics': 11,\n",
    "                            'Religion': 12,\n",
    "                            'Society': 13,\n",
    "                            'Sports': 14,\n",
    "                            'Travel & Leisure': 15,\n",
    "                            'Science & Technology': 5,\n",
    "                            'Automotive':16}\n",
    "id_to_class = {class_to_id[key]:key for key in class_to_id.keys()}\n",
    "kmeans_df['label_class'] = kmeans_df['label_actual'].map(id_to_class) \n",
    "kmeans_df['pred_class']=kmeans_df['prediction'].map(id_to_class)"
   ]
  },
  {
   "cell_type": "code",
   "execution_count": 39,
   "metadata": {},
   "outputs": [
    {
     "data": {
      "image/png": "[encoded data removed]",
      "text/plain": [
       "<Figure size 3600x720 with 2 Axes>"
      ]
     },
     "metadata": {
      "needs_background": "light"
     },
     "output_type": "display_data"
    }
   ],
   "source": [
    "\n",
    "labels =list(class_to_id.keys())\n",
    "\n",
    "cm = confusion_matrix(kmeans_df['label_class'],kmeans_df['pred_class'], labels)\n",
    "\n",
    "fig = plt.figure(figsize=(50,10))\n",
    "ax = fig.add_subplot(111)\n",
    "cax = ax.matshow(cm)\n",
    "\n",
    "fig.colorbar(cax,cmap=\"Wistia\")\n",
    "plt.xticks(rotation='vertical')\n",
    "ax.set_xticklabels([''] + labels,)\n",
    "ax.set_yticklabels([''] + labels)\n",
    "plt.xlabel('Actual class')\n",
    "plt.ylabel('Predicted Class')\n",
    "plt.title('Confusion matrix of the classifier',loc='center',)\n",
    "plt.show();\n"
   ]
  },
  {
   "cell_type": "markdown",
   "metadata": {},
   "source": [
    "LOGISTIC REGRESSION"
   ]
  },
  {
   "cell_type": "code",
   "execution_count": 78,
   "metadata": {},
   "outputs": [
    {
     "data": {
      "text/html": [
       "<div>\n",
       "<style scoped>\n",
       "    .dataframe tbody tr th:only-of-type {\n",
       "        vertical-align: middle;\n",
       "    }\n",
       "\n",
       "    .dataframe tbody tr th {\n",
       "        vertical-align: top;\n",
       "    }\n",
       "\n",
       "    .dataframe thead th {\n",
       "        text-align: right;\n",
       "    }\n",
       "</style>\n",
       "<table border=\"1\" class=\"dataframe\">\n",
       "  <thead>\n",
       "    <tr style=\"text-align: right;\">\n",
       "      <th></th>\n",
       "      <th>id</th>\n",
       "      <th>label_actual</th>\n",
       "      <th>text</th>\n",
       "      <th>cleaned_text</th>\n",
       "      <th>len</th>\n",
       "      <th>tokens</th>\n",
       "      <th>stopWordsRemovedTokens</th>\n",
       "      <th>rawFeatures</th>\n",
       "      <th>features</th>\n",
       "      <th>prediction</th>\n",
       "      <th>label_class</th>\n",
       "    </tr>\n",
       "  </thead>\n",
       "  <tbody>\n",
       "    <tr>\n",
       "      <th>0</th>\n",
       "      <td>41657</td>\n",
       "      <td>11</td>\n",
       "      <td>Sunday Roundup . This week the GOP debate circ...</td>\n",
       "      <td>sunday roundup week gop debat circu pull miami...</td>\n",
       "      <td>104</td>\n",
       "      <td>[sunday, roundup, ., this, week, the, gop, deb...</td>\n",
       "      <td>[sunday, roundup, ., week, gop, debate, circus...</td>\n",
       "      <td>(0.0, 0.0, 0.0, 0.0, 0.0, 0.0, 0.0, 0.0, 0.0, ...</td>\n",
       "      <td>(0.0, 0.0, 0.0, 0.0, 0.0, 0.0, 0.0, 0.0, 0.0, ...</td>\n",
       "      <td>0</td>\n",
       "      <td>Politics</td>\n",
       "    </tr>\n",
       "    <tr>\n",
       "      <th>1</th>\n",
       "      <td>216206</td>\n",
       "      <td>0</td>\n",
       "      <td>dhadak javed akhtar and shabana azmi praise ja...</td>\n",
       "      <td>dhadak jave akhtar shabana azmi prais janhvi k...</td>\n",
       "      <td>108</td>\n",
       "      <td>[dhadak, javed, akhtar, and, shabana, azmi, pr...</td>\n",
       "      <td>[dhadak, javed, akhtar, shabana, azmi, praise,...</td>\n",
       "      <td>(0.0, 1.0, 0.0, 0.0, 0.0, 0.0, 0.0, 0.0, 0.0, ...</td>\n",
       "      <td>(0.0, 2.5289235352047745, 0.0, 0.0, 0.0, 0.0, ...</td>\n",
       "      <td>4</td>\n",
       "      <td>Arts, Culture &amp; Entertainment</td>\n",
       "    </tr>\n",
       "  </tbody>\n",
       "</table>\n",
       "</div>"
      ],
      "text/plain": [
       "       id  label_actual                                               text  \\\n",
       "0   41657            11  Sunday Roundup . This week the GOP debate circ...   \n",
       "1  216206             0  dhadak javed akhtar and shabana azmi praise ja...   \n",
       "\n",
       "                                        cleaned_text  len  \\\n",
       "0  sunday roundup week gop debat circu pull miami...  104   \n",
       "1  dhadak jave akhtar shabana azmi prais janhvi k...  108   \n",
       "\n",
       "                                              tokens  \\\n",
       "0  [sunday, roundup, ., this, week, the, gop, deb...   \n",
       "1  [dhadak, javed, akhtar, and, shabana, azmi, pr...   \n",
       "\n",
       "                              stopWordsRemovedTokens  \\\n",
       "0  [sunday, roundup, ., week, gop, debate, circus...   \n",
       "1  [dhadak, javed, akhtar, shabana, azmi, praise,...   \n",
       "\n",
       "                                         rawFeatures  \\\n",
       "0  (0.0, 0.0, 0.0, 0.0, 0.0, 0.0, 0.0, 0.0, 0.0, ...   \n",
       "1  (0.0, 1.0, 0.0, 0.0, 0.0, 0.0, 0.0, 0.0, 0.0, ...   \n",
       "\n",
       "                                            features  prediction  \\\n",
       "0  (0.0, 0.0, 0.0, 0.0, 0.0, 0.0, 0.0, 0.0, 0.0, ...           0   \n",
       "1  (0.0, 2.5289235352047745, 0.0, 0.0, 0.0, 0.0, ...           4   \n",
       "\n",
       "                     label_class  \n",
       "0                       Politics  \n",
       "1  Arts, Culture & Entertainment  "
      ]
     },
     "execution_count": 78,
     "metadata": {},
     "output_type": "execute_result"
    }
   ],
   "source": [
    "kmeans_df.head(2)"
   ]
  },
  {
   "cell_type": "code",
   "execution_count": 46,
   "metadata": {},
   "outputs": [],
   "source": [
    "from pyspark.ml.classification import LogisticRegression\n",
    "from pyspark.ml.evaluation import ClusteringEvaluator,MulticlassClassificationEvaluator"
   ]
  },
  {
   "cell_type": "code",
   "execution_count": 49,
   "metadata": {},
   "outputs": [
    {
     "name": "stdout",
     "output_type": "stream",
     "text": [
      "+---+------------+--------------------+--------------------+---+--------------------+----------------------+--------------------+--------------------+\n",
      "| id|label_actual|                text|        cleaned_text|len|              tokens|stopWordsRemovedTokens|         rawFeatures|            features|\n",
      "+---+------------+--------------------+--------------------+---+--------------------+----------------------+--------------------+--------------------+\n",
      "| 36|           9|Denise Richards S...|denis richard sty...| 18|[denise, richards...|  [denise, richards...|(2000,[12,104,312...|(2000,[12,104,312...|\n",
      "| 52|           7|How to Make Bang ...|make bang blue ch...|  8|[how, to, make, b...|  [make, bang, blue...|(2000,[246,1056,1...|(2000,[246,1056,1...|\n",
      "+---+------------+--------------------+--------------------+---+--------------------+----------------------+--------------------+--------------------+\n",
      "only showing top 2 rows\n",
      "\n"
     ]
    }
   ],
   "source": [
    "trainingData.show(2)"
   ]
  },
  {
   "cell_type": "code",
   "execution_count": 47,
   "metadata": {},
   "outputs": [],
   "source": [
    "\n",
    "lr = LogisticRegression(featuresCol = 'features', labelCol = 'label_actual', maxIter=10)\n",
    "\n",
    "lrModel = lr.fit(trainingData)\n",
    "predictions = lrModel.transform(testData)\n"
   ]
  },
  {
   "cell_type": "code",
   "execution_count": 50,
   "metadata": {},
   "outputs": [
    {
     "data": {
      "text/plain": [
       "0.5984228644668914"
      ]
     },
     "execution_count": 50,
     "metadata": {},
     "output_type": "execute_result"
    }
   ],
   "source": [
    "evaluator = MulticlassClassificationEvaluator(predictionCol=\"prediction\",labelCol='label_actual')\n",
    "evaluator.evaluate(predictions)"
   ]
  },
  {
   "cell_type": "markdown",
   "metadata": {},
   "source": [
    "# Classification"
   ]
  },
  {
   "cell_type": "code",
   "execution_count": 53,
   "metadata": {},
   "outputs": [
    {
     "data": {
      "text/plain": [
       "0.15555868892975863"
      ]
     },
     "execution_count": 53,
     "metadata": {},
     "output_type": "execute_result"
    }
   ],
   "source": [
    "# Random Forest\n",
    "from pyspark.ml.classification import RandomForestClassifier\n",
    "rf = RandomForestClassifier(labelCol=\"label_actual\", \\\n",
    "                            featuresCol=\"features\", \\\n",
    "                            numTrees = 100, \\\n",
    "                            maxDepth = 4, \\\n",
    "                            maxBins = 32)\n",
    "# Train model with Training Data\n",
    "rfModel = rf.fit(trainingData)\n",
    "predictions = rfModel.transform(testData)\n",
    "\n",
    "\n",
    "evaluator = MulticlassClassificationEvaluator(predictionCol=\"prediction\",labelCol='label_actual')\n",
    "evaluator.evaluate(predictions)"
   ]
  },
  {
   "cell_type": "markdown",
   "metadata": {},
   "source": [
    "# pyspark dataframe basics and ranking (dense rank)"
   ]
  },
  {
   "cell_type": "code",
   "execution_count": 62,
   "metadata": {},
   "outputs": [],
   "source": [
    "\n",
    "from pyspark.sql.types import IntegerType, DateType,FloatType"
   ]
  },
  {
   "cell_type": "code",
   "execution_count": 93,
   "metadata": {},
   "outputs": [],
   "source": [
    "df = spark.read.csv(\"500_Person_Gender_Height_Weight_Index.csv\", inferSchema = True, header = True)"
   ]
  },
  {
   "cell_type": "code",
   "execution_count": 94,
   "metadata": {},
   "outputs": [
    {
     "name": "stdout",
     "output_type": "stream",
     "text": [
      "+------+------+------+-----+\n",
      "|Gender|Height|Weight|Index|\n",
      "+------+------+------+-----+\n",
      "|  Male|   174|    96|    4|\n",
      "|  Male|   189|    87|    2|\n",
      "+------+------+------+-----+\n",
      "only showing top 2 rows\n",
      "\n"
     ]
    },
    {
     "data": {
      "text/plain": [
       "500"
      ]
     },
     "execution_count": 94,
     "metadata": {},
     "output_type": "execute_result"
    }
   ],
   "source": [
    "df.show(2)\n",
    "df.count()"
   ]
  },
  {
   "cell_type": "code",
   "execution_count": null,
   "metadata": {},
   "outputs": [],
   "source": []
  },
  {
   "cell_type": "code",
   "execution_count": 77,
   "metadata": {},
   "outputs": [
    {
     "name": "stdout",
     "output_type": "stream",
     "text": [
      "+------+------+------+---+\n",
      "|Gender|Height|Weight| ID|\n",
      "+------+------+------+---+\n",
      "|  Male|   174|  96.0|  4|\n",
      "|  Male|   189|  87.0|  2|\n",
      "+------+------+------+---+\n",
      "only showing top 2 rows\n",
      "\n"
     ]
    }
   ],
   "source": [
    "# TO CHANGE DATAFRAME COLUMN TYPES\n",
    "df = df.withColumn(\"Weight\", df[\"Weight\"].cast(FloatType()))\n",
    "df.show(2)\n",
    "df = df.withColumn(\"Weight\", df[\"Weight\"].cast(IntegerType()))"
   ]
  },
  {
   "cell_type": "code",
   "execution_count": 69,
   "metadata": {},
   "outputs": [
    {
     "name": "stdout",
     "output_type": "stream",
     "text": [
      "+------+------+------+---+\n",
      "|Gender|Height|Weight| ID|\n",
      "+------+------+------+---+\n",
      "|  Male|   174|  96.0|  4|\n",
      "|  Male|   189|  87.0|  2|\n",
      "+------+------+------+---+\n",
      "only showing top 2 rows\n",
      "\n"
     ]
    }
   ],
   "source": [
    "#To rename columns\n",
    "df = df.withColumnRenamed(\"Index\", \"ID\")\n",
    "df.show(2)"
   ]
  },
  {
   "cell_type": "code",
   "execution_count": 72,
   "metadata": {},
   "outputs": [
    {
     "name": "stdout",
     "output_type": "stream",
     "text": [
      "+------+------+------+---+\n",
      "|Gender|Height|Weight| ID|\n",
      "+------+------+------+---+\n",
      "|  Male|   166| 160.0|  5|\n",
      "|Female|   164| 160.0|  5|\n",
      "|  Male|   178| 160.0|  5|\n",
      "|  Male|   168| 160.0|  5|\n",
      "|Female|   184| 160.0|  5|\n",
      "|  Male|   145| 160.0|  5|\n",
      "|Female|   163| 159.0|  5|\n",
      "|Female|   196| 159.0|  5|\n",
      "|Female|   162| 159.0|  5|\n",
      "|Female|   142| 159.0|  5|\n",
      "+------+------+------+---+\n",
      "only showing top 10 rows\n",
      "\n"
     ]
    }
   ],
   "source": [
    "# order dataframe\n",
    "df.sort(df.Weight.desc()).show(10)"
   ]
  },
  {
   "cell_type": "code",
   "execution_count": 76,
   "metadata": {},
   "outputs": [
    {
     "data": {
      "text/plain": [
       "218"
      ]
     },
     "execution_count": 76,
     "metadata": {},
     "output_type": "execute_result"
    },
    {
     "name": "stdout",
     "output_type": "stream",
     "text": [
      "+------+-----+\n",
      "|Gender|count|\n",
      "+------+-----+\n",
      "|Female|  255|\n",
      "|  Male|  245|\n",
      "+------+-----+\n",
      "\n"
     ]
    }
   ],
   "source": [
    "#Flitering\n",
    "df.filter(df['Weight'] <100).count() \n",
    "#aggregration\n",
    "df.groupBy(\"Gender\").count().sort(\"count\", ascending = False).show(10)"
   ]
  },
  {
   "cell_type": "code",
   "execution_count": 59,
   "metadata": {},
   "outputs": [
    {
     "name": "stdout",
     "output_type": "stream",
     "text": [
      "+------+------+----+\n",
      "|Gender|height|rank|\n",
      "+------+------+----+\n",
      "|  Male|   140|   1|\n",
      "|  Male|   140|   1|\n",
      "|  Male|   140|   1|\n",
      "|Female|   140|   1|\n",
      "|  Male|   140|   1|\n",
      "|  Male|   140|   1|\n",
      "|Female|   140|   1|\n",
      "|  Male|   140|   1|\n",
      "|Female|   141|   9|\n",
      "|  Male|   141|   9|\n",
      "|  Male|   141|   9|\n",
      "|  Male|   141|   9|\n",
      "|Female|   141|   9|\n",
      "|  Male|   141|   9|\n",
      "|  Male|   141|   9|\n",
      "|Female|   141|   9|\n",
      "|  Male|   142|  17|\n",
      "|Female|   142|  17|\n",
      "|Female|   142|  17|\n",
      "|Female|   142|  17|\n",
      "+------+------+----+\n",
      "only showing top 20 rows\n",
      "\n"
     ]
    }
   ],
   "source": [
    "from pyspark.sql import Window\n",
    "from pyspark.sql.functions import rank, min\n",
    "\n",
    "df.select(\"Gender\", \"height\",\n",
    "          rank().over(Window.orderBy(\"height\")).alias(\"rank\")).show()"
   ]
  },
  {
   "cell_type": "code",
   "execution_count": 79,
   "metadata": {},
   "outputs": [
    {
     "name": "stdout",
     "output_type": "stream",
     "text": [
      "+------+------+------+---+------------------+\n",
      "|Gender|Height|Weight| ID|               bmi|\n",
      "+------+------+------+---+------------------+\n",
      "|  Male|   174|    96|  4|            1.8125|\n",
      "|  Male|   189|    87|  2|2.1724137931034484|\n",
      "|Female|   185|   110|  4|1.6818181818181819|\n",
      "|Female|   195|   104|  3|             1.875|\n",
      "|  Male|   149|    61|  3| 2.442622950819672|\n",
      "|  Male|   189|   104|  3|1.8173076923076923|\n",
      "|  Male|   147|    92|  5|1.5978260869565217|\n",
      "|  Male|   154|   111|  5|1.3873873873873874|\n",
      "|  Male|   174|    90|  3|1.9333333333333333|\n",
      "|Female|   169|   103|  4|1.6407766990291262|\n",
      "+------+------+------+---+------------------+\n",
      "only showing top 10 rows\n",
      "\n"
     ]
    }
   ],
   "source": [
    "# Udf function for calculating bms value\n",
    "# BMI = Weight (kg) / Height (m)²\n",
    "def Bmi(height,weight):\n",
    "    bmi=height/weight\n",
    "    return bmi\n",
    "\n",
    "df = df.withColumn(\"bmi\", Bmi(df['height'],df['weight']))\n",
    "\n",
    "df.show(10)"
   ]
  },
  {
   "cell_type": "code",
   "execution_count": 61,
   "metadata": {},
   "outputs": [
    {
     "name": "stdout",
     "output_type": "stream",
     "text": [
      "+------+----+\n",
      "|height|rank|\n",
      "+------+----+\n",
      "|   140|   1|\n",
      "|   140|   1|\n",
      "|   141|   3|\n",
      "|   141|   3|\n",
      "|   141|   3|\n",
      "|   142|   6|\n",
      "|   142|   6|\n",
      "|   142|   6|\n",
      "|   142|   6|\n",
      "|   143|  10|\n",
      "|   144|  11|\n",
      "|   145|  12|\n",
      "|   145|  12|\n",
      "|   146|  14|\n",
      "|   146|  14|\n",
      "|   146|  14|\n",
      "|   146|  14|\n",
      "|   146|  14|\n",
      "|   146|  14|\n",
      "|   147|  20|\n",
      "+------+----+\n",
      "only showing top 20 rows\n",
      "\n"
     ]
    }
   ],
   "source": [
    "df.select(\"height\",rank().over(Window.partitionBy(\"Gender\").orderBy(\"height\")).alias(\"rank\")).show()"
   ]
  },
  {
   "cell_type": "code",
   "execution_count": 89,
   "metadata": {},
   "outputs": [
    {
     "name": "stdout",
     "output_type": "stream",
     "text": [
      "+---+----+\n",
      "|  A|Rank|\n",
      "+---+----+\n",
      "| A1|   1|\n",
      "| A2|   2|\n",
      "| A3|   2|\n",
      "| A3|   2|\n",
      "| A2|   1|\n",
      "| A3|   1|\n",
      "| A1|   1|\n",
      "| A2|   3|\n",
      "| A3|   3|\n",
      "| A1|   3|\n",
      "+---+----+\n",
      "\n"
     ]
    }
   ],
   "source": [
    "df1 = sc.parallelize([['A1',1],['A2',2],['A3',2],['A3',2],['A2',1],['A3',1],['A1',1],['A2',3],['A3',3],['A1',3]]).toDF((\"A\", \"Rank\"))\n",
    "df1.show()"
   ]
  },
  {
   "cell_type": "code",
   "execution_count": null,
   "metadata": {},
   "outputs": [],
   "source": [
    "# https://databricks.com/blog/2015/07/15/introducing-window-functions-in-spark-sql.html"
   ]
  },
  {
   "cell_type": "code",
   "execution_count": 91,
   "metadata": {},
   "outputs": [],
   "source": [
    "from pyspark.sql.functions import *\n",
    "from pyspark.sql.window import Window\n",
    "\n",
    "\n",
    "ranked =  df1.withColumn(\"Ordered_rank\", dense_rank().over(Window.partitionBy(\"A\").orderBy(desc(\"Rank\"))))"
   ]
  },
  {
   "cell_type": "code",
   "execution_count": 92,
   "metadata": {},
   "outputs": [
    {
     "name": "stdout",
     "output_type": "stream",
     "text": [
      "+---+----+------------+\n",
      "|  A|Rank|Ordered_rank|\n",
      "+---+----+------------+\n",
      "| A2|   3|           1|\n",
      "| A2|   2|           2|\n",
      "| A2|   1|           3|\n",
      "| A3|   3|           1|\n",
      "| A3|   2|           2|\n",
      "| A3|   2|           2|\n",
      "| A3|   1|           3|\n",
      "| A1|   3|           1|\n",
      "| A1|   1|           2|\n",
      "| A1|   1|           2|\n",
      "+---+----+------------+\n",
      "\n"
     ]
    }
   ],
   "source": [
    "ranked.show()"
   ]
  },
  {
   "cell_type": "code",
   "execution_count": null,
   "metadata": {},
   "outputs": [],
   "source": []
  }
 ],
 "metadata": {
  "kernelspec": {
   "display_name": "Python 3",
   "language": "python",
   "name": "python3"
  },
  "language_info": {
   "codemirror_mode": {
    "name": "ipython",
    "version": 3
   },
   "file_extension": ".py",
   "mimetype": "text/x-python",
   "name": "python",
   "nbconvert_exporter": "python",
   "pygments_lexer": "ipython3",
   "version": "3.6.9"
  }
 },
 "nbformat": 4,
 "nbformat_minor": 2
}
