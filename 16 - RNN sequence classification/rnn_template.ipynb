{
  "nbformat": 4,
  "nbformat_minor": 0,
  "metadata": {
    "colab": {
      "name": "rnn_template.ipynb",
      "provenance": []
    },
    "kernelspec": {
      "name": "python3",
      "display_name": "Python 3"
    }
  },
  "cells": [
    {
      "cell_type": "code",
      "metadata": {
        "id": "8jE4GwLEaRQd",
        "colab_type": "code",
        "colab": {}
      },
      "source": [
        "\n",
        "from IPython.display import Image\n",
        "from IPython.core.display import HTML \n",
        "import matplotlib.pyplot as plt\n",
        "import matplotlib.image as mpimg"
      ],
      "execution_count": 0,
      "outputs": []
    },
    {
      "cell_type": "code",
      "metadata": {
        "id": "Rp3pNcu9aR1-",
        "colab_type": "code",
        "colab": {}
      },
      "source": [
        "## training data\n",
        "# Sequence classification \n",
        "# features\n",
        "sentences = [\"camera is good\",\n",
        "             \"battery is bad\"]\n",
        "# targets\n",
        "targets = [1,0]\n",
        "\n",
        "\n",
        "# # Sequence tagging \n",
        "# # features\n",
        "# sentences = [\"camera is good\",\n",
        "#              \"battery is bad\"]\n",
        "\n",
        "# tag = [[ATTR, NAATTR, NAATTR] ,\n",
        "#        [ATTR, NAATTR, NAATTR]]"
      ],
      "execution_count": 0,
      "outputs": []
    },
    {
      "cell_type": "code",
      "metadata": {
        "id": "iQ4-txIZaVuU",
        "colab_type": "code",
        "outputId": "743d332b-c315-4e3a-e80d-66bb4868467d",
        "colab": {
          "base_uri": "https://localhost:8080/",
          "height": 233
        }
      },
      "source": [
        "image = mpimg.imread(\"1.jpg\")\n",
        "plt.imshow(image)\n",
        "plt.show()\n",
        "\n",
        "# **how do you input sentences to rnn?\n",
        "# **do you pass words as a string or you pass corresponding vectors?\n",
        "# **given these two sentences how many unique vecors will be there?"
      ],
      "execution_count": 0,
      "outputs": [
        {
          "output_type": "display_data",
          "data": {
            "image/png": "[encoded data removed]",
            "text/plain": [
              "<Figure size 432x288 with 1 Axes>"
            ]
          },
          "metadata": {
            "tags": []
          }
        }
      ]
    },
    {
      "cell_type": "code",
      "metadata": {
        "id": "dI_PmCJnaYPc",
        "colab_type": "code",
        "outputId": "80816a0d-9577-448c-c966-7f48d1852583",
        "colab": {
          "base_uri": "https://localhost:8080/",
          "height": 52
        }
      },
      "source": [
        "# let's take some random vectors for these words\n",
        "# Step 1: define dimension of these vectors ==> dimension = 4\n",
        "# Step 2: define random vectors of 4 dimenstion for each word\n",
        "# . .     camera  = [0.1, 0.2, 0.3, 0.4]\n",
        "# . .     is      = [0.6, 0.1, 0.5, 0.4]\n",
        "# . .     good    = [0.5, 0.3, 0.3, 0.2]\n",
        "# . .     battery = [0.4, 0.5, 0.3, 0.5]\n",
        "# . .     bad     = [0.2, 0.6, 0.3, 0.4]\n",
        "\n",
        "# **can we define this as matrix where row represents vector for a particular word?\n",
        "embedding_matrix = [\n",
        "                 [0.1, 0.2, 0.3, 0.4],   \n",
        "                 [0.6, 0.1, 0.5, 0.4],\n",
        "                 [0.5, 0.3, 0.3, 0.2],\n",
        "                 [0.4, 0.5, 0.3, 0.5],\n",
        "                 [0.2, 0.6, 0.3, 0.4]\n",
        "]\n",
        "\n",
        "# **what is the shape of this matrix?\n",
        "# shape = (5,4) = (vocab_size, dimension)\n",
        "# **how we came up with this shape?\n",
        "dimension = 4\n",
        "vocab = []\n",
        "for sen in sentences:\n",
        "  sen = sen.lower().split()\n",
        "  for word in sen:\n",
        "    if word not in vocab:\n",
        "      vocab.append(word)\n",
        "vocab_size = len(vocab)\n",
        "print(\"Vocab :: \",vocab)\n",
        "print(\"Vocab size ::\",vocab_size)"
      ],
      "execution_count": 0,
      "outputs": [
        {
          "output_type": "stream",
          "text": [
            "Vocab ::  ['camera', 'is', 'good', 'battery', 'bad']\n",
            "Vocab size :: 5\n"
          ],
          "name": "stdout"
        }
      ]
    },
    {
      "cell_type": "code",
      "metadata": {
        "id": "tUhlXBr5azjD",
        "colab_type": "code",
        "colab": {}
      },
      "source": [
        "# Creating vectors matrix in tensorflow\n",
        "import tensorflow as tf\n",
        "tf.reset_default_graph()\n",
        "tf_embedding_matrix = tf.Variable(embedding_matrix)"
      ],
      "execution_count": 0,
      "outputs": []
    },
    {
      "cell_type": "code",
      "metadata": {
        "id": "BnY-BQvLa3ZB",
        "colab_type": "code",
        "outputId": "9255422e-e722-48a9-d137-5ffd5d4c48d5",
        "colab": {
          "base_uri": "https://localhost:8080/",
          "height": 156
        }
      },
      "source": [
        "import numpy as np\n",
        "# **how can we represent these individual samples using these random vectors?\n",
        "# step 1: consider a sample\n",
        "example_sentence = \"battery is bad\"\n",
        "# step 2: List all the words present in it\n",
        "example_sen_words = [\"battery\", \"is\", \"bad\"]\n",
        "# step 3: Find the index of individual word in embedding matrix\n",
        "example_sen_indices = [3, 1, 4]\n",
        "# step 4: using this index represent individual sample\n",
        "example_sen_vector = [[0.4, 0.5, 0.3, 0.5], [0.6, 0.1, 0.5, 0.4], [0.2, 0.6, 0.3, 0.4]]\n",
        "\n",
        "# ** How we can get these vectors for all the samples using tensorflow?\n",
        "# For single example\n",
        "example_sen_indices = tf.placeholder(dtype=tf.int32, shape=[None])\n",
        "sample_to_vec = tf.nn.embedding_lookup(tf_embedding_matrix, example_sen_indices)\n",
        "\n",
        "with tf.Session() as sess:\n",
        "  sess.run(tf.global_variables_initializer())\n",
        "  feed_dict = {example_sen_indices:[3,1,4]}\n",
        "  sample_vec_repres = sess.run(sample_to_vec, feed_dict)\n",
        "  #print(sample_vec_repres)\n",
        "\n",
        "# For multiple example\n",
        "sentences = [\"camera is good\",\n",
        "             \"battery is bad\"]\n",
        "example_sen_indices = [[0,1,2], [3,1,4]]\n",
        "example_sen_indices = tf.placeholder(dtype=tf.int32, shape=[None,None])\n",
        "sample_to_vec = tf.nn.embedding_lookup(tf_embedding_matrix, example_sen_indices)\n",
        "\n",
        "with tf.Session() as sess:\n",
        "  sess.run(tf.global_variables_initializer())\n",
        "  feed_dict = {example_sen_indices:[[0,1,2], [3,1,4]]}\n",
        "  sample_vec_repres = sess.run(sample_to_vec, feed_dict)\n",
        "  print(sample_vec_repres)\n",
        "  print(np.array(sample_vec_repres).shape)"
      ],
      "execution_count": 0,
      "outputs": [
        {
          "output_type": "stream",
          "text": [
            "[[[0.1 0.2 0.3 0.4]\n",
            "  [0.6 0.1 0.5 0.4]\n",
            "  [0.5 0.3 0.3 0.2]]\n",
            "\n",
            " [[0.4 0.5 0.3 0.5]\n",
            "  [0.6 0.1 0.5 0.4]\n",
            "  [0.2 0.6 0.3 0.4]]]\n",
            "(2, 3, 4)\n"
          ],
          "name": "stdout"
        }
      ]
    },
    {
      "cell_type": "code",
      "metadata": {
        "id": "bHg-8-G_fynt",
        "colab_type": "code",
        "outputId": "05e89934-01e6-4638-df80-e703f461a9b1",
        "colab": {
          "base_uri": "https://localhost:8080/",
          "height": 156
        }
      },
      "source": [
        "# Summarizing what we did in tensorflow\n",
        "import tensorflow as tf\n",
        "tf.reset_default_graph()\n",
        "tf_embedding_matrix = tf.Variable(embedding_matrix)\n",
        "\n",
        "example_sen_indices = tf.placeholder(dtype=tf.int32, shape=[None,None])\n",
        "sample_to_vec = tf.nn.embedding_lookup(tf_embedding_matrix, example_sen_indices)\n",
        "\n",
        "with tf.Session() as sess:\n",
        "  sess.run(tf.global_variables_initializer())\n",
        "  feed_dict = {example_sen_indices:[[0,1,2], [3,1,4]]}\n",
        "  sample_vec_repres = sess.run(sample_to_vec, feed_dict)\n",
        "  print(sample_vec_repres)\n",
        "  print(np.array(sample_vec_repres).shape)"
      ],
      "execution_count": 0,
      "outputs": [
        {
          "output_type": "stream",
          "text": [
            "[[[0.1 0.2 0.3 0.4]\n",
            "  [0.6 0.1 0.5 0.4]\n",
            "  [0.5 0.3 0.3 0.2]]\n",
            "\n",
            " [[0.4 0.5 0.3 0.5]\n",
            "  [0.6 0.1 0.5 0.4]\n",
            "  [0.2 0.6 0.3 0.4]]]\n",
            "(2, 3, 4)\n"
          ],
          "name": "stdout"
        }
      ]
    },
    {
      "cell_type": "code",
      "metadata": {
        "id": "_kw4xMnphHq_",
        "colab_type": "code",
        "outputId": "25bb1c38-85a6-42d6-b9b7-03a527ebd45a",
        "colab": {
          "base_uri": "https://localhost:8080/",
          "height": 69
        }
      },
      "source": [
        "# **Convert all samples to indices\n",
        "word_to_id = {vocab[word_id]:word_id for word_id in range(len(vocab))}\n",
        "print(\"Vocab \",vocab)\n",
        "print(\"word_to_id\", word_to_id)\n",
        "numerized_features = []\n",
        "for sen in sentences:\n",
        "  sen = sen.lower().split()\n",
        "  sen = [word_to_id[word] for word in sen]\n",
        "  numerized_features.append(sen)\n",
        "print(\"Numerized data :\",numerized_features)"
      ],
      "execution_count": 0,
      "outputs": [
        {
          "output_type": "stream",
          "text": [
            "Vocab  ['camera', 'is', 'good', 'battery', 'bad']\n",
            "word_to_id {'camera': 0, 'is': 1, 'good': 2, 'battery': 3, 'bad': 4}\n",
            "Numerized data : [[0, 1, 2], [3, 1, 4]]\n"
          ],
          "name": "stdout"
        }
      ]
    },
    {
      "cell_type": "code",
      "metadata": {
        "id": "uaCKn25mjNrS",
        "colab_type": "code",
        "outputId": "9a96db9e-e89e-407f-8c37-d79e21ef148a",
        "colab": {
          "base_uri": "https://localhost:8080/",
          "height": 364
        }
      },
      "source": [
        "# tensorflow complete code\n",
        "import tensorflow as tf\n",
        "tf.reset_default_graph()\n",
        "tf_embedding_matrix = tf.Variable(embedding_matrix)\n",
        "\n",
        "example_sen_indices = tf.placeholder(dtype=tf.int32, shape=[None,None])\n",
        "sample_to_vec = tf.nn.embedding_lookup(tf_embedding_matrix, example_sen_indices)\n",
        "rnn_cell = tf.compat.v1.nn.rnn_cell.BasicRNNCell(num_units=3)\n",
        "outputs_for_tagging, output_for_classification = tf.nn.dynamic_rnn(cell=rnn_cell, inputs=sample_to_vec, dtype=tf.float32)\n",
        "\n",
        "classification_logits = tf.squeeze(tf.contrib.layers.fully_connected(output_for_classification, 1, activation_fn=tf.sigmoid))\n",
        "classification_targets = tf.placeholder(dtype=tf.float32 ,shape=[None])\n",
        "classification_loss = tf.reduce_mean(tf.nn.sigmoid_cross_entropy_with_logits(labels=classification_targets, logits=classification_logits))\n",
        "train_op = tf.train.AdamOptimizer(0.5).minimize(classification_loss)\n",
        "\n",
        "with tf.Session() as sess:\n",
        "  sess.run(tf.global_variables_initializer())\n",
        "  for epoch in range(5):\n",
        "    print(\"epoch ::\",epoch)\n",
        "    feed_dict = {example_sen_indices:numerized_features, classification_targets:targets}\n",
        "    out_tag, out_class,cl_logits, cl_loss,op, = sess.run([outputs_for_tagging, output_for_classification, classification_logits, classification_loss, train_op], feed_dict)\n",
        "    # print(\"Input::\")\n",
        "    # print(numerized_features)\n",
        "    # print(np.array(numerized_features).shape)\n",
        "    # print(\"Rnn tag outputs::\")\n",
        "    # print(out_tag)\n",
        "    # print(np.array(out_tag).shape)\n",
        "    # print(\"Rnn final outputs::\")\n",
        "    # print(out_class)\n",
        "    print(np.array(out_class).shape)\n",
        "    print(\"Classification loggits\",cl_logits)\n",
        "    print(\"Loss :\",cl_loss)\n",
        "    # print()"
      ],
      "execution_count": 0,
      "outputs": [
        {
          "output_type": "stream",
          "text": [
            "epoch :: 0\n",
            "(2, 3)\n",
            "Classification loggits [0.73019654 0.6802319 ]\n",
            "Loss : 0.7416439\n",
            "epoch :: 1\n",
            "(2, 3)\n",
            "Classification loggits [0.69826716 0.09293769]\n",
            "Loss : 0.5722284\n",
            "epoch :: 2\n",
            "(2, 3)\n",
            "Classification loggits [0.92071885 0.02024899]\n",
            "Loss : 0.519266\n",
            "epoch :: 3\n",
            "(2, 3)\n",
            "Classification loggits [0.9623816 0.0075053]\n",
            "Loss : 0.5102128\n",
            "epoch :: 4\n",
            "(2, 3)\n",
            "Classification loggits [0.98229814 0.00299988]\n",
            "Loss : 0.5063508\n"
          ],
          "name": "stdout"
        }
      ]
    },
    {
      "cell_type": "code",
      "metadata": {
        "id": "WlGrGEtJjNjR",
        "colab_type": "code",
        "outputId": "fa167556-7c4f-4e79-ef0b-fbd3b84529d1",
        "colab": {
          "base_uri": "https://localhost:8080/",
          "height": 233
        }
      },
      "source": [
        "image = mpimg.imread(\"1.jpg\")\n",
        "plt.imshow(image)\n",
        "plt.show()"
      ],
      "execution_count": 0,
      "outputs": [
        {
          "output_type": "display_data",
          "data": {
            "image/png": "[encoded data removed]",
            "text/plain": [
              "<Figure size 432x288 with 1 Axes>"
            ]
          },
          "metadata": {
            "tags": []
          }
        }
      ]
    },
    {
      "cell_type": "code",
      "metadata": {
        "id": "eEfcrkG9r65V",
        "colab_type": "code",
        "outputId": "e7fe8e58-4139-4c4b-914b-5fe7a346915c",
        "colab": {
          "base_uri": "https://localhost:8080/",
          "height": 34
        }
      },
      "source": [
        "# # Sequence tagging \n",
        "# # features\n",
        "sentences = [\"camera is good\",\n",
        "             \"battery is bad\"]\n",
        "\n",
        "tag = [[\"ATTR\", \"NAATTR\", \"NAATTR\"] ,\n",
        "       [\"ATTR\", \"NAATTR\", \"NAATTR\"]]\n",
        "\n",
        "numerize_tags = [[1, 0, 0] ,\n",
        "       [1, 0, 0]]\n",
        "\n",
        "numerize_tags = []\n",
        "for t in tag:\n",
        "  temp = []\n",
        "  for step in t:\n",
        "    if step==\"ATTR\":\n",
        "      temp.append(1)\n",
        "    else:\n",
        "      temp.append(0)\n",
        "  numerize_tags.append(temp)\n",
        "numerize_tags"
      ],
      "execution_count": 0,
      "outputs": [
        {
          "output_type": "execute_result",
          "data": {
            "text/plain": [
              "[[1, 0, 0], [1, 0, 0]]"
            ]
          },
          "metadata": {
            "tags": []
          },
          "execution_count": 49
        }
      ]
    },
    {
      "cell_type": "code",
      "metadata": {
        "id": "O8lvLrmR0HUN",
        "colab_type": "code",
        "outputId": "e2c51043-4ccd-4678-9604-bf44661d9ef2",
        "colab": {
          "base_uri": "https://localhost:8080/",
          "height": 451
        }
      },
      "source": [
        "# tensorflow complete code\n",
        "import tensorflow as tf\n",
        "tf.reset_default_graph()\n",
        "tf_embedding_matrix = tf.Variable(tf.random_uniform(shape=(vocab_size,dimension)), trainable=True)\n",
        "\n",
        "example_sen_indices = tf.placeholder(dtype=tf.int32, shape=[None,None])\n",
        "sample_to_vec = tf.nn.embedding_lookup(tf_embedding_matrix, example_sen_indices)\n",
        "rnn_cell = tf.compat.v1.nn.rnn_cell.BasicRNNCell(num_units=3)\n",
        "#rnn_cell = tf.compat.v1.nn.rnn_cell.LSTMCell(num_units=3)\n",
        "outputs_for_tagging, output_for_classification = tf.nn.dynamic_rnn(cell=rnn_cell, inputs=sample_to_vec, dtype=tf.float32)\n",
        "\n",
        "tagging_logits = tf.squeeze(tf.contrib.layers.fully_connected(outputs_for_tagging, 1, activation_fn=tf.sigmoid))\n",
        "tagging_targets = tf.placeholder(dtype=tf.float32 ,shape=[None,None])\n",
        "tagging_loss = tf.reduce_mean(tf.nn.sigmoid_cross_entropy_with_logits(labels=tagging_targets, logits=tagging_logits))\n",
        "train_op = tf.train.AdamOptimizer(0.5).minimize(tagging_loss)\n",
        "\n",
        "with tf.Session() as sess:\n",
        "  sess.run(tf.global_variables_initializer())\n",
        "  for epoch in range(5):\n",
        "    print(\"epoch ::\",epoch)\n",
        "    feed_dict = {example_sen_indices:numerized_features, tagging_targets:numerize_tags}\n",
        "    out_tag, out_class,cl_logits, cl_loss,op, = sess.run([outputs_for_tagging, output_for_classification, tagging_logits, tagging_loss, train_op], feed_dict)\n",
        "    # print(\"Input::\")\n",
        "    # print(numerized_features)\n",
        "    # print(np.array(numerized_features).shape)\n",
        "    # print(\"Rnn tag outputs::\")\n",
        "    # print(out_tag)\n",
        "    # print(np.array(out_tag).shape)\n",
        "    # print(\"Rnn final outputs::\")\n",
        "    # print(out_class)\n",
        "    print(np.array(out_tag).shape)\n",
        "    print(\"Tagging loggits\",cl_logits)\n",
        "    print(\"Loss :\",cl_loss)\n",
        "    # print()"
      ],
      "execution_count": 0,
      "outputs": [
        {
          "output_type": "stream",
          "text": [
            "epoch :: 0\n",
            "(2, 3, 3)\n",
            "Tagging loggits [[0.47821486 0.3836989  0.33766246]\n",
            " [0.46723592 0.370164   0.36162794]]\n",
            "Loss : 0.7556436\n",
            "epoch :: 1\n",
            "(2, 3, 3)\n",
            "Tagging loggits [[0.07799806 0.04936483 0.04984235]\n",
            " [0.09403614 0.04944668 0.04940387]]\n",
            "Loss : 0.695831\n",
            "epoch :: 2\n",
            "(2, 3, 3)\n",
            "Tagging loggits [[0.37791288 0.01051408 0.01038268]\n",
            " [0.60971856 0.01065676 0.01038134]]\n",
            "Loss : 0.62493396\n",
            "epoch :: 3\n",
            "(2, 3, 3)\n",
            "Tagging loggits [[0.97619855 0.00324161 0.00317064]\n",
            " [0.9770867  0.00324049 0.00317068]]\n",
            "Loss : 0.5697\n",
            "epoch :: 4\n",
            "(2, 3, 3)\n",
            "Tagging loggits [[0.99077296 0.00109373 0.00108656]\n",
            " [0.99078196 0.00109373 0.00108656]]\n",
            "Loss : 0.5677117\n"
          ],
          "name": "stdout"
        }
      ]
    },
    {
      "cell_type": "code",
      "metadata": {
        "id": "u2EgeUN71F-G",
        "colab_type": "code",
        "colab": {}
      },
      "source": [
        "# sequence classification\n",
        "# sequence tagging\n",
        "# multi task models"
      ],
      "execution_count": 0,
      "outputs": []
    },
    {
      "cell_type": "code",
      "metadata": {
        "id": "JlVHFuxi23vz",
        "colab_type": "code",
        "outputId": "f6cbda51-095c-4be3-ea9a-0ec8169a16e7",
        "colab": {
          "base_uri": "https://localhost:8080/",
          "height": 1000
        }
      },
      "source": [
        "# tensorflow complete code\n",
        "import tensorflow as tf\n",
        "tf.reset_default_graph()\n",
        "tf_embedding_matrix = tf.Variable(tf.random_uniform(shape=(vocab_size,dimension)), trainable=True)\n",
        "\n",
        "example_sen_indices = tf.placeholder(dtype=tf.int32, shape=[None,None])\n",
        "sample_to_vec = tf.nn.embedding_lookup(tf_embedding_matrix, example_sen_indices)\n",
        "rnn_cell = tf.compat.v1.nn.rnn_cell.BasicRNNCell(num_units=3)\n",
        "outputs_for_tagging, output_for_classification = tf.nn.dynamic_rnn(cell=rnn_cell, inputs=sample_to_vec, dtype=tf.float32)\n",
        "\n",
        "classification_logits = tf.squeeze(tf.contrib.layers.fully_connected(output_for_classification, 1, activation_fn=tf.sigmoid))\n",
        "classification_targets = tf.placeholder(dtype=tf.float32 ,shape=[None])\n",
        "classification_loss = tf.reduce_mean(tf.nn.sigmoid_cross_entropy_with_logits(labels=classification_targets, logits=classification_logits))\n",
        "\n",
        "\n",
        "tagging_logits = tf.squeeze(tf.contrib.layers.fully_connected(outputs_for_tagging, 1, activation_fn=tf.sigmoid))\n",
        "tagging_targets = tf.placeholder(dtype=tf.float32 ,shape=[None,None])\n",
        "tagging_loss = tf.reduce_mean(tf.nn.sigmoid_cross_entropy_with_logits(labels=tagging_targets, logits=tagging_logits))\n",
        "\n",
        "total_loss = classification_loss+tagging_loss\n",
        "train_op = tf.train.AdamOptimizer(0.5).minimize(total_loss)\n",
        "\n",
        "\n",
        "with tf.Session() as sess:\n",
        "  sess.run(tf.global_variables_initializer())\n",
        "  for epoch in range(20):\n",
        "    print(\"epoch ::\",epoch)\n",
        "    feed_dict = {example_sen_indices:numerized_features, tagging_targets:numerize_tags, classification_targets:targets}\n",
        "    out_tag, out_class,cl_logits,tag_logits, total_loss_,op, = sess.run([outputs_for_tagging, output_for_classification,classification_logits, tagging_logits, total_loss, train_op], feed_dict)\n",
        "    # print(\"Input::\")\n",
        "    # print(numerized_features)\n",
        "    # print(np.array(numerized_features).shape)\n",
        "    # print(\"Rnn tag outputs::\")\n",
        "    # print(out_tag)\n",
        "    # print(np.array(out_tag).shape)\n",
        "    # print(\"Rnn final outputs::\")\n",
        "    # print(out_class)\n",
        "    print(np.array(cl_logits).shape)\n",
        "    print(\"Classification loggits\",cl_logits)\n",
        "    print(\"Tagging loggits\",tag_logits)\n",
        "    print(\"Loss :\",total_loss_)\n",
        "    print(\"\")"
      ],
      "execution_count": 0,
      "outputs": [
        {
          "output_type": "stream",
          "text": [
            "epoch :: 0\n",
            "(2,)\n",
            "Classification loggits [0.7318974  0.77862203]\n",
            "Tagging loggits [[0.71900374 0.83299524 0.8210427 ]\n",
            " [0.70772934 0.76931727 0.8544338 ]]\n",
            "Loss : 1.6972574\n",
            "\n",
            "epoch :: 1\n",
            "(2,)\n",
            "Classification loggits [0.343142 0.314973]\n",
            "Tagging loggits [[0.22553237 0.2779155  0.22645816]\n",
            " [0.18755707 0.26106575 0.1866994 ]]\n",
            "Loss : 1.4442716\n",
            "\n",
            "epoch :: 2\n",
            "(2,)\n",
            "Classification loggits [0.46762416 0.18210274]\n",
            "Tagging loggits [[0.17951131 0.14200272 0.32414448]\n",
            " [0.13340575 0.13923311 0.13745749]]\n",
            "Loss : 1.3707917\n",
            "\n",
            "epoch :: 3\n",
            "(2,)\n",
            "Classification loggits [0.593295   0.06742543]\n",
            "Tagging loggits [[0.15423861 0.05283591 0.30497926]\n",
            " [0.04906786 0.10779513 0.04986573]]\n",
            "Loss : 1.3056372\n",
            "\n",
            "epoch :: 4\n",
            "(2,)\n",
            "Classification loggits [0.78641605 0.03823699]\n",
            "Tagging loggits [[0.10629923 0.02583925 0.17820041]\n",
            " [0.02529561 0.03839418 0.0254391 ]]\n",
            "Loss : 1.2493613\n",
            "\n",
            "epoch :: 5\n",
            "(2,)\n",
            "Classification loggits [0.9197051  0.02433652]\n",
            "Tagging loggits [[0.07588049 0.01458863 0.08759023]\n",
            " [0.01453241 0.01550473 0.01455868]]\n",
            "Loss : 1.2173746\n",
            "\n",
            "epoch :: 6\n",
            "(2,)\n",
            "Classification loggits [0.97185236 0.01604846]\n",
            "Tagging loggits [[0.08477487 0.00886137 0.04329444]\n",
            " [0.00885527 0.00892    0.00885609]]\n",
            "Loss : 1.2024244\n",
            "\n",
            "epoch :: 7\n",
            "(2,)\n",
            "Classification loggits [0.9894001  0.01073677]\n",
            "Tagging loggits [[0.25641215 0.00546347 0.02393071]\n",
            " [0.00542949 0.00543422 0.00542951]]\n",
            "Loss : 1.183389\n",
            "\n",
            "epoch :: 8\n",
            "(2,)\n",
            "Classification loggits [0.9955813  0.00727787]\n",
            "Tagging loggits [[0.28860095 0.0028897  0.01626119]\n",
            " [0.00288106 0.00288141 0.00288106]]\n",
            "Loss : 1.1782908\n",
            "\n",
            "epoch :: 9\n",
            "(2,)\n",
            "Classification loggits [0.9979691  0.00502251]\n",
            "Tagging loggits [[0.36980367 0.00137881 0.01316741]\n",
            " [0.0013776  0.00137762 0.0013776 ]]\n",
            "Loss : 1.1712289\n",
            "\n",
            "epoch :: 10\n",
            "(2,)\n",
            "Classification loggits [0.9989825  0.00354105]\n",
            "Tagging loggits [[0.5125489  0.00061007 0.01238973]\n",
            " [0.00060991 0.00060991 0.00060991]]\n",
            "Loss : 1.1612136\n",
            "\n",
            "epoch :: 11\n",
            "(2,)\n",
            "Classification loggits [0.99945074 0.00255459]\n",
            "Tagging loggits [[6.9036257e-01 2.5603280e-04 1.3155523e-02]\n",
            " [2.5601254e-04 2.5601278e-04 2.5601254e-04]]\n",
            "Loss : 1.150415\n",
            "\n",
            "epoch :: 12\n",
            "(2,)\n",
            "Classification loggits [0.9996836  0.00188623]\n",
            "Tagging loggits [[8.38957310e-01 1.05338826e-04 1.50801269e-02]\n",
            " [1.05336119e-04 1.05336214e-04 1.05336119e-04]]\n",
            "Loss : 1.1424844\n",
            "\n",
            "epoch :: 13\n",
            "(2,)\n",
            "Classification loggits [0.9998072  0.00142461]\n",
            "Tagging loggits [[9.2513889e-01 4.4299355e-05 1.7747667e-02]\n",
            " [4.4298977e-05 4.4298977e-05 4.4298977e-05]]\n",
            "Loss : 1.138361\n",
            "\n",
            "epoch :: 14\n",
            "(2,)\n",
            "Classification loggits [0.9998765  0.00109945]\n",
            "Tagging loggits [[9.6565855e-01 1.9638343e-05 2.0676801e-02]\n",
            " [1.9638306e-05 1.9638306e-05 1.9638306e-05]]\n",
            "Loss : 1.1366229\n",
            "\n",
            "epoch :: 15\n",
            "(2,)\n",
            "Classification loggits [9.9991727e-01 8.6592697e-04]\n",
            "Tagging loggits [[9.835437e-01 9.301795e-06 2.339119e-02]\n",
            " [9.301787e-06 9.301787e-06 9.301787e-06]]\n",
            "Loss : 1.1359694\n",
            "\n",
            "epoch :: 16\n",
            "(2,)\n",
            "Classification loggits [9.9994254e-01 6.9506915e-04]\n",
            "Tagging loggits [[9.9157155e-01 4.7199928e-06 2.5475925e-02]\n",
            " [4.7199928e-06 4.7199928e-06 4.7199928e-06]]\n",
            "Loss : 1.135735\n",
            "\n",
            "epoch :: 17\n",
            "(2,)\n",
            "Classification loggits [9.9995863e-01 5.6783855e-04]\n",
            "Tagging loggits [[9.953576e-01 2.559961e-06 2.663593e-02]\n",
            " [2.559961e-06 2.559961e-06 2.559961e-06]]\n",
            "Loss : 1.1356282\n",
            "\n",
            "epoch :: 18\n",
            "(2,)\n",
            "Classification loggits [9.9996924e-01 4.7151654e-04]\n",
            "Tagging loggits [[9.9725336e-01 1.4776325e-06 2.6743626e-02]\n",
            " [1.4776325e-06 1.4776325e-06 1.4776325e-06]]\n",
            "Loss : 1.1355264\n",
            "\n",
            "epoch :: 19\n",
            "(2,)\n",
            "Classification loggits [9.999765e-01 3.974650e-04]\n",
            "Tagging loggits [[9.9826199e-01 9.0309896e-07 2.5849542e-02]\n",
            " [9.0309896e-07 9.0309896e-07 9.0309896e-07]]\n",
            "Loss : 1.135386\n",
            "\n"
          ],
          "name": "stdout"
        }
      ]
    },
    {
      "cell_type": "code",
      "metadata": {
        "id": "LUQ-4Qf6319F",
        "colab_type": "code",
        "colab": {}
      },
      "source": [
        ""
      ],
      "execution_count": 0,
      "outputs": []
    }
  ]
}