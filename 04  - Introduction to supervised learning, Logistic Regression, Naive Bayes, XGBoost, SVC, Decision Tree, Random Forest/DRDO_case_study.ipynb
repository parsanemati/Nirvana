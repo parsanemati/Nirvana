{
 "cells": [
  {
   "cell_type": "code",
   "execution_count": 0,
   "metadata": {
    "colab": {},
    "colab_type": "code",
    "id": "cTI38I6hI5_T"
   },
   "outputs": [],
   "source": [
    "import pandas as pd"
   ]
  },
  {
   "cell_type": "code",
   "execution_count": 0,
   "metadata": {
    "colab": {},
    "colab_type": "code",
    "id": "dX2K039bJCWz"
   },
   "outputs": [],
   "source": [
    "df = pd.read_csv(\"./sonar_csv.csv\")"
   ]
  },
  {
   "cell_type": "code",
   "execution_count": 0,
   "metadata": {
    "colab": {},
    "colab_type": "code",
    "id": "c-zYq0kRJGK6"
   },
   "outputs": [],
   "source": [
    "# Data analysis and preparation\n",
    "# Logistic Regression\n",
    "# Naive Bayes\n",
    "# XGBoost\n",
    "# SVC\n",
    "# Decision Tree\n",
    "# Random Forest\n",
    "# Model comparision\n",
    "# voting classifier"
   ]
  },
  {
   "cell_type": "code",
   "execution_count": 6,
   "metadata": {
    "colab": {
     "base_uri": "https://localhost:8080/",
     "height": 132
    },
    "colab_type": "code",
    "executionInfo": {
     "elapsed": 743,
     "status": "ok",
     "timestamp": 1570670016133,
     "user": {
      "displayName": "Dharmanath PATIL",
      "photoUrl": "https://lh3.googleusercontent.com/a-/AAuE7mC6ge8KNDISjWm-FphDTvfeEhrPZkXjmizWV21HJg=s64",
      "userId": "15515686314360430415"
     },
     "user_tz": -330
    },
    "id": "JgsGB3Q9OmAZ",
    "outputId": "0794aa1f-eb7b-492a-9e20-5d1b616bdf12"
   },
   "outputs": [
    {
     "data": {
      "text/html": [
       "<div>\n",
       "<style scoped>\n",
       "    .dataframe tbody tr th:only-of-type {\n",
       "        vertical-align: middle;\n",
       "    }\n",
       "\n",
       "    .dataframe tbody tr th {\n",
       "        vertical-align: top;\n",
       "    }\n",
       "\n",
       "    .dataframe thead th {\n",
       "        text-align: right;\n",
       "    }\n",
       "</style>\n",
       "<table border=\"1\" class=\"dataframe\">\n",
       "  <thead>\n",
       "    <tr style=\"text-align: right;\">\n",
       "      <th></th>\n",
       "      <th>attribute_1</th>\n",
       "      <th>attribute_2</th>\n",
       "      <th>attribute_3</th>\n",
       "      <th>attribute_4</th>\n",
       "      <th>attribute_5</th>\n",
       "      <th>attribute_6</th>\n",
       "      <th>attribute_7</th>\n",
       "      <th>attribute_8</th>\n",
       "      <th>attribute_9</th>\n",
       "      <th>attribute_10</th>\n",
       "      <th>attribute_11</th>\n",
       "      <th>attribute_12</th>\n",
       "      <th>attribute_13</th>\n",
       "      <th>attribute_14</th>\n",
       "      <th>attribute_15</th>\n",
       "      <th>attribute_16</th>\n",
       "      <th>attribute_17</th>\n",
       "      <th>attribute_18</th>\n",
       "      <th>attribute_19</th>\n",
       "      <th>attribute_20</th>\n",
       "      <th>attribute_21</th>\n",
       "      <th>attribute_22</th>\n",
       "      <th>attribute_23</th>\n",
       "      <th>attribute_24</th>\n",
       "      <th>attribute_25</th>\n",
       "      <th>attribute_26</th>\n",
       "      <th>attribute_27</th>\n",
       "      <th>attribute_28</th>\n",
       "      <th>attribute_29</th>\n",
       "      <th>attribute_30</th>\n",
       "      <th>attribute_31</th>\n",
       "      <th>attribute_32</th>\n",
       "      <th>attribute_33</th>\n",
       "      <th>attribute_34</th>\n",
       "      <th>attribute_35</th>\n",
       "      <th>attribute_36</th>\n",
       "      <th>attribute_37</th>\n",
       "      <th>attribute_38</th>\n",
       "      <th>attribute_39</th>\n",
       "      <th>attribute_40</th>\n",
       "      <th>attribute_41</th>\n",
       "      <th>attribute_42</th>\n",
       "      <th>attribute_43</th>\n",
       "      <th>attribute_44</th>\n",
       "      <th>attribute_45</th>\n",
       "      <th>attribute_46</th>\n",
       "      <th>attribute_47</th>\n",
       "      <th>attribute_48</th>\n",
       "      <th>attribute_49</th>\n",
       "      <th>attribute_50</th>\n",
       "      <th>attribute_51</th>\n",
       "      <th>attribute_52</th>\n",
       "      <th>attribute_53</th>\n",
       "      <th>attribute_54</th>\n",
       "      <th>attribute_55</th>\n",
       "      <th>attribute_56</th>\n",
       "      <th>attribute_57</th>\n",
       "      <th>attribute_58</th>\n",
       "      <th>attribute_59</th>\n",
       "      <th>attribute_60</th>\n",
       "      <th>Class</th>\n",
       "    </tr>\n",
       "  </thead>\n",
       "  <tbody>\n",
       "    <tr>\n",
       "      <th>0</th>\n",
       "      <td>0.0200</td>\n",
       "      <td>0.0371</td>\n",
       "      <td>0.0428</td>\n",
       "      <td>0.0207</td>\n",
       "      <td>0.0954</td>\n",
       "      <td>0.0986</td>\n",
       "      <td>0.1539</td>\n",
       "      <td>0.1601</td>\n",
       "      <td>0.3109</td>\n",
       "      <td>0.2111</td>\n",
       "      <td>0.1609</td>\n",
       "      <td>0.1582</td>\n",
       "      <td>0.2238</td>\n",
       "      <td>0.0645</td>\n",
       "      <td>0.0660</td>\n",
       "      <td>0.2273</td>\n",
       "      <td>0.31</td>\n",
       "      <td>0.2999</td>\n",
       "      <td>0.5078</td>\n",
       "      <td>0.4797</td>\n",
       "      <td>0.5783</td>\n",
       "      <td>0.5071</td>\n",
       "      <td>0.4328</td>\n",
       "      <td>0.5550</td>\n",
       "      <td>0.6711</td>\n",
       "      <td>0.6415</td>\n",
       "      <td>0.7104</td>\n",
       "      <td>0.8080</td>\n",
       "      <td>0.6791</td>\n",
       "      <td>0.3857</td>\n",
       "      <td>0.1307</td>\n",
       "      <td>0.2604</td>\n",
       "      <td>0.5121</td>\n",
       "      <td>0.7547</td>\n",
       "      <td>0.8537</td>\n",
       "      <td>0.8507</td>\n",
       "      <td>0.6692</td>\n",
       "      <td>0.6097</td>\n",
       "      <td>0.4943</td>\n",
       "      <td>0.2744</td>\n",
       "      <td>0.0510</td>\n",
       "      <td>0.2834</td>\n",
       "      <td>0.2825</td>\n",
       "      <td>0.4256</td>\n",
       "      <td>0.2641</td>\n",
       "      <td>0.1386</td>\n",
       "      <td>0.1051</td>\n",
       "      <td>0.1343</td>\n",
       "      <td>0.0383</td>\n",
       "      <td>0.0324</td>\n",
       "      <td>0.0232</td>\n",
       "      <td>0.0027</td>\n",
       "      <td>0.0065</td>\n",
       "      <td>0.0159</td>\n",
       "      <td>0.0072</td>\n",
       "      <td>0.0167</td>\n",
       "      <td>0.018</td>\n",
       "      <td>0.0084</td>\n",
       "      <td>0.0090</td>\n",
       "      <td>0.0032</td>\n",
       "      <td>Rock</td>\n",
       "    </tr>\n",
       "    <tr>\n",
       "      <th>1</th>\n",
       "      <td>0.0453</td>\n",
       "      <td>0.0523</td>\n",
       "      <td>0.0843</td>\n",
       "      <td>0.0689</td>\n",
       "      <td>0.1183</td>\n",
       "      <td>0.2583</td>\n",
       "      <td>0.2156</td>\n",
       "      <td>0.3481</td>\n",
       "      <td>0.3337</td>\n",
       "      <td>0.2872</td>\n",
       "      <td>0.4918</td>\n",
       "      <td>0.6552</td>\n",
       "      <td>0.6919</td>\n",
       "      <td>0.7797</td>\n",
       "      <td>0.7464</td>\n",
       "      <td>0.9444</td>\n",
       "      <td>1.00</td>\n",
       "      <td>0.8874</td>\n",
       "      <td>0.8024</td>\n",
       "      <td>0.7818</td>\n",
       "      <td>0.5212</td>\n",
       "      <td>0.4052</td>\n",
       "      <td>0.3957</td>\n",
       "      <td>0.3914</td>\n",
       "      <td>0.3250</td>\n",
       "      <td>0.3200</td>\n",
       "      <td>0.3271</td>\n",
       "      <td>0.2767</td>\n",
       "      <td>0.4423</td>\n",
       "      <td>0.2028</td>\n",
       "      <td>0.3788</td>\n",
       "      <td>0.2947</td>\n",
       "      <td>0.1984</td>\n",
       "      <td>0.2341</td>\n",
       "      <td>0.1306</td>\n",
       "      <td>0.4182</td>\n",
       "      <td>0.3835</td>\n",
       "      <td>0.1057</td>\n",
       "      <td>0.1840</td>\n",
       "      <td>0.1970</td>\n",
       "      <td>0.1674</td>\n",
       "      <td>0.0583</td>\n",
       "      <td>0.1401</td>\n",
       "      <td>0.1628</td>\n",
       "      <td>0.0621</td>\n",
       "      <td>0.0203</td>\n",
       "      <td>0.0530</td>\n",
       "      <td>0.0742</td>\n",
       "      <td>0.0409</td>\n",
       "      <td>0.0061</td>\n",
       "      <td>0.0125</td>\n",
       "      <td>0.0084</td>\n",
       "      <td>0.0089</td>\n",
       "      <td>0.0048</td>\n",
       "      <td>0.0094</td>\n",
       "      <td>0.0191</td>\n",
       "      <td>0.014</td>\n",
       "      <td>0.0049</td>\n",
       "      <td>0.0052</td>\n",
       "      <td>0.0044</td>\n",
       "      <td>Rock</td>\n",
       "    </tr>\n",
       "  </tbody>\n",
       "</table>\n",
       "</div>"
      ],
      "text/plain": [
       "   attribute_1  attribute_2  attribute_3  ...  attribute_59  attribute_60  Class\n",
       "0       0.0200       0.0371       0.0428  ...        0.0090        0.0032   Rock\n",
       "1       0.0453       0.0523       0.0843  ...        0.0052        0.0044   Rock\n",
       "\n",
       "[2 rows x 61 columns]"
      ]
     },
     "execution_count": 6,
     "metadata": {
      "tags": []
     },
     "output_type": "execute_result"
    }
   ],
   "source": [
    "df.head(2)"
   ]
  },
  {
   "cell_type": "code",
   "execution_count": 7,
   "metadata": {
    "colab": {
     "base_uri": "https://localhost:8080/",
     "height": 34
    },
    "colab_type": "code",
    "executionInfo": {
     "elapsed": 725,
     "status": "ok",
     "timestamp": 1570670061684,
     "user": {
      "displayName": "Dharmanath PATIL",
      "photoUrl": "https://lh3.googleusercontent.com/a-/AAuE7mC6ge8KNDISjWm-FphDTvfeEhrPZkXjmizWV21HJg=s64",
      "userId": "15515686314360430415"
     },
     "user_tz": -330
    },
    "id": "EbrikFYsOnM2",
    "outputId": "edf5920b-20cd-4983-8e4c-b5165f1f80bb"
   },
   "outputs": [
    {
     "data": {
      "text/plain": [
       "['Mine', 'Rock']"
      ]
     },
     "execution_count": 7,
     "metadata": {
      "tags": []
     },
     "output_type": "execute_result"
    }
   ],
   "source": [
    "list(set(df['Class']))"
   ]
  },
  {
   "cell_type": "code",
   "execution_count": 0,
   "metadata": {
    "colab": {},
    "colab_type": "code",
    "id": "TTUQtSOaO7Jb"
   },
   "outputs": [],
   "source": [
    "X = df.iloc[:,:-1].values"
   ]
  },
  {
   "cell_type": "code",
   "execution_count": 10,
   "metadata": {
    "colab": {
     "base_uri": "https://localhost:8080/",
     "height": 139
    },
    "colab_type": "code",
    "executionInfo": {
     "elapsed": 889,
     "status": "ok",
     "timestamp": 1570670174961,
     "user": {
      "displayName": "Dharmanath PATIL",
      "photoUrl": "https://lh3.googleusercontent.com/a-/AAuE7mC6ge8KNDISjWm-FphDTvfeEhrPZkXjmizWV21HJg=s64",
      "userId": "15515686314360430415"
     },
     "user_tz": -330
    },
    "id": "4U_VD5odPNax",
    "outputId": "574c7d33-d45b-4d89-b320-18543e88264f"
   },
   "outputs": [
    {
     "data": {
      "text/plain": [
       "array([[0.02  , 0.0371, 0.0428, ..., 0.0084, 0.009 , 0.0032],\n",
       "       [0.0453, 0.0523, 0.0843, ..., 0.0049, 0.0052, 0.0044],\n",
       "       [0.0262, 0.0582, 0.1099, ..., 0.0164, 0.0095, 0.0078],\n",
       "       ...,\n",
       "       [0.0522, 0.0437, 0.018 , ..., 0.0138, 0.0077, 0.0031],\n",
       "       [0.0303, 0.0353, 0.049 , ..., 0.0079, 0.0036, 0.0048],\n",
       "       [0.026 , 0.0363, 0.0136, ..., 0.0036, 0.0061, 0.0115]])"
      ]
     },
     "execution_count": 10,
     "metadata": {
      "tags": []
     },
     "output_type": "execute_result"
    }
   ],
   "source": [
    "X"
   ]
  },
  {
   "cell_type": "code",
   "execution_count": 0,
   "metadata": {
    "colab": {},
    "colab_type": "code",
    "id": "3Det4f9oPN8H"
   },
   "outputs": [],
   "source": [
    "y = df.iloc[:,-1].values"
   ]
  },
  {
   "cell_type": "code",
   "execution_count": 12,
   "metadata": {
    "colab": {
     "base_uri": "https://localhost:8080/",
     "height": 486
    },
    "colab_type": "code",
    "executionInfo": {
     "elapsed": 726,
     "status": "ok",
     "timestamp": 1570670235481,
     "user": {
      "displayName": "Dharmanath PATIL",
      "photoUrl": "https://lh3.googleusercontent.com/a-/AAuE7mC6ge8KNDISjWm-FphDTvfeEhrPZkXjmizWV21HJg=s64",
      "userId": "15515686314360430415"
     },
     "user_tz": -330
    },
    "id": "h9HydivzPcQx",
    "outputId": "7dc72ce2-0e84-44a9-f8bd-6be595f2b9ac"
   },
   "outputs": [
    {
     "data": {
      "text/plain": [
       "array(['Rock', 'Rock', 'Rock', 'Rock', 'Rock', 'Rock', 'Rock', 'Rock',\n",
       "       'Rock', 'Rock', 'Rock', 'Rock', 'Rock', 'Rock', 'Rock', 'Rock',\n",
       "       'Rock', 'Rock', 'Rock', 'Rock', 'Rock', 'Rock', 'Rock', 'Rock',\n",
       "       'Rock', 'Rock', 'Rock', 'Rock', 'Rock', 'Rock', 'Rock', 'Rock',\n",
       "       'Rock', 'Rock', 'Rock', 'Rock', 'Rock', 'Rock', 'Rock', 'Rock',\n",
       "       'Rock', 'Rock', 'Rock', 'Rock', 'Rock', 'Rock', 'Rock', 'Rock',\n",
       "       'Rock', 'Rock', 'Rock', 'Rock', 'Rock', 'Rock', 'Rock', 'Rock',\n",
       "       'Rock', 'Rock', 'Rock', 'Rock', 'Rock', 'Rock', 'Rock', 'Rock',\n",
       "       'Rock', 'Rock', 'Rock', 'Rock', 'Rock', 'Rock', 'Rock', 'Rock',\n",
       "       'Rock', 'Rock', 'Rock', 'Rock', 'Rock', 'Rock', 'Rock', 'Rock',\n",
       "       'Rock', 'Rock', 'Rock', 'Rock', 'Rock', 'Rock', 'Rock', 'Rock',\n",
       "       'Rock', 'Rock', 'Rock', 'Rock', 'Rock', 'Rock', 'Rock', 'Rock',\n",
       "       'Rock', 'Mine', 'Mine', 'Mine', 'Mine', 'Mine', 'Mine', 'Mine',\n",
       "       'Mine', 'Mine', 'Mine', 'Mine', 'Mine', 'Mine', 'Mine', 'Mine',\n",
       "       'Mine', 'Mine', 'Mine', 'Mine', 'Mine', 'Mine', 'Mine', 'Mine',\n",
       "       'Mine', 'Mine', 'Mine', 'Mine', 'Mine', 'Mine', 'Mine', 'Mine',\n",
       "       'Mine', 'Mine', 'Mine', 'Mine', 'Mine', 'Mine', 'Mine', 'Mine',\n",
       "       'Mine', 'Mine', 'Mine', 'Mine', 'Mine', 'Mine', 'Mine', 'Mine',\n",
       "       'Mine', 'Mine', 'Mine', 'Mine', 'Mine', 'Mine', 'Mine', 'Mine',\n",
       "       'Mine', 'Mine', 'Mine', 'Mine', 'Mine', 'Mine', 'Mine', 'Mine',\n",
       "       'Mine', 'Mine', 'Mine', 'Mine', 'Mine', 'Mine', 'Mine', 'Mine',\n",
       "       'Mine', 'Mine', 'Mine', 'Mine', 'Mine', 'Mine', 'Mine', 'Mine',\n",
       "       'Mine', 'Mine', 'Mine', 'Mine', 'Mine', 'Mine', 'Mine', 'Mine',\n",
       "       'Mine', 'Mine', 'Mine', 'Mine', 'Mine', 'Mine', 'Mine', 'Mine',\n",
       "       'Mine', 'Mine', 'Mine', 'Mine', 'Mine', 'Mine', 'Mine', 'Mine',\n",
       "       'Mine', 'Mine', 'Mine', 'Mine', 'Mine', 'Mine', 'Mine', 'Mine'],\n",
       "      dtype=object)"
      ]
     },
     "execution_count": 12,
     "metadata": {
      "tags": []
     },
     "output_type": "execute_result"
    }
   ],
   "source": [
    "y"
   ]
  },
  {
   "cell_type": "code",
   "execution_count": 13,
   "metadata": {
    "colab": {
     "base_uri": "https://localhost:8080/",
     "height": 34
    },
    "colab_type": "code",
    "executionInfo": {
     "elapsed": 722,
     "status": "ok",
     "timestamp": 1570670248181,
     "user": {
      "displayName": "Dharmanath PATIL",
      "photoUrl": "https://lh3.googleusercontent.com/a-/AAuE7mC6ge8KNDISjWm-FphDTvfeEhrPZkXjmizWV21HJg=s64",
      "userId": "15515686314360430415"
     },
     "user_tz": -330
    },
    "id": "nH2GwBpbPcwP",
    "outputId": "2a8ce97c-3560-4607-8d20-836b37a79850"
   },
   "outputs": [
    {
     "data": {
      "text/plain": [
       "(208, 60)"
      ]
     },
     "execution_count": 13,
     "metadata": {
      "tags": []
     },
     "output_type": "execute_result"
    }
   ],
   "source": [
    "X.shape"
   ]
  },
  {
   "cell_type": "code",
   "execution_count": 14,
   "metadata": {
    "colab": {
     "base_uri": "https://localhost:8080/",
     "height": 34
    },
    "colab_type": "code",
    "executionInfo": {
     "elapsed": 777,
     "status": "ok",
     "timestamp": 1570670283727,
     "user": {
      "displayName": "Dharmanath PATIL",
      "photoUrl": "https://lh3.googleusercontent.com/a-/AAuE7mC6ge8KNDISjWm-FphDTvfeEhrPZkXjmizWV21HJg=s64",
      "userId": "15515686314360430415"
     },
     "user_tz": -330
    },
    "id": "6GBsju01Pf2R",
    "outputId": "52fdcd21-bdb1-451b-f1af-6b4dbabf54f9"
   },
   "outputs": [
    {
     "data": {
      "text/plain": [
       "(208,)"
      ]
     },
     "execution_count": 14,
     "metadata": {
      "tags": []
     },
     "output_type": "execute_result"
    }
   ],
   "source": [
    "y.shape"
   ]
  },
  {
   "cell_type": "code",
   "execution_count": 0,
   "metadata": {
    "colab": {},
    "colab_type": "code",
    "id": "ypEMOhLmPog8"
   },
   "outputs": [],
   "source": [
    "from sklearn.model_selection import train_test_split\n",
    "X_train, X_test, Y_train, Y_test = train_test_split(X,y,test_size=0.2, random_state=0)"
   ]
  },
  {
   "cell_type": "code",
   "execution_count": 16,
   "metadata": {
    "colab": {
     "base_uri": "https://localhost:8080/",
     "height": 52
    },
    "colab_type": "code",
    "executionInfo": {
     "elapsed": 712,
     "status": "ok",
     "timestamp": 1570670423840,
     "user": {
      "displayName": "Dharmanath PATIL",
      "photoUrl": "https://lh3.googleusercontent.com/a-/AAuE7mC6ge8KNDISjWm-FphDTvfeEhrPZkXjmizWV21HJg=s64",
      "userId": "15515686314360430415"
     },
     "user_tz": -330
    },
    "id": "C00zdjlPQFLv",
    "outputId": "5228e661-9ee4-45b7-828a-e4008ba4584d"
   },
   "outputs": [
    {
     "name": "stdout",
     "output_type": "stream",
     "text": [
      "(166, 60)\n",
      "(166,)\n"
     ]
    }
   ],
   "source": [
    "print(X_train.shape)\n",
    "print(Y_train.shape)\n"
   ]
  },
  {
   "cell_type": "code",
   "execution_count": 17,
   "metadata": {
    "colab": {
     "base_uri": "https://localhost:8080/",
     "height": 52
    },
    "colab_type": "code",
    "executionInfo": {
     "elapsed": 926,
     "status": "ok",
     "timestamp": 1570670482049,
     "user": {
      "displayName": "Dharmanath PATIL",
      "photoUrl": "https://lh3.googleusercontent.com/a-/AAuE7mC6ge8KNDISjWm-FphDTvfeEhrPZkXjmizWV21HJg=s64",
      "userId": "15515686314360430415"
     },
     "user_tz": -330
    },
    "id": "LIZQXFJMQKvJ",
    "outputId": "5dadd931-e585-4f38-d9e6-53ff8a440cf4"
   },
   "outputs": [
    {
     "name": "stdout",
     "output_type": "stream",
     "text": [
      "(42, 60)\n",
      "(42,)\n"
     ]
    }
   ],
   "source": [
    "print(X_test.shape)\n",
    "print(Y_test.shape)"
   ]
  },
  {
   "cell_type": "markdown",
   "metadata": {
    "colab_type": "text",
    "id": "VK-osnGdRBtm"
   },
   "source": [
    "# Logistic Regression"
   ]
  },
  {
   "cell_type": "code",
   "execution_count": 33,
   "metadata": {
    "colab": {
     "base_uri": "https://localhost:8080/",
     "height": 269
    },
    "colab_type": "code",
    "executionInfo": {
     "elapsed": 1872,
     "status": "ok",
     "timestamp": 1570672647730,
     "user": {
      "displayName": "Dharmanath PATIL",
      "photoUrl": "https://lh3.googleusercontent.com/a-/AAuE7mC6ge8KNDISjWm-FphDTvfeEhrPZkXjmizWV21HJg=s64",
      "userId": "15515686314360430415"
     },
     "user_tz": -330
    },
    "id": "zOR4J4ikYB1T",
    "outputId": "49c875e9-e1f1-475b-c240-631ec0d2aa8a"
   },
   "outputs": [
    {
     "data": {
      "image/png": "[encoded data removed]",
      "text/plain": [
       "<Figure size 432x288 with 1 Axes>"
      ]
     },
     "metadata": {
      "tags": []
     },
     "output_type": "display_data"
    }
   ],
   "source": [
    "df.head(2)\n",
    "#Let's say the outlier is present after 0.12\n",
    "sdf = df[df['attribute_1']<0.12]\n",
    "plt.hist(sdf['attribute_1'])\n",
    "plt.show()"
   ]
  },
  {
   "cell_type": "code",
   "execution_count": 18,
   "metadata": {
    "colab": {
     "base_uri": "https://localhost:8080/",
     "height": 269
    },
    "colab_type": "code",
    "executionInfo": {
     "elapsed": 1270,
     "status": "ok",
     "timestamp": 1570671044082,
     "user": {
      "displayName": "Dharmanath PATIL",
      "photoUrl": "https://lh3.googleusercontent.com/a-/AAuE7mC6ge8KNDISjWm-FphDTvfeEhrPZkXjmizWV21HJg=s64",
      "userId": "15515686314360430415"
     },
     "user_tz": -330
    },
    "id": "nwyWmEGNSY5M",
    "outputId": "a16460aa-8fab-409e-996b-2e1796c0e2da"
   },
   "outputs": [
    {
     "data": {
      "image/png": "[encoded data removed]",
      "text/plain": [
       "<Figure size 432x288 with 1 Axes>"
      ]
     },
     "metadata": {
      "tags": []
     },
     "output_type": "display_data"
    }
   ],
   "source": [
    "import matplotlib.pyplot as plt\n",
    "%matplotlib inline\n",
    "plt.hist(df['attribute_1'])\n",
    "plt.show()"
   ]
  },
  {
   "cell_type": "code",
   "execution_count": 0,
   "metadata": {
    "colab": {},
    "colab_type": "code",
    "id": "dqd1SWsdQY5M"
   },
   "outputs": [],
   "source": [
    "# Assumptions:\n",
    "# 1. there is a linear relashionship between the logit of the outcome (dependent variable) and each predictor variables (independent variables)\n",
    "#         logit(p) = log(p/(1-p))\n",
    "# 2. there is no outliers in the predictors. seaborn boxplot\n",
    "# 3. there is no co-relation between the dependent variables"
   ]
  },
  {
   "cell_type": "code",
   "execution_count": 20,
   "metadata": {
    "colab": {
     "base_uri": "https://localhost:8080/",
     "height": 159
    },
    "colab_type": "code",
    "executionInfo": {
     "elapsed": 732,
     "status": "ok",
     "timestamp": 1570671493209,
     "user": {
      "displayName": "Dharmanath PATIL",
      "photoUrl": "https://lh3.googleusercontent.com/a-/AAuE7mC6ge8KNDISjWm-FphDTvfeEhrPZkXjmizWV21HJg=s64",
      "userId": "15515686314360430415"
     },
     "user_tz": -330
    },
    "id": "r-KZoxAETmie",
    "outputId": "d7245dde-6398-4b1d-f276-55919125f96f"
   },
   "outputs": [
    {
     "name": "stderr",
     "output_type": "stream",
     "text": [
      "/usr/local/lib/python3.6/dist-packages/sklearn/linear_model/logistic.py:432: FutureWarning: Default solver will be changed to 'lbfgs' in 0.22. Specify a solver to silence this warning.\n",
      "  FutureWarning)\n"
     ]
    },
    {
     "data": {
      "text/plain": [
       "LogisticRegression(C=1.0, class_weight=None, dual=False, fit_intercept=True,\n",
       "                   intercept_scaling=1, l1_ratio=None, max_iter=100,\n",
       "                   multi_class='warn', n_jobs=None, penalty='l2',\n",
       "                   random_state=0, solver='warn', tol=0.0001, verbose=0,\n",
       "                   warm_start=False)"
      ]
     },
     "execution_count": 20,
     "metadata": {
      "tags": []
     },
     "output_type": "execute_result"
    }
   ],
   "source": [
    "# Training\n",
    "from sklearn.linear_model import LogisticRegression\n",
    "LR = LogisticRegression(random_state=0)\n",
    "LR.fit(X_train,Y_train)"
   ]
  },
  {
   "cell_type": "code",
   "execution_count": 0,
   "metadata": {
    "colab": {},
    "colab_type": "code",
    "id": "mfyf_rYUUPzr"
   },
   "outputs": [],
   "source": [
    "# Testing\n",
    "LR_pred = LR.predict(X_test)"
   ]
  },
  {
   "cell_type": "code",
   "execution_count": 22,
   "metadata": {
    "colab": {
     "base_uri": "https://localhost:8080/",
     "height": 121
    },
    "colab_type": "code",
    "executionInfo": {
     "elapsed": 737,
     "status": "ok",
     "timestamp": 1570671538126,
     "user": {
      "displayName": "Dharmanath PATIL",
      "photoUrl": "https://lh3.googleusercontent.com/a-/AAuE7mC6ge8KNDISjWm-FphDTvfeEhrPZkXjmizWV21HJg=s64",
      "userId": "15515686314360430415"
     },
     "user_tz": -330
    },
    "id": "8lrbIrnQUZhc",
    "outputId": "703b9271-3f8e-4cc1-facc-49efe182a2ff"
   },
   "outputs": [
    {
     "data": {
      "text/plain": [
       "array(['Mine', 'Mine', 'Mine', 'Rock', 'Mine', 'Mine', 'Mine', 'Mine',\n",
       "       'Rock', 'Mine', 'Rock', 'Mine', 'Rock', 'Mine', 'Rock', 'Rock',\n",
       "       'Mine', 'Rock', 'Rock', 'Rock', 'Rock', 'Rock', 'Mine', 'Mine',\n",
       "       'Rock', 'Mine', 'Mine', 'Mine', 'Rock', 'Mine', 'Rock', 'Mine',\n",
       "       'Mine', 'Rock', 'Mine', 'Mine', 'Mine', 'Mine', 'Rock', 'Mine',\n",
       "       'Mine', 'Mine'], dtype=object)"
      ]
     },
     "execution_count": 22,
     "metadata": {
      "tags": []
     },
     "output_type": "execute_result"
    }
   ],
   "source": [
    "LR_pred"
   ]
  },
  {
   "cell_type": "code",
   "execution_count": 23,
   "metadata": {
    "colab": {
     "base_uri": "https://localhost:8080/",
     "height": 121
    },
    "colab_type": "code",
    "executionInfo": {
     "elapsed": 699,
     "status": "ok",
     "timestamp": 1570671551058,
     "user": {
      "displayName": "Dharmanath PATIL",
      "photoUrl": "https://lh3.googleusercontent.com/a-/AAuE7mC6ge8KNDISjWm-FphDTvfeEhrPZkXjmizWV21HJg=s64",
      "userId": "15515686314360430415"
     },
     "user_tz": -330
    },
    "id": "nHCBmNhsUaxx",
    "outputId": "f51505d3-748d-4ad5-9854-f91f6ecc7370"
   },
   "outputs": [
    {
     "data": {
      "text/plain": [
       "array(['Rock', 'Rock', 'Rock', 'Rock', 'Mine', 'Rock', 'Mine', 'Mine',\n",
       "       'Rock', 'Mine', 'Rock', 'Mine', 'Rock', 'Mine', 'Rock', 'Rock',\n",
       "       'Mine', 'Rock', 'Rock', 'Rock', 'Mine', 'Rock', 'Rock', 'Rock',\n",
       "       'Rock', 'Mine', 'Mine', 'Mine', 'Mine', 'Mine', 'Rock', 'Mine',\n",
       "       'Mine', 'Rock', 'Mine', 'Mine', 'Mine', 'Mine', 'Rock', 'Mine',\n",
       "       'Mine', 'Rock'], dtype=object)"
      ]
     },
     "execution_count": 23,
     "metadata": {
      "tags": []
     },
     "output_type": "execute_result"
    }
   ],
   "source": [
    "Y_test"
   ]
  },
  {
   "cell_type": "code",
   "execution_count": 25,
   "metadata": {
    "colab": {
     "base_uri": "https://localhost:8080/",
     "height": 34
    },
    "colab_type": "code",
    "executionInfo": {
     "elapsed": 764,
     "status": "ok",
     "timestamp": 1570671627955,
     "user": {
      "displayName": "Dharmanath PATIL",
      "photoUrl": "https://lh3.googleusercontent.com/a-/AAuE7mC6ge8KNDISjWm-FphDTvfeEhrPZkXjmizWV21HJg=s64",
      "userId": "15515686314360430415"
     },
     "user_tz": -330
    },
    "id": "RfDfdnAtUd7x",
    "outputId": "146cc519-a339-47d5-e2fc-f97097b637e1"
   },
   "outputs": [
    {
     "data": {
      "text/plain": [
       "0.7857142857142857"
      ]
     },
     "execution_count": 25,
     "metadata": {
      "tags": []
     },
     "output_type": "execute_result"
    }
   ],
   "source": [
    "from sklearn.metrics import accuracy_score\n",
    "accuracy_score(Y_test,LR_pred)"
   ]
  },
  {
   "cell_type": "code",
   "execution_count": 0,
   "metadata": {
    "colab": {},
    "colab_type": "code",
    "id": "_okrGownUpP-"
   },
   "outputs": [],
   "source": [
    "# Test --> 50% Rock 50% Mine --> model predicts all the samples as Rock --> 50%\n",
    "# Test --> 80% Rock 20% Mine --> model predicts all the samples as Rock --> 80%"
   ]
  },
  {
   "cell_type": "code",
   "execution_count": 27,
   "metadata": {
    "colab": {
     "base_uri": "https://localhost:8080/",
     "height": 52
    },
    "colab_type": "code",
    "executionInfo": {
     "elapsed": 562,
     "status": "ok",
     "timestamp": 1570671761756,
     "user": {
      "displayName": "Dharmanath PATIL",
      "photoUrl": "https://lh3.googleusercontent.com/a-/AAuE7mC6ge8KNDISjWm-FphDTvfeEhrPZkXjmizWV21HJg=s64",
      "userId": "15515686314360430415"
     },
     "user_tz": -330
    },
    "id": "A_8f48Z1VJTJ",
    "outputId": "7148e3f4-32e3-4a6d-b835-2734adaa3dd8"
   },
   "outputs": [
    {
     "data": {
      "text/plain": [
       "array([[19,  2],\n",
       "       [ 7, 14]])"
      ]
     },
     "execution_count": 27,
     "metadata": {
      "tags": []
     },
     "output_type": "execute_result"
    }
   ],
   "source": [
    "from sklearn.metrics import confusion_matrix\n",
    "confusion_matrix(Y_test,LR_pred)"
   ]
  },
  {
   "cell_type": "code",
   "execution_count": 0,
   "metadata": {
    "colab": {},
    "colab_type": "code",
    "id": "ME9QUCZuVRan"
   },
   "outputs": [],
   "source": [
    "# Rock is been identified as Rock = 19\n",
    "# Rock is been identified as Mine = 2\n",
    "# Mine is been identified as Mine = 14\n",
    "# Mine is been identified as Rock = 7\n",
    "\n",
    "#           ROCK.  MINE\n",
    "  \n",
    "#   ROCK      19.    2\n",
    "#   MINE       7.    14\n",
    "  \n",
    "  \n",
    "  \n",
    "#             ROCK.  MINE\n",
    "  \n",
    "#   ROCK      19.    2\n",
    "#   MINE      14.    7\n",
    "  \n",
    " "
   ]
  },
  {
   "cell_type": "code",
   "execution_count": 29,
   "metadata": {
    "colab": {
     "base_uri": "https://localhost:8080/",
     "height": 173
    },
    "colab_type": "code",
    "executionInfo": {
     "elapsed": 1571,
     "status": "ok",
     "timestamp": 1570672103407,
     "user": {
      "displayName": "Dharmanath PATIL",
      "photoUrl": "https://lh3.googleusercontent.com/a-/AAuE7mC6ge8KNDISjWm-FphDTvfeEhrPZkXjmizWV21HJg=s64",
      "userId": "15515686314360430415"
     },
     "user_tz": -330
    },
    "id": "9AxXgofYWS3u",
    "outputId": "87c43640-ea82-46dd-b080-d3127b46da23"
   },
   "outputs": [
    {
     "name": "stdout",
     "output_type": "stream",
     "text": [
      "              precision    recall  f1-score   support\n",
      "\n",
      "        Mine       0.73      0.90      0.81        21\n",
      "        Rock       0.88      0.67      0.76        21\n",
      "\n",
      "    accuracy                           0.79        42\n",
      "   macro avg       0.80      0.79      0.78        42\n",
      "weighted avg       0.80      0.79      0.78        42\n",
      "\n"
     ]
    }
   ],
   "source": [
    "from sklearn.metrics import classification_report\n",
    "print(classification_report(Y_test,LR_pred))"
   ]
  },
  {
   "cell_type": "markdown",
   "metadata": {
    "colab_type": "text",
    "id": "gg4SFn5wY2ZE"
   },
   "source": [
    "# Naive Bayes"
   ]
  },
  {
   "cell_type": "markdown",
   "metadata": {
    "colab_type": "text",
    "id": "QMAs1-OVaFTo"
   },
   "source": [
    "there is no co-relation between the dependent variables"
   ]
  },
  {
   "cell_type": "code",
   "execution_count": 34,
   "metadata": {
    "colab": {
     "base_uri": "https://localhost:8080/",
     "height": 34
    },
    "colab_type": "code",
    "executionInfo": {
     "elapsed": 702,
     "status": "ok",
     "timestamp": 1570672756808,
     "user": {
      "displayName": "Dharmanath PATIL",
      "photoUrl": "https://lh3.googleusercontent.com/a-/AAuE7mC6ge8KNDISjWm-FphDTvfeEhrPZkXjmizWV21HJg=s64",
      "userId": "15515686314360430415"
     },
     "user_tz": -330
    },
    "id": "TkUcQRr1WcGs",
    "outputId": "15eb0182-929e-48f6-fc9d-ac6bf89be457"
   },
   "outputs": [
    {
     "data": {
      "text/plain": [
       "GaussianNB(priors=None, var_smoothing=1e-09)"
      ]
     },
     "execution_count": 34,
     "metadata": {
      "tags": []
     },
     "output_type": "execute_result"
    }
   ],
   "source": [
    "from sklearn.naive_bayes import GaussianNB\n",
    "NB = GaussianNB()\n",
    "NB.fit(X_train,Y_train)"
   ]
  },
  {
   "cell_type": "code",
   "execution_count": 0,
   "metadata": {
    "colab": {},
    "colab_type": "code",
    "id": "YCox1KVlZETX"
   },
   "outputs": [],
   "source": [
    "NB_pred = NB.predict(X_test)"
   ]
  },
  {
   "cell_type": "code",
   "execution_count": 36,
   "metadata": {
    "colab": {
     "base_uri": "https://localhost:8080/",
     "height": 121
    },
    "colab_type": "code",
    "executionInfo": {
     "elapsed": 828,
     "status": "ok",
     "timestamp": 1570672781153,
     "user": {
      "displayName": "Dharmanath PATIL",
      "photoUrl": "https://lh3.googleusercontent.com/a-/AAuE7mC6ge8KNDISjWm-FphDTvfeEhrPZkXjmizWV21HJg=s64",
      "userId": "15515686314360430415"
     },
     "user_tz": -330
    },
    "id": "yjHpdd0XZIyx",
    "outputId": "9abde0f4-91b6-49ba-880e-96b03af69a2f"
   },
   "outputs": [
    {
     "data": {
      "text/plain": [
       "array(['Rock', 'Rock', 'Mine', 'Rock', 'Rock', 'Mine', 'Mine', 'Mine',\n",
       "       'Rock', 'Rock', 'Rock', 'Mine', 'Rock', 'Rock', 'Rock', 'Mine',\n",
       "       'Rock', 'Rock', 'Rock', 'Rock', 'Rock', 'Rock', 'Mine', 'Rock',\n",
       "       'Rock', 'Mine', 'Mine', 'Mine', 'Rock', 'Mine', 'Rock', 'Mine',\n",
       "       'Mine', 'Rock', 'Mine', 'Mine', 'Mine', 'Rock', 'Mine', 'Mine',\n",
       "       'Rock', 'Mine'], dtype='<U4')"
      ]
     },
     "execution_count": 36,
     "metadata": {
      "tags": []
     },
     "output_type": "execute_result"
    }
   ],
   "source": [
    "NB_pred"
   ]
  },
  {
   "cell_type": "code",
   "execution_count": 37,
   "metadata": {
    "colab": {
     "base_uri": "https://localhost:8080/",
     "height": 121
    },
    "colab_type": "code",
    "executionInfo": {
     "elapsed": 715,
     "status": "ok",
     "timestamp": 1570672792214,
     "user": {
      "displayName": "Dharmanath PATIL",
      "photoUrl": "https://lh3.googleusercontent.com/a-/AAuE7mC6ge8KNDISjWm-FphDTvfeEhrPZkXjmizWV21HJg=s64",
      "userId": "15515686314360430415"
     },
     "user_tz": -330
    },
    "id": "3OWGUxa5ZKOt",
    "outputId": "f62461a8-c52a-4062-8839-51d45d992e97"
   },
   "outputs": [
    {
     "data": {
      "text/plain": [
       "array(['Rock', 'Rock', 'Rock', 'Rock', 'Mine', 'Rock', 'Mine', 'Mine',\n",
       "       'Rock', 'Mine', 'Rock', 'Mine', 'Rock', 'Mine', 'Rock', 'Rock',\n",
       "       'Mine', 'Rock', 'Rock', 'Rock', 'Mine', 'Rock', 'Rock', 'Rock',\n",
       "       'Rock', 'Mine', 'Mine', 'Mine', 'Mine', 'Mine', 'Rock', 'Mine',\n",
       "       'Mine', 'Rock', 'Mine', 'Mine', 'Mine', 'Mine', 'Rock', 'Mine',\n",
       "       'Mine', 'Rock'], dtype=object)"
      ]
     },
     "execution_count": 37,
     "metadata": {
      "tags": []
     },
     "output_type": "execute_result"
    }
   ],
   "source": [
    "Y_test"
   ]
  },
  {
   "cell_type": "code",
   "execution_count": 38,
   "metadata": {
    "colab": {
     "base_uri": "https://localhost:8080/",
     "height": 34
    },
    "colab_type": "code",
    "executionInfo": {
     "elapsed": 734,
     "status": "ok",
     "timestamp": 1570672868896,
     "user": {
      "displayName": "Dharmanath PATIL",
      "photoUrl": "https://lh3.googleusercontent.com/a-/AAuE7mC6ge8KNDISjWm-FphDTvfeEhrPZkXjmizWV21HJg=s64",
      "userId": "15515686314360430415"
     },
     "user_tz": -330
    },
    "id": "gwdGD2zbZM8j",
    "outputId": "43c041ba-66b0-4039-a1ee-c2b269225c2d"
   },
   "outputs": [
    {
     "data": {
      "text/plain": [
       "0.6666666666666666"
      ]
     },
     "execution_count": 38,
     "metadata": {
      "tags": []
     },
     "output_type": "execute_result"
    }
   ],
   "source": [
    "accuracy_score(Y_test,NB_pred)"
   ]
  },
  {
   "cell_type": "code",
   "execution_count": 39,
   "metadata": {
    "colab": {
     "base_uri": "https://localhost:8080/",
     "height": 52
    },
    "colab_type": "code",
    "executionInfo": {
     "elapsed": 738,
     "status": "ok",
     "timestamp": 1570672890198,
     "user": {
      "displayName": "Dharmanath PATIL",
      "photoUrl": "https://lh3.googleusercontent.com/a-/AAuE7mC6ge8KNDISjWm-FphDTvfeEhrPZkXjmizWV21HJg=s64",
      "userId": "15515686314360430415"
     },
     "user_tz": -330
    },
    "id": "wb9H4_5CZfrF",
    "outputId": "17189fb0-061b-442d-b91f-de58bb07c15e"
   },
   "outputs": [
    {
     "data": {
      "text/plain": [
       "array([[13,  8],\n",
       "       [ 6, 15]])"
      ]
     },
     "execution_count": 39,
     "metadata": {
      "tags": []
     },
     "output_type": "execute_result"
    }
   ],
   "source": [
    "confusion_matrix(Y_test,NB_pred)"
   ]
  },
  {
   "cell_type": "code",
   "execution_count": 40,
   "metadata": {
    "colab": {
     "base_uri": "https://localhost:8080/",
     "height": 173
    },
    "colab_type": "code",
    "executionInfo": {
     "elapsed": 707,
     "status": "ok",
     "timestamp": 1570672955851,
     "user": {
      "displayName": "Dharmanath PATIL",
      "photoUrl": "https://lh3.googleusercontent.com/a-/AAuE7mC6ge8KNDISjWm-FphDTvfeEhrPZkXjmizWV21HJg=s64",
      "userId": "15515686314360430415"
     },
     "user_tz": -330
    },
    "id": "CCsMbnY1Zk3p",
    "outputId": "b2314610-808e-47c3-8562-ac9a14c6cb40"
   },
   "outputs": [
    {
     "name": "stdout",
     "output_type": "stream",
     "text": [
      "              precision    recall  f1-score   support\n",
      "\n",
      "        Mine       0.68      0.62      0.65        21\n",
      "        Rock       0.65      0.71      0.68        21\n",
      "\n",
      "    accuracy                           0.67        42\n",
      "   macro avg       0.67      0.67      0.67        42\n",
      "weighted avg       0.67      0.67      0.67        42\n",
      "\n"
     ]
    }
   ],
   "source": [
    "print(classification_report(Y_test,NB_pred))"
   ]
  },
  {
   "cell_type": "markdown",
   "metadata": {
    "colab_type": "text",
    "id": "n2iorNtiaOir"
   },
   "source": [
    "# XGBoost"
   ]
  },
  {
   "cell_type": "code",
   "execution_count": 41,
   "metadata": {
    "colab": {
     "base_uri": "https://localhost:8080/",
     "height": 139
    },
    "colab_type": "code",
    "executionInfo": {
     "elapsed": 728,
     "status": "ok",
     "timestamp": 1570673128019,
     "user": {
      "displayName": "Dharmanath PATIL",
      "photoUrl": "https://lh3.googleusercontent.com/a-/AAuE7mC6ge8KNDISjWm-FphDTvfeEhrPZkXjmizWV21HJg=s64",
      "userId": "15515686314360430415"
     },
     "user_tz": -330
    },
    "id": "xY8yGoVuZ05y",
    "outputId": "ae45bddb-93bb-41cf-b84c-1268e2bff0c0"
   },
   "outputs": [
    {
     "data": {
      "text/plain": [
       "XGBClassifier(base_score=0.5, booster='gbtree', colsample_bylevel=1,\n",
       "              colsample_bynode=1, colsample_bytree=1, gamma=0,\n",
       "              learning_rate=0.1, max_delta_step=0, max_depth=3,\n",
       "              min_child_weight=1, missing=None, n_estimators=100, n_jobs=1,\n",
       "              nthread=None, objective='binary:logistic', random_state=0,\n",
       "              reg_alpha=0, reg_lambda=1, scale_pos_weight=1, seed=None,\n",
       "              silent=None, subsample=1, verbosity=1)"
      ]
     },
     "execution_count": 41,
     "metadata": {
      "tags": []
     },
     "output_type": "execute_result"
    }
   ],
   "source": [
    "from xgboost import XGBClassifier\n",
    "XGB = XGBClassifier()\n",
    "XGB.fit(X_train,Y_train)"
   ]
  },
  {
   "cell_type": "code",
   "execution_count": 0,
   "metadata": {
    "colab": {},
    "colab_type": "code",
    "id": "PXLNfoTwae7y"
   },
   "outputs": [],
   "source": [
    "XGB_pred = XGB.predict(X_test)"
   ]
  },
  {
   "cell_type": "code",
   "execution_count": 43,
   "metadata": {
    "colab": {
     "base_uri": "https://localhost:8080/",
     "height": 121
    },
    "colab_type": "code",
    "executionInfo": {
     "elapsed": 778,
     "status": "ok",
     "timestamp": 1570673157498,
     "user": {
      "displayName": "Dharmanath PATIL",
      "photoUrl": "https://lh3.googleusercontent.com/a-/AAuE7mC6ge8KNDISjWm-FphDTvfeEhrPZkXjmizWV21HJg=s64",
      "userId": "15515686314360430415"
     },
     "user_tz": -330
    },
    "id": "d3BrOAenalSC",
    "outputId": "0b8e74f6-c8f7-4b2e-e623-b460b79d73c5"
   },
   "outputs": [
    {
     "data": {
      "text/plain": [
       "array(['Rock', 'Rock', 'Mine', 'Rock', 'Mine', 'Rock', 'Mine', 'Mine',\n",
       "       'Rock', 'Rock', 'Rock', 'Mine', 'Rock', 'Mine', 'Rock', 'Rock',\n",
       "       'Mine', 'Rock', 'Rock', 'Rock', 'Mine', 'Rock', 'Mine', 'Mine',\n",
       "       'Rock', 'Mine', 'Mine', 'Mine', 'Mine', 'Mine', 'Rock', 'Mine',\n",
       "       'Rock', 'Rock', 'Mine', 'Mine', 'Mine', 'Mine', 'Mine', 'Mine',\n",
       "       'Mine', 'Rock'], dtype=object)"
      ]
     },
     "execution_count": 43,
     "metadata": {
      "tags": []
     },
     "output_type": "execute_result"
    }
   ],
   "source": [
    "XGB_pred"
   ]
  },
  {
   "cell_type": "code",
   "execution_count": 44,
   "metadata": {
    "colab": {
     "base_uri": "https://localhost:8080/",
     "height": 121
    },
    "colab_type": "code",
    "executionInfo": {
     "elapsed": 676,
     "status": "ok",
     "timestamp": 1570673163528,
     "user": {
      "displayName": "Dharmanath PATIL",
      "photoUrl": "https://lh3.googleusercontent.com/a-/AAuE7mC6ge8KNDISjWm-FphDTvfeEhrPZkXjmizWV21HJg=s64",
      "userId": "15515686314360430415"
     },
     "user_tz": -330
    },
    "id": "gn97-8tVamHv",
    "outputId": "27f68348-a582-4e05-fa85-6f9d8ad437c4"
   },
   "outputs": [
    {
     "data": {
      "text/plain": [
       "array(['Rock', 'Rock', 'Rock', 'Rock', 'Mine', 'Rock', 'Mine', 'Mine',\n",
       "       'Rock', 'Mine', 'Rock', 'Mine', 'Rock', 'Mine', 'Rock', 'Rock',\n",
       "       'Mine', 'Rock', 'Rock', 'Rock', 'Mine', 'Rock', 'Rock', 'Rock',\n",
       "       'Rock', 'Mine', 'Mine', 'Mine', 'Mine', 'Mine', 'Rock', 'Mine',\n",
       "       'Mine', 'Rock', 'Mine', 'Mine', 'Mine', 'Mine', 'Rock', 'Mine',\n",
       "       'Mine', 'Rock'], dtype=object)"
      ]
     },
     "execution_count": 44,
     "metadata": {
      "tags": []
     },
     "output_type": "execute_result"
    }
   ],
   "source": [
    "Y_test"
   ]
  },
  {
   "cell_type": "code",
   "execution_count": 45,
   "metadata": {
    "colab": {
     "base_uri": "https://localhost:8080/",
     "height": 34
    },
    "colab_type": "code",
    "executionInfo": {
     "elapsed": 654,
     "status": "ok",
     "timestamp": 1570673185242,
     "user": {
      "displayName": "Dharmanath PATIL",
      "photoUrl": "https://lh3.googleusercontent.com/a-/AAuE7mC6ge8KNDISjWm-FphDTvfeEhrPZkXjmizWV21HJg=s64",
      "userId": "15515686314360430415"
     },
     "user_tz": -330
    },
    "id": "Us-1yAiRanmp",
    "outputId": "2fd4cf0b-8ddf-436f-b0b1-285266458dea"
   },
   "outputs": [
    {
     "data": {
      "text/plain": [
       "0.8571428571428571"
      ]
     },
     "execution_count": 45,
     "metadata": {
      "tags": []
     },
     "output_type": "execute_result"
    }
   ],
   "source": [
    "accuracy_score(Y_test,XGB_pred)"
   ]
  },
  {
   "cell_type": "code",
   "execution_count": 46,
   "metadata": {
    "colab": {
     "base_uri": "https://localhost:8080/",
     "height": 52
    },
    "colab_type": "code",
    "executionInfo": {
     "elapsed": 823,
     "status": "ok",
     "timestamp": 1570673206117,
     "user": {
      "displayName": "Dharmanath PATIL",
      "photoUrl": "https://lh3.googleusercontent.com/a-/AAuE7mC6ge8KNDISjWm-FphDTvfeEhrPZkXjmizWV21HJg=s64",
      "userId": "15515686314360430415"
     },
     "user_tz": -330
    },
    "id": "5bMYdh0Aas6M",
    "outputId": "1796f234-c58f-42ca-aee8-1a3becb49d35"
   },
   "outputs": [
    {
     "data": {
      "text/plain": [
       "array([[19,  2],\n",
       "       [ 4, 17]])"
      ]
     },
     "execution_count": 46,
     "metadata": {
      "tags": []
     },
     "output_type": "execute_result"
    }
   ],
   "source": [
    "confusion_matrix(Y_test,XGB_pred)"
   ]
  },
  {
   "cell_type": "code",
   "execution_count": 47,
   "metadata": {
    "colab": {
     "base_uri": "https://localhost:8080/",
     "height": 173
    },
    "colab_type": "code",
    "executionInfo": {
     "elapsed": 684,
     "status": "ok",
     "timestamp": 1570673249348,
     "user": {
      "displayName": "Dharmanath PATIL",
      "photoUrl": "https://lh3.googleusercontent.com/a-/AAuE7mC6ge8KNDISjWm-FphDTvfeEhrPZkXjmizWV21HJg=s64",
      "userId": "15515686314360430415"
     },
     "user_tz": -330
    },
    "id": "UFEp9T0lax95",
    "outputId": "e5a8129d-cef5-4b81-fd97-a946ed65f7c7"
   },
   "outputs": [
    {
     "name": "stdout",
     "output_type": "stream",
     "text": [
      "              precision    recall  f1-score   support\n",
      "\n",
      "        Mine       0.83      0.90      0.86        21\n",
      "        Rock       0.89      0.81      0.85        21\n",
      "\n",
      "    accuracy                           0.86        42\n",
      "   macro avg       0.86      0.86      0.86        42\n",
      "weighted avg       0.86      0.86      0.86        42\n",
      "\n"
     ]
    }
   ],
   "source": [
    "print(classification_report(Y_test,XGB_pred))"
   ]
  },
  {
   "cell_type": "markdown",
   "metadata": {
    "colab_type": "text",
    "id": "P2_MMWbVbH7M"
   },
   "source": [
    "# SVC"
   ]
  },
  {
   "cell_type": "markdown",
   "metadata": {
    "colab_type": "text",
    "id": "vSjDRORbcAR_"
   },
   "source": [
    "We should have huge training dataset"
   ]
  },
  {
   "cell_type": "code",
   "execution_count": 48,
   "metadata": {
    "colab": {
     "base_uri": "https://localhost:8080/",
     "height": 141
    },
    "colab_type": "code",
    "executionInfo": {
     "elapsed": 1425,
     "status": "ok",
     "timestamp": 1570673331446,
     "user": {
      "displayName": "Dharmanath PATIL",
      "photoUrl": "https://lh3.googleusercontent.com/a-/AAuE7mC6ge8KNDISjWm-FphDTvfeEhrPZkXjmizWV21HJg=s64",
      "userId": "15515686314360430415"
     },
     "user_tz": -330
    },
    "id": "jIC2nm6ga8jj",
    "outputId": "cd91349a-ad9d-4757-8d9d-237ea6278e65"
   },
   "outputs": [
    {
     "name": "stderr",
     "output_type": "stream",
     "text": [
      "/usr/local/lib/python3.6/dist-packages/sklearn/svm/base.py:193: FutureWarning: The default value of gamma will change from 'auto' to 'scale' in version 0.22 to account better for unscaled features. Set gamma explicitly to 'auto' or 'scale' to avoid this warning.\n",
      "  \"avoid this warning.\", FutureWarning)\n"
     ]
    },
    {
     "data": {
      "text/plain": [
       "SVC(C=1.0, cache_size=200, class_weight=None, coef0=0.0,\n",
       "    decision_function_shape='ovr', degree=3, gamma='auto_deprecated',\n",
       "    kernel='rbf', max_iter=-1, probability=False, random_state=None,\n",
       "    shrinking=True, tol=0.001, verbose=False)"
      ]
     },
     "execution_count": 48,
     "metadata": {
      "tags": []
     },
     "output_type": "execute_result"
    }
   ],
   "source": [
    "from sklearn.svm import SVC\n",
    "SVC_model = SVC()\n",
    "SVC_model.fit(X_train,Y_train)"
   ]
  },
  {
   "cell_type": "code",
   "execution_count": 0,
   "metadata": {
    "colab": {},
    "colab_type": "code",
    "id": "HbXD_dVwbQbc"
   },
   "outputs": [],
   "source": [
    "SVC_pred = SVC_model.predict(X_test)"
   ]
  },
  {
   "cell_type": "code",
   "execution_count": 50,
   "metadata": {
    "colab": {
     "base_uri": "https://localhost:8080/",
     "height": 34
    },
    "colab_type": "code",
    "executionInfo": {
     "elapsed": 1011,
     "status": "ok",
     "timestamp": 1570673374466,
     "user": {
      "displayName": "Dharmanath PATIL",
      "photoUrl": "https://lh3.googleusercontent.com/a-/AAuE7mC6ge8KNDISjWm-FphDTvfeEhrPZkXjmizWV21HJg=s64",
      "userId": "15515686314360430415"
     },
     "user_tz": -330
    },
    "id": "bSMxE2BpbVvS",
    "outputId": "2fc1fc77-ef7b-4f53-89ab-fd1fa106368b"
   },
   "outputs": [
    {
     "data": {
      "text/plain": [
       "0.5952380952380952"
      ]
     },
     "execution_count": 50,
     "metadata": {
      "tags": []
     },
     "output_type": "execute_result"
    }
   ],
   "source": [
    "accuracy_score(Y_test,SVC_pred)"
   ]
  },
  {
   "cell_type": "code",
   "execution_count": 51,
   "metadata": {
    "colab": {
     "base_uri": "https://localhost:8080/",
     "height": 52
    },
    "colab_type": "code",
    "executionInfo": {
     "elapsed": 1042,
     "status": "ok",
     "timestamp": 1570673403432,
     "user": {
      "displayName": "Dharmanath PATIL",
      "photoUrl": "https://lh3.googleusercontent.com/a-/AAuE7mC6ge8KNDISjWm-FphDTvfeEhrPZkXjmizWV21HJg=s64",
      "userId": "15515686314360430415"
     },
     "user_tz": -330
    },
    "id": "Ncfm53aybbBb",
    "outputId": "6d02e1d7-7b76-4411-e2d0-f10d2abffd1f"
   },
   "outputs": [
    {
     "data": {
      "text/plain": [
       "array([[20,  1],\n",
       "       [16,  5]])"
      ]
     },
     "execution_count": 51,
     "metadata": {
      "tags": []
     },
     "output_type": "execute_result"
    }
   ],
   "source": [
    "confusion_matrix(Y_test,SVC_pred)"
   ]
  },
  {
   "cell_type": "markdown",
   "metadata": {
    "colab_type": "text",
    "id": "BPjmm38hcMyu"
   },
   "source": [
    "# decision Tree"
   ]
  },
  {
   "cell_type": "code",
   "execution_count": 52,
   "metadata": {
    "colab": {
     "base_uri": "https://localhost:8080/",
     "height": 121
    },
    "colab_type": "code",
    "executionInfo": {
     "elapsed": 674,
     "status": "ok",
     "timestamp": 1570673617975,
     "user": {
      "displayName": "Dharmanath PATIL",
      "photoUrl": "https://lh3.googleusercontent.com/a-/AAuE7mC6ge8KNDISjWm-FphDTvfeEhrPZkXjmizWV21HJg=s64",
      "userId": "15515686314360430415"
     },
     "user_tz": -330
    },
    "id": "esc97q3bbiFQ",
    "outputId": "878fb099-4729-4701-cbba-dbd77d965fc3"
   },
   "outputs": [
    {
     "data": {
      "text/plain": [
       "DecisionTreeClassifier(class_weight=None, criterion='gini', max_depth=None,\n",
       "                       max_features=None, max_leaf_nodes=None,\n",
       "                       min_impurity_decrease=0.0, min_impurity_split=None,\n",
       "                       min_samples_leaf=1, min_samples_split=2,\n",
       "                       min_weight_fraction_leaf=0.0, presort=False,\n",
       "                       random_state=None, splitter='best')"
      ]
     },
     "execution_count": 52,
     "metadata": {
      "tags": []
     },
     "output_type": "execute_result"
    }
   ],
   "source": [
    "from sklearn.tree import DecisionTreeClassifier\n",
    "DT = DecisionTreeClassifier()\n",
    "DT.fit(X_train,Y_train)"
   ]
  },
  {
   "cell_type": "code",
   "execution_count": 0,
   "metadata": {
    "colab": {},
    "colab_type": "code",
    "id": "7UMEpF7icWjh"
   },
   "outputs": [],
   "source": [
    "DT_pred = DT.predict(X_test)"
   ]
  },
  {
   "cell_type": "code",
   "execution_count": 54,
   "metadata": {
    "colab": {
     "base_uri": "https://localhost:8080/",
     "height": 121
    },
    "colab_type": "code",
    "executionInfo": {
     "elapsed": 1907,
     "status": "ok",
     "timestamp": 1570673637138,
     "user": {
      "displayName": "Dharmanath PATIL",
      "photoUrl": "https://lh3.googleusercontent.com/a-/AAuE7mC6ge8KNDISjWm-FphDTvfeEhrPZkXjmizWV21HJg=s64",
      "userId": "15515686314360430415"
     },
     "user_tz": -330
    },
    "id": "YyFjjeOhcaCj",
    "outputId": "d8263cae-79d3-402f-abaa-63de0acdcce1"
   },
   "outputs": [
    {
     "data": {
      "text/plain": [
       "array(['Mine', 'Mine', 'Mine', 'Rock', 'Mine', 'Mine', 'Mine', 'Mine',\n",
       "       'Mine', 'Rock', 'Rock', 'Mine', 'Rock', 'Mine', 'Rock', 'Rock',\n",
       "       'Mine', 'Rock', 'Rock', 'Rock', 'Rock', 'Mine', 'Mine', 'Rock',\n",
       "       'Rock', 'Mine', 'Rock', 'Mine', 'Mine', 'Mine', 'Rock', 'Rock',\n",
       "       'Mine', 'Rock', 'Mine', 'Mine', 'Rock', 'Mine', 'Mine', 'Mine',\n",
       "       'Mine', 'Rock'], dtype=object)"
      ]
     },
     "execution_count": 54,
     "metadata": {
      "tags": []
     },
     "output_type": "execute_result"
    }
   ],
   "source": [
    "DT_pred"
   ]
  },
  {
   "cell_type": "code",
   "execution_count": 56,
   "metadata": {
    "colab": {
     "base_uri": "https://localhost:8080/",
     "height": 121
    },
    "colab_type": "code",
    "executionInfo": {
     "elapsed": 742,
     "status": "ok",
     "timestamp": 1570673649925,
     "user": {
      "displayName": "Dharmanath PATIL",
      "photoUrl": "https://lh3.googleusercontent.com/a-/AAuE7mC6ge8KNDISjWm-FphDTvfeEhrPZkXjmizWV21HJg=s64",
      "userId": "15515686314360430415"
     },
     "user_tz": -330
    },
    "id": "I7K5yOBWca8Q",
    "outputId": "215077ff-c281-4175-b902-2b62bfc7ee36"
   },
   "outputs": [
    {
     "data": {
      "text/plain": [
       "array(['Rock', 'Rock', 'Rock', 'Rock', 'Mine', 'Rock', 'Mine', 'Mine',\n",
       "       'Rock', 'Mine', 'Rock', 'Mine', 'Rock', 'Mine', 'Rock', 'Rock',\n",
       "       'Mine', 'Rock', 'Rock', 'Rock', 'Mine', 'Rock', 'Rock', 'Rock',\n",
       "       'Rock', 'Mine', 'Mine', 'Mine', 'Mine', 'Mine', 'Rock', 'Mine',\n",
       "       'Mine', 'Rock', 'Mine', 'Mine', 'Mine', 'Mine', 'Rock', 'Mine',\n",
       "       'Mine', 'Rock'], dtype=object)"
      ]
     },
     "execution_count": 56,
     "metadata": {
      "tags": []
     },
     "output_type": "execute_result"
    }
   ],
   "source": [
    "Y_test"
   ]
  },
  {
   "cell_type": "code",
   "execution_count": 57,
   "metadata": {
    "colab": {
     "base_uri": "https://localhost:8080/",
     "height": 34
    },
    "colab_type": "code",
    "executionInfo": {
     "elapsed": 858,
     "status": "ok",
     "timestamp": 1570673663066,
     "user": {
      "displayName": "Dharmanath PATIL",
      "photoUrl": "https://lh3.googleusercontent.com/a-/AAuE7mC6ge8KNDISjWm-FphDTvfeEhrPZkXjmizWV21HJg=s64",
      "userId": "15515686314360430415"
     },
     "user_tz": -330
    },
    "id": "eieQueofcc0h",
    "outputId": "f85c6591-4d7d-45f3-8900-136c7f98b69b"
   },
   "outputs": [
    {
     "data": {
      "text/plain": [
       "0.6904761904761905"
      ]
     },
     "execution_count": 57,
     "metadata": {
      "tags": []
     },
     "output_type": "execute_result"
    }
   ],
   "source": [
    "accuracy_score(Y_test,DT_pred)"
   ]
  },
  {
   "cell_type": "code",
   "execution_count": 58,
   "metadata": {
    "colab": {
     "base_uri": "https://localhost:8080/",
     "height": 52
    },
    "colab_type": "code",
    "executionInfo": {
     "elapsed": 691,
     "status": "ok",
     "timestamp": 1570673685192,
     "user": {
      "displayName": "Dharmanath PATIL",
      "photoUrl": "https://lh3.googleusercontent.com/a-/AAuE7mC6ge8KNDISjWm-FphDTvfeEhrPZkXjmizWV21HJg=s64",
      "userId": "15515686314360430415"
     },
     "user_tz": -330
    },
    "id": "wDmcQFaBchhh",
    "outputId": "af4f553c-b30c-43ba-e66e-dcfad9215266"
   },
   "outputs": [
    {
     "data": {
      "text/plain": [
       "array([[16,  5],\n",
       "       [ 8, 13]])"
      ]
     },
     "execution_count": 58,
     "metadata": {
      "tags": []
     },
     "output_type": "execute_result"
    }
   ],
   "source": [
    "confusion_matrix(Y_test,DT_pred)"
   ]
  },
  {
   "cell_type": "code",
   "execution_count": 59,
   "metadata": {
    "colab": {
     "base_uri": "https://localhost:8080/",
     "height": 173
    },
    "colab_type": "code",
    "executionInfo": {
     "elapsed": 660,
     "status": "ok",
     "timestamp": 1570673696851,
     "user": {
      "displayName": "Dharmanath PATIL",
      "photoUrl": "https://lh3.googleusercontent.com/a-/AAuE7mC6ge8KNDISjWm-FphDTvfeEhrPZkXjmizWV21HJg=s64",
      "userId": "15515686314360430415"
     },
     "user_tz": -330
    },
    "id": "GUj99eDJcm9v",
    "outputId": "bd4c7462-6b98-4eb9-fc61-07eaede02481"
   },
   "outputs": [
    {
     "name": "stdout",
     "output_type": "stream",
     "text": [
      "              precision    recall  f1-score   support\n",
      "\n",
      "        Mine       0.67      0.76      0.71        21\n",
      "        Rock       0.72      0.62      0.67        21\n",
      "\n",
      "    accuracy                           0.69        42\n",
      "   macro avg       0.69      0.69      0.69        42\n",
      "weighted avg       0.69      0.69      0.69        42\n",
      "\n"
     ]
    }
   ],
   "source": [
    "print(classification_report(Y_test,DT_pred))"
   ]
  },
  {
   "cell_type": "markdown",
   "metadata": {
    "colab_type": "text",
    "id": "7f9DVtLec0nr"
   },
   "source": [
    "# Random Forest"
   ]
  },
  {
   "cell_type": "code",
   "execution_count": 60,
   "metadata": {
    "colab": {
     "base_uri": "https://localhost:8080/",
     "height": 193
    },
    "colab_type": "code",
    "executionInfo": {
     "elapsed": 723,
     "status": "ok",
     "timestamp": 1570673786874,
     "user": {
      "displayName": "Dharmanath PATIL",
      "photoUrl": "https://lh3.googleusercontent.com/a-/AAuE7mC6ge8KNDISjWm-FphDTvfeEhrPZkXjmizWV21HJg=s64",
      "userId": "15515686314360430415"
     },
     "user_tz": -330
    },
    "id": "HYaCRxiJcp0A",
    "outputId": "d16ec51a-acea-458f-dbed-304325c53975"
   },
   "outputs": [
    {
     "name": "stderr",
     "output_type": "stream",
     "text": [
      "/usr/local/lib/python3.6/dist-packages/sklearn/ensemble/forest.py:245: FutureWarning: The default value of n_estimators will change from 10 in version 0.20 to 100 in 0.22.\n",
      "  \"10 in version 0.20 to 100 in 0.22.\", FutureWarning)\n"
     ]
    },
    {
     "data": {
      "text/plain": [
       "RandomForestClassifier(bootstrap=True, class_weight=None, criterion='gini',\n",
       "                       max_depth=None, max_features='auto', max_leaf_nodes=None,\n",
       "                       min_impurity_decrease=0.0, min_impurity_split=None,\n",
       "                       min_samples_leaf=1, min_samples_split=2,\n",
       "                       min_weight_fraction_leaf=0.0, n_estimators=10,\n",
       "                       n_jobs=None, oob_score=False, random_state=None,\n",
       "                       verbose=0, warm_start=False)"
      ]
     },
     "execution_count": 60,
     "metadata": {
      "tags": []
     },
     "output_type": "execute_result"
    }
   ],
   "source": [
    "from sklearn.ensemble import RandomForestClassifier\n",
    "RF = RandomForestClassifier()\n",
    "RF.fit(X_train,Y_train)"
   ]
  },
  {
   "cell_type": "code",
   "execution_count": 0,
   "metadata": {
    "colab": {},
    "colab_type": "code",
    "id": "OjoQvU1fc_yW"
   },
   "outputs": [],
   "source": [
    "RF_pred = RF.predict(X_test)"
   ]
  },
  {
   "cell_type": "code",
   "execution_count": 63,
   "metadata": {
    "colab": {
     "base_uri": "https://localhost:8080/",
     "height": 34
    },
    "colab_type": "code",
    "executionInfo": {
     "elapsed": 847,
     "status": "ok",
     "timestamp": 1570673818635,
     "user": {
      "displayName": "Dharmanath PATIL",
      "photoUrl": "https://lh3.googleusercontent.com/a-/AAuE7mC6ge8KNDISjWm-FphDTvfeEhrPZkXjmizWV21HJg=s64",
      "userId": "15515686314360430415"
     },
     "user_tz": -330
    },
    "id": "hX7e4-gEdDsQ",
    "outputId": "0e5cef79-ed95-4298-af40-62faf2b41738"
   },
   "outputs": [
    {
     "data": {
      "text/plain": [
       "0.8333333333333334"
      ]
     },
     "execution_count": 63,
     "metadata": {
      "tags": []
     },
     "output_type": "execute_result"
    }
   ],
   "source": [
    "accuracy_score(Y_test,RF_pred)"
   ]
  },
  {
   "cell_type": "code",
   "execution_count": 64,
   "metadata": {
    "colab": {
     "base_uri": "https://localhost:8080/",
     "height": 52
    },
    "colab_type": "code",
    "executionInfo": {
     "elapsed": 803,
     "status": "ok",
     "timestamp": 1570673843572,
     "user": {
      "displayName": "Dharmanath PATIL",
      "photoUrl": "https://lh3.googleusercontent.com/a-/AAuE7mC6ge8KNDISjWm-FphDTvfeEhrPZkXjmizWV21HJg=s64",
      "userId": "15515686314360430415"
     },
     "user_tz": -330
    },
    "id": "WEXLdjBndGju",
    "outputId": "42abf7f9-d7e9-4d04-ee5a-e5118113d3b9"
   },
   "outputs": [
    {
     "data": {
      "text/plain": [
       "array([[21,  0],\n",
       "       [ 7, 14]])"
      ]
     },
     "execution_count": 64,
     "metadata": {
      "tags": []
     },
     "output_type": "execute_result"
    }
   ],
   "source": [
    "confusion_matrix(Y_test,RF_pred)"
   ]
  },
  {
   "cell_type": "code",
   "execution_count": 65,
   "metadata": {
    "colab": {
     "base_uri": "https://localhost:8080/",
     "height": 173
    },
    "colab_type": "code",
    "executionInfo": {
     "elapsed": 694,
     "status": "ok",
     "timestamp": 1570673873013,
     "user": {
      "displayName": "Dharmanath PATIL",
      "photoUrl": "https://lh3.googleusercontent.com/a-/AAuE7mC6ge8KNDISjWm-FphDTvfeEhrPZkXjmizWV21HJg=s64",
      "userId": "15515686314360430415"
     },
     "user_tz": -330
    },
    "id": "0bT4QGcodNm1",
    "outputId": "18660146-e02b-4444-dcb6-38e7283d58b2"
   },
   "outputs": [
    {
     "name": "stdout",
     "output_type": "stream",
     "text": [
      "              precision    recall  f1-score   support\n",
      "\n",
      "        Mine       0.75      1.00      0.86        21\n",
      "        Rock       1.00      0.67      0.80        21\n",
      "\n",
      "    accuracy                           0.83        42\n",
      "   macro avg       0.88      0.83      0.83        42\n",
      "weighted avg       0.88      0.83      0.83        42\n",
      "\n"
     ]
    }
   ],
   "source": [
    "print(classification_report(Y_test,RF_pred))"
   ]
  },
  {
   "cell_type": "markdown",
   "metadata": {
    "colab_type": "text",
    "id": "HXLSkuqEdhSJ"
   },
   "source": [
    "# Comparision"
   ]
  },
  {
   "cell_type": "code",
   "execution_count": 0,
   "metadata": {
    "colab": {},
    "colab_type": "code",
    "id": "3B155rfydU0b"
   },
   "outputs": [],
   "source": [
    "LR_ACC = accuracy_score(Y_test,LR_pred)\n",
    "NB_ACC = accuracy_score(Y_test,NB_pred)\n",
    "XGB_ACC = accuracy_score(Y_test,XGB_pred)\n",
    "SVC_ACC = accuracy_score(Y_test,SVC_pred)\n",
    "DT_ACC = accuracy_score(Y_test,DT_pred)\n",
    "RF_ACC = accuracy_score(Y_test,RF_pred)"
   ]
  },
  {
   "cell_type": "code",
   "execution_count": 67,
   "metadata": {
    "colab": {
     "base_uri": "https://localhost:8080/",
     "height": 121
    },
    "colab_type": "code",
    "executionInfo": {
     "elapsed": 773,
     "status": "ok",
     "timestamp": 1570674183988,
     "user": {
      "displayName": "Dharmanath PATIL",
      "photoUrl": "https://lh3.googleusercontent.com/a-/AAuE7mC6ge8KNDISjWm-FphDTvfeEhrPZkXjmizWV21HJg=s64",
      "userId": "15515686314360430415"
     },
     "user_tz": -330
    },
    "id": "9lNwPec2eaDO",
    "outputId": "58114769-64fc-4a2d-8050-1f87f7e4cd58"
   },
   "outputs": [
    {
     "data": {
      "text/plain": [
       "[0.7857142857142857,\n",
       " 0.6666666666666666,\n",
       " 0.8571428571428571,\n",
       " 0.5952380952380952,\n",
       " 0.6904761904761905,\n",
       " 0.8333333333333334]"
      ]
     },
     "execution_count": 67,
     "metadata": {
      "tags": []
     },
     "output_type": "execute_result"
    }
   ],
   "source": [
    "[LR_ACC, NB_ACC, XGB_ACC, SVC_ACC, DT_ACC, RF_ACC]"
   ]
  },
  {
   "cell_type": "code",
   "execution_count": 70,
   "metadata": {
    "colab": {
     "base_uri": "https://localhost:8080/",
     "height": 269
    },
    "colab_type": "code",
    "executionInfo": {
     "elapsed": 841,
     "status": "ok",
     "timestamp": 1570674320582,
     "user": {
      "displayName": "Dharmanath PATIL",
      "photoUrl": "https://lh3.googleusercontent.com/a-/AAuE7mC6ge8KNDISjWm-FphDTvfeEhrPZkXjmizWV21HJg=s64",
      "userId": "15515686314360430415"
     },
     "user_tz": -330
    },
    "id": "Kbje43E9egtk",
    "outputId": "37f8fc9f-bc19-485a-930c-cd50ead79dca"
   },
   "outputs": [
    {
     "data": {
      "image/png": "[encoded data removed]",
      "text/plain": [
       "<Figure size 432x288 with 1 Axes>"
      ]
     },
     "metadata": {
      "tags": []
     },
     "output_type": "display_data"
    }
   ],
   "source": [
    "import matplotlib.pyplot as plt\n",
    "import numpy as np\n",
    "%matplotlib inline\n",
    "fig, ax = plt.subplots()\n",
    "ax.set_xticks(np.arange(6))\n",
    "ax.set_xticklabels([\"LR\",\"NB\",\"XGB\",\"SVC\",\"DT\",\"RF\"])\n",
    "plt.bar(range(6),[LR_ACC, NB_ACC, XGB_ACC, SVC_ACC, DT_ACC, RF_ACC])\n",
    "plt.show()"
   ]
  },
  {
   "cell_type": "code",
   "execution_count": 71,
   "metadata": {
    "colab": {
     "base_uri": "https://localhost:8080/",
     "height": 627
    },
    "colab_type": "code",
    "executionInfo": {
     "elapsed": 692,
     "status": "ok",
     "timestamp": 1570674514024,
     "user": {
      "displayName": "Dharmanath PATIL",
      "photoUrl": "https://lh3.googleusercontent.com/a-/AAuE7mC6ge8KNDISjWm-FphDTvfeEhrPZkXjmizWV21HJg=s64",
      "userId": "15515686314360430415"
     },
     "user_tz": -330
    },
    "id": "0dM4Lhnhe7Pf",
    "outputId": "e348cb8b-237a-47f9-e724-ce57fd2f7953"
   },
   "outputs": [
    {
     "name": "stderr",
     "output_type": "stream",
     "text": [
      "/usr/local/lib/python3.6/dist-packages/sklearn/linear_model/logistic.py:432: FutureWarning: Default solver will be changed to 'lbfgs' in 0.22. Specify a solver to silence this warning.\n",
      "  FutureWarning)\n"
     ]
    },
    {
     "data": {
      "text/plain": [
       "VotingClassifier(estimators=[('lr',\n",
       "                              LogisticRegression(C=1.0, class_weight=None,\n",
       "                                                 dual=False, fit_intercept=True,\n",
       "                                                 intercept_scaling=1,\n",
       "                                                 l1_ratio=None, max_iter=100,\n",
       "                                                 multi_class='warn',\n",
       "                                                 n_jobs=None, penalty='l2',\n",
       "                                                 random_state=0, solver='warn',\n",
       "                                                 tol=0.0001, verbose=0,\n",
       "                                                 warm_start=False)),\n",
       "                             ('XGB',\n",
       "                              XGBClassifier(base_score=0.5, booster='gbtree',\n",
       "                                            colsample_bylevel=1,\n",
       "                                            colsample...\n",
       "                                                     class_weight=None,\n",
       "                                                     criterion='gini',\n",
       "                                                     max_depth=None,\n",
       "                                                     max_features='auto',\n",
       "                                                     max_leaf_nodes=None,\n",
       "                                                     min_impurity_decrease=0.0,\n",
       "                                                     min_impurity_split=None,\n",
       "                                                     min_samples_leaf=1,\n",
       "                                                     min_samples_split=2,\n",
       "                                                     min_weight_fraction_leaf=0.0,\n",
       "                                                     n_estimators=10,\n",
       "                                                     n_jobs=None,\n",
       "                                                     oob_score=False,\n",
       "                                                     random_state=None,\n",
       "                                                     verbose=0,\n",
       "                                                     warm_start=False))],\n",
       "                 flatten_transform=True, n_jobs=None, voting='soft',\n",
       "                 weights=None)"
      ]
     },
     "execution_count": 71,
     "metadata": {
      "tags": []
     },
     "output_type": "execute_result"
    }
   ],
   "source": [
    "from sklearn.ensemble import VotingClassifier\n",
    "voter = VotingClassifier(estimators=[('lr',LR),('XGB',XGB),('RF',RF)],voting='soft')\n",
    "voter.fit(X_train,Y_train)"
   ]
  },
  {
   "cell_type": "code",
   "execution_count": 0,
   "metadata": {
    "colab": {},
    "colab_type": "code",
    "id": "bXtUW35LfxT7"
   },
   "outputs": [],
   "source": [
    "voter_pred = voter.predict(X_test)"
   ]
  },
  {
   "cell_type": "code",
   "execution_count": 73,
   "metadata": {
    "colab": {
     "base_uri": "https://localhost:8080/",
     "height": 34
    },
    "colab_type": "code",
    "executionInfo": {
     "elapsed": 630,
     "status": "ok",
     "timestamp": 1570674548860,
     "user": {
      "displayName": "Dharmanath PATIL",
      "photoUrl": "https://lh3.googleusercontent.com/a-/AAuE7mC6ge8KNDISjWm-FphDTvfeEhrPZkXjmizWV21HJg=s64",
      "userId": "15515686314360430415"
     },
     "user_tz": -330
    },
    "id": "qZ5UukWif2nk",
    "outputId": "1ec85cad-696f-4f25-b310-55cd48f75b3b"
   },
   "outputs": [
    {
     "data": {
      "text/plain": [
       "0.8809523809523809"
      ]
     },
     "execution_count": 73,
     "metadata": {
      "tags": []
     },
     "output_type": "execute_result"
    }
   ],
   "source": [
    "accuracy_score(Y_test,voter_pred)"
   ]
  },
  {
   "cell_type": "code",
   "execution_count": 0,
   "metadata": {
    "colab": {},
    "colab_type": "code",
    "id": "FSGguAnAf50p"
   },
   "outputs": [],
   "source": []
  }
 ],
 "metadata": {
  "colab": {
   "name": "present_supervised_learning.ipynb",
   "provenance": []
  },
  "kernelspec": {
   "display_name": "Python 3",
   "language": "python",
   "name": "python3"
  },
  "language_info": {
   "codemirror_mode": {
    "name": "ipython",
    "version": 3
   },
   "file_extension": ".py",
   "mimetype": "text/x-python",
   "name": "python",
   "nbconvert_exporter": "python",
   "pygments_lexer": "ipython3",
   "version": "3.7.3"
  }
 },
 "nbformat": 4,
 "nbformat_minor": 1
}
