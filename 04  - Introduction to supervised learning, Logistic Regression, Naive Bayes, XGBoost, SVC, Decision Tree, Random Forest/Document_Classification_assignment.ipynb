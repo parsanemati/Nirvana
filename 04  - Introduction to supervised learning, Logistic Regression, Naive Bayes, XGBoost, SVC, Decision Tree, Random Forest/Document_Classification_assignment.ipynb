{
 "cells": [
  {
   "cell_type": "code",
   "execution_count": 1,
   "metadata": {
    "colab": {},
    "colab_type": "code",
    "id": "cTI38I6hI5_T"
   },
   "outputs": [],
   "source": [
    "import pandas as pd\n",
    "import matplotlib.pyplot as plt\n",
    "import numpy as np\n",
    "from sklearn.metrics import accuracy_score\n",
    "from sklearn.metrics import confusion_matrix\n",
    "from sklearn.metrics import classification_report\n"
   ]
  },
  {
   "cell_type": "code",
   "execution_count": 2,
   "metadata": {
    "colab": {
     "base_uri": "https://localhost:8080/",
     "height": 204
    },
    "colab_type": "code",
    "id": "07HYSelZyQmA",
    "outputId": "91beaa73-8ab9-4bef-ca28-9e036c54fae7"
   },
   "outputs": [
    {
     "data": {
      "text/html": [
       "<div>\n",
       "<style scoped>\n",
       "    .dataframe tbody tr th:only-of-type {\n",
       "        vertical-align: middle;\n",
       "    }\n",
       "\n",
       "    .dataframe tbody tr th {\n",
       "        vertical-align: top;\n",
       "    }\n",
       "\n",
       "    .dataframe thead th {\n",
       "        text-align: right;\n",
       "    }\n",
       "</style>\n",
       "<table border=\"1\" class=\"dataframe\">\n",
       "  <thead>\n",
       "    <tr style=\"text-align: right;\">\n",
       "      <th></th>\n",
       "      <th>title_desc</th>\n",
       "      <th>class</th>\n",
       "    </tr>\n",
       "  </thead>\n",
       "  <tbody>\n",
       "    <tr>\n",
       "      <th>0</th>\n",
       "      <td>How To Get Your Kids To Bed In A Few Dozen Eas...</td>\n",
       "      <td>Family &amp; Parenting</td>\n",
       "    </tr>\n",
       "    <tr>\n",
       "      <th>1</th>\n",
       "      <td>Plus Size Models Are More Popular Than Ever B...</td>\n",
       "      <td>Home and Living lifestyle and beauty</td>\n",
       "    </tr>\n",
       "    <tr>\n",
       "      <th>2</th>\n",
       "      <td>HuffPost Workouts Songs to Help You Sleep Thes...</td>\n",
       "      <td>Health and Filtness</td>\n",
       "    </tr>\n",
       "    <tr>\n",
       "      <th>3</th>\n",
       "      <td>As Trump s Panel Seeks Personal Data These Lon...</td>\n",
       "      <td>Politics</td>\n",
       "    </tr>\n",
       "    <tr>\n",
       "      <th>4</th>\n",
       "      <td>Todd Akin Is Clapping For Donald Trump So That...</td>\n",
       "      <td>Politics</td>\n",
       "    </tr>\n",
       "  </tbody>\n",
       "</table>\n",
       "</div>"
      ],
      "text/plain": [
       "                                          title_desc  \\\n",
       "0  How To Get Your Kids To Bed In A Few Dozen Eas...   \n",
       "1   Plus Size Models Are More Popular Than Ever B...   \n",
       "2  HuffPost Workouts Songs to Help You Sleep Thes...   \n",
       "3  As Trump s Panel Seeks Personal Data These Lon...   \n",
       "4  Todd Akin Is Clapping For Donald Trump So That...   \n",
       "\n",
       "                                  class  \n",
       "0                    Family & Parenting  \n",
       "1  Home and Living lifestyle and beauty  \n",
       "2                   Health and Filtness  \n",
       "3                              Politics  \n",
       "4                              Politics  "
      ]
     },
     "execution_count": 2,
     "metadata": {},
     "output_type": "execute_result"
    }
   ],
   "source": [
    "import pandas as pd\n",
    "url='https://dl.dropboxusercontent.com/s/gyjmd8se7669h15/complete_category_data.csv'\n",
    "\n",
    "df = pd.read_csv(url)\n",
    "df.head(5)"
   ]
  },
  {
   "cell_type": "code",
   "execution_count": 3,
   "metadata": {
    "colab": {},
    "colab_type": "code",
    "id": "c-zYq0kRJGK6"
   },
   "outputs": [],
   "source": [
    "# Data analysis and preparation\n",
    "# K Nearest Neighbors\n",
    "# Naive Bayes - MultinomialNB\n",
    "# AdaBoostClassifier\n",
    "# ExtraTreesClassifier"
   ]
  },
  {
   "cell_type": "code",
   "execution_count": 4,
   "metadata": {
    "colab": {
     "base_uri": "https://localhost:8080/",
     "height": 306
    },
    "colab_type": "code",
    "id": "EbrikFYsOnM2",
    "outputId": "a906a688-3498-4634-c44c-ce507c2b5f06"
   },
   "outputs": [
    {
     "data": {
      "text/plain": [
       "['Media',\n",
       " 'Politics',\n",
       " 'Religion',\n",
       " 'Health and Filtness',\n",
       " 'Education',\n",
       " 'Business_FINANCE',\n",
       " 'Sports',\n",
       " 'Crime',\n",
       " 'SOCIETY',\n",
       " 'Home and Living lifestyle and beauty',\n",
       " 'Food & drink',\n",
       " 'Travel and Leisure',\n",
       " 'Environment',\n",
       " 'science and technology',\n",
       " 'automotive',\n",
       " 'Arts, Culture & Entertainment',\n",
       " 'Family & Parenting']"
      ]
     },
     "execution_count": 4,
     "metadata": {},
     "output_type": "execute_result"
    }
   ],
   "source": [
    "list(set(df['class']))"
   ]
  },
  {
   "cell_type": "code",
   "execution_count": 5,
   "metadata": {
    "colab": {
     "base_uri": "https://localhost:8080/",
     "height": 323
    },
    "colab_type": "code",
    "id": "XH-nvUNTzDW4",
    "outputId": "e9dd70fa-2744-4a64-faa9-795a7c7cec7d"
   },
   "outputs": [
    {
     "data": {
      "text/plain": [
       "Politics                                29246\n",
       "Arts, Culture & Entertainment           22370\n",
       "Health and Filtness                     21834\n",
       "Home and Living lifestyle and beauty    14297\n",
       "Family & Parenting                      11240\n",
       "Travel and Leisure                       8795\n",
       "Food & drink                             7412\n",
       "Business_FINANCE                         6799\n",
       "SOCIETY                                  6353\n",
       "Sports                                   4338\n",
       "science and technology                   3777\n",
       "Crime                                    3047\n",
       "Media                                    2503\n",
       "Religion                                 2296\n",
       "automotive                               2163\n",
       "Education                                1914\n",
       "Environment                              1169\n",
       "Name: class, dtype: int64"
      ]
     },
     "execution_count": 5,
     "metadata": {},
     "output_type": "execute_result"
    }
   ],
   "source": [
    "df['class'].value_counts() # count vlaue"
   ]
  },
  {
   "cell_type": "code",
   "execution_count": 6,
   "metadata": {
    "colab": {},
    "colab_type": "code",
    "id": "IjVr1HRVFxu7"
   },
   "outputs": [],
   "source": [
    "n=int(df.shape[0] *0.25+0.75)"
   ]
  },
  {
   "cell_type": "code",
   "execution_count": 7,
   "metadata": {
    "colab": {},
    "colab_type": "code",
    "id": "g89IyJW8Bw7h"
   },
   "outputs": [],
   "source": [
    "from sklearn.feature_extraction.text import CountVectorizer\n",
    "\n",
    "data_YouTube = df.loc[:,['title_desc'  , 'class']]\n",
    "\n",
    "\n",
    "# Splitting the data into 0.25 training instances and 104 test instances\n",
    "all_Ids = np.arange(len(data_YouTube)) \n",
    "# random.shuffle(all_Ids)\n",
    "test_Ids = all_Ids[0:n]\n",
    "train_Ids = all_Ids[n:]\n",
    "data_test = data_YouTube.loc[test_Ids, :]\n",
    "data_train = data_YouTube.loc[train_Ids, :]\n",
    "\n",
    "count_vect = CountVectorizer()\n",
    "X_train = count_vect.fit_transform(data_train['title_desc'])\n",
    "Y_train = data_train['class']\n",
    "\n",
    "X_test = count_vect.transform(data_test['title_desc'])\n",
    "Y_test = data_test['class'].astype(str)\n"
   ]
  },
  {
   "cell_type": "code",
   "execution_count": 8,
   "metadata": {
    "colab": {
     "base_uri": "https://localhost:8080/",
     "height": 51
    },
    "colab_type": "code",
    "id": "C00zdjlPQFLv",
    "outputId": "54df964b-25ea-4bf5-be6b-115b5cbf4537"
   },
   "outputs": [
    {
     "name": "stdout",
     "output_type": "stream",
     "text": [
      "(112164, 71426)\n",
      "(112164,)\n"
     ]
    }
   ],
   "source": [
    "print(X_train.shape)\n",
    "print(Y_train.shape)\n"
   ]
  },
  {
   "cell_type": "code",
   "execution_count": 9,
   "metadata": {
    "colab": {
     "base_uri": "https://localhost:8080/",
     "height": 51
    },
    "colab_type": "code",
    "id": "LIZQXFJMQKvJ",
    "outputId": "f935a4f6-388f-4c1f-cd0c-5d3d5d6e9765"
   },
   "outputs": [
    {
     "name": "stdout",
     "output_type": "stream",
     "text": [
      "(37389, 71426)\n",
      "(37389,)\n"
     ]
    }
   ],
   "source": [
    "print(X_test.shape)\n",
    "print(Y_test.shape)"
   ]
  },
  {
   "cell_type": "code",
   "execution_count": 10,
   "metadata": {
    "colab": {
     "base_uri": "https://localhost:8080/",
     "height": 266
    },
    "colab_type": "code",
    "id": "LvuujZ-v3j0k",
    "outputId": "582fe26c-c54e-4d35-d4cb-06d24e86aa6c"
   },
   "outputs": [
    {
     "data": {
      "image/png": "[encoded data removed]",
      "text/plain": [
       "<Figure size 432x288 with 1 Axes>"
      ]
     },
     "metadata": {
      "needs_background": "light"
     },
     "output_type": "display_data"
    }
   ],
   "source": [
    "plt.hist(df['class'])\n",
    "plt.show()"
   ]
  },
  {
   "cell_type": "markdown",
   "metadata": {
    "colab_type": "text",
    "id": "VK-osnGdRBtm"
   },
   "source": [
    "# Logistic Regression"
   ]
  },
  {
   "cell_type": "code",
   "execution_count": 11,
   "metadata": {
    "colab": {},
    "colab_type": "code",
    "id": "dqd1SWsdQY5M"
   },
   "outputs": [],
   "source": [
    "# Assumptions:\n",
    "# 1. there is a linear relashionship between the logit of the outcome (dependent variable) and each predictor \n",
    "# variables (independent variables)\n",
    "#         logit(p) = log(p/(1-p))\n",
    "# 2. there is no outliers in the predictors. seaborn boxplot\n",
    "# 3. there is no co-relation between the dependent variables"
   ]
  },
  {
   "cell_type": "code",
   "execution_count": 13,
   "metadata": {
    "colab": {
     "base_uri": "https://localhost:8080/",
     "height": 68
    },
    "colab_type": "code",
    "id": "r-KZoxAETmie",
    "outputId": "1ec91149-5129-4921-ada4-7cce4c383e4b"
   },
   "outputs": [
    {
     "data": {
      "text/plain": [
       "KNeighborsClassifier(algorithm='auto', leaf_size=30, metric='minkowski',\n",
       "                     metric_params=None, n_jobs=None, n_neighbors=3, p=2,\n",
       "                     weights='uniform')"
      ]
     },
     "execution_count": 13,
     "metadata": {},
     "output_type": "execute_result"
    }
   ],
   "source": [
    "# Training\n",
    "from sklearn.neighbors import KNeighborsClassifier\n",
    "neigh = KNeighborsClassifier(n_neighbors=3)\n",
    "neigh.fit(X_train,Y_train)"
   ]
  },
  {
   "cell_type": "code",
   "execution_count": 14,
   "metadata": {
    "colab": {},
    "colab_type": "code",
    "id": "mfyf_rYUUPzr"
   },
   "outputs": [],
   "source": [
    "# Testing\n",
    "NN_pred = neigh.predict(X_test)"
   ]
  },
  {
   "cell_type": "code",
   "execution_count": 15,
   "metadata": {
    "colab": {
     "base_uri": "https://localhost:8080/",
     "height": 68
    },
    "colab_type": "code",
    "id": "8lrbIrnQUZhc",
    "outputId": "835b9f26-c9df-4945-aeff-48b3a3cd3fd4"
   },
   "outputs": [
    {
     "data": {
      "text/plain": [
       "array(['Health and Filtness', 'Arts, Culture & Entertainment',\n",
       "       'Arts, Culture & Entertainment', ..., 'Travel and Leisure',\n",
       "       'Health and Filtness', 'Media'], dtype=object)"
      ]
     },
     "execution_count": 15,
     "metadata": {},
     "output_type": "execute_result"
    }
   ],
   "source": [
    "NN_pred"
   ]
  },
  {
   "cell_type": "code",
   "execution_count": 16,
   "metadata": {
    "colab": {
     "base_uri": "https://localhost:8080/",
     "height": 221
    },
    "colab_type": "code",
    "id": "nHCBmNhsUaxx",
    "outputId": "c1d5a96c-386b-488e-e6b7-48f69e870416"
   },
   "outputs": [
    {
     "data": {
      "text/plain": [
       "0                          Family & Parenting\n",
       "1        Home and Living lifestyle and beauty\n",
       "2                         Health and Filtness\n",
       "3                                    Politics\n",
       "4                                    Politics\n",
       "                         ...                 \n",
       "37384                                Politics\n",
       "37385                                   Crime\n",
       "37386                        Business_FINANCE\n",
       "37387                  science and technology\n",
       "37388                                Politics\n",
       "Name: class, Length: 37389, dtype: object"
      ]
     },
     "execution_count": 16,
     "metadata": {},
     "output_type": "execute_result"
    }
   ],
   "source": [
    "Y_test"
   ]
  },
  {
   "cell_type": "code",
   "execution_count": 17,
   "metadata": {
    "colab": {
     "base_uri": "https://localhost:8080/",
     "height": 34
    },
    "colab_type": "code",
    "id": "RfDfdnAtUd7x",
    "outputId": "4171128c-7311-49fc-850f-d4375c39d964"
   },
   "outputs": [
    {
     "data": {
      "text/plain": [
       "0.25812404717965176"
      ]
     },
     "execution_count": 17,
     "metadata": {},
     "output_type": "execute_result"
    }
   ],
   "source": [
    "accuracy_score(Y_test,NN_pred)"
   ]
  },
  {
   "cell_type": "code",
   "execution_count": 18,
   "metadata": {
    "colab": {
     "base_uri": "https://localhost:8080/",
     "height": 595
    },
    "colab_type": "code",
    "id": "A_8f48Z1VJTJ",
    "outputId": "882481d2-3017-478d-b505-cce0a53e6e56"
   },
   "outputs": [
    {
     "data": {
      "text/plain": [
       "array([[4151,  390,   18,   34,    2,  116,   74,  471,   62,    9,  337,\n",
       "          29,    3,   12,   34,    0,    3],\n",
       "       [ 896,  277,    5,   20,    3,   60,   67,  232,   17,    9,  105,\n",
       "           7,    1,   12,   16,    0,    2],\n",
       "       [ 529,   47,   66,    7,    0,    7,   10,   55,    5,    0,   34,\n",
       "           2,    0,    1,    4,    0,    0],\n",
       "       [ 226,   38,    7,   49,    1,   25,   15,   64,    3,    1,   35,\n",
       "           3,    1,    1,    9,    0,    0],\n",
       "       [ 181,   23,    4,    7,   14,    7,    8,   34,    4,    0,   17,\n",
       "           7,    1,    0,    1,    0,    0],\n",
       "       [1330,  206,   43,   54,    3,  365,  110,  433,   42,    3,  117,\n",
       "          23,    4,   16,   35,    0,    6],\n",
       "       [ 931,  144,    6,   20,    0,   58,  256,  262,   38,    1,   73,\n",
       "          11,    0,    6,   19,    0,    1],\n",
       "       [2264,  476,   33,  106,    6,  318,  255, 1666,   79,    6,  264,\n",
       "          49,   17,   14,   36,    0,    4],\n",
       "       [1797,  222,   18,   45,    0,   80,  102,  451,  635,    2,  127,\n",
       "          15,    2,   15,   25,    0,    2],\n",
       "       [ 411,   42,    6,    9,    0,   14,    5,   51,    2,   21,   72,\n",
       "           2,    0,    2,    6,    0,    0],\n",
       "       [3894,  516,   38,   79,    1,  138,   86,  723,   50,   26, 1762,\n",
       "          36,    2,   21,   32,    0,    0],\n",
       "       [ 316,   37,    2,   12,    1,   34,   15,   58,    7,    0,   56,\n",
       "          44,    0,    1,    4,    0,    1],\n",
       "       [ 804,  117,   16,   27,    2,   86,   67,  250,   41,    3,   51,\n",
       "           9,  115,    8,   16,    0,    3],\n",
       "       [ 717,  104,   13,    8,    0,   21,   18,   93,    7,    2,   59,\n",
       "           3,    0,   37,    6,    0,    1],\n",
       "       [1123,  233,    8,   38,    2,   81,  110,  330,   46,    7,   97,\n",
       "          16,    6,   13,  166,    1,    3],\n",
       "       [   0,    0,    0,    0,    0,    0,    0,    0,    0,    0,    0,\n",
       "           0,    0,    0,    0,    0,    0],\n",
       "       [ 660,   71,    2,    8,    1,   19,   14,  116,    6,    2,   54,\n",
       "           6,    0,    2,    8,    0,   27]])"
      ]
     },
     "execution_count": 18,
     "metadata": {},
     "output_type": "execute_result"
    }
   ],
   "source": [
    "\n",
    "confusion_matrix(Y_test,NN_pred) #https://en.wikipedia.org/wiki/Confusion_matrix"
   ]
  },
  {
   "cell_type": "code",
   "execution_count": 19,
   "metadata": {
    "colab": {
     "base_uri": "https://localhost:8080/",
     "height": 479
    },
    "colab_type": "code",
    "id": "9AxXgofYWS3u",
    "outputId": "cc4e519f-8ea9-449c-aa78-03bb62b78b19"
   },
   "outputs": [
    {
     "name": "stderr",
     "output_type": "stream",
     "text": [
      "/home/alinemati/anaconda3/lib/python3.7/site-packages/sklearn/metrics/classification.py:1439: UndefinedMetricWarning: Recall and F-score are ill-defined and being set to 0.0 in labels with no true samples.\n",
      "  'recall', 'true', average, warn_for)\n"
     ]
    },
    {
     "name": "stdout",
     "output_type": "stream",
     "text": [
      "                                      precision    recall  f1-score   support\n",
      "\n",
      "       Arts, Culture & Entertainment       0.21      0.72      0.32      5745\n",
      "                    Business_FINANCE       0.09      0.16      0.12      1729\n",
      "                               Crime       0.23      0.09      0.13       767\n",
      "                           Education       0.09      0.10      0.10       478\n",
      "                         Environment       0.39      0.05      0.08       308\n",
      "                  Family & Parenting       0.26      0.13      0.17      2790\n",
      "                        Food & drink       0.21      0.14      0.17      1826\n",
      "                 Health and Filtness       0.31      0.30      0.31      5593\n",
      "Home and Living lifestyle and beauty       0.61      0.18      0.28      3538\n",
      "                               Media       0.23      0.03      0.06       643\n",
      "                            Politics       0.54      0.24      0.33      7404\n",
      "                            Religion       0.17      0.07      0.10       588\n",
      "                             SOCIETY       0.76      0.07      0.13      1615\n",
      "                              Sports       0.23      0.03      0.06      1089\n",
      "                  Travel and Leisure       0.40      0.07      0.12      2280\n",
      "                          automotive       0.00      0.00      0.00         0\n",
      "              science and technology       0.51      0.03      0.05       996\n",
      "\n",
      "                            accuracy                           0.26     37389\n",
      "                           macro avg       0.31      0.14      0.15     37389\n",
      "                        weighted avg       0.37      0.26      0.24     37389\n",
      "\n"
     ]
    }
   ],
   "source": [
    "print(classification_report(Y_test,NN_pred))"
   ]
  },
  {
   "cell_type": "markdown",
   "metadata": {
    "colab_type": "text",
    "id": "gg4SFn5wY2ZE"
   },
   "source": [
    "# Naive Bayes - MultinomialNB"
   ]
  },
  {
   "cell_type": "markdown",
   "metadata": {
    "colab_type": "text",
    "id": "QMAs1-OVaFTo"
   },
   "source": [
    "there is no co-relation between the dependent variables"
   ]
  },
  {
   "cell_type": "code",
   "execution_count": 19,
   "metadata": {
    "colab": {
     "base_uri": "https://localhost:8080/",
     "height": 34
    },
    "colab_type": "code",
    "id": "TkUcQRr1WcGs",
    "outputId": "cad02861-f2a6-4a81-bd03-fd163f84f943"
   },
   "outputs": [
    {
     "data": {
      "text/plain": [
       "MultinomialNB(alpha=1.0, class_prior=None, fit_prior=True)"
      ]
     },
     "execution_count": 19,
     "metadata": {
      "tags": []
     },
     "output_type": "execute_result"
    }
   ],
   "source": [
    "\n",
    "\n",
    "from sklearn.naive_bayes import MultinomialNB\n",
    "clf = MultinomialNB()\n",
    "clf.fit(X_train,Y_train)"
   ]
  },
  {
   "cell_type": "code",
   "execution_count": 0,
   "metadata": {
    "colab": {},
    "colab_type": "code",
    "id": "YCox1KVlZETX"
   },
   "outputs": [],
   "source": [
    "NB_pred = clf.predict(X_test)"
   ]
  },
  {
   "cell_type": "code",
   "execution_count": 21,
   "metadata": {
    "colab": {
     "base_uri": "https://localhost:8080/",
     "height": 68
    },
    "colab_type": "code",
    "id": "yjHpdd0XZIyx",
    "outputId": "2e14b78e-8042-4687-c508-1d3c44e42f5a"
   },
   "outputs": [
    {
     "data": {
      "text/plain": [
       "array(['Family & Parenting', 'Home and Living lifestyle and beauty',\n",
       "       'Health and Filtness', ..., 'Travel and Leisure',\n",
       "       'science and technology', 'Politics'], dtype='<U36')"
      ]
     },
     "execution_count": 21,
     "metadata": {
      "tags": []
     },
     "output_type": "execute_result"
    }
   ],
   "source": [
    "NB_pred"
   ]
  },
  {
   "cell_type": "code",
   "execution_count": 22,
   "metadata": {
    "colab": {
     "base_uri": "https://localhost:8080/",
     "height": 221
    },
    "colab_type": "code",
    "id": "3OWGUxa5ZKOt",
    "outputId": "eb96942d-1bea-4abb-e5bb-67b17d9c02c5"
   },
   "outputs": [
    {
     "data": {
      "text/plain": [
       "0                          Family & Parenting\n",
       "1        Home and Living lifestyle and beauty\n",
       "2                         Health and Filtness\n",
       "3                                    Politics\n",
       "4                                    Politics\n",
       "                         ...                 \n",
       "37384                                Politics\n",
       "37385                                   Crime\n",
       "37386                        Business_FINANCE\n",
       "37387                  science and technology\n",
       "37388                                Politics\n",
       "Name: class, Length: 37389, dtype: object"
      ]
     },
     "execution_count": 22,
     "metadata": {
      "tags": []
     },
     "output_type": "execute_result"
    }
   ],
   "source": [
    "Y_test"
   ]
  },
  {
   "cell_type": "code",
   "execution_count": 23,
   "metadata": {
    "colab": {
     "base_uri": "https://localhost:8080/",
     "height": 34
    },
    "colab_type": "code",
    "id": "gwdGD2zbZM8j",
    "outputId": "fd0ac9bc-82ba-4fcd-eae7-4b322d585df1"
   },
   "outputs": [
    {
     "data": {
      "text/plain": [
       "0.7082296932252802"
      ]
     },
     "execution_count": 23,
     "metadata": {
      "tags": []
     },
     "output_type": "execute_result"
    }
   ],
   "source": [
    "accuracy_score(Y_test,NB_pred)\n"
   ]
  },
  {
   "cell_type": "code",
   "execution_count": 24,
   "metadata": {
    "colab": {
     "base_uri": "https://localhost:8080/",
     "height": 595
    },
    "colab_type": "code",
    "id": "wb9H4_5CZfrF",
    "outputId": "2067f2d4-3515-4e08-dca3-b0e822b619bd"
   },
   "outputs": [
    {
     "data": {
      "text/plain": [
       "array([[4262,   18,   13,    2,    1,  210,   28,  287,  298,    0,  445,\n",
       "           1,   38,   11,  120,    1,   10],\n",
       "       [  65,  747,    6,    0,    0,   56,   18,  394,   34,    0,  332,\n",
       "           0,    6,    3,   45,   14,    9],\n",
       "       [  74,    5,  368,    0,    0,   45,    2,   22,    4,    0,  228,\n",
       "           0,    2,    2,   15,    0,    0],\n",
       "       [  21,   43,    8,   28,    0,   83,    1,  118,    6,    0,  162,\n",
       "           0,    0,    2,    5,    0,    1],\n",
       "       [  28,   14,    2,    0,   11,   21,    6,   59,   19,    0,   82,\n",
       "           0,    1,    0,   59,    1,    5],\n",
       "       [ 171,    9,    5,    1,    0, 1966,   14,  492,   46,    0,   50,\n",
       "           1,    6,    2,   25,    1,    1],\n",
       "       [  55,    9,    0,    0,    0,   55, 1290,  238,   55,    0,   20,\n",
       "           0,    4,    1,   99,    0,    0],\n",
       "       [ 119,   33,    2,    0,    0,  241,   95, 4807,   48,    1,  167,\n",
       "           1,   12,    6,   47,    1,   13],\n",
       "       [ 220,   35,    0,    0,    0,  104,   41,  273, 2717,    0,   38,\n",
       "           0,   22,    1,   84,    0,    3],\n",
       "       [ 118,   14,    2,    0,    0,    8,    1,   37,    9,   64,  379,\n",
       "           0,    1,    3,    4,    1,    2],\n",
       "       [ 229,   92,   43,    0,    2,   63,    3,  217,   20,    4, 6670,\n",
       "           1,    5,    9,   39,    0,    7],\n",
       "       [  75,    2,    5,    0,    0,   45,    4,  117,    4,    0,  228,\n",
       "          75,    4,    4,   24,    0,    1],\n",
       "       [ 136,    9,    0,    0,    0,  140,    8,  196,   83,    0,   34,\n",
       "           1,  986,    2,   20,    0,    0],\n",
       "       [ 252,   13,   15,    0,    0,   34,    2,   62,   12,    0,  150,\n",
       "           0,    3,  518,   27,    0,    1],\n",
       "       [  97,   23,    2,    1,    0,   68,   44,  192,   55,    0,   72,\n",
       "           0,    7,    4, 1712,    2,    1],\n",
       "       [   0,    0,    0,    0,    0,    0,    0,    0,    0,    0,    0,\n",
       "           0,    0,    0,    0,    0,    0],\n",
       "       [ 118,   91,    1,    1,    0,   45,   11,  246,   33,    0,  127,\n",
       "           0,    8,    0,   48,    8,  259]])"
      ]
     },
     "execution_count": 24,
     "metadata": {
      "tags": []
     },
     "output_type": "execute_result"
    }
   ],
   "source": [
    "confusion_matrix(Y_test,NB_pred)"
   ]
  },
  {
   "cell_type": "code",
   "execution_count": 25,
   "metadata": {
    "colab": {
     "base_uri": "https://localhost:8080/",
     "height": 479
    },
    "colab_type": "code",
    "id": "CCsMbnY1Zk3p",
    "outputId": "43596b3c-ab0e-42fd-b0ba-a7b96d4fe89c"
   },
   "outputs": [
    {
     "name": "stderr",
     "output_type": "stream",
     "text": [
      "/usr/local/lib/python3.6/dist-packages/sklearn/metrics/classification.py:1439: UndefinedMetricWarning: Recall and F-score are ill-defined and being set to 0.0 in labels with no true samples.\n",
      "  'recall', 'true', average, warn_for)\n"
     ]
    },
    {
     "name": "stdout",
     "output_type": "stream",
     "text": [
      "                                      precision    recall  f1-score   support\n",
      "\n",
      "       Arts, Culture & Entertainment       0.71      0.74      0.72      5745\n",
      "                    Business_FINANCE       0.65      0.43      0.52      1729\n",
      "                               Crime       0.78      0.48      0.59       767\n",
      "                           Education       0.85      0.06      0.11       478\n",
      "                         Environment       0.79      0.04      0.07       308\n",
      "                  Family & Parenting       0.62      0.70      0.66      2790\n",
      "                        Food & drink       0.82      0.71      0.76      1826\n",
      "                 Health and Filtness       0.62      0.86      0.72      5593\n",
      "Home and Living lifestyle and beauty       0.79      0.77      0.78      3538\n",
      "                               Media       0.93      0.10      0.18       643\n",
      "                            Politics       0.73      0.90      0.80      7404\n",
      "                            Religion       0.94      0.13      0.22       588\n",
      "                             SOCIETY       0.89      0.61      0.72      1615\n",
      "                              Sports       0.91      0.48      0.63      1089\n",
      "                  Travel and Leisure       0.72      0.75      0.74      2280\n",
      "                          automotive       0.00      0.00      0.00         0\n",
      "              science and technology       0.83      0.26      0.40       996\n",
      "\n",
      "                            accuracy                           0.71     37389\n",
      "                           macro avg       0.74      0.47      0.51     37389\n",
      "                        weighted avg       0.73      0.71      0.69     37389\n",
      "\n"
     ]
    }
   ],
   "source": [
    "print(classification_report(Y_test,NB_pred))"
   ]
  },
  {
   "cell_type": "markdown",
   "metadata": {
    "colab_type": "text",
    "id": "n2iorNtiaOir"
   },
   "source": [
    "# AdaBoostClassifier"
   ]
  },
  {
   "cell_type": "code",
   "execution_count": 26,
   "metadata": {
    "colab": {
     "base_uri": "https://localhost:8080/",
     "height": 51
    },
    "colab_type": "code",
    "id": "xY8yGoVuZ05y",
    "outputId": "0d2ef7f1-6d19-4042-b713-639c7f3f8e65"
   },
   "outputs": [
    {
     "data": {
      "text/plain": [
       "AdaBoostClassifier(algorithm='SAMME.R', base_estimator=None, learning_rate=1.0,\n",
       "                   n_estimators=50, random_state=None)"
      ]
     },
     "execution_count": 26,
     "metadata": {
      "tags": []
     },
     "output_type": "execute_result"
    }
   ],
   "source": [
    "from sklearn.ensemble import AdaBoostClassifier\n",
    "ada = AdaBoostClassifier()\n",
    "ada.fit(X_train,Y_train)"
   ]
  },
  {
   "cell_type": "code",
   "execution_count": 0,
   "metadata": {
    "colab": {},
    "colab_type": "code",
    "id": "PXLNfoTwae7y"
   },
   "outputs": [],
   "source": [
    "ada_pred = ada.predict(X_test)"
   ]
  },
  {
   "cell_type": "code",
   "execution_count": 28,
   "metadata": {
    "colab": {
     "base_uri": "https://localhost:8080/",
     "height": 51
    },
    "colab_type": "code",
    "id": "d3BrOAenalSC",
    "outputId": "8ca4adc3-9ec4-4eae-c9d7-9e9002efb622"
   },
   "outputs": [
    {
     "data": {
      "text/plain": [
       "array(['Family & Parenting', 'Health and Filtness', 'Health and Filtness',\n",
       "       ..., 'Politics', 'Health and Filtness', 'Politics'], dtype=object)"
      ]
     },
     "execution_count": 28,
     "metadata": {
      "tags": []
     },
     "output_type": "execute_result"
    }
   ],
   "source": [
    "ada_pred"
   ]
  },
  {
   "cell_type": "code",
   "execution_count": 29,
   "metadata": {
    "colab": {
     "base_uri": "https://localhost:8080/",
     "height": 221
    },
    "colab_type": "code",
    "id": "gn97-8tVamHv",
    "outputId": "56c94ddb-9dc4-45bd-ffa3-594b9f1b315c"
   },
   "outputs": [
    {
     "data": {
      "text/plain": [
       "0                          Family & Parenting\n",
       "1        Home and Living lifestyle and beauty\n",
       "2                         Health and Filtness\n",
       "3                                    Politics\n",
       "4                                    Politics\n",
       "                         ...                 \n",
       "37384                                Politics\n",
       "37385                                   Crime\n",
       "37386                        Business_FINANCE\n",
       "37387                  science and technology\n",
       "37388                                Politics\n",
       "Name: class, Length: 37389, dtype: object"
      ]
     },
     "execution_count": 29,
     "metadata": {
      "tags": []
     },
     "output_type": "execute_result"
    }
   ],
   "source": [
    "Y_test"
   ]
  },
  {
   "cell_type": "code",
   "execution_count": 30,
   "metadata": {
    "colab": {
     "base_uri": "https://localhost:8080/",
     "height": 34
    },
    "colab_type": "code",
    "id": "Us-1yAiRanmp",
    "outputId": "83fbc336-a081-4320-dc21-fb343ee1ddb0"
   },
   "outputs": [
    {
     "data": {
      "text/plain": [
       "0.3163229826954452"
      ]
     },
     "execution_count": 30,
     "metadata": {
      "tags": []
     },
     "output_type": "execute_result"
    }
   ],
   "source": [
    "accuracy_score(Y_test,ada_pred)"
   ]
  },
  {
   "cell_type": "code",
   "execution_count": 31,
   "metadata": {
    "colab": {
     "base_uri": "https://localhost:8080/",
     "height": 595
    },
    "colab_type": "code",
    "id": "5bMYdh0Aas6M",
    "outputId": "c4e59b65-ec8f-4be0-89ec-af9cc316210e"
   },
   "outputs": [
    {
     "data": {
      "text/plain": [
       "array([[  70,   31,   18,   28,    1,   49,    1, 4814,  148,    1,  520,\n",
       "           4,   45,    0,   15,    0,    0],\n",
       "       [   8,   83,    3,   32,    1,   25,    0, 1486,   14,    0,   57,\n",
       "           1,    4,    0,    6,    9,    0],\n",
       "       [   3,    4,  158,   12,    0,   23,    0,  551,    3,    0,    9,\n",
       "           0,    1,    0,    2,    1,    0],\n",
       "       [   3,    3,    8,  188,    0,   14,    0,  246,    2,    0,   14,\n",
       "           0,    0,    0,    0,    0,    0],\n",
       "       [   3,    2,    3,    3,    2,    3,    1,  210,   51,    0,   28,\n",
       "           0,    0,    0,    1,    1,    0],\n",
       "       [   5,   12,    2,   66,    0,  532,    4, 2041,   53,    2,   40,\n",
       "           2,   15,    0,   13,    3,    0],\n",
       "       [   3,   12,    0,    9,    0,   16,  254, 1408,  105,    0,    8,\n",
       "           0,    4,    0,    7,    0,    0],\n",
       "       [  21,   27,    3,   53,    0,   96,   13, 5174,   50,    1,  110,\n",
       "           0,   17,    0,   25,    3,    0],\n",
       "       [   7,   14,    1,    6,    0,   25,    2, 1958, 1455,    1,   31,\n",
       "           0,   27,    0,   11,    0,    0],\n",
       "       [   8,   17,    7,    2,    0,    3,    0,  378,    3,    2,  220,\n",
       "           1,    0,    0,    2,    0,    0],\n",
       "       [  31,   21,   86,  117,    0,   39,    0, 4486,    5,    0, 2559,\n",
       "          15,   24,    0,   19,    2,    0],\n",
       "       [   0,    1,    7,   11,    1,    0,    1,  466,    3,    0,   31,\n",
       "          60,    3,    0,    4,    0,    0],\n",
       "       [   6,    1,    1,    4,    0,   26,    1,  550,   46,    0,   11,\n",
       "           1,  965,    0,    3,    0,    0],\n",
       "       [   4,    2,    9,   25,    0,   14,    0,  982,   17,    0,   32,\n",
       "           0,    3,    0,    0,    1,    0],\n",
       "       [   6,    7,    2,   11,    1,   42,    4, 1486,  366,    0,   13,\n",
       "           0,   12,    0,  325,    5,    0],\n",
       "       [   0,    0,    0,    0,    0,    0,    0,    0,    0,    0,    0,\n",
       "           0,    0,    0,    0,    0,    0],\n",
       "       [   5,   31,    4,    7,    0,   11,    0,  857,   30,    0,   37,\n",
       "           0,    1,    0,    6,    7,    0]])"
      ]
     },
     "execution_count": 31,
     "metadata": {
      "tags": []
     },
     "output_type": "execute_result"
    }
   ],
   "source": [
    "confusion_matrix(Y_test,ada_pred)"
   ]
  },
  {
   "cell_type": "code",
   "execution_count": 32,
   "metadata": {
    "colab": {
     "base_uri": "https://localhost:8080/",
     "height": 513
    },
    "colab_type": "code",
    "id": "UFEp9T0lax95",
    "outputId": "8119e6e7-7d59-44f4-d233-4e43da8409dd"
   },
   "outputs": [
    {
     "name": "stderr",
     "output_type": "stream",
     "text": [
      "/usr/local/lib/python3.6/dist-packages/sklearn/metrics/classification.py:1437: UndefinedMetricWarning: Precision and F-score are ill-defined and being set to 0.0 in labels with no predicted samples.\n",
      "  'precision', 'predicted', average, warn_for)\n",
      "/usr/local/lib/python3.6/dist-packages/sklearn/metrics/classification.py:1439: UndefinedMetricWarning: Recall and F-score are ill-defined and being set to 0.0 in labels with no true samples.\n",
      "  'recall', 'true', average, warn_for)\n"
     ]
    },
    {
     "name": "stdout",
     "output_type": "stream",
     "text": [
      "                                      precision    recall  f1-score   support\n",
      "\n",
      "       Arts, Culture & Entertainment       0.38      0.01      0.02      5745\n",
      "                    Business_FINANCE       0.31      0.05      0.08      1729\n",
      "                               Crime       0.51      0.21      0.29       767\n",
      "                           Education       0.33      0.39      0.36       478\n",
      "                         Environment       0.33      0.01      0.01       308\n",
      "                  Family & Parenting       0.58      0.19      0.29      2790\n",
      "                        Food & drink       0.90      0.14      0.24      1826\n",
      "                 Health and Filtness       0.19      0.93      0.32      5593\n",
      "Home and Living lifestyle and beauty       0.62      0.41      0.49      3538\n",
      "                               Media       0.29      0.00      0.01       643\n",
      "                            Politics       0.69      0.35      0.46      7404\n",
      "                            Religion       0.71      0.10      0.18       588\n",
      "                             SOCIETY       0.86      0.60      0.71      1615\n",
      "                              Sports       0.00      0.00      0.00      1089\n",
      "                  Travel and Leisure       0.74      0.14      0.24      2280\n",
      "                          automotive       0.00      0.00      0.00         0\n",
      "              science and technology       0.00      0.00      0.00       996\n",
      "\n",
      "                            accuracy                           0.32     37389\n",
      "                           macro avg       0.44      0.21      0.22     37389\n",
      "                        weighted avg       0.50      0.32      0.28     37389\n",
      "\n"
     ]
    }
   ],
   "source": [
    "print(classification_report(Y_test,ada_pred))"
   ]
  },
  {
   "cell_type": "markdown",
   "metadata": {
    "colab_type": "text",
    "id": "P2_MMWbVbH7M"
   },
   "source": [
    "# ExtraTreesClassifier"
   ]
  },
  {
   "cell_type": "markdown",
   "metadata": {
    "colab_type": "text",
    "id": "vSjDRORbcAR_"
   },
   "source": [
    "We should have huge training dataset"
   ]
  },
  {
   "cell_type": "code",
   "execution_count": 33,
   "metadata": {
    "colab": {
     "base_uri": "https://localhost:8080/",
     "height": 190
    },
    "colab_type": "code",
    "id": "jIC2nm6ga8jj",
    "outputId": "93d221e8-5c8f-4406-b260-bb4c91a7e034"
   },
   "outputs": [
    {
     "name": "stderr",
     "output_type": "stream",
     "text": [
      "/usr/local/lib/python3.6/dist-packages/sklearn/ensemble/forest.py:245: FutureWarning: The default value of n_estimators will change from 10 in version 0.20 to 100 in 0.22.\n",
      "  \"10 in version 0.20 to 100 in 0.22.\", FutureWarning)\n"
     ]
    },
    {
     "data": {
      "text/plain": [
       "ExtraTreesClassifier(bootstrap=False, class_weight=None, criterion='gini',\n",
       "                     max_depth=None, max_features='auto', max_leaf_nodes=None,\n",
       "                     min_impurity_decrease=0.0, min_impurity_split=None,\n",
       "                     min_samples_leaf=1, min_samples_split=2,\n",
       "                     min_weight_fraction_leaf=0.0, n_estimators=10, n_jobs=None,\n",
       "                     oob_score=False, random_state=None, verbose=0,\n",
       "                     warm_start=False)"
      ]
     },
     "execution_count": 33,
     "metadata": {
      "tags": []
     },
     "output_type": "execute_result"
    }
   ],
   "source": [
    "from sklearn.ensemble import ExtraTreesClassifier\n",
    "EX_3 = ExtraTreesClassifier()\n",
    "EX_3.fit(X_train,Y_train)"
   ]
  },
  {
   "cell_type": "code",
   "execution_count": 0,
   "metadata": {
    "colab": {},
    "colab_type": "code",
    "id": "HbXD_dVwbQbc"
   },
   "outputs": [],
   "source": [
    "EX_3_pred = EX_3.predict(X_test)"
   ]
  },
  {
   "cell_type": "code",
   "execution_count": 36,
   "metadata": {
    "colab": {
     "base_uri": "https://localhost:8080/",
     "height": 34
    },
    "colab_type": "code",
    "id": "bSMxE2BpbVvS",
    "outputId": "49d26388-6a2a-4e80-9750-7bbfa4351344"
   },
   "outputs": [
    {
     "data": {
      "text/plain": [
       "0.5919922971997111"
      ]
     },
     "execution_count": 36,
     "metadata": {
      "tags": []
     },
     "output_type": "execute_result"
    }
   ],
   "source": [
    "accuracy_score(Y_test,EX_3_pred)"
   ]
  },
  {
   "cell_type": "code",
   "execution_count": 38,
   "metadata": {
    "colab": {
     "base_uri": "https://localhost:8080/",
     "height": 595
    },
    "colab_type": "code",
    "id": "Ncfm53aybbBb",
    "outputId": "8a27f177-7e79-4923-ce29-d1215ccd4371"
   },
   "outputs": [
    {
     "data": {
      "text/plain": [
       "array([[4147,   45,   29,    8,    2,  153,   55,  382,  180,    9,  629,\n",
       "          10,   30,   18,   35,    5,    8],\n",
       "       [ 315,  371,   13,    8,    4,   59,   41,  429,   47,    3,  379,\n",
       "           1,    9,   11,   21,    7,   11],\n",
       "       [ 140,    6,  328,    5,    0,   31,    4,   49,    7,    1,  167,\n",
       "           2,    0,    6,   19,    2,    0],\n",
       "       [  73,   20,    8,   87,    0,   51,    7,  100,    9,    0,  111,\n",
       "           1,    5,    2,    3,    0,    1],\n",
       "       [  69,   17,    1,    3,   29,   11,    9,   63,   21,    0,   70,\n",
       "           0,    2,    1,   10,    0,    2],\n",
       "       [ 427,   36,   11,   18,    0, 1468,   43,  511,   93,    0,  127,\n",
       "           2,   26,    7,   19,    1,    1],\n",
       "       [ 300,   33,    0,    4,    0,   56, 1015,  233,   85,    0,   59,\n",
       "           2,    2,    3,   32,    1,    1],\n",
       "       [ 590,   82,    7,   16,    2,  300,  147, 4003,   97,    3,  265,\n",
       "           4,   15,   11,   39,    4,    8],\n",
       "       [ 622,   41,    5,    1,    1,   95,  106,  341, 2130,    1,  115,\n",
       "           0,   25,    3,   40,    8,    4],\n",
       "       [ 151,   15,   11,    2,    0,   18,    3,   46,    9,   86,  289,\n",
       "           1,    1,    7,    3,    0,    1],\n",
       "       [ 541,   75,   80,   28,    1,   69,   26,  316,   30,   12, 6170,\n",
       "           7,    4,    9,   27,    4,    5],\n",
       "       [ 127,   11,    8,    2,    0,   34,    7,  109,   14,    2,  153,\n",
       "         103,    1,    8,    5,    0,    4],\n",
       "       [ 198,   13,    4,    1,    0,  132,   20,  234,   96,    0,   63,\n",
       "           0,  837,    3,   11,    3,    0],\n",
       "       [ 410,   19,   16,    7,    1,   27,    5,   74,   17,    5,  191,\n",
       "           0,    2,  302,   11,    0,    2],\n",
       "       [ 397,   49,    7,    4,    1,   95,   97,  367,  186,    1,  152,\n",
       "           3,   18,    8,  883,   10,    2],\n",
       "       [   0,    0,    0,    0,    0,    0,    0,    0,    0,    0,    0,\n",
       "           0,    0,    0,    0,    0,    0],\n",
       "       [ 280,   55,    8,    3,    0,   32,   30,  211,   38,    2,  126,\n",
       "           0,    0,    9,   23,    4,  175]])"
      ]
     },
     "execution_count": 38,
     "metadata": {
      "tags": []
     },
     "output_type": "execute_result"
    }
   ],
   "source": [
    "confusion_matrix(Y_test,EX_3_pred)"
   ]
  },
  {
   "cell_type": "markdown",
   "metadata": {
    "colab_type": "text",
    "id": "HXLSkuqEdhSJ"
   },
   "source": [
    "# Comparision"
   ]
  },
  {
   "cell_type": "code",
   "execution_count": 0,
   "metadata": {
    "colab": {},
    "colab_type": "code",
    "id": "3B155rfydU0b"
   },
   "outputs": [],
   "source": [
    "NN_ACC=accuracy_score(Y_test,NN_pred)\n",
    "NB_ACC=accuracy_score(Y_test,NB_pred)\n",
    "ada_ACC=accuracy_score(Y_test,ada_pred)\n",
    "EX_3_ACC=accuracy_score(Y_test,EX_3_pred)"
   ]
  },
  {
   "cell_type": "code",
   "execution_count": 40,
   "metadata": {
    "colab": {
     "base_uri": "https://localhost:8080/",
     "height": 85
    },
    "colab_type": "code",
    "id": "9lNwPec2eaDO",
    "outputId": "82ba083a-dab9-4f7c-9128-8c02b812c40f"
   },
   "outputs": [
    {
     "data": {
      "text/plain": [
       "[0.25812404717965176,\n",
       " 0.7082296932252802,\n",
       " 0.3163229826954452,\n",
       " 0.5919922971997111]"
      ]
     },
     "execution_count": 40,
     "metadata": {
      "tags": []
     },
     "output_type": "execute_result"
    }
   ],
   "source": [
    "[NN_ACC, NB_ACC, ada_ACC, EX_3_ACC]"
   ]
  },
  {
   "cell_type": "code",
   "execution_count": 42,
   "metadata": {
    "colab": {
     "base_uri": "https://localhost:8080/",
     "height": 266
    },
    "colab_type": "code",
    "id": "Kbje43E9egtk",
    "outputId": "a359e683-d757-45ba-b64c-87a0d68b923d"
   },
   "outputs": [
    {
     "data": {
      "image/png": "[encoded data removed]",
      "text/plain": [
       "<Figure size 432x288 with 1 Axes>"
      ]
     },
     "metadata": {
      "tags": []
     },
     "output_type": "display_data"
    }
   ],
   "source": [
    "import matplotlib.pyplot as plt\n",
    "import numpy as np\n",
    "%matplotlib inline\n",
    "fig, ax = plt.subplots() \n",
    "ax.set_xticks(np.arange(4))\n",
    "ax.set_xticklabels([\"NN\",\"NB\",\"ada\",\"EX_3\"])\n",
    "plt.bar(range(4),[NN_ACC, NB_ACC, ada_ACC, EX_3_ACC] )\n",
    "plt.show()"
   ]
  },
  {
   "cell_type": "code",
   "execution_count": 46,
   "metadata": {
    "colab": {
     "base_uri": "https://localhost:8080/",
     "height": 374
    },
    "colab_type": "code",
    "id": "0dM4Lhnhe7Pf",
    "outputId": "e2e97898-ec1d-41c1-e42a-45fa588fe2f0"
   },
   "outputs": [
    {
     "data": {
      "text/plain": [
       "VotingClassifier(estimators=[('EX_3',\n",
       "                              ExtraTreesClassifier(bootstrap=False,\n",
       "                                                   class_weight=None,\n",
       "                                                   criterion='gini',\n",
       "                                                   max_depth=None,\n",
       "                                                   max_features='auto',\n",
       "                                                   max_leaf_nodes=None,\n",
       "                                                   min_impurity_decrease=0.0,\n",
       "                                                   min_impurity_split=None,\n",
       "                                                   min_samples_leaf=1,\n",
       "                                                   min_samples_split=2,\n",
       "                                                   min_weight_fraction_leaf=0.0,\n",
       "                                                   n_estimators=10, n_jobs=None,\n",
       "                                                   oob_score=False,\n",
       "                                                   random_state=None, verbose=0,\n",
       "                                                   warm_start=False)),\n",
       "                             ('NB',\n",
       "                              MultinomialNB(alpha=1.0, class_prior=None,\n",
       "                                            fit_prior=True))],\n",
       "                 flatten_transform=True, n_jobs=None, voting='soft',\n",
       "                 weights=None)"
      ]
     },
     "execution_count": 46,
     "metadata": {
      "tags": []
     },
     "output_type": "execute_result"
    }
   ],
   "source": [
    "from sklearn.ensemble import VotingClassifier\n",
    "voter = VotingClassifier(estimators=[('EX_3',EX_3),('NB',clf)],voting='soft')\n",
    "voter.fit(X_train,Y_train)"
   ]
  },
  {
   "cell_type": "code",
   "execution_count": 0,
   "metadata": {
    "colab": {},
    "colab_type": "code",
    "id": "bXtUW35LfxT7"
   },
   "outputs": [],
   "source": [
    "voter_pred = voter.predict(X_test)"
   ]
  },
  {
   "cell_type": "code",
   "execution_count": 49,
   "metadata": {
    "colab": {
     "base_uri": "https://localhost:8080/",
     "height": 34
    },
    "colab_type": "code",
    "id": "qZ5UukWif2nk",
    "outputId": "c1b80752-f1ba-45b6-c390-bcadb4734d26"
   },
   "outputs": [
    {
     "data": {
      "text/plain": [
       "0.7127764850624515"
      ]
     },
     "execution_count": 49,
     "metadata": {
      "tags": []
     },
     "output_type": "execute_result"
    }
   ],
   "source": [
    "accuracy_score(Y_test,voter_pred)"
   ]
  },
  {
   "cell_type": "code",
   "execution_count": 0,
   "metadata": {
    "colab": {},
    "colab_type": "code",
    "id": "FSGguAnAf50p"
   },
   "outputs": [],
   "source": [
    "\"Done\""
   ]
  }
 ],
 "metadata": {
  "colab": {
   "collapsed_sections": [],
   "name": "Document Classification",
   "provenance": []
  },
  "kernelspec": {
   "display_name": "Python 3",
   "language": "python",
   "name": "python3"
  },
  "language_info": {
   "codemirror_mode": {
    "name": "ipython",
    "version": 3
   },
   "file_extension": ".py",
   "mimetype": "text/x-python",
   "name": "python",
   "nbconvert_exporter": "python",
   "pygments_lexer": "ipython3",
   "version": "3.7.3"
  }
 },
 "nbformat": 4,
 "nbformat_minor": 1
}
