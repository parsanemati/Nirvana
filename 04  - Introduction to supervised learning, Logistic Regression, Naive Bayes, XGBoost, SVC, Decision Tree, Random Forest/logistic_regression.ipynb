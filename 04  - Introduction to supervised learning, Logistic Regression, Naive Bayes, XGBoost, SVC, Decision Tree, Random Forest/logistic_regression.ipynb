{
 "cells": [
  {
   "cell_type": "code",
   "execution_count": 2,
   "metadata": {},
   "outputs": [],
   "source": [
    "import numpy as np\n",
    "from sklearn import linear_model\n",
    "\n",
    "# Load data\n",
    "data = np.loadtxt('/home/alinemati/Yandex.Disk/Data_science_Nirvana/DATA/database/heights_weights.csv', delimiter=',', skiprows=1)\n",
    "X = data[:,0:2]\n",
    "y = data[:,2]\n",
    "\n",
    "# Fit (train) the Logistic Regression classifier\n",
    "clf = linear_model.LogisticRegression(C=1e40, solver='newton-cg')\n",
    "fitted_model = clf.fit(X, y)\n",
    "\n",
    "# Predict\n",
    "prediction_result = clf.predict([(70,180)])"
   ]
  },
  {
   "cell_type": "code",
   "execution_count": 4,
   "metadata": {},
   "outputs": [
    {
     "name": "stdout",
     "output_type": "stream",
     "text": [
      "[1.]\n"
     ]
    }
   ],
   "source": [
    "print(prediction_result)"
   ]
  }
 ],
 "metadata": {
  "kernelspec": {
   "display_name": "Python 3",
   "language": "python",
   "name": "python3"
  },
  "language_info": {
   "codemirror_mode": {
    "name": "ipython",
    "version": 3
   },
   "file_extension": ".py",
   "mimetype": "text/x-python",
   "name": "python",
   "nbconvert_exporter": "python",
   "pygments_lexer": "ipython3",
   "version": "3.7.3"
  }
 },
 "nbformat": 4,
 "nbformat_minor": 2
}
