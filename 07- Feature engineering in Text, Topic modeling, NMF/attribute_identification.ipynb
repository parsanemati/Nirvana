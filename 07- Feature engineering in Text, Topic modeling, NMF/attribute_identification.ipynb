{
  "nbformat": 4,
  "nbformat_minor": 0,
  "metadata": {
    "kernelspec": {
      "display_name": "key_phrase_ner",
      "language": "python",
      "name": "keyphrase_namedentity_env"
    },
    "language_info": {
      "codemirror_mode": {
        "name": "ipython",
        "version": 3
      },
      "file_extension": ".py",
      "mimetype": "text/x-python",
      "name": "python",
      "nbconvert_exporter": "python",
      "pygments_lexer": "ipython3",
      "version": "3.6.5"
    },
    "colab": {
      "name": "attribute_identification.ipynb",
      "provenance": []
    }
  },
  "cells": [
    {
      "cell_type": "markdown",
      "metadata": {
        "id": "RZ96EuyAi6pl",
        "colab_type": "text"
      },
      "source": [
        "# Reading your data"
      ]
    },
    {
      "cell_type": "code",
      "metadata": {
        "id": "wArxqwZHi6pp",
        "colab_type": "code",
        "colab": {},
        "outputId": "6d67a336-a5b7-462c-e4f9-37cbb8703407"
      },
      "source": [
        "import pandas as pd\n",
        "data = pd.read_csv(\"./flipkart_data.csv\")\n",
        "data.shape"
      ],
      "execution_count": 0,
      "outputs": [
        {
          "output_type": "execute_result",
          "data": {
            "text/plain": [
              "(266242, 6)"
            ]
          },
          "metadata": {
            "tags": []
          },
          "execution_count": 1
        }
      ]
    },
    {
      "cell_type": "code",
      "metadata": {
        "id": "BKYUHM-4i6pw",
        "colab_type": "code",
        "colab": {},
        "outputId": "f757d5df-2d6b-47f5-b25a-a2b052cde1bb"
      },
      "source": [
        "# data frame looks like this\n",
        "data.head(3)"
      ],
      "execution_count": 0,
      "outputs": [
        {
          "output_type": "execute_result",
          "data": {
            "text/html": [
              "<div>\n",
              "<style scoped>\n",
              "    .dataframe tbody tr th:only-of-type {\n",
              "        vertical-align: middle;\n",
              "    }\n",
              "\n",
              "    .dataframe tbody tr th {\n",
              "        vertical-align: top;\n",
              "    }\n",
              "\n",
              "    .dataframe thead th {\n",
              "        text-align: right;\n",
              "    }\n",
              "</style>\n",
              "<table border=\"1\" class=\"dataframe\">\n",
              "  <thead>\n",
              "    <tr style=\"text-align: right;\">\n",
              "      <th></th>\n",
              "      <th>product_description</th>\n",
              "      <th>meta_description</th>\n",
              "      <th>description</th>\n",
              "      <th>bread_crumb</th>\n",
              "      <th>highlights</th>\n",
              "      <th>formated_reviews</th>\n",
              "    </tr>\n",
              "  </thead>\n",
              "  <tbody>\n",
              "    <tr>\n",
              "      <th>0</th>\n",
              "      <td>NaN</td>\n",
              "      <td>Buy Moto G5s (Lunar Gray, 32 GB) online at bes...</td>\n",
              "      <td>NaN</td>\n",
              "      <td>Home &gt; Mobiles &amp; Accessories &gt; Mobiles &gt; Motor...</td>\n",
              "      <td>[]</td>\n",
              "      <td>['Nice Good but over priced', 'Absolute rubbis...</td>\n",
              "    </tr>\n",
              "    <tr>\n",
              "      <th>1</th>\n",
              "      <td>NaN</td>\n",
              "      <td>Buy Imported ShengShow Gold Mirror Rubik Magic...</td>\n",
              "      <td>Very Good Fantastic Product. No compromise on ...</td>\n",
              "      <td>Home &gt; Toys &gt; Puzzles &amp; Board Games &gt; Puzzles ...</td>\n",
              "      <td>[]</td>\n",
              "      <td>['Really Nice Smooth', 'Excellent It is a good...</td>\n",
              "    </tr>\n",
              "    <tr>\n",
              "      <th>2</th>\n",
              "      <td>A revolutionary camera that adapts like the hu...</td>\n",
              "      <td>Buy Samsung Galaxy S9 (Midnight Black, 128 GB)...</td>\n",
              "      <td>Galaxy S9 Sleek and stunning the latest flagsh...</td>\n",
              "      <td>Home &gt; Mobiles &amp; Accessories &gt; Mobiles &gt; Samsu...</td>\n",
              "      <td>[]</td>\n",
              "      <td>['Must buy! Just woww', 'Fakruddin Nice Produc...</td>\n",
              "    </tr>\n",
              "  </tbody>\n",
              "</table>\n",
              "</div>"
            ],
            "text/plain": [
              "                                 product_description  \\\n",
              "0                                                NaN   \n",
              "1                                                NaN   \n",
              "2  A revolutionary camera that adapts like the hu...   \n",
              "\n",
              "                                    meta_description  \\\n",
              "0  Buy Moto G5s (Lunar Gray, 32 GB) online at bes...   \n",
              "1  Buy Imported ShengShow Gold Mirror Rubik Magic...   \n",
              "2  Buy Samsung Galaxy S9 (Midnight Black, 128 GB)...   \n",
              "\n",
              "                                         description  \\\n",
              "0                                                NaN   \n",
              "1  Very Good Fantastic Product. No compromise on ...   \n",
              "2  Galaxy S9 Sleek and stunning the latest flagsh...   \n",
              "\n",
              "                                         bread_crumb highlights  \\\n",
              "0  Home > Mobiles & Accessories > Mobiles > Motor...         []   \n",
              "1  Home > Toys > Puzzles & Board Games > Puzzles ...         []   \n",
              "2  Home > Mobiles & Accessories > Mobiles > Samsu...         []   \n",
              "\n",
              "                                    formated_reviews  \n",
              "0  ['Nice Good but over priced', 'Absolute rubbis...  \n",
              "1  ['Really Nice Smooth', 'Excellent It is a good...  \n",
              "2  ['Must buy! Just woww', 'Fakruddin Nice Produc...  "
            ]
          },
          "metadata": {
            "tags": []
          },
          "execution_count": 3
        }
      ]
    },
    {
      "cell_type": "code",
      "metadata": {
        "id": "Ev--aNVOi6p0",
        "colab_type": "code",
        "colab": {},
        "outputId": "ecaa4a2f-9eb9-4a30-8dbd-1a2370bcc101"
      },
      "source": [
        "# let's say if i want to see the data present in 43rd row --> iloc\n",
        "data.iloc[43] "
      ],
      "execution_count": 0,
      "outputs": [
        {
          "output_type": "execute_result",
          "data": {
            "text/plain": [
              "product_description    A blend of innovative design and technology - ...\n",
              "meta_description       Buy Samsung Galaxy S9 Plus (Coral Blue, 128 GB...\n",
              "description            Galaxy S9+ Sleek and stunning the latest flags...\n",
              "bread_crumb            Home > Mobiles & Accessories > Mobiles > Samsu...\n",
              "highlights                                                            []\n",
              "formated_reviews       ['Worth every penny good phone', 'Must buy! Ti...\n",
              "Name: 43, dtype: object"
            ]
          },
          "metadata": {
            "tags": []
          },
          "execution_count": 4
        }
      ]
    },
    {
      "cell_type": "code",
      "metadata": {
        "id": "LmSzCVuli6p4",
        "colab_type": "code",
        "colab": {},
        "outputId": "24875faa-a733-4361-9ef9-f3389ad0248c"
      },
      "source": [
        "# if you are only interested in 'product_description' of 43rd row\n",
        "data.iloc[43]['product_description']"
      ],
      "execution_count": 0,
      "outputs": [
        {
          "output_type": "execute_result",
          "data": {
            "text/plain": [
              "'A blend of innovative design and technology - the Samsung Galaxy S9+ is powered by an octa-core processor, which runs all its innovative features seamlessly. A brilliant camera and nifty features such as augmented reality, Super Slow-mo, and Live Translation will revolutionise the way you’ve been using a smartphone. The cherry on the top is that it can be charged wirelessly.'"
            ]
          },
          "metadata": {
            "tags": []
          },
          "execution_count": 5
        }
      ]
    },
    {
      "cell_type": "code",
      "metadata": {
        "id": "_VbJx_OJi6p8",
        "colab_type": "code",
        "colab": {},
        "outputId": "e4a6fd47-11cf-4bd2-96f2-fab9a7432c08"
      },
      "source": [
        "# if you are interested in the type 'product_description' of 43rd row\n",
        "type(data.iloc[43]['product_description'])"
      ],
      "execution_count": 0,
      "outputs": [
        {
          "output_type": "execute_result",
          "data": {
            "text/plain": [
              "str"
            ]
          },
          "metadata": {
            "tags": []
          },
          "execution_count": 6
        }
      ]
    },
    {
      "cell_type": "code",
      "metadata": {
        "id": "ZrIefG8di6qA",
        "colab_type": "code",
        "colab": {},
        "outputId": "8186f9e9-0f1e-4cc9-92d4-2c825fa0e413"
      },
      "source": [
        "print(\"Type of column ***product_description** \",type(data.iloc[43]['product_description']))\n",
        "print(\"Type of column ***meta_description**    \",type(data.iloc[43]['meta_description']))\n",
        "print(\"Type of column ***description**         \",type(data.iloc[43]['description']))\n",
        "print(\"Type of column ***bread_crumb**         \",type(data.iloc[43]['bread_crumb']))\n",
        "print(\"Type of column ***highlights**          \",type(data.iloc[43]['highlights']))\n",
        "print(\"Type of column ***formated_reviews**    \",type(data.iloc[43]['formated_reviews']))"
      ],
      "execution_count": 0,
      "outputs": [
        {
          "output_type": "stream",
          "text": [
            "Type of column ***product_description**  <class 'str'>\n",
            "Type of column ***meta_description**     <class 'str'>\n",
            "Type of column ***description**          <class 'str'>\n",
            "Type of column ***bread_crumb**          <class 'str'>\n",
            "Type of column ***highlights**           <class 'str'>\n",
            "Type of column ***formated_reviews**     <class 'str'>\n"
          ],
          "name": "stdout"
        }
      ]
    },
    {
      "cell_type": "code",
      "metadata": {
        "id": "pKjVUp8ki6qE",
        "colab_type": "code",
        "colab": {}
      },
      "source": [
        "import ast\n",
        "dtypes = {'product_description': 'str', \n",
        "          'meta_description': 'str', \n",
        "          'description': 'str', \n",
        "          'bread_crumb': 'str'}\n",
        "converters_ = {\n",
        "          'highlights':ast.literal_eval,\n",
        "          'formated_reviews':ast.literal_eval}"
      ],
      "execution_count": 0,
      "outputs": []
    },
    {
      "cell_type": "code",
      "metadata": {
        "id": "CMZQBYNUi6qI",
        "colab_type": "code",
        "colab": {}
      },
      "source": [
        "data = pd.read_csv(\"./flipkart_data.csv\",dtype=dtypes,converters=converters_)"
      ],
      "execution_count": 0,
      "outputs": []
    },
    {
      "cell_type": "code",
      "metadata": {
        "id": "ribplNNRi6qM",
        "colab_type": "code",
        "colab": {},
        "outputId": "df6571e9-b458-4202-db5a-3ebf95e5377c"
      },
      "source": [
        "print(\"Type of column ***product_description** \",type(data.iloc[43]['product_description']))\n",
        "print(\"Type of column ***meta_description**    \",type(data.iloc[43]['meta_description']))\n",
        "print(\"Type of column ***description**         \",type(data.iloc[43]['description']))\n",
        "print(\"Type of column ***bread_crumb**         \",type(data.iloc[43]['bread_crumb']))\n",
        "print(\"Type of column ***highlights**          \",type(data.iloc[43]['highlights']))\n",
        "print(\"Type of column ***formated_reviews**    \",type(data.iloc[43]['formated_reviews']))"
      ],
      "execution_count": 0,
      "outputs": [
        {
          "output_type": "stream",
          "text": [
            "Type of column ***product_description**  <class 'str'>\n",
            "Type of column ***meta_description**     <class 'str'>\n",
            "Type of column ***description**          <class 'str'>\n",
            "Type of column ***bread_crumb**          <class 'str'>\n",
            "Type of column ***highlights**           <class 'list'>\n",
            "Type of column ***formated_reviews**     <class 'list'>\n"
          ],
          "name": "stdout"
        }
      ]
    },
    {
      "cell_type": "markdown",
      "metadata": {
        "id": "yE77vmihi6qP",
        "colab_type": "text"
      },
      "source": [
        "# Demo"
      ]
    },
    {
      "cell_type": "code",
      "metadata": {
        "id": "PZH-k_hki6qR",
        "colab_type": "code",
        "colab": {},
        "outputId": "86db0035-ffcf-412e-bee2-6e8c6bc422b6"
      },
      "source": [
        "\"['this is good','this is awesome', 'a']\""
      ],
      "execution_count": 0,
      "outputs": [
        {
          "output_type": "execute_result",
          "data": {
            "text/plain": [
              "\"['this is good','this is awesome', 'a']\""
            ]
          },
          "metadata": {
            "tags": []
          },
          "execution_count": 74
        }
      ]
    },
    {
      "cell_type": "code",
      "metadata": {
        "id": "_ZGenUOhi6qV",
        "colab_type": "code",
        "colab": {},
        "outputId": "7fab4806-8a92-4406-e134-0caf1e3049c9"
      },
      "source": [
        "type(\"['this is good','this is awesome', 'a']\")"
      ],
      "execution_count": 0,
      "outputs": [
        {
          "output_type": "execute_result",
          "data": {
            "text/plain": [
              "str"
            ]
          },
          "metadata": {
            "tags": []
          },
          "execution_count": 75
        }
      ]
    },
    {
      "cell_type": "code",
      "metadata": {
        "id": "jDCtUv9yi6qY",
        "colab_type": "code",
        "colab": {},
        "outputId": "2532cfe6-fe90-4525-e583-9f6f911a4730"
      },
      "source": [
        "type(ast.literal_eval(\"['this is good','this is awesome','a']\"))"
      ],
      "execution_count": 0,
      "outputs": [
        {
          "output_type": "execute_result",
          "data": {
            "text/plain": [
              "list"
            ]
          },
          "metadata": {
            "tags": []
          },
          "execution_count": 76
        }
      ]
    },
    {
      "cell_type": "code",
      "metadata": {
        "id": "9Bn_jmdJi6qc",
        "colab_type": "code",
        "colab": {},
        "outputId": "e2cf84d7-e4af-4a53-e093-58d6ad9651c4"
      },
      "source": [
        "ast.literal_eval(\"['this is good','this is awesome','a']\")"
      ],
      "execution_count": 0,
      "outputs": [
        {
          "output_type": "execute_result",
          "data": {
            "text/plain": [
              "['this is good', 'this is awesome', 'a']"
            ]
          },
          "metadata": {
            "tags": []
          },
          "execution_count": 77
        }
      ]
    },
    {
      "cell_type": "code",
      "metadata": {
        "id": "2e_YvWWbi6qf",
        "colab_type": "code",
        "colab": {},
        "outputId": "2fa90a60-a01f-4e31-c03d-fdad6274a101"
      },
      "source": [
        "['this is good', 'this is awesome']"
      ],
      "execution_count": 0,
      "outputs": [
        {
          "output_type": "execute_result",
          "data": {
            "text/plain": [
              "['this is good', 'this is awesome']"
            ]
          },
          "metadata": {
            "tags": []
          },
          "execution_count": 78
        }
      ]
    },
    {
      "cell_type": "code",
      "metadata": {
        "id": "wX3oJa93i6qj",
        "colab_type": "code",
        "colab": {},
        "outputId": "95fe1aee-3cab-4202-af05-80c1788fefba"
      },
      "source": [
        " ' '.join(['this is good', 'this is awesome'])"
      ],
      "execution_count": 0,
      "outputs": [
        {
          "output_type": "execute_result",
          "data": {
            "text/plain": [
              "'this is good this is awesome'"
            ]
          },
          "metadata": {
            "tags": []
          },
          "execution_count": 80
        }
      ]
    },
    {
      "cell_type": "markdown",
      "metadata": {
        "id": "nbTR_jE6i6qn",
        "colab_type": "text"
      },
      "source": [
        "# Removing outliers"
      ]
    },
    {
      "cell_type": "code",
      "metadata": {
        "id": "7D43V50pi6qo",
        "colab_type": "code",
        "colab": {},
        "outputId": "dbed440a-96c8-4d1e-e062-f7e35d971790"
      },
      "source": [
        "import numpy as np\n",
        "type(np.NAN)"
      ],
      "execution_count": 0,
      "outputs": [
        {
          "output_type": "execute_result",
          "data": {
            "text/plain": [
              "float"
            ]
          },
          "metadata": {
            "tags": []
          },
          "execution_count": 12
        }
      ]
    },
    {
      "cell_type": "code",
      "metadata": {
        "id": "yeSC_9nTi6qs",
        "colab_type": "code",
        "colab": {}
      },
      "source": [
        "# Replacing NANs with empty string, which will help us to identify outliers\n",
        "# Once we identify outliers and remove them then we will deal with empty strings/missing data\n",
        "data = data.replace(np.NAN,'')"
      ],
      "execution_count": 0,
      "outputs": []
    },
    {
      "cell_type": "code",
      "metadata": {
        "id": "mKRCvLJ2i6qv",
        "colab_type": "code",
        "colab": {},
        "outputId": "02a0d25b-05b9-4d15-e1df-539257cc87f6"
      },
      "source": [
        "data.head(3)"
      ],
      "execution_count": 0,
      "outputs": [
        {
          "output_type": "execute_result",
          "data": {
            "text/html": [
              "<div>\n",
              "<style scoped>\n",
              "    .dataframe tbody tr th:only-of-type {\n",
              "        vertical-align: middle;\n",
              "    }\n",
              "\n",
              "    .dataframe tbody tr th {\n",
              "        vertical-align: top;\n",
              "    }\n",
              "\n",
              "    .dataframe thead th {\n",
              "        text-align: right;\n",
              "    }\n",
              "</style>\n",
              "<table border=\"1\" class=\"dataframe\">\n",
              "  <thead>\n",
              "    <tr style=\"text-align: right;\">\n",
              "      <th></th>\n",
              "      <th>product_description</th>\n",
              "      <th>meta_description</th>\n",
              "      <th>description</th>\n",
              "      <th>bread_crumb</th>\n",
              "      <th>highlights</th>\n",
              "      <th>formated_reviews</th>\n",
              "    </tr>\n",
              "  </thead>\n",
              "  <tbody>\n",
              "    <tr>\n",
              "      <th>0</th>\n",
              "      <td></td>\n",
              "      <td>Buy Moto G5s (Lunar Gray, 32 GB) online at bes...</td>\n",
              "      <td></td>\n",
              "      <td>Home &gt; Mobiles &amp; Accessories &gt; Mobiles &gt; Motor...</td>\n",
              "      <td>[]</td>\n",
              "      <td>[Nice Good but over priced, Absolute rubbish! ...</td>\n",
              "    </tr>\n",
              "    <tr>\n",
              "      <th>1</th>\n",
              "      <td></td>\n",
              "      <td>Buy Imported ShengShow Gold Mirror Rubik Magic...</td>\n",
              "      <td>Very Good Fantastic Product. No compromise on ...</td>\n",
              "      <td>Home &gt; Toys &gt; Puzzles &amp; Board Games &gt; Puzzles ...</td>\n",
              "      <td>[]</td>\n",
              "      <td>[Really Nice Smooth, Excellent It is a good pr...</td>\n",
              "    </tr>\n",
              "    <tr>\n",
              "      <th>2</th>\n",
              "      <td>A revolutionary camera that adapts like the hu...</td>\n",
              "      <td>Buy Samsung Galaxy S9 (Midnight Black, 128 GB)...</td>\n",
              "      <td>Galaxy S9 Sleek and stunning the latest flagsh...</td>\n",
              "      <td>Home &gt; Mobiles &amp; Accessories &gt; Mobiles &gt; Samsu...</td>\n",
              "      <td>[]</td>\n",
              "      <td>[Must buy! Just woww, Fakruddin Nice Product, ...</td>\n",
              "    </tr>\n",
              "  </tbody>\n",
              "</table>\n",
              "</div>"
            ],
            "text/plain": [
              "                                 product_description  \\\n",
              "0                                                      \n",
              "1                                                      \n",
              "2  A revolutionary camera that adapts like the hu...   \n",
              "\n",
              "                                    meta_description  \\\n",
              "0  Buy Moto G5s (Lunar Gray, 32 GB) online at bes...   \n",
              "1  Buy Imported ShengShow Gold Mirror Rubik Magic...   \n",
              "2  Buy Samsung Galaxy S9 (Midnight Black, 128 GB)...   \n",
              "\n",
              "                                         description  \\\n",
              "0                                                      \n",
              "1  Very Good Fantastic Product. No compromise on ...   \n",
              "2  Galaxy S9 Sleek and stunning the latest flagsh...   \n",
              "\n",
              "                                         bread_crumb highlights  \\\n",
              "0  Home > Mobiles & Accessories > Mobiles > Motor...         []   \n",
              "1  Home > Toys > Puzzles & Board Games > Puzzles ...         []   \n",
              "2  Home > Mobiles & Accessories > Mobiles > Samsu...         []   \n",
              "\n",
              "                                    formated_reviews  \n",
              "0  [Nice Good but over priced, Absolute rubbish! ...  \n",
              "1  [Really Nice Smooth, Excellent It is a good pr...  \n",
              "2  [Must buy! Just woww, Fakruddin Nice Product, ...  "
            ]
          },
          "metadata": {
            "tags": []
          },
          "execution_count": 14
        }
      ]
    },
    {
      "cell_type": "markdown",
      "metadata": {
        "id": "-WnqiNOui6qz",
        "colab_type": "text"
      },
      "source": [
        "# Dealing outlier in 'product_description' column"
      ]
    },
    {
      "cell_type": "code",
      "metadata": {
        "id": "uNz713Yhi6q1",
        "colab_type": "code",
        "colab": {},
        "outputId": "a4ca9ccb-9fd5-4a9e-f0e2-baa1f137cdd8"
      },
      "source": [
        "def find_no_of_words(x):\n",
        "    return len(x.split())\n",
        "find_no_of_words(\"\")"
      ],
      "execution_count": 0,
      "outputs": [
        {
          "output_type": "execute_result",
          "data": {
            "text/plain": [
              "0"
            ]
          },
          "metadata": {
            "tags": []
          },
          "execution_count": 25
        }
      ]
    },
    {
      "cell_type": "code",
      "metadata": {
        "id": "iB0ZvqmKi6q8",
        "colab_type": "code",
        "colab": {},
        "outputId": "939a710c-eef4-4179-b985-a18d3227edb6"
      },
      "source": [
        "# Let's pick one particular column and try to find outliers --> product description\n",
        "# In order to find outliers in 'product description' you might want to use no of words present in each product description\n",
        "data['product_description_len'] = data['product_description'].apply(lambda x: find_no_of_words(x) )\n",
        "data.head(3)"
      ],
      "execution_count": 0,
      "outputs": [
        {
          "output_type": "execute_result",
          "data": {
            "text/html": [
              "<div>\n",
              "<style scoped>\n",
              "    .dataframe tbody tr th:only-of-type {\n",
              "        vertical-align: middle;\n",
              "    }\n",
              "\n",
              "    .dataframe tbody tr th {\n",
              "        vertical-align: top;\n",
              "    }\n",
              "\n",
              "    .dataframe thead th {\n",
              "        text-align: right;\n",
              "    }\n",
              "</style>\n",
              "<table border=\"1\" class=\"dataframe\">\n",
              "  <thead>\n",
              "    <tr style=\"text-align: right;\">\n",
              "      <th></th>\n",
              "      <th>product_description</th>\n",
              "      <th>meta_description</th>\n",
              "      <th>description</th>\n",
              "      <th>bread_crumb</th>\n",
              "      <th>highlights</th>\n",
              "      <th>formated_reviews</th>\n",
              "      <th>product_description_len</th>\n",
              "    </tr>\n",
              "  </thead>\n",
              "  <tbody>\n",
              "    <tr>\n",
              "      <th>0</th>\n",
              "      <td></td>\n",
              "      <td>Buy Moto G5s (Lunar Gray, 32 GB) online at bes...</td>\n",
              "      <td></td>\n",
              "      <td>Home &gt; Mobiles &amp; Accessories &gt; Mobiles &gt; Motor...</td>\n",
              "      <td>[]</td>\n",
              "      <td>[Nice Good but over priced, Absolute rubbish! ...</td>\n",
              "      <td>0</td>\n",
              "    </tr>\n",
              "    <tr>\n",
              "      <th>1</th>\n",
              "      <td></td>\n",
              "      <td>Buy Imported ShengShow Gold Mirror Rubik Magic...</td>\n",
              "      <td>Very Good Fantastic Product. No compromise on ...</td>\n",
              "      <td>Home &gt; Toys &gt; Puzzles &amp; Board Games &gt; Puzzles ...</td>\n",
              "      <td>[]</td>\n",
              "      <td>[Really Nice Smooth, Excellent It is a good pr...</td>\n",
              "      <td>0</td>\n",
              "    </tr>\n",
              "    <tr>\n",
              "      <th>2</th>\n",
              "      <td>A revolutionary camera that adapts like the hu...</td>\n",
              "      <td>Buy Samsung Galaxy S9 (Midnight Black, 128 GB)...</td>\n",
              "      <td>Galaxy S9 Sleek and stunning the latest flagsh...</td>\n",
              "      <td>Home &gt; Mobiles &amp; Accessories &gt; Mobiles &gt; Samsu...</td>\n",
              "      <td>[]</td>\n",
              "      <td>[Must buy! Just woww, Fakruddin Nice Product, ...</td>\n",
              "      <td>77</td>\n",
              "    </tr>\n",
              "  </tbody>\n",
              "</table>\n",
              "</div>"
            ],
            "text/plain": [
              "                                 product_description  \\\n",
              "0                                                      \n",
              "1                                                      \n",
              "2  A revolutionary camera that adapts like the hu...   \n",
              "\n",
              "                                    meta_description  \\\n",
              "0  Buy Moto G5s (Lunar Gray, 32 GB) online at bes...   \n",
              "1  Buy Imported ShengShow Gold Mirror Rubik Magic...   \n",
              "2  Buy Samsung Galaxy S9 (Midnight Black, 128 GB)...   \n",
              "\n",
              "                                         description  \\\n",
              "0                                                      \n",
              "1  Very Good Fantastic Product. No compromise on ...   \n",
              "2  Galaxy S9 Sleek and stunning the latest flagsh...   \n",
              "\n",
              "                                         bread_crumb highlights  \\\n",
              "0  Home > Mobiles & Accessories > Mobiles > Motor...         []   \n",
              "1  Home > Toys > Puzzles & Board Games > Puzzles ...         []   \n",
              "2  Home > Mobiles & Accessories > Mobiles > Samsu...         []   \n",
              "\n",
              "                                    formated_reviews  product_description_len  \n",
              "0  [Nice Good but over priced, Absolute rubbish! ...                        0  \n",
              "1  [Really Nice Smooth, Excellent It is a good pr...                        0  \n",
              "2  [Must buy! Just woww, Fakruddin Nice Product, ...                       77  "
            ]
          },
          "metadata": {
            "tags": []
          },
          "execution_count": 26
        }
      ]
    },
    {
      "cell_type": "code",
      "metadata": {
        "id": "D55lDRFmi6rD",
        "colab_type": "code",
        "colab": {},
        "outputId": "de5d7ef7-e19c-457d-a535-9eec7b15e207"
      },
      "source": [
        "# If we plot histogram for product description it might look like this:\n",
        "import matplotlib.pyplot as plt\n",
        "%matplotlib inline\n",
        "plt.hist(data['product_description_len'])\n",
        "plt.show()"
      ],
      "execution_count": 0,
      "outputs": [
        {
          "output_type": "display_data",
          "data": {
            "image/png": "[encoded data removed]",
            "text/plain": [
              "<Figure size 432x288 with 1 Axes>"
            ]
          },
          "metadata": {
            "tags": [],
            "needs_background": "light"
          }
        }
      ]
    },
    {
      "cell_type": "code",
      "metadata": {
        "id": "hi82RnrPi6rK",
        "colab_type": "code",
        "colab": {},
        "outputId": "3b17c626-a878-4f6c-ff26-712be15f4299"
      },
      "source": [
        "# Since there are empty strings we will see the same distributions without empty strings to identify the outliers\n",
        "%matplotlib inline\n",
        "plt.hist(data['product_description_len'],range=(1,120))\n",
        "plt.show()"
      ],
      "execution_count": 0,
      "outputs": [
        {
          "output_type": "display_data",
          "data": {
            "image/png": "[encoded data removed]",
            "text/plain": [
              "<Figure size 432x288 with 1 Axes>"
            ]
          },
          "metadata": {
            "tags": [],
            "needs_background": "light"
          }
        }
      ]
    },
    {
      "cell_type": "markdown",
      "metadata": {
        "id": "aIpUGr8Oi6rN",
        "colab_type": "text"
      },
      "source": [
        "# Dealing outliers in meta_description and description"
      ]
    },
    {
      "cell_type": "code",
      "metadata": {
        "id": "hRjU0TNMi6rO",
        "colab_type": "code",
        "colab": {},
        "outputId": "da3c1731-7ed9-4158-8621-0e48a59c4172"
      },
      "source": [
        "# If you plot histogram for meta_description and description it looks as follows:\n",
        "plt.hist(data['meta_description'].apply(lambda x: len(x.split())),range=(1,300))\n",
        "plt.legend(\"meta_description\")\n",
        "plt.show()\n",
        "\n",
        "plt.hist(data['description'].apply(lambda x: len(x.split())),range=(1,170))\n",
        "plt.legend(\"description\")\n",
        "plt.show()"
      ],
      "execution_count": 0,
      "outputs": [
        {
          "output_type": "display_data",
          "data": {
            "image/png": "[encoded data removed]",
            "text/plain": [
              "<Figure size 432x288 with 1 Axes>"
            ]
          },
          "metadata": {
            "tags": [],
            "needs_background": "light"
          }
        },
        {
          "output_type": "display_data",
          "data": {
            "image/png": "[encoded data removed]",
            "text/plain": [
              "<Figure size 432x288 with 1 Axes>"
            ]
          },
          "metadata": {
            "tags": [],
            "needs_background": "light"
          }
        }
      ]
    },
    {
      "cell_type": "code",
      "metadata": {
        "id": "Mx1K4_34i6rR",
        "colab_type": "code",
        "colab": {},
        "outputId": "72efd981-25a5-44b6-e82c-50937c841e19"
      },
      "source": [
        "# If you plot histogram for meta_description and description it looks as follows:\n",
        "plt.hist(data['meta_description'].apply(lambda x: len(x.split())),range=(10,100))\n",
        "plt.legend(\"meta_description\")\n",
        "plt.show()"
      ],
      "execution_count": 0,
      "outputs": [
        {
          "output_type": "display_data",
          "data": {
            "image/png": "[encoded data removed]",
            "text/plain": [
              "<Figure size 432x288 with 1 Axes>"
            ]
          },
          "metadata": {
            "tags": [],
            "needs_background": "light"
          }
        }
      ]
    },
    {
      "cell_type": "code",
      "metadata": {
        "id": "obVgAiM_i6rU",
        "colab_type": "code",
        "colab": {}
      },
      "source": [
        "# From above histogram we can see that there are some outliers present  with respect to meta_description \n",
        "# Hence we need to remove them\n",
        "data['len_meta_desc'] = data['meta_description'].apply(lambda x: len(x.split()))\n",
        "data = data[data['len_meta_desc']<100]\n",
        "data = data[data['len_meta_desc']>10]"
      ],
      "execution_count": 0,
      "outputs": []
    },
    {
      "cell_type": "code",
      "metadata": {
        "id": "BdMaZmGFi6rX",
        "colab_type": "code",
        "colab": {},
        "outputId": "ea14812f-e0b1-41f7-b5c1-4d364867d852"
      },
      "source": [
        "plt.hist(data['meta_description'].apply(lambda x: len(x.split())),range=(10,100))\n",
        "plt.legend(\"meta_description\")\n",
        "plt.show()"
      ],
      "execution_count": 0,
      "outputs": [
        {
          "output_type": "display_data",
          "data": {
            "image/png": "[encoded data removed]",
            "text/plain": [
              "<Figure size 432x288 with 1 Axes>"
            ]
          },
          "metadata": {
            "tags": [],
            "needs_background": "light"
          }
        }
      ]
    },
    {
      "cell_type": "markdown",
      "metadata": {
        "id": "50WDh9jBi6ra",
        "colab_type": "text"
      },
      "source": [
        "# Dealing outliers in bread_crumb"
      ]
    },
    {
      "cell_type": "code",
      "metadata": {
        "id": "yB8SlWD2i6ra",
        "colab_type": "code",
        "colab": {},
        "outputId": "087ff095-f2d1-4c44-fec6-bcb0a74c2718"
      },
      "source": [
        "data.head(4)"
      ],
      "execution_count": 0,
      "outputs": [
        {
          "output_type": "execute_result",
          "data": {
            "text/html": [
              "<div>\n",
              "<style scoped>\n",
              "    .dataframe tbody tr th:only-of-type {\n",
              "        vertical-align: middle;\n",
              "    }\n",
              "\n",
              "    .dataframe tbody tr th {\n",
              "        vertical-align: top;\n",
              "    }\n",
              "\n",
              "    .dataframe thead th {\n",
              "        text-align: right;\n",
              "    }\n",
              "</style>\n",
              "<table border=\"1\" class=\"dataframe\">\n",
              "  <thead>\n",
              "    <tr style=\"text-align: right;\">\n",
              "      <th></th>\n",
              "      <th>product_description</th>\n",
              "      <th>meta_description</th>\n",
              "      <th>description</th>\n",
              "      <th>bread_crumb</th>\n",
              "      <th>highlights</th>\n",
              "      <th>formated_reviews</th>\n",
              "      <th>product_description_len</th>\n",
              "      <th>len_meta_desc</th>\n",
              "    </tr>\n",
              "  </thead>\n",
              "  <tbody>\n",
              "    <tr>\n",
              "      <th>0</th>\n",
              "      <td></td>\n",
              "      <td>Buy Moto G5s (Lunar Gray, 32 GB) online at bes...</td>\n",
              "      <td></td>\n",
              "      <td>Home &gt; Mobiles &amp; Accessories &gt; Mobiles &gt; Motor...</td>\n",
              "      <td>[]</td>\n",
              "      <td>[Nice Good but over priced, Absolute rubbish! ...</td>\n",
              "      <td>0</td>\n",
              "      <td>52</td>\n",
              "    </tr>\n",
              "    <tr>\n",
              "      <th>1</th>\n",
              "      <td></td>\n",
              "      <td>Buy Imported ShengShow Gold Mirror Rubik Magic...</td>\n",
              "      <td>Very Good Fantastic Product. No compromise on ...</td>\n",
              "      <td>Home &gt; Toys &gt; Puzzles &amp; Board Games &gt; Puzzles ...</td>\n",
              "      <td>[]</td>\n",
              "      <td>[Really Nice Smooth, Excellent It is a good pr...</td>\n",
              "      <td>0</td>\n",
              "      <td>43</td>\n",
              "    </tr>\n",
              "    <tr>\n",
              "      <th>2</th>\n",
              "      <td>A revolutionary camera that adapts like the hu...</td>\n",
              "      <td>Buy Samsung Galaxy S9 (Midnight Black, 128 GB)...</td>\n",
              "      <td>Galaxy S9 Sleek and stunning the latest flagsh...</td>\n",
              "      <td>Home &gt; Mobiles &amp; Accessories &gt; Mobiles &gt; Samsu...</td>\n",
              "      <td>[]</td>\n",
              "      <td>[Must buy! Just woww, Fakruddin Nice Product, ...</td>\n",
              "      <td>77</td>\n",
              "      <td>53</td>\n",
              "    </tr>\n",
              "    <tr>\n",
              "      <th>3</th>\n",
              "      <td>The Samsung Galaxy J6 is here, with its virtua...</td>\n",
              "      <td>Buy Samsung Galaxy J6 (Black, 32 GB) online at...</td>\n",
              "      <td></td>\n",
              "      <td>Home &gt; Mobiles &amp; Accessories &gt; Mobiles &gt; Samsu...</td>\n",
              "      <td>[]</td>\n",
              "      <td>[Horrible not updated as comptiters Mi and ass...</td>\n",
              "      <td>47</td>\n",
              "      <td>52</td>\n",
              "    </tr>\n",
              "  </tbody>\n",
              "</table>\n",
              "</div>"
            ],
            "text/plain": [
              "                                 product_description  \\\n",
              "0                                                      \n",
              "1                                                      \n",
              "2  A revolutionary camera that adapts like the hu...   \n",
              "3  The Samsung Galaxy J6 is here, with its virtua...   \n",
              "\n",
              "                                    meta_description  \\\n",
              "0  Buy Moto G5s (Lunar Gray, 32 GB) online at bes...   \n",
              "1  Buy Imported ShengShow Gold Mirror Rubik Magic...   \n",
              "2  Buy Samsung Galaxy S9 (Midnight Black, 128 GB)...   \n",
              "3  Buy Samsung Galaxy J6 (Black, 32 GB) online at...   \n",
              "\n",
              "                                         description  \\\n",
              "0                                                      \n",
              "1  Very Good Fantastic Product. No compromise on ...   \n",
              "2  Galaxy S9 Sleek and stunning the latest flagsh...   \n",
              "3                                                      \n",
              "\n",
              "                                         bread_crumb highlights  \\\n",
              "0  Home > Mobiles & Accessories > Mobiles > Motor...         []   \n",
              "1  Home > Toys > Puzzles & Board Games > Puzzles ...         []   \n",
              "2  Home > Mobiles & Accessories > Mobiles > Samsu...         []   \n",
              "3  Home > Mobiles & Accessories > Mobiles > Samsu...         []   \n",
              "\n",
              "                                    formated_reviews  product_description_len  \\\n",
              "0  [Nice Good but over priced, Absolute rubbish! ...                        0   \n",
              "1  [Really Nice Smooth, Excellent It is a good pr...                        0   \n",
              "2  [Must buy! Just woww, Fakruddin Nice Product, ...                       77   \n",
              "3  [Horrible not updated as comptiters Mi and ass...                       47   \n",
              "\n",
              "   len_meta_desc  \n",
              "0             52  \n",
              "1             43  \n",
              "2             53  \n",
              "3             52  "
            ]
          },
          "metadata": {
            "tags": []
          },
          "execution_count": 33
        }
      ]
    },
    {
      "cell_type": "code",
      "metadata": {
        "id": "MAl8AKbWi6rd",
        "colab_type": "code",
        "colab": {}
      },
      "source": [
        "# What is bread_crumb?\n",
        "# It might look like as following:\n",
        "#       0.  >.    1.     >.   2\n",
        "#.     Home > Electronics > Phones > iphoneX\n",
        "#      Home > Furniture  > Chair > Office chair\n",
        "#.     Home > Beuty > Lipstick\n",
        "#.     Home \n",
        "# It will help us to identify category of a particular product /page\n",
        "# We will just use 2nd level of category"
      ],
      "execution_count": 0,
      "outputs": []
    },
    {
      "cell_type": "code",
      "metadata": {
        "id": "8NU4rm1Ri6rg",
        "colab_type": "code",
        "colab": {}
      },
      "source": [
        "data['bread_crumb'] = data['bread_crumb'].apply(lambda x: x.split(\">\")[1] if len(x.split(\">\"))>=2 else '')"
      ],
      "execution_count": 0,
      "outputs": []
    },
    {
      "cell_type": "code",
      "metadata": {
        "id": "uejUKBm6i6rk",
        "colab_type": "code",
        "colab": {},
        "outputId": "d0ede76c-cb45-4d54-9ed8-24ca6a688e93"
      },
      "source": [
        "data.head(2)"
      ],
      "execution_count": 0,
      "outputs": [
        {
          "output_type": "execute_result",
          "data": {
            "text/html": [
              "<div>\n",
              "<style scoped>\n",
              "    .dataframe tbody tr th:only-of-type {\n",
              "        vertical-align: middle;\n",
              "    }\n",
              "\n",
              "    .dataframe tbody tr th {\n",
              "        vertical-align: top;\n",
              "    }\n",
              "\n",
              "    .dataframe thead th {\n",
              "        text-align: right;\n",
              "    }\n",
              "</style>\n",
              "<table border=\"1\" class=\"dataframe\">\n",
              "  <thead>\n",
              "    <tr style=\"text-align: right;\">\n",
              "      <th></th>\n",
              "      <th>product_description</th>\n",
              "      <th>meta_description</th>\n",
              "      <th>description</th>\n",
              "      <th>bread_crumb</th>\n",
              "      <th>highlights</th>\n",
              "      <th>formated_reviews</th>\n",
              "      <th>product_description_len</th>\n",
              "      <th>len_meta_desc</th>\n",
              "    </tr>\n",
              "  </thead>\n",
              "  <tbody>\n",
              "    <tr>\n",
              "      <th>0</th>\n",
              "      <td></td>\n",
              "      <td>Buy Moto G5s (Lunar Gray, 32 GB) online at bes...</td>\n",
              "      <td></td>\n",
              "      <td>Mobiles &amp; Accessories</td>\n",
              "      <td>[]</td>\n",
              "      <td>[Nice Good but over priced, Absolute rubbish! ...</td>\n",
              "      <td>0</td>\n",
              "      <td>52</td>\n",
              "    </tr>\n",
              "    <tr>\n",
              "      <th>1</th>\n",
              "      <td></td>\n",
              "      <td>Buy Imported ShengShow Gold Mirror Rubik Magic...</td>\n",
              "      <td>Very Good Fantastic Product. No compromise on ...</td>\n",
              "      <td>Toys</td>\n",
              "      <td>[]</td>\n",
              "      <td>[Really Nice Smooth, Excellent It is a good pr...</td>\n",
              "      <td>0</td>\n",
              "      <td>43</td>\n",
              "    </tr>\n",
              "  </tbody>\n",
              "</table>\n",
              "</div>"
            ],
            "text/plain": [
              "  product_description                                   meta_description  \\\n",
              "0                      Buy Moto G5s (Lunar Gray, 32 GB) online at bes...   \n",
              "1                      Buy Imported ShengShow Gold Mirror Rubik Magic...   \n",
              "\n",
              "                                         description              bread_crumb  \\\n",
              "0                                                      Mobiles & Accessories    \n",
              "1  Very Good Fantastic Product. No compromise on ...                    Toys    \n",
              "\n",
              "  highlights                                   formated_reviews  \\\n",
              "0         []  [Nice Good but over priced, Absolute rubbish! ...   \n",
              "1         []  [Really Nice Smooth, Excellent It is a good pr...   \n",
              "\n",
              "   product_description_len  len_meta_desc  \n",
              "0                        0             52  \n",
              "1                        0             43  "
            ]
          },
          "metadata": {
            "tags": []
          },
          "execution_count": 38
        }
      ]
    },
    {
      "cell_type": "code",
      "metadata": {
        "id": "iJZbVo_Vi6ro",
        "colab_type": "code",
        "colab": {}
      },
      "source": [
        "# since bread_crumb is a categorical variable we might not need to check for any outlier\n",
        "# But there might be a chance of category imbalance that need to be deal with --> removing irrelevant data"
      ],
      "execution_count": 0,
      "outputs": []
    },
    {
      "cell_type": "markdown",
      "metadata": {
        "id": "Ya2dxHF2i6rt",
        "colab_type": "text"
      },
      "source": [
        "# Dealing outliers in highlights"
      ]
    },
    {
      "cell_type": "code",
      "metadata": {
        "id": "9XSE91t5i6ru",
        "colab_type": "code",
        "colab": {}
      },
      "source": [
        "# Since highlights are manually created we might not need to find any ouliers in that. "
      ],
      "execution_count": 0,
      "outputs": []
    },
    {
      "cell_type": "markdown",
      "metadata": {
        "id": "6l7gnpFbi6rz",
        "colab_type": "text"
      },
      "source": [
        "# Dealing outliers in reviews"
      ]
    },
    {
      "cell_type": "code",
      "metadata": {
        "id": "NzC-Rr8Wi6r0",
        "colab_type": "code",
        "colab": {},
        "outputId": "5b2655a7-ada7-40eb-bd79-c696d29ed0c6"
      },
      "source": [
        "data.head(2)"
      ],
      "execution_count": 0,
      "outputs": [
        {
          "output_type": "execute_result",
          "data": {
            "text/html": [
              "<div>\n",
              "<style scoped>\n",
              "    .dataframe tbody tr th:only-of-type {\n",
              "        vertical-align: middle;\n",
              "    }\n",
              "\n",
              "    .dataframe tbody tr th {\n",
              "        vertical-align: top;\n",
              "    }\n",
              "\n",
              "    .dataframe thead th {\n",
              "        text-align: right;\n",
              "    }\n",
              "</style>\n",
              "<table border=\"1\" class=\"dataframe\">\n",
              "  <thead>\n",
              "    <tr style=\"text-align: right;\">\n",
              "      <th></th>\n",
              "      <th>product_description</th>\n",
              "      <th>meta_description</th>\n",
              "      <th>description</th>\n",
              "      <th>bread_crumb</th>\n",
              "      <th>highlights</th>\n",
              "      <th>formated_reviews</th>\n",
              "      <th>product_description_len</th>\n",
              "      <th>len_meta_desc</th>\n",
              "    </tr>\n",
              "  </thead>\n",
              "  <tbody>\n",
              "    <tr>\n",
              "      <th>0</th>\n",
              "      <td></td>\n",
              "      <td>Buy Moto G5s (Lunar Gray, 32 GB) online at bes...</td>\n",
              "      <td></td>\n",
              "      <td>Mobiles &amp; Accessories</td>\n",
              "      <td>[]</td>\n",
              "      <td>[Nice Good but over priced, Absolute rubbish! ...</td>\n",
              "      <td>0</td>\n",
              "      <td>52</td>\n",
              "    </tr>\n",
              "    <tr>\n",
              "      <th>1</th>\n",
              "      <td></td>\n",
              "      <td>Buy Imported ShengShow Gold Mirror Rubik Magic...</td>\n",
              "      <td>Very Good Fantastic Product. No compromise on ...</td>\n",
              "      <td>Toys</td>\n",
              "      <td>[]</td>\n",
              "      <td>[Really Nice Smooth, Excellent It is a good pr...</td>\n",
              "      <td>0</td>\n",
              "      <td>43</td>\n",
              "    </tr>\n",
              "  </tbody>\n",
              "</table>\n",
              "</div>"
            ],
            "text/plain": [
              "  product_description                                   meta_description  \\\n",
              "0                      Buy Moto G5s (Lunar Gray, 32 GB) online at bes...   \n",
              "1                      Buy Imported ShengShow Gold Mirror Rubik Magic...   \n",
              "\n",
              "                                         description              bread_crumb  \\\n",
              "0                                                      Mobiles & Accessories    \n",
              "1  Very Good Fantastic Product. No compromise on ...                    Toys    \n",
              "\n",
              "  highlights                                   formated_reviews  \\\n",
              "0         []  [Nice Good but over priced, Absolute rubbish! ...   \n",
              "1         []  [Really Nice Smooth, Excellent It is a good pr...   \n",
              "\n",
              "   product_description_len  len_meta_desc  \n",
              "0                        0             52  \n",
              "1                        0             43  "
            ]
          },
          "metadata": {
            "tags": []
          },
          "execution_count": 42
        }
      ]
    },
    {
      "cell_type": "code",
      "metadata": {
        "id": "x-APS9DFi6r3",
        "colab_type": "code",
        "colab": {}
      },
      "source": [
        "# Let's take all reviews in a list\n",
        "all_reviews = list(data.iloc[:]['formated_reviews'])"
      ],
      "execution_count": 0,
      "outputs": []
    },
    {
      "cell_type": "code",
      "metadata": {
        "id": "clgnIbFti6r6",
        "colab_type": "code",
        "colab": {}
      },
      "source": [
        "#[['review1','review2'],  ['review3','review4'] ] -- >['review1','review2','review3','review4']"
      ],
      "execution_count": 0,
      "outputs": []
    },
    {
      "cell_type": "code",
      "metadata": {
        "id": "OALUIoc1i6r-",
        "colab_type": "code",
        "colab": {}
      },
      "source": [
        "# 'all_reviews' is list of list --> we need to convert it to a single list\n",
        "all_reviews = [item for sublist in all_reviews for item in sublist]"
      ],
      "execution_count": 0,
      "outputs": []
    },
    {
      "cell_type": "code",
      "metadata": {
        "id": "be25cy3Ci6sB",
        "colab_type": "code",
        "colab": {},
        "outputId": "786a00f6-9725-4f18-eb50-355de9017f82"
      },
      "source": [
        "lens_of_reviews = [len(x.split()) for x in all_reviews]\n",
        "plt.hist(lens_of_reviews)\n",
        "plt.show()"
      ],
      "execution_count": 0,
      "outputs": [
        {
          "output_type": "display_data",
          "data": {
            "image/png": "[encoded data removed]",
            "text/plain": [
              "<Figure size 432x288 with 1 Axes>"
            ]
          },
          "metadata": {
            "tags": [],
            "needs_background": "light"
          }
        }
      ]
    },
    {
      "cell_type": "code",
      "metadata": {
        "id": "esjFCxD8i6sD",
        "colab_type": "code",
        "colab": {},
        "outputId": "e235bd32-4729-46cf-8770-e3f1cce519eb"
      },
      "source": [
        "plt.hist(lens_of_reviews, range=(5,80))\n",
        "plt.show()"
      ],
      "execution_count": 0,
      "outputs": [
        {
          "output_type": "display_data",
          "data": {
            "image/png": "[encoded data removed]",
            "text/plain": [
              "<Figure size 432x288 with 1 Axes>"
            ]
          },
          "metadata": {
            "tags": [],
            "needs_background": "light"
          }
        }
      ]
    },
    {
      "cell_type": "code",
      "metadata": {
        "id": "y-iRpEuFi6sH",
        "colab_type": "code",
        "colab": {}
      },
      "source": [
        "# removing outliers from reviews >=5 and <80\n",
        "data['formated_reviews'] = data['formated_reviews'].apply(lambda x: [rev for rev in x if (len(rev.split())>5) | (len(rev.split())<80)])"
      ],
      "execution_count": 0,
      "outputs": []
    },
    {
      "cell_type": "code",
      "metadata": {
        "id": "MISn_gWmi6sJ",
        "colab_type": "code",
        "colab": {},
        "outputId": "69ec7594-4788-4766-c2f5-701a6b9e9b25"
      },
      "source": [
        "data.head(2)"
      ],
      "execution_count": 0,
      "outputs": [
        {
          "output_type": "execute_result",
          "data": {
            "text/html": [
              "<div>\n",
              "<style scoped>\n",
              "    .dataframe tbody tr th:only-of-type {\n",
              "        vertical-align: middle;\n",
              "    }\n",
              "\n",
              "    .dataframe tbody tr th {\n",
              "        vertical-align: top;\n",
              "    }\n",
              "\n",
              "    .dataframe thead th {\n",
              "        text-align: right;\n",
              "    }\n",
              "</style>\n",
              "<table border=\"1\" class=\"dataframe\">\n",
              "  <thead>\n",
              "    <tr style=\"text-align: right;\">\n",
              "      <th></th>\n",
              "      <th>product_description</th>\n",
              "      <th>meta_description</th>\n",
              "      <th>description</th>\n",
              "      <th>bread_crumb</th>\n",
              "      <th>highlights</th>\n",
              "      <th>formated_reviews</th>\n",
              "      <th>product_description_len</th>\n",
              "      <th>len_meta_desc</th>\n",
              "    </tr>\n",
              "  </thead>\n",
              "  <tbody>\n",
              "    <tr>\n",
              "      <th>0</th>\n",
              "      <td></td>\n",
              "      <td>Buy Moto G5s (Lunar Gray, 32 GB) online at bes...</td>\n",
              "      <td></td>\n",
              "      <td>Mobiles &amp; Accessories</td>\n",
              "      <td>[]</td>\n",
              "      <td>[Nice Good but over priced, Absolute rubbish! ...</td>\n",
              "      <td>0</td>\n",
              "      <td>52</td>\n",
              "    </tr>\n",
              "    <tr>\n",
              "      <th>1</th>\n",
              "      <td></td>\n",
              "      <td>Buy Imported ShengShow Gold Mirror Rubik Magic...</td>\n",
              "      <td>Very Good Fantastic Product. No compromise on ...</td>\n",
              "      <td>Toys</td>\n",
              "      <td>[]</td>\n",
              "      <td>[Really Nice Smooth, Excellent It is a good pr...</td>\n",
              "      <td>0</td>\n",
              "      <td>43</td>\n",
              "    </tr>\n",
              "  </tbody>\n",
              "</table>\n",
              "</div>"
            ],
            "text/plain": [
              "  product_description                                   meta_description  \\\n",
              "0                      Buy Moto G5s (Lunar Gray, 32 GB) online at bes...   \n",
              "1                      Buy Imported ShengShow Gold Mirror Rubik Magic...   \n",
              "\n",
              "                                         description              bread_crumb  \\\n",
              "0                                                      Mobiles & Accessories    \n",
              "1  Very Good Fantastic Product. No compromise on ...                    Toys    \n",
              "\n",
              "  highlights                                   formated_reviews  \\\n",
              "0         []  [Nice Good but over priced, Absolute rubbish! ...   \n",
              "1         []  [Really Nice Smooth, Excellent It is a good pr...   \n",
              "\n",
              "   product_description_len  len_meta_desc  \n",
              "0                        0             52  \n",
              "1                        0             43  "
            ]
          },
          "metadata": {
            "tags": []
          },
          "execution_count": 52
        }
      ]
    },
    {
      "cell_type": "markdown",
      "metadata": {
        "id": "WFDk1uS6i6sM",
        "colab_type": "text"
      },
      "source": [
        "# Missing Data"
      ]
    },
    {
      "cell_type": "code",
      "metadata": {
        "id": "WLyMCMCSi6sN",
        "colab_type": "code",
        "colab": {},
        "outputId": "61459004-eb36-4e10-b6d1-6d33df6f757a"
      },
      "source": [
        "data.head(2)"
      ],
      "execution_count": 0,
      "outputs": [
        {
          "output_type": "execute_result",
          "data": {
            "text/html": [
              "<div>\n",
              "<style scoped>\n",
              "    .dataframe tbody tr th:only-of-type {\n",
              "        vertical-align: middle;\n",
              "    }\n",
              "\n",
              "    .dataframe tbody tr th {\n",
              "        vertical-align: top;\n",
              "    }\n",
              "\n",
              "    .dataframe thead th {\n",
              "        text-align: right;\n",
              "    }\n",
              "</style>\n",
              "<table border=\"1\" class=\"dataframe\">\n",
              "  <thead>\n",
              "    <tr style=\"text-align: right;\">\n",
              "      <th></th>\n",
              "      <th>product_description</th>\n",
              "      <th>meta_description</th>\n",
              "      <th>description</th>\n",
              "      <th>bread_crumb</th>\n",
              "      <th>highlights</th>\n",
              "      <th>formated_reviews</th>\n",
              "      <th>product_description_len</th>\n",
              "      <th>len_meta_desc</th>\n",
              "    </tr>\n",
              "  </thead>\n",
              "  <tbody>\n",
              "    <tr>\n",
              "      <th>0</th>\n",
              "      <td></td>\n",
              "      <td>Buy Moto G5s (Lunar Gray, 32 GB) online at bes...</td>\n",
              "      <td></td>\n",
              "      <td>Mobiles &amp; Accessories</td>\n",
              "      <td>[]</td>\n",
              "      <td>[Nice Good but over priced, Absolute rubbish! ...</td>\n",
              "      <td>0</td>\n",
              "      <td>52</td>\n",
              "    </tr>\n",
              "    <tr>\n",
              "      <th>1</th>\n",
              "      <td></td>\n",
              "      <td>Buy Imported ShengShow Gold Mirror Rubik Magic...</td>\n",
              "      <td>Very Good Fantastic Product. No compromise on ...</td>\n",
              "      <td>Toys</td>\n",
              "      <td>[]</td>\n",
              "      <td>[Really Nice Smooth, Excellent It is a good pr...</td>\n",
              "      <td>0</td>\n",
              "      <td>43</td>\n",
              "    </tr>\n",
              "  </tbody>\n",
              "</table>\n",
              "</div>"
            ],
            "text/plain": [
              "  product_description                                   meta_description  \\\n",
              "0                      Buy Moto G5s (Lunar Gray, 32 GB) online at bes...   \n",
              "1                      Buy Imported ShengShow Gold Mirror Rubik Magic...   \n",
              "\n",
              "                                         description              bread_crumb  \\\n",
              "0                                                      Mobiles & Accessories    \n",
              "1  Very Good Fantastic Product. No compromise on ...                    Toys    \n",
              "\n",
              "  highlights                                   formated_reviews  \\\n",
              "0         []  [Nice Good but over priced, Absolute rubbish! ...   \n",
              "1         []  [Really Nice Smooth, Excellent It is a good pr...   \n",
              "\n",
              "   product_description_len  len_meta_desc  \n",
              "0                        0             52  \n",
              "1                        0             43  "
            ]
          },
          "metadata": {
            "tags": []
          },
          "execution_count": 53
        }
      ]
    },
    {
      "cell_type": "code",
      "metadata": {
        "id": "mKYrRAVbi6sQ",
        "colab_type": "code",
        "colab": {}
      },
      "source": [
        "# we no need to deal with missing data in this problem statement because we are interested in Nouns\n",
        "# which can be possible candidates for product attributes. Since empty string do not contribute to Noun \n",
        "# we need not to deal with missing data here"
      ],
      "execution_count": 0,
      "outputs": []
    },
    {
      "cell_type": "code",
      "metadata": {
        "id": "8tHUgkC7i6sT",
        "colab_type": "code",
        "colab": {}
      },
      "source": [
        "# If i am trying to solve it as a classification problem\n",
        "# I would combine all 3 features and use it as a single feature\n",
        "X = data['product_description']+\" \"+data['meta_description']+\" \"+data[\"description\"]\n",
        "y = data['bread_crumb']"
      ],
      "execution_count": 0,
      "outputs": []
    },
    {
      "cell_type": "code",
      "metadata": {
        "id": "jpXdaDy9i6sV",
        "colab_type": "code",
        "colab": {},
        "outputId": "321ce41c-8359-433f-c7a1-041630a6b5eb"
      },
      "source": [
        "X[0]"
      ],
      "execution_count": 0,
      "outputs": [
        {
          "output_type": "execute_result",
          "data": {
            "text/plain": [
              "' Buy Moto G5s (Lunar Gray, 32 GB) online at best price with offers in India. Motorola Moto G5s features and specifications include 4 GB RAM,  32 GB ROM, 3000 mAh battery, 16 MP back camera and 5 MP front camera. Compare Motorola Moto G5s by price and performance to shop at Flipkart '"
            ]
          },
          "metadata": {
            "tags": []
          },
          "execution_count": 55
        }
      ]
    },
    {
      "cell_type": "code",
      "metadata": {
        "id": "hRUKBV1hi6sY",
        "colab_type": "code",
        "colab": {},
        "outputId": "a605cfaf-ec8d-4ecd-8090-ba0542c850f8"
      },
      "source": [
        "y[0]"
      ],
      "execution_count": 0,
      "outputs": [
        {
          "output_type": "execute_result",
          "data": {
            "text/plain": [
              "' Mobiles & Accessories '"
            ]
          },
          "metadata": {
            "tags": []
          },
          "execution_count": 56
        }
      ]
    },
    {
      "cell_type": "code",
      "metadata": {
        "id": "odARJeoKi6se",
        "colab_type": "code",
        "colab": {}
      },
      "source": [
        "# Even if we had empty string in any one of the column it will be componsated by 2 other columns\n",
        "# We might need to drop such rows where all three columns are empty"
      ],
      "execution_count": 0,
      "outputs": []
    },
    {
      "cell_type": "code",
      "metadata": {
        "id": "YxEeeaCJi6sh",
        "colab_type": "code",
        "colab": {}
      },
      "source": [
        ""
      ],
      "execution_count": 0,
      "outputs": []
    },
    {
      "cell_type": "code",
      "metadata": {
        "id": "ksPLnXlwi6sk",
        "colab_type": "code",
        "colab": {}
      },
      "source": [
        ""
      ],
      "execution_count": 0,
      "outputs": []
    },
    {
      "cell_type": "code",
      "metadata": {
        "id": "nMtY4fnti6sn",
        "colab_type": "code",
        "colab": {}
      },
      "source": [
        ""
      ],
      "execution_count": 0,
      "outputs": []
    },
    {
      "cell_type": "code",
      "metadata": {
        "id": "SuRF_ahZi6ss",
        "colab_type": "code",
        "colab": {}
      },
      "source": [
        ""
      ],
      "execution_count": 0,
      "outputs": []
    },
    {
      "cell_type": "code",
      "metadata": {
        "id": "k3xqAOEIi6su",
        "colab_type": "code",
        "colab": {}
      },
      "source": [
        ""
      ],
      "execution_count": 0,
      "outputs": []
    },
    {
      "cell_type": "code",
      "metadata": {
        "id": "zod9Xpkoi6sw",
        "colab_type": "code",
        "colab": {}
      },
      "source": [
        ""
      ],
      "execution_count": 0,
      "outputs": []
    },
    {
      "cell_type": "code",
      "metadata": {
        "id": "UyJMnI1gi6sx",
        "colab_type": "code",
        "colab": {}
      },
      "source": [
        ""
      ],
      "execution_count": 0,
      "outputs": []
    },
    {
      "cell_type": "code",
      "metadata": {
        "id": "WuGf8CXli6sz",
        "colab_type": "code",
        "colab": {}
      },
      "source": [
        ""
      ],
      "execution_count": 0,
      "outputs": []
    },
    {
      "cell_type": "code",
      "metadata": {
        "id": "jTf14wtGi6s1",
        "colab_type": "code",
        "colab": {}
      },
      "source": [
        ""
      ],
      "execution_count": 0,
      "outputs": []
    },
    {
      "cell_type": "code",
      "metadata": {
        "id": "8onv-5Wei6s5",
        "colab_type": "code",
        "colab": {}
      },
      "source": [
        ""
      ],
      "execution_count": 0,
      "outputs": []
    },
    {
      "cell_type": "markdown",
      "metadata": {
        "id": "_PtKyIGei6s6",
        "colab_type": "text"
      },
      "source": [
        "# Handling different types of Data"
      ]
    },
    {
      "cell_type": "code",
      "metadata": {
        "id": "KU6EU9Hqi6s7",
        "colab_type": "code",
        "colab": {},
        "outputId": "e98c3bad-53f3-4c32-c757-37ff43524c6c"
      },
      "source": [
        "data.head(2)"
      ],
      "execution_count": 0,
      "outputs": [
        {
          "output_type": "execute_result",
          "data": {
            "text/html": [
              "<div>\n",
              "<style scoped>\n",
              "    .dataframe tbody tr th:only-of-type {\n",
              "        vertical-align: middle;\n",
              "    }\n",
              "\n",
              "    .dataframe tbody tr th {\n",
              "        vertical-align: top;\n",
              "    }\n",
              "\n",
              "    .dataframe thead th {\n",
              "        text-align: right;\n",
              "    }\n",
              "</style>\n",
              "<table border=\"1\" class=\"dataframe\">\n",
              "  <thead>\n",
              "    <tr style=\"text-align: right;\">\n",
              "      <th></th>\n",
              "      <th>product_description</th>\n",
              "      <th>meta_description</th>\n",
              "      <th>description</th>\n",
              "      <th>bread_crumb</th>\n",
              "      <th>highlights</th>\n",
              "      <th>formated_reviews</th>\n",
              "      <th>product_description_len</th>\n",
              "      <th>len_meta_desc</th>\n",
              "    </tr>\n",
              "  </thead>\n",
              "  <tbody>\n",
              "    <tr>\n",
              "      <th>0</th>\n",
              "      <td></td>\n",
              "      <td>Buy Moto G5s (Lunar Gray, 32 GB) online at bes...</td>\n",
              "      <td></td>\n",
              "      <td>Mobiles &amp; Accessories</td>\n",
              "      <td>[]</td>\n",
              "      <td>[Nice Good but over priced, Absolute rubbish! ...</td>\n",
              "      <td>0</td>\n",
              "      <td>52</td>\n",
              "    </tr>\n",
              "    <tr>\n",
              "      <th>1</th>\n",
              "      <td></td>\n",
              "      <td>Buy Imported ShengShow Gold Mirror Rubik Magic...</td>\n",
              "      <td>Very Good Fantastic Product. No compromise on ...</td>\n",
              "      <td>Toys</td>\n",
              "      <td>[]</td>\n",
              "      <td>[Really Nice Smooth, Excellent It is a good pr...</td>\n",
              "      <td>0</td>\n",
              "      <td>43</td>\n",
              "    </tr>\n",
              "  </tbody>\n",
              "</table>\n",
              "</div>"
            ],
            "text/plain": [
              "  product_description                                   meta_description  \\\n",
              "0                      Buy Moto G5s (Lunar Gray, 32 GB) online at bes...   \n",
              "1                      Buy Imported ShengShow Gold Mirror Rubik Magic...   \n",
              "\n",
              "                                         description              bread_crumb  \\\n",
              "0                                                      Mobiles & Accessories    \n",
              "1  Very Good Fantastic Product. No compromise on ...                    Toys    \n",
              "\n",
              "  highlights                                   formated_reviews  \\\n",
              "0         []  [Nice Good but over priced, Absolute rubbish! ...   \n",
              "1         []  [Really Nice Smooth, Excellent It is a good pr...   \n",
              "\n",
              "   product_description_len  len_meta_desc  \n",
              "0                        0             52  \n",
              "1                        0             43  "
            ]
          },
          "metadata": {
            "tags": []
          },
          "execution_count": 59
        }
      ]
    },
    {
      "cell_type": "code",
      "metadata": {
        "id": "kIQyA0Joi6s9",
        "colab_type": "code",
        "colab": {}
      },
      "source": [
        "del data['product_description_len']\n",
        "del data['len_meta_desc']"
      ],
      "execution_count": 0,
      "outputs": []
    },
    {
      "cell_type": "code",
      "metadata": {
        "id": "3iUpCjULi6s_",
        "colab_type": "code",
        "colab": {},
        "outputId": "bb8746c7-bc50-4e97-b8d5-69282ed190c3"
      },
      "source": [
        "data.head(2)"
      ],
      "execution_count": 0,
      "outputs": [
        {
          "output_type": "execute_result",
          "data": {
            "text/html": [
              "<div>\n",
              "<style scoped>\n",
              "    .dataframe tbody tr th:only-of-type {\n",
              "        vertical-align: middle;\n",
              "    }\n",
              "\n",
              "    .dataframe tbody tr th {\n",
              "        vertical-align: top;\n",
              "    }\n",
              "\n",
              "    .dataframe thead th {\n",
              "        text-align: right;\n",
              "    }\n",
              "</style>\n",
              "<table border=\"1\" class=\"dataframe\">\n",
              "  <thead>\n",
              "    <tr style=\"text-align: right;\">\n",
              "      <th></th>\n",
              "      <th>product_description</th>\n",
              "      <th>meta_description</th>\n",
              "      <th>description</th>\n",
              "      <th>bread_crumb</th>\n",
              "      <th>highlights</th>\n",
              "      <th>formated_reviews</th>\n",
              "    </tr>\n",
              "  </thead>\n",
              "  <tbody>\n",
              "    <tr>\n",
              "      <th>0</th>\n",
              "      <td></td>\n",
              "      <td>Buy Moto G5s (Lunar Gray, 32 GB) online at bes...</td>\n",
              "      <td></td>\n",
              "      <td>Mobiles &amp; Accessories</td>\n",
              "      <td>[]</td>\n",
              "      <td>[Nice Good but over priced, Absolute rubbish! ...</td>\n",
              "    </tr>\n",
              "    <tr>\n",
              "      <th>1</th>\n",
              "      <td></td>\n",
              "      <td>Buy Imported ShengShow Gold Mirror Rubik Magic...</td>\n",
              "      <td>Very Good Fantastic Product. No compromise on ...</td>\n",
              "      <td>Toys</td>\n",
              "      <td>[]</td>\n",
              "      <td>[Really Nice Smooth, Excellent It is a good pr...</td>\n",
              "    </tr>\n",
              "  </tbody>\n",
              "</table>\n",
              "</div>"
            ],
            "text/plain": [
              "  product_description                                   meta_description  \\\n",
              "0                      Buy Moto G5s (Lunar Gray, 32 GB) online at bes...   \n",
              "1                      Buy Imported ShengShow Gold Mirror Rubik Magic...   \n",
              "\n",
              "                                         description              bread_crumb  \\\n",
              "0                                                      Mobiles & Accessories    \n",
              "1  Very Good Fantastic Product. No compromise on ...                    Toys    \n",
              "\n",
              "  highlights                                   formated_reviews  \n",
              "0         []  [Nice Good but over priced, Absolute rubbish! ...  \n",
              "1         []  [Really Nice Smooth, Excellent It is a good pr...  "
            ]
          },
          "metadata": {
            "tags": []
          },
          "execution_count": 61
        }
      ]
    },
    {
      "cell_type": "code",
      "metadata": {
        "id": "nn5xppdDi6tF",
        "colab_type": "code",
        "colab": {}
      },
      "source": [
        ""
      ],
      "execution_count": 0,
      "outputs": []
    },
    {
      "cell_type": "code",
      "metadata": {
        "id": "aYsJon51i6tM",
        "colab_type": "code",
        "colab": {}
      },
      "source": [
        "# Since highlights and formatted_revies column have list type we might need to convert them to string\n",
        "# ['a','b','c'] --> a.b.c\n",
        "# use join function '.'.join(['a','b','c'] )\n",
        "data['highlights'] = data['highlights'].apply(lambda x: '. '.join(x) )\n",
        "data['formated_reviews'] = data['formated_reviews'].apply(lambda x: '. '.join(x) )"
      ],
      "execution_count": 0,
      "outputs": []
    },
    {
      "cell_type": "code",
      "metadata": {
        "id": "glTNzqq8i6tQ",
        "colab_type": "code",
        "colab": {},
        "outputId": "a1f9ef71-c610-40ef-b1c9-5d304ac83694"
      },
      "source": [
        "data.head(2)"
      ],
      "execution_count": 0,
      "outputs": [
        {
          "output_type": "execute_result",
          "data": {
            "text/html": [
              "<div>\n",
              "<style scoped>\n",
              "    .dataframe tbody tr th:only-of-type {\n",
              "        vertical-align: middle;\n",
              "    }\n",
              "\n",
              "    .dataframe tbody tr th {\n",
              "        vertical-align: top;\n",
              "    }\n",
              "\n",
              "    .dataframe thead th {\n",
              "        text-align: right;\n",
              "    }\n",
              "</style>\n",
              "<table border=\"1\" class=\"dataframe\">\n",
              "  <thead>\n",
              "    <tr style=\"text-align: right;\">\n",
              "      <th></th>\n",
              "      <th>product_description</th>\n",
              "      <th>meta_description</th>\n",
              "      <th>description</th>\n",
              "      <th>bread_crumb</th>\n",
              "      <th>highlights</th>\n",
              "      <th>formated_reviews</th>\n",
              "    </tr>\n",
              "  </thead>\n",
              "  <tbody>\n",
              "    <tr>\n",
              "      <th>0</th>\n",
              "      <td></td>\n",
              "      <td>Buy Moto G5s (Lunar Gray, 32 GB) online at bes...</td>\n",
              "      <td></td>\n",
              "      <td>Mobiles &amp; Accessories</td>\n",
              "      <td></td>\n",
              "      <td>Nice Good but over priced. Absolute rubbish! V...</td>\n",
              "    </tr>\n",
              "    <tr>\n",
              "      <th>1</th>\n",
              "      <td></td>\n",
              "      <td>Buy Imported ShengShow Gold Mirror Rubik Magic...</td>\n",
              "      <td>Very Good Fantastic Product. No compromise on ...</td>\n",
              "      <td>Toys</td>\n",
              "      <td></td>\n",
              "      <td>Really Nice Smooth. Excellent It is a good pro...</td>\n",
              "    </tr>\n",
              "  </tbody>\n",
              "</table>\n",
              "</div>"
            ],
            "text/plain": [
              "  product_description                                   meta_description  \\\n",
              "0                      Buy Moto G5s (Lunar Gray, 32 GB) online at bes...   \n",
              "1                      Buy Imported ShengShow Gold Mirror Rubik Magic...   \n",
              "\n",
              "                                         description              bread_crumb  \\\n",
              "0                                                      Mobiles & Accessories    \n",
              "1  Very Good Fantastic Product. No compromise on ...                    Toys    \n",
              "\n",
              "  highlights                                   formated_reviews  \n",
              "0             Nice Good but over priced. Absolute rubbish! V...  \n",
              "1             Really Nice Smooth. Excellent It is a good pro...  "
            ]
          },
          "metadata": {
            "tags": []
          },
          "execution_count": 66
        }
      ]
    },
    {
      "cell_type": "code",
      "metadata": {
        "id": "7Jy41d2Ki6tb",
        "colab_type": "code",
        "colab": {},
        "outputId": "d7810548-2bd6-49e7-ad98-c888acd8bc8b"
      },
      "source": [
        "print(\"Type of column ***product_description** \",type(data.iloc[43]['product_description']))\n",
        "print(\"Type of column ***meta_description**    \",type(data.iloc[43]['meta_description']))\n",
        "print(\"Type of column ***description**         \",type(data.iloc[43]['description']))\n",
        "print(\"Type of column ***bread_crumb**         \",type(data.iloc[43]['bread_crumb']))\n",
        "print(\"Type of column ***highlights**          \",type(data.iloc[43]['highlights']))\n",
        "print(\"Type of column ***formated_reviews**    \",type(data.iloc[43]['formated_reviews']))"
      ],
      "execution_count": 0,
      "outputs": [
        {
          "output_type": "stream",
          "text": [
            "Type of column ***product_description**  <class 'str'>\n",
            "Type of column ***meta_description**     <class 'str'>\n",
            "Type of column ***description**          <class 'str'>\n",
            "Type of column ***bread_crumb**          <class 'str'>\n",
            "Type of column ***highlights**           <class 'str'>\n",
            "Type of column ***formated_reviews**     <class 'str'>\n"
          ],
          "name": "stdout"
        }
      ]
    },
    {
      "cell_type": "markdown",
      "metadata": {
        "id": "XLvldh6oi6te",
        "colab_type": "text"
      },
      "source": [
        "# Remove irrelevant data"
      ]
    },
    {
      "cell_type": "code",
      "metadata": {
        "id": "sU-h0DW6i6te",
        "colab_type": "code",
        "colab": {}
      },
      "source": [
        "# balancing category dataset"
      ],
      "execution_count": 0,
      "outputs": []
    },
    {
      "cell_type": "code",
      "metadata": {
        "id": "vl_D_hhpi6tg",
        "colab_type": "code",
        "colab": {}
      },
      "source": [
        "# 200. reviews. --> \"electronics\"  --> sample 25. --> random sampling. --> see the distribution get some richer data\n",
        "# 10. reviews. --> \"cloths\"\n",
        "# 12. reviews. --> \"furniture\"\n",
        "# 15. reviews. --> \"toys\"\n",
        "# 20. reviews. --> \"automobile\""
      ],
      "execution_count": 0,
      "outputs": []
    },
    {
      "cell_type": "code",
      "metadata": {
        "id": "O1tyZbJji6th",
        "colab_type": "code",
        "colab": {}
      },
      "source": [
        "# Remove non english sentences\n",
        "# Remove irrelevant data from different categories to make data balanced\n",
        "# you might need to define your own set of defications for irrelevant data with respect to problem statement"
      ],
      "execution_count": 0,
      "outputs": []
    },
    {
      "cell_type": "code",
      "metadata": {
        "id": "cUlhy5XEi6tj",
        "colab_type": "code",
        "colab": {}
      },
      "source": [
        "# Remove irrelevant data from different categories to make data balanced"
      ],
      "execution_count": 0,
      "outputs": []
    },
    {
      "cell_type": "code",
      "metadata": {
        "id": "vtMEjzkqi6tn",
        "colab_type": "code",
        "colab": {},
        "outputId": "4260b54c-34fd-4fcc-fdcc-7edd716b35fb"
      },
      "source": [
        "plt.hist(data['bread_crumb'])\n",
        "plt.xticks(rotation=90)\n",
        "plt.show()"
      ],
      "execution_count": 0,
      "outputs": [
        {
          "output_type": "display_data",
          "data": {
            "image/png": "[encoded data removed]",
            "text/plain": [
              "<Figure size 432x288 with 1 Axes>"
            ]
          },
          "metadata": {
            "tags": [],
            "needs_background": "light"
          }
        }
      ]
    },
    {
      "cell_type": "code",
      "metadata": {
        "id": "OBqnC5xLi6tq",
        "colab_type": "code",
        "colab": {},
        "outputId": "b7e554fe-82c9-48c2-e0d8-11342a9ccca2"
      },
      "source": [
        "# See distribution\n",
        "len(data[data['bread_crumb']==\" Footwear \"])\n",
        "plt.hist(data[data['bread_crumb']==\" Footwear \"]['meta_description'].apply(lambda x: len(x.split())))"
      ],
      "execution_count": 0,
      "outputs": [
        {
          "output_type": "execute_result",
          "data": {
            "text/plain": [
              "(array([7.8190e+03, 1.0266e+04, 6.0930e+03, 1.4370e+03, 3.0600e+02,\n",
              "        2.4000e+01, 8.0000e+00, 8.0000e+00, 0.0000e+00, 1.0000e+00]),\n",
              " array([22. , 28.3, 34.6, 40.9, 47.2, 53.5, 59.8, 66.1, 72.4, 78.7, 85. ]),\n",
              " <a list of 10 Patch objects>)"
            ]
          },
          "metadata": {
            "tags": []
          },
          "execution_count": 92
        },
        {
          "output_type": "display_data",
          "data": {
            "image/png": "[encoded data removed]",
            "text/plain": [
              "<Figure size 432x288 with 1 Axes>"
            ]
          },
          "metadata": {
            "tags": [],
            "needs_background": "light"
          }
        }
      ]
    },
    {
      "cell_type": "code",
      "metadata": {
        "id": "kKaowhAki6ts",
        "colab_type": "code",
        "colab": {},
        "outputId": "f732308d-54ed-4241-8791-cbfe50a13d82"
      },
      "source": [
        "np.mean(data[data['bread_crumb']==\" Footwear \"]['meta_description'].apply(lambda x: len(x.split())))"
      ],
      "execution_count": 0,
      "outputs": [
        {
          "output_type": "execute_result",
          "data": {
            "text/plain": [
              "31.360796548802096"
            ]
          },
          "metadata": {
            "tags": []
          },
          "execution_count": 94
        }
      ]
    },
    {
      "cell_type": "code",
      "metadata": {
        "id": "G_igBqjui6tu",
        "colab_type": "code",
        "colab": {}
      },
      "source": [
        "# From above figure you can see that some of the categories have higher number of datapoints\n",
        "# Sampling few RICHER datapoints from such classes would help us to make data balanced"
      ],
      "execution_count": 0,
      "outputs": []
    },
    {
      "cell_type": "code",
      "metadata": {
        "id": "PjxNcRAZi6tw",
        "colab_type": "code",
        "colab": {}
      },
      "source": [
        "data.head(2)"
      ],
      "execution_count": 0,
      "outputs": []
    },
    {
      "cell_type": "code",
      "metadata": {
        "id": "Hzs3Nhgti6t2",
        "colab_type": "code",
        "colab": {}
      },
      "source": [
        "# We need to sample the pages, not the reviews and good page is the one whose datapoint falls close to the mean in the distribution\n",
        "# There are two important aspects with respect to page:\n",
        "#.     1. Seller creates a page and puts usefull information about the product\n",
        "#.     2. Customer writes the review for that product\n",
        "# While filtering good pages we might need to rely on the page descriptions rather than reviews\n",
        "# Hence let's filter out good pages for dominant categories\n",
        "data['all_desc'] = data['product_description']+\". \"+data[\"meta_description\"]+\". \"+data[\"description\"]"
      ],
      "execution_count": 0,
      "outputs": []
    },
    {
      "cell_type": "code",
      "metadata": {
        "id": "XyHb4pw6i6t5",
        "colab_type": "code",
        "colab": {}
      },
      "source": [
        "res = []\n",
        "for category in list(set(data['bread_crumb'])):\n",
        "    temp = data[data['bread_crumb']==category]\n",
        "    if len(temp)<5000:\n",
        "        res.append(temp)\n",
        "    else:\n",
        "        res.append(temp.sample(5000))"
      ],
      "execution_count": 0,
      "outputs": []
    },
    {
      "cell_type": "code",
      "metadata": {
        "id": "TOMvEyZli6t8",
        "colab_type": "code",
        "colab": {}
      },
      "source": [
        "data = pd.concat(res)"
      ],
      "execution_count": 0,
      "outputs": []
    },
    {
      "cell_type": "code",
      "metadata": {
        "id": "kMVpZVeui6uC",
        "colab_type": "code",
        "colab": {},
        "outputId": "eca5a272-e71b-4d20-cfca-2f8eb4bcdf33"
      },
      "source": [
        "plt.hist(data['bread_crumb'])\n",
        "plt.xticks(rotation=90)\n",
        "plt.show()"
      ],
      "execution_count": 0,
      "outputs": [
        {
          "output_type": "display_data",
          "data": {
            "image/png": "[encoded data removed]",
            "text/plain": [
              "<Figure size 432x288 with 1 Axes>"
            ]
          },
          "metadata": {
            "tags": [],
            "needs_background": "light"
          }
        }
      ]
    },
    {
      "cell_type": "markdown",
      "metadata": {
        "id": "T6Q5f3xBi6uG",
        "colab_type": "text"
      },
      "source": [
        "# Data cleaning"
      ]
    },
    {
      "cell_type": "code",
      "metadata": {
        "id": "FjLDxO5ai6uH",
        "colab_type": "code",
        "colab": {},
        "outputId": "403ff269-fd84-4c42-e8cc-cd62d091656c"
      },
      "source": [
        "data.head(2)"
      ],
      "execution_count": 0,
      "outputs": [
        {
          "output_type": "execute_result",
          "data": {
            "text/html": [
              "<div>\n",
              "<style scoped>\n",
              "    .dataframe tbody tr th:only-of-type {\n",
              "        vertical-align: middle;\n",
              "    }\n",
              "\n",
              "    .dataframe tbody tr th {\n",
              "        vertical-align: top;\n",
              "    }\n",
              "\n",
              "    .dataframe thead th {\n",
              "        text-align: right;\n",
              "    }\n",
              "</style>\n",
              "<table border=\"1\" class=\"dataframe\">\n",
              "  <thead>\n",
              "    <tr style=\"text-align: right;\">\n",
              "      <th></th>\n",
              "      <th>product_description</th>\n",
              "      <th>meta_description</th>\n",
              "      <th>description</th>\n",
              "      <th>bread_crumb</th>\n",
              "      <th>highlights</th>\n",
              "      <th>formated_reviews</th>\n",
              "      <th>all_desc</th>\n",
              "    </tr>\n",
              "  </thead>\n",
              "  <tbody>\n",
              "    <tr>\n",
              "      <th>27</th>\n",
              "      <td></td>\n",
              "      <td>Buy Samsung Galaxy Grand 2 (Gold, 8 GB) online...</td>\n",
              "      <td></td>\n",
              "      <td></td>\n",
              "      <td></td>\n",
              "      <td>Samsung Galaxy Grand 2 Its a good fone so far....</td>\n",
              "      <td>. Buy Samsung Galaxy Grand 2 (Gold, 8 GB) onli...</td>\n",
              "    </tr>\n",
              "    <tr>\n",
              "      <th>59</th>\n",
              "      <td></td>\n",
              "      <td>Buy Samsung Metro XL online at best price with...</td>\n",
              "      <td></td>\n",
              "      <td></td>\n",
              "      <td></td>\n",
              "      <td>Nice one Best battery and camera performance !...</td>\n",
              "      <td>. Buy Samsung Metro XL online at best price wi...</td>\n",
              "    </tr>\n",
              "  </tbody>\n",
              "</table>\n",
              "</div>"
            ],
            "text/plain": [
              "   product_description                                   meta_description  \\\n",
              "27                      Buy Samsung Galaxy Grand 2 (Gold, 8 GB) online...   \n",
              "59                      Buy Samsung Metro XL online at best price with...   \n",
              "\n",
              "   description bread_crumb highlights  \\\n",
              "27                                      \n",
              "59                                      \n",
              "\n",
              "                                     formated_reviews  \\\n",
              "27  Samsung Galaxy Grand 2 Its a good fone so far....   \n",
              "59  Nice one Best battery and camera performance !...   \n",
              "\n",
              "                                             all_desc  \n",
              "27  . Buy Samsung Galaxy Grand 2 (Gold, 8 GB) onli...  \n",
              "59  . Buy Samsung Metro XL online at best price wi...  "
            ]
          },
          "metadata": {
            "tags": []
          },
          "execution_count": 100
        }
      ]
    },
    {
      "cell_type": "code",
      "metadata": {
        "id": "9R-jMU8yi6uJ",
        "colab_type": "code",
        "colab": {},
        "outputId": "72a44bd9-2119-4cea-a728-38ff2d94d077"
      },
      "source": [
        "import nltk\n",
        "sen = \"this product is very good\"\n",
        "sen.split()\n",
        "nltk.pos_tag(sen.split())"
      ],
      "execution_count": 0,
      "outputs": [
        {
          "output_type": "execute_result",
          "data": {
            "text/plain": [
              "[('this', 'DT'),\n",
              " ('product', 'NN'),\n",
              " ('is', 'VBZ'),\n",
              " ('very', 'RB'),\n",
              " ('good', 'JJ')]"
            ]
          },
          "metadata": {
            "tags": []
          },
          "execution_count": 104
        }
      ]
    },
    {
      "cell_type": "code",
      "metadata": {
        "id": "_AzdH674i6uL",
        "colab_type": "code",
        "colab": {}
      },
      "source": [
        "# you might need to do data cleaning according to your problem statement\n",
        "# Here we need to find candidates nouns for each page\n",
        "data['all_data'] = data['product_description']+\". \"+data[\"meta_description\"]+\". \"+data[\"description\"]+\". \"+data[\"formated_reviews\"]\n",
        "\n",
        "data = data[['all_data']]"
      ],
      "execution_count": 0,
      "outputs": []
    },
    {
      "cell_type": "code",
      "metadata": {
        "id": "5B-n6ghmi6uP",
        "colab_type": "code",
        "colab": {},
        "outputId": "f5580882-b429-4d55-b87c-4b9a152572f0"
      },
      "source": [
        "data.head(2)"
      ],
      "execution_count": 0,
      "outputs": [
        {
          "output_type": "execute_result",
          "data": {
            "text/html": [
              "<div>\n",
              "<style scoped>\n",
              "    .dataframe tbody tr th:only-of-type {\n",
              "        vertical-align: middle;\n",
              "    }\n",
              "\n",
              "    .dataframe tbody tr th {\n",
              "        vertical-align: top;\n",
              "    }\n",
              "\n",
              "    .dataframe thead th {\n",
              "        text-align: right;\n",
              "    }\n",
              "</style>\n",
              "<table border=\"1\" class=\"dataframe\">\n",
              "  <thead>\n",
              "    <tr style=\"text-align: right;\">\n",
              "      <th></th>\n",
              "      <th>all_data</th>\n",
              "    </tr>\n",
              "  </thead>\n",
              "  <tbody>\n",
              "    <tr>\n",
              "      <th>27</th>\n",
              "      <td>. Buy Samsung Galaxy Grand 2 (Gold, 8 GB) onli...</td>\n",
              "    </tr>\n",
              "    <tr>\n",
              "      <th>59</th>\n",
              "      <td>. Buy Samsung Metro XL online at best price wi...</td>\n",
              "    </tr>\n",
              "  </tbody>\n",
              "</table>\n",
              "</div>"
            ],
            "text/plain": [
              "                                             all_data\n",
              "27  . Buy Samsung Galaxy Grand 2 (Gold, 8 GB) onli...\n",
              "59  . Buy Samsung Metro XL online at best price wi..."
            ]
          },
          "metadata": {
            "tags": []
          },
          "execution_count": 106
        }
      ]
    },
    {
      "cell_type": "code",
      "metadata": {
        "id": "0boNpPMGi6uS",
        "colab_type": "code",
        "colab": {},
        "outputId": "42edd591-1287-48f0-fd16-5b0c1c8747c3"
      },
      "source": [
        "import re\n",
        "re.sub(\"[^a-zA-Z\\- ]\",\" \",\"this is my sentence %^@$%!@^$%^!\")"
      ],
      "execution_count": 0,
      "outputs": [
        {
          "output_type": "execute_result",
          "data": {
            "text/plain": [
              "'this is my sentence             '"
            ]
          },
          "metadata": {
            "tags": []
          },
          "execution_count": 110
        }
      ]
    },
    {
      "cell_type": "code",
      "metadata": {
        "id": "5GE4ZxnSi6uX",
        "colab_type": "code",
        "colab": {}
      },
      "source": [
        "# description, product_description, meta_description, formted_reviews\n",
        "import nltk\n",
        "import re\n",
        "def find_candidate_nouns(text):\n",
        "    text = text.split(\".\")\n",
        "    text=' '.join([' '.join([v[1][0] for v in enumerate(nltk.pos_tag(t.split())) if v[1][1]==\"NN\" or v[1][1]=='NNS' or v[1][1]=='NNP']) for t in text if len(t)>4])\n",
        "    text = text.lower()\n",
        "    text = re.sub(\"[^a-zA-Z\\- ]\",\" \",text)\n",
        "    text = re.sub(\" +\",\" \",text)\n",
        "    text = text.strip()\n",
        "    return text\n"
      ],
      "execution_count": 0,
      "outputs": []
    },
    {
      "cell_type": "code",
      "metadata": {
        "id": "QDGDB9xxi6uZ",
        "colab_type": "code",
        "colab": {},
        "outputId": "6dd37048-f5cb-4409-af3c-f7e5cc9fe4be"
      },
      "source": [
        "find_candidate_nouns(\"This shirt has very good material. Texture and style is what makes this brand awesome.\")"
      ],
      "execution_count": 0,
      "outputs": [
        {
          "output_type": "execute_result",
          "data": {
            "text/plain": [
              "'shirt material texture style brand awesome'"
            ]
          },
          "metadata": {
            "tags": []
          },
          "execution_count": 114
        }
      ]
    },
    {
      "cell_type": "code",
      "metadata": {
        "id": "tR0I4be0i6ub",
        "colab_type": "code",
        "colab": {},
        "outputId": "e5630dc0-fe19-45ef-ba5b-c55fafad61db"
      },
      "source": [
        "data.head(2)"
      ],
      "execution_count": 0,
      "outputs": [
        {
          "output_type": "execute_result",
          "data": {
            "text/html": [
              "<div>\n",
              "<style scoped>\n",
              "    .dataframe tbody tr th:only-of-type {\n",
              "        vertical-align: middle;\n",
              "    }\n",
              "\n",
              "    .dataframe tbody tr th {\n",
              "        vertical-align: top;\n",
              "    }\n",
              "\n",
              "    .dataframe thead th {\n",
              "        text-align: right;\n",
              "    }\n",
              "</style>\n",
              "<table border=\"1\" class=\"dataframe\">\n",
              "  <thead>\n",
              "    <tr style=\"text-align: right;\">\n",
              "      <th></th>\n",
              "      <th>all_data</th>\n",
              "    </tr>\n",
              "  </thead>\n",
              "  <tbody>\n",
              "    <tr>\n",
              "      <th>27</th>\n",
              "      <td>. Buy Samsung Galaxy Grand 2 (Gold, 8 GB) onli...</td>\n",
              "    </tr>\n",
              "    <tr>\n",
              "      <th>59</th>\n",
              "      <td>. Buy Samsung Metro XL online at best price wi...</td>\n",
              "    </tr>\n",
              "  </tbody>\n",
              "</table>\n",
              "</div>"
            ],
            "text/plain": [
              "                                             all_data\n",
              "27  . Buy Samsung Galaxy Grand 2 (Gold, 8 GB) onli...\n",
              "59  . Buy Samsung Metro XL online at best price wi..."
            ]
          },
          "metadata": {
            "tags": []
          },
          "execution_count": 115
        }
      ]
    },
    {
      "cell_type": "code",
      "metadata": {
        "id": "cGn90ePbi6ue",
        "colab_type": "code",
        "colab": {}
      },
      "source": [
        "# data['candidate_nouns'] = data['all_data'].apply(lambda x: find_candidate_nouns(x))"
      ],
      "execution_count": 0,
      "outputs": []
    },
    {
      "cell_type": "code",
      "metadata": {
        "id": "cSv7Ci02i6uh",
        "colab_type": "code",
        "colab": {}
      },
      "source": [
        "data.to_csv(\"cleaned_data.csv\",index=None)"
      ],
      "execution_count": 0,
      "outputs": []
    },
    {
      "cell_type": "markdown",
      "metadata": {
        "id": "aBch_L2Ai6uj",
        "colab_type": "text"
      },
      "source": [
        "# Bag of words"
      ]
    },
    {
      "cell_type": "code",
      "metadata": {
        "id": "C59OYTUGi6uk",
        "colab_type": "code",
        "colab": {}
      },
      "source": [
        "data = pd.read_csv(\"cleaned_data.csv\")"
      ],
      "execution_count": 0,
      "outputs": []
    },
    {
      "cell_type": "code",
      "metadata": {
        "id": "6w_pwIz4i6un",
        "colab_type": "code",
        "colab": {},
        "outputId": "2280340f-fe2b-4ddd-b7aa-204f84166604"
      },
      "source": [
        "data.head(2)"
      ],
      "execution_count": 0,
      "outputs": [
        {
          "output_type": "execute_result",
          "data": {
            "text/html": [
              "<div>\n",
              "<style scoped>\n",
              "    .dataframe tbody tr th:only-of-type {\n",
              "        vertical-align: middle;\n",
              "    }\n",
              "\n",
              "    .dataframe tbody tr th {\n",
              "        vertical-align: top;\n",
              "    }\n",
              "\n",
              "    .dataframe thead th {\n",
              "        text-align: right;\n",
              "    }\n",
              "</style>\n",
              "<table border=\"1\" class=\"dataframe\">\n",
              "  <thead>\n",
              "    <tr style=\"text-align: right;\">\n",
              "      <th></th>\n",
              "      <th>all_desc</th>\n",
              "      <th>candidate_nouns</th>\n",
              "    </tr>\n",
              "  </thead>\n",
              "  <tbody>\n",
              "    <tr>\n",
              "      <th>0</th>\n",
              "      <td>. Buy Samsung Galaxy Grand 2 (Gold, 8 GB) onli...</td>\n",
              "      <td>buy samsung galaxy grand gold gb online price ...</td>\n",
              "    </tr>\n",
              "    <tr>\n",
              "      <th>1</th>\n",
              "      <td>. Buy Samsung Metro XL online at best price wi...</td>\n",
              "      <td>buy samsung metro xl online price offers india...</td>\n",
              "    </tr>\n",
              "  </tbody>\n",
              "</table>\n",
              "</div>"
            ],
            "text/plain": [
              "                                            all_desc  \\\n",
              "0  . Buy Samsung Galaxy Grand 2 (Gold, 8 GB) onli...   \n",
              "1  . Buy Samsung Metro XL online at best price wi...   \n",
              "\n",
              "                                     candidate_nouns  \n",
              "0  buy samsung galaxy grand gold gb online price ...  \n",
              "1  buy samsung metro xl online price offers india...  "
            ]
          },
          "metadata": {
            "tags": []
          },
          "execution_count": 120
        }
      ]
    },
    {
      "cell_type": "code",
      "metadata": {
        "id": "Bd-YpNS7i6uo",
        "colab_type": "code",
        "colab": {}
      },
      "source": [
        "corpus = list(data['candidate_nouns'])"
      ],
      "execution_count": 0,
      "outputs": []
    },
    {
      "cell_type": "code",
      "metadata": {
        "id": "gX_a9Q40i6uw",
        "colab_type": "code",
        "colab": {},
        "outputId": "591e9c59-6d9e-49d0-8c6e-565931091a39"
      },
      "source": [
        "# Check how many numbers of lines present in your dataset\n",
        "len(corpus)"
      ],
      "execution_count": 0,
      "outputs": [
        {
          "output_type": "execute_result",
          "data": {
            "text/plain": [
              "118274"
            ]
          },
          "metadata": {
            "tags": []
          },
          "execution_count": 124
        }
      ]
    },
    {
      "cell_type": "code",
      "metadata": {
        "id": "vo9-s4Vhi6u0",
        "colab_type": "code",
        "colab": {}
      },
      "source": [
        "# Use tfidf to encode each line\n",
        "from sklearn.feature_extraction.text import TfidfVectorizer\n",
        "tfidf = TfidfVectorizer()\n",
        "doc_Matrix = tfidf.fit_transform(corpus)\n",
        "feature_names = tfidf.get_feature_names()"
      ],
      "execution_count": 0,
      "outputs": []
    },
    {
      "cell_type": "code",
      "metadata": {
        "id": "w1CZollai6u4",
        "colab_type": "code",
        "colab": {},
        "outputId": "db5761e4-0a39-41b1-fcf0-50028f74625b"
      },
      "source": [
        "# There are 118274 documents and each document is encoded as a vector of 50614 dimension\n",
        "doc_Matrix.shape"
      ],
      "execution_count": 0,
      "outputs": [
        {
          "output_type": "execute_result",
          "data": {
            "text/plain": [
              "(118274, 78347)"
            ]
          },
          "metadata": {
            "tags": []
          },
          "execution_count": 127
        }
      ]
    },
    {
      "cell_type": "code",
      "metadata": {
        "id": "uovziFici6u6",
        "colab_type": "code",
        "colab": {},
        "outputId": "ed918eea-1104-415f-8766-70b2ba6c1860"
      },
      "source": [
        "doc_Matrix.toarray()"
      ],
      "execution_count": 0,
      "outputs": [
        {
          "output_type": "execute_result",
          "data": {
            "text/plain": [
              "array([[0., 0., 0., ..., 0., 0., 0.],\n",
              "       [0., 0., 0., ..., 0., 0., 0.],\n",
              "       [0., 0., 0., ..., 0., 0., 0.],\n",
              "       ...,\n",
              "       [0., 0., 0., ..., 0., 0., 0.],\n",
              "       [0., 0., 0., ..., 0., 0., 0.],\n",
              "       [0., 0., 0., ..., 0., 0., 0.]])"
            ]
          },
          "metadata": {
            "tags": []
          },
          "execution_count": 128
        }
      ]
    },
    {
      "cell_type": "code",
      "metadata": {
        "id": "ZPyMNN_2i6u8",
        "colab_type": "code",
        "colab": {}
      },
      "source": [
        "# the first vector/row present in the above matric represent first document of our corpus\n",
        "corpus[0][0:10]"
      ],
      "execution_count": 0,
      "outputs": []
    },
    {
      "cell_type": "markdown",
      "metadata": {
        "id": "Z5jqidr5i6u-",
        "colab_type": "text"
      },
      "source": [
        "# Topic modeling"
      ]
    },
    {
      "cell_type": "code",
      "metadata": {
        "id": "olUVC81ji6u_",
        "colab_type": "code",
        "colab": {},
        "outputId": "11f2c0d2-b267-4924-b0e8-f298c48ff206"
      },
      "source": [
        "from sklearn.decomposition import NMF\n",
        "nmf = NMF(n_components=100, max_iter=50, random_state=0)\n",
        "nmf.fit(doc_Matrix)"
      ],
      "execution_count": 0,
      "outputs": [
        {
          "output_type": "execute_result",
          "data": {
            "text/plain": [
              "NMF(alpha=0.0, beta_loss='frobenius', init=None, l1_ratio=0.0, max_iter=50,\n",
              "  n_components=100, random_state=0, shuffle=False, solver='cd', tol=0.0001,\n",
              "  verbose=0)"
            ]
          },
          "metadata": {
            "tags": []
          },
          "execution_count": 129
        }
      ]
    },
    {
      "cell_type": "code",
      "metadata": {
        "id": "cVSGhZRRi6vA",
        "colab_type": "code",
        "colab": {}
      },
      "source": [
        "feature_names_n = tfidf.get_feature_names()\n",
        "no_of_words_n=700\n",
        "nmfTopicList_n = {}\n",
        "for topic_idx, topic in enumerate(nmf.components_):\n",
        "    nmfTopicList_n[topic_idx] = \"  \".join([feature_names_n[i] for i in topic.argsort()[:-no_of_words_n - 1:-1]])"
      ],
      "execution_count": 0,
      "outputs": []
    },
    {
      "cell_type": "markdown",
      "metadata": {
        "id": "Ua5YRMEgi6vB",
        "colab_type": "text"
      },
      "source": [
        "# Testing"
      ]
    },
    {
      "cell_type": "code",
      "metadata": {
        "id": "8EZ74Ugdi6vC",
        "colab_type": "code",
        "colab": {}
      },
      "source": [
        "review =\"Camera of this phone is very good. Battery does not stay for long.\""
      ],
      "execution_count": 0,
      "outputs": []
    },
    {
      "cell_type": "code",
      "metadata": {
        "id": "Sp9edqaSi6vD",
        "colab_type": "code",
        "colab": {}
      },
      "source": [
        "candidate_test_words = find_candidate_nouns(review)"
      ],
      "execution_count": 0,
      "outputs": []
    },
    {
      "cell_type": "code",
      "metadata": {
        "id": "jzWkWNhHi6vE",
        "colab_type": "code",
        "colab": {}
      },
      "source": [
        "review_vec = tfidf.transform([candidate_test_words])"
      ],
      "execution_count": 0,
      "outputs": []
    },
    {
      "cell_type": "code",
      "metadata": {
        "id": "a74MiKjxi6vG",
        "colab_type": "code",
        "colab": {},
        "outputId": "33d69fed-511d-49aa-e280-6d990b6c5db4"
      },
      "source": [
        "review_vec.toarray()"
      ],
      "execution_count": 0,
      "outputs": [
        {
          "output_type": "execute_result",
          "data": {
            "text/plain": [
              "array([[0., 0., 0., ..., 0., 0., 0.]])"
            ]
          },
          "metadata": {
            "tags": []
          },
          "execution_count": 134
        }
      ]
    },
    {
      "cell_type": "code",
      "metadata": {
        "id": "WQ36TXaei6vI",
        "colab_type": "code",
        "colab": {}
      },
      "source": [
        "review_topic_prob = nmf.transform(review_vec)"
      ],
      "execution_count": 0,
      "outputs": []
    },
    {
      "cell_type": "code",
      "metadata": {
        "id": "v1YNnCH-i6vJ",
        "colab_type": "code",
        "colab": {}
      },
      "source": [
        "topic_selected_for_review = review_topic_prob[0].argmax()"
      ],
      "execution_count": 0,
      "outputs": []
    },
    {
      "cell_type": "code",
      "metadata": {
        "id": "8ltZGpfQi6vK",
        "colab_type": "code",
        "colab": {},
        "outputId": "6867457c-9203-45a2-cf34-b7474486f9ce"
      },
      "source": [
        "print(\"topic selected : \",topic_selected_for_review)"
      ],
      "execution_count": 0,
      "outputs": [
        {
          "output_type": "stream",
          "text": [
            "topic selected :  77\n"
          ],
          "name": "stdout"
        }
      ]
    },
    {
      "cell_type": "code",
      "metadata": {
        "id": "lc7ADGKii6vM",
        "colab_type": "code",
        "colab": {}
      },
      "source": [
        "topic_words = nmfTopicList_n[77].split()\n",
        "candidate_test_words = candidate_test_words.split()"
      ],
      "execution_count": 0,
      "outputs": []
    },
    {
      "cell_type": "code",
      "metadata": {
        "id": "2VK4BlECi6vN",
        "colab_type": "code",
        "colab": {},
        "outputId": "ff257753-dcc3-436f-fd98-acccc38c5414"
      },
      "source": [
        "[x for x in candidate_test_words if x in topic_words]"
      ],
      "execution_count": 0,
      "outputs": [
        {
          "output_type": "execute_result",
          "data": {
            "text/plain": [
              "['camera', 'phone', 'battery']"
            ]
          },
          "metadata": {
            "tags": []
          },
          "execution_count": 139
        }
      ]
    },
    {
      "cell_type": "code",
      "metadata": {
        "id": "T04uRHWli6vP",
        "colab_type": "code",
        "colab": {}
      },
      "source": [
        ""
      ],
      "execution_count": 0,
      "outputs": []
    },
    {
      "cell_type": "code",
      "metadata": {
        "id": "dLlP1JXHi6vQ",
        "colab_type": "code",
        "colab": {}
      },
      "source": [
        ""
      ],
      "execution_count": 0,
      "outputs": []
    },
    {
      "cell_type": "code",
      "metadata": {
        "id": "PM-7Hd0oi6vS",
        "colab_type": "code",
        "colab": {}
      },
      "source": [
        ""
      ],
      "execution_count": 0,
      "outputs": []
    },
    {
      "cell_type": "code",
      "metadata": {
        "id": "Ho_UY2-di6vT",
        "colab_type": "code",
        "colab": {}
      },
      "source": [
        "# RAKE --> phrases"
      ],
      "execution_count": 0,
      "outputs": []
    },
    {
      "cell_type": "code",
      "metadata": {
        "id": "Nb0-kc2fi6vV",
        "colab_type": "code",
        "colab": {}
      },
      "source": [
        ""
      ],
      "execution_count": 0,
      "outputs": []
    }
  ]
}