{
 "cells": [
  {
   "cell_type": "markdown",
   "metadata": {},
   "source": [
    "# TFIDF"
   ]
  },
  {
   "cell_type": "code",
   "execution_count": 1,
   "metadata": {},
   "outputs": [],
   "source": [
    "# I have already imported all the required libraries\n",
    "# We will be using sckit-learn for Tf-IDF representation and NMF for matrix decomposition\n",
    "# We will also be using matplot to plot some graphs\n",
    "from sklearn.feature_extraction.text import TfidfVectorizer\n",
    "import pandas as pd\n",
    "from sklearn.decomposition import NMF\n",
    "import matplotlib.pyplot as plt\n",
    "%matplotlib inline"
   ]
  },
  {
   "cell_type": "code",
   "execution_count": 2,
   "metadata": {},
   "outputs": [],
   "source": [
    "# We have a corpus of 4 sentences:\n",
    "corpus = [\"phone camera phone battery\", \n",
    "          \"battery and camera of the phone\",\n",
    "          \"cloth texture\",\n",
    "          \"style and texture cloth\"]"
   ]
  },
  {
   "cell_type": "code",
   "execution_count": 3,
   "metadata": {},
   "outputs": [
    {
     "data": {
      "text/html": [
       "<div>\n",
       "<style scoped>\n",
       "    .dataframe tbody tr th:only-of-type {\n",
       "        vertical-align: middle;\n",
       "    }\n",
       "\n",
       "    .dataframe tbody tr th {\n",
       "        vertical-align: top;\n",
       "    }\n",
       "\n",
       "    .dataframe thead th {\n",
       "        text-align: right;\n",
       "    }\n",
       "</style>\n",
       "<table border=\"1\" class=\"dataframe\">\n",
       "  <thead>\n",
       "    <tr style=\"text-align: right;\">\n",
       "      <th></th>\n",
       "      <th>phone</th>\n",
       "      <th>camera</th>\n",
       "      <th>battery</th>\n",
       "      <th>and</th>\n",
       "      <th>of</th>\n",
       "      <th>the</th>\n",
       "      <th>cloth</th>\n",
       "      <th>texture</th>\n",
       "      <th>style</th>\n",
       "    </tr>\n",
       "  </thead>\n",
       "  <tbody>\n",
       "    <tr>\n",
       "      <td>doc_0</td>\n",
       "      <td>0.000000</td>\n",
       "      <td>0.408248</td>\n",
       "      <td>0.408248</td>\n",
       "      <td>0.000000</td>\n",
       "      <td>0.00000</td>\n",
       "      <td>0.816497</td>\n",
       "      <td>0.000000</td>\n",
       "      <td>0.000000</td>\n",
       "      <td>0.00000</td>\n",
       "    </tr>\n",
       "    <tr>\n",
       "      <td>doc_1</td>\n",
       "      <td>0.372225</td>\n",
       "      <td>0.372225</td>\n",
       "      <td>0.372225</td>\n",
       "      <td>0.000000</td>\n",
       "      <td>0.47212</td>\n",
       "      <td>0.372225</td>\n",
       "      <td>0.000000</td>\n",
       "      <td>0.000000</td>\n",
       "      <td>0.47212</td>\n",
       "    </tr>\n",
       "    <tr>\n",
       "      <td>doc_2</td>\n",
       "      <td>0.000000</td>\n",
       "      <td>0.000000</td>\n",
       "      <td>0.000000</td>\n",
       "      <td>0.707107</td>\n",
       "      <td>0.00000</td>\n",
       "      <td>0.000000</td>\n",
       "      <td>0.000000</td>\n",
       "      <td>0.707107</td>\n",
       "      <td>0.00000</td>\n",
       "    </tr>\n",
       "    <tr>\n",
       "      <td>doc_3</td>\n",
       "      <td>0.465809</td>\n",
       "      <td>0.000000</td>\n",
       "      <td>0.000000</td>\n",
       "      <td>0.465809</td>\n",
       "      <td>0.00000</td>\n",
       "      <td>0.000000</td>\n",
       "      <td>0.590819</td>\n",
       "      <td>0.465809</td>\n",
       "      <td>0.00000</td>\n",
       "    </tr>\n",
       "  </tbody>\n",
       "</table>\n",
       "</div>"
      ],
      "text/plain": [
       "          phone    camera   battery       and       of       the     cloth  \\\n",
       "doc_0  0.000000  0.408248  0.408248  0.000000  0.00000  0.816497  0.000000   \n",
       "doc_1  0.372225  0.372225  0.372225  0.000000  0.47212  0.372225  0.000000   \n",
       "doc_2  0.000000  0.000000  0.000000  0.707107  0.00000  0.000000  0.000000   \n",
       "doc_3  0.465809  0.000000  0.000000  0.465809  0.00000  0.000000  0.590819   \n",
       "\n",
       "        texture    style  \n",
       "doc_0  0.000000  0.00000  \n",
       "doc_1  0.000000  0.47212  \n",
       "doc_2  0.707107  0.00000  \n",
       "doc_3  0.465809  0.00000  "
      ]
     },
     "execution_count": 3,
     "metadata": {},
     "output_type": "execute_result"
    }
   ],
   "source": [
    "# You can create a object of TFIDF using TfidfVectorizer function that we imported from sckit learn\n",
    "tfidf = TfidfVectorizer()\n",
    "# Once we create a object of TFIDF we can use that object to find the Tf-IDF matrix\n",
    "# This Object will take corpus as input and returns TF-IDF matrix which we will store in X\n",
    "X = tfidf.fit_transform(corpus)\n",
    "# We can also use pandas DataFrame to systematically display this Tf-IDF matric \n",
    "pd.DataFrame(X.toarray(),columns=tfidf.vocabulary_,index=[\"doc_\"+str(x) for x in range(4)])"
   ]
  },
  {
   "cell_type": "markdown",
   "metadata": {},
   "source": [
    "# NMF"
   ]
  },
  {
   "cell_type": "code",
   "execution_count": 4,
   "metadata": {},
   "outputs": [
    {
     "data": {
      "text/plain": [
       "NMF(alpha=0.0, beta_loss='frobenius', init=None, l1_ratio=0.0, max_iter=2,\n",
       "    n_components=2, random_state=0, shuffle=False, solver='cd', tol=0.0001,\n",
       "    verbose=0)"
      ]
     },
     "execution_count": 4,
     "metadata": {},
     "output_type": "execute_result"
    }
   ],
   "source": [
    "# Once you have TF-IDF matrix we will create a NMF object\n",
    "# If we see our corpus you can figure out that there are 2 category sentences are present\n",
    "# First two sentences corresponds to phone and next two sentences corresponds to cloths\n",
    "# Hence if you have prior knowledge about corpus you can defind n_components\n",
    "nmf = NMF(n_components=2, max_iter=2, random_state=0)\n",
    "# We can use this NMF object and decompose out TF-IDF matrix into document matrix and word matrix\n",
    "nmf.fit(X)"
   ]
  },
  {
   "cell_type": "code",
   "execution_count": 5,
   "metadata": {},
   "outputs": [
    {
     "data": {
      "text/html": [
       "<div>\n",
       "<style scoped>\n",
       "    .dataframe tbody tr th:only-of-type {\n",
       "        vertical-align: middle;\n",
       "    }\n",
       "\n",
       "    .dataframe tbody tr th {\n",
       "        vertical-align: top;\n",
       "    }\n",
       "\n",
       "    .dataframe thead th {\n",
       "        text-align: right;\n",
       "    }\n",
       "</style>\n",
       "<table border=\"1\" class=\"dataframe\">\n",
       "  <thead>\n",
       "    <tr style=\"text-align: right;\">\n",
       "      <th></th>\n",
       "      <th>0</th>\n",
       "      <th>1</th>\n",
       "    </tr>\n",
       "  </thead>\n",
       "  <tbody>\n",
       "    <tr>\n",
       "      <td>doc_0</td>\n",
       "      <td>0.000000</td>\n",
       "      <td>0.878597</td>\n",
       "    </tr>\n",
       "    <tr>\n",
       "      <td>doc_1</td>\n",
       "      <td>0.056260</td>\n",
       "      <td>0.840770</td>\n",
       "    </tr>\n",
       "    <tr>\n",
       "      <td>doc_2</td>\n",
       "      <td>0.691503</td>\n",
       "      <td>0.000000</td>\n",
       "    </tr>\n",
       "    <tr>\n",
       "      <td>doc_3</td>\n",
       "      <td>0.707012</td>\n",
       "      <td>0.025084</td>\n",
       "    </tr>\n",
       "  </tbody>\n",
       "</table>\n",
       "</div>"
      ],
      "text/plain": [
       "              0         1\n",
       "doc_0  0.000000  0.878597\n",
       "doc_1  0.056260  0.840770\n",
       "doc_2  0.691503  0.000000\n",
       "doc_3  0.707012  0.025084"
      ]
     },
     "execution_count": 5,
     "metadata": {},
     "output_type": "execute_result"
    }
   ],
   "source": [
    "# document matrix\n",
    "doc_matrix = pd.DataFrame(nmf.transform(X),index=[\"doc_\"+str(idx) for idx in range(4)])\n",
    "doc_matrix"
   ]
  },
  {
   "cell_type": "code",
   "execution_count": 6,
   "metadata": {},
   "outputs": [
    {
     "data": {
      "text/html": [
       "<div>\n",
       "<style scoped>\n",
       "    .dataframe tbody tr th:only-of-type {\n",
       "        vertical-align: middle;\n",
       "    }\n",
       "\n",
       "    .dataframe tbody tr th {\n",
       "        vertical-align: top;\n",
       "    }\n",
       "\n",
       "    .dataframe thead th {\n",
       "        text-align: right;\n",
       "    }\n",
       "</style>\n",
       "<table border=\"1\" class=\"dataframe\">\n",
       "  <thead>\n",
       "    <tr style=\"text-align: right;\">\n",
       "      <th></th>\n",
       "      <th>0</th>\n",
       "      <th>1</th>\n",
       "    </tr>\n",
       "  </thead>\n",
       "  <tbody>\n",
       "    <tr>\n",
       "      <td>phone</td>\n",
       "      <td>0.369680</td>\n",
       "      <td>0.183829</td>\n",
       "    </tr>\n",
       "    <tr>\n",
       "      <td>camera</td>\n",
       "      <td>0.000489</td>\n",
       "      <td>0.455349</td>\n",
       "    </tr>\n",
       "    <tr>\n",
       "      <td>battery</td>\n",
       "      <td>0.000489</td>\n",
       "      <td>0.455349</td>\n",
       "    </tr>\n",
       "    <tr>\n",
       "      <td>and</td>\n",
       "      <td>0.826328</td>\n",
       "      <td>0.000000</td>\n",
       "    </tr>\n",
       "    <tr>\n",
       "      <td>of</td>\n",
       "      <td>0.028011</td>\n",
       "      <td>0.256675</td>\n",
       "    </tr>\n",
       "    <tr>\n",
       "      <td>the</td>\n",
       "      <td>0.000000</td>\n",
       "      <td>0.707207</td>\n",
       "    </tr>\n",
       "    <tr>\n",
       "      <td>cloth</td>\n",
       "      <td>0.431368</td>\n",
       "      <td>0.000000</td>\n",
       "    </tr>\n",
       "    <tr>\n",
       "      <td>texture</td>\n",
       "      <td>0.826328</td>\n",
       "      <td>0.000000</td>\n",
       "    </tr>\n",
       "    <tr>\n",
       "      <td>style</td>\n",
       "      <td>0.028011</td>\n",
       "      <td>0.256675</td>\n",
       "    </tr>\n",
       "  </tbody>\n",
       "</table>\n",
       "</div>"
      ],
      "text/plain": [
       "                0         1\n",
       "phone    0.369680  0.183829\n",
       "camera   0.000489  0.455349\n",
       "battery  0.000489  0.455349\n",
       "and      0.826328  0.000000\n",
       "of       0.028011  0.256675\n",
       "the      0.000000  0.707207\n",
       "cloth    0.431368  0.000000\n",
       "texture  0.826328  0.000000\n",
       "style    0.028011  0.256675"
      ]
     },
     "execution_count": 6,
     "metadata": {},
     "output_type": "execute_result"
    }
   ],
   "source": [
    "# word matrix\n",
    "word_matrix = pd.DataFrame(nmf.components_.T,index=tfidf.vocabulary_)\n",
    "word_matrix"
   ]
  },
  {
   "cell_type": "code",
   "execution_count": null,
   "metadata": {},
   "outputs": [],
   "source": []
  },
  {
   "cell_type": "code",
   "execution_count": 7,
   "metadata": {},
   "outputs": [
    {
     "data": {
      "text/plain": [
       "0    0.000000\n",
       "1    0.878597\n",
       "Name: doc_0, dtype: float64"
      ]
     },
     "execution_count": 7,
     "metadata": {},
     "output_type": "execute_result"
    }
   ],
   "source": [
    "doc_matrix.iloc[0]"
   ]
  },
  {
   "cell_type": "code",
   "execution_count": null,
   "metadata": {},
   "outputs": [],
   "source": []
  },
  {
   "cell_type": "code",
   "execution_count": 8,
   "metadata": {},
   "outputs": [
    {
     "name": "stdout",
     "output_type": "stream",
     "text": [
      "0    0.000000\n",
      "1    0.878597\n",
      "Name: doc_0, dtype: float64\n"
     ]
    },
    {
     "data": {
      "image/png": "[encoded data removed]",
      "text/plain": [
       "<Figure size 432x288 with 1 Axes>"
      ]
     },
     "metadata": {
      "needs_background": "light"
     },
     "output_type": "display_data"
    }
   ],
   "source": [
    "# doc_0 distribution\n",
    "print(doc_matrix.iloc[0])\n",
    "plt.bar(range(2),doc_matrix.iloc[0].values)\n",
    "plt.show()"
   ]
  },
  {
   "cell_type": "code",
   "execution_count": 9,
   "metadata": {},
   "outputs": [
    {
     "name": "stdout",
     "output_type": "stream",
     "text": [
      "0    0.369680\n",
      "1    0.183829\n",
      "Name: phone, dtype: float64\n"
     ]
    },
    {
     "data": {
      "image/png": "[encoded data removed]",
      "text/plain": [
       "<Figure size 432x288 with 1 Axes>"
      ]
     },
     "metadata": {
      "needs_background": "light"
     },
     "output_type": "display_data"
    }
   ],
   "source": [
    "# camera distribution\n",
    "print(word_matrix.iloc[0])\n",
    "plt.bar(range(2),word_matrix.iloc[1].values)\n",
    "plt.show()"
   ]
  },
  {
   "cell_type": "markdown",
   "metadata": {},
   "source": [
    "# Finding topic for new doc"
   ]
  },
  {
   "cell_type": "code",
   "execution_count": 10,
   "metadata": {},
   "outputs": [],
   "source": [
    "new_doc = tfidf.transform(['cloth texture'])"
   ]
  },
  {
   "cell_type": "code",
   "execution_count": 11,
   "metadata": {},
   "outputs": [
    {
     "data": {
      "text/html": [
       "<div>\n",
       "<style scoped>\n",
       "    .dataframe tbody tr th:only-of-type {\n",
       "        vertical-align: middle;\n",
       "    }\n",
       "\n",
       "    .dataframe tbody tr th {\n",
       "        vertical-align: top;\n",
       "    }\n",
       "\n",
       "    .dataframe thead th {\n",
       "        text-align: right;\n",
       "    }\n",
       "</style>\n",
       "<table border=\"1\" class=\"dataframe\">\n",
       "  <thead>\n",
       "    <tr style=\"text-align: right;\">\n",
       "      <th></th>\n",
       "      <th>phone</th>\n",
       "      <th>camera</th>\n",
       "      <th>battery</th>\n",
       "      <th>and</th>\n",
       "      <th>of</th>\n",
       "      <th>the</th>\n",
       "      <th>cloth</th>\n",
       "      <th>texture</th>\n",
       "      <th>style</th>\n",
       "    </tr>\n",
       "  </thead>\n",
       "  <tbody>\n",
       "    <tr>\n",
       "      <td>new_doc</td>\n",
       "      <td>0.0</td>\n",
       "      <td>0.0</td>\n",
       "      <td>0.0</td>\n",
       "      <td>0.707107</td>\n",
       "      <td>0.0</td>\n",
       "      <td>0.0</td>\n",
       "      <td>0.0</td>\n",
       "      <td>0.707107</td>\n",
       "      <td>0.0</td>\n",
       "    </tr>\n",
       "  </tbody>\n",
       "</table>\n",
       "</div>"
      ],
      "text/plain": [
       "         phone  camera  battery       and   of  the  cloth   texture  style\n",
       "new_doc    0.0     0.0      0.0  0.707107  0.0  0.0    0.0  0.707107    0.0"
      ]
     },
     "execution_count": 11,
     "metadata": {},
     "output_type": "execute_result"
    }
   ],
   "source": [
    "pd.DataFrame(new_doc.toarray(),columns=tfidf.vocabulary_,index=[\"new_doc\"])"
   ]
  },
  {
   "cell_type": "code",
   "execution_count": 12,
   "metadata": {},
   "outputs": [
    {
     "data": {
      "text/plain": [
       "array([[0.69150341, 0.        ]])"
      ]
     },
     "execution_count": 12,
     "metadata": {},
     "output_type": "execute_result"
    }
   ],
   "source": [
    "nmf.transform(new_doc) # related to first cat"
   ]
  },
  {
   "cell_type": "code",
   "execution_count": null,
   "metadata": {},
   "outputs": [],
   "source": []
  },
  {
   "cell_type": "code",
   "execution_count": null,
   "metadata": {},
   "outputs": [],
   "source": []
  },
  {
   "cell_type": "code",
   "execution_count": null,
   "metadata": {},
   "outputs": [],
   "source": []
  },
  {
   "cell_type": "markdown",
   "metadata": {},
   "source": [
    "# Finding optimal K"
   ]
  },
  {
   "cell_type": "code",
   "execution_count": null,
   "metadata": {},
   "outputs": [],
   "source": [
    "# LDA --> n_components = 2  # perplexity\n",
    "n_components = 3 \n",
    "n_components = 4 \n",
    "n_components = 5\n",
    "\n",
    ".\n",
    ".\n",
    ".\n",
    "100"
   ]
  },
  {
   "cell_type": "code",
   "execution_count": 11,
   "metadata": {},
   "outputs": [],
   "source": [
    "from sklearn.decomposition import LatentDirichletAllocation\n",
    "import numpy as np\n",
    "\n",
    "def evaluateElbowCurve(curve,skips,start):\n",
    "    nPoints = len(curve)\n",
    "    allCoord = np.vstack((range(nPoints), curve)).T\n",
    "    np.array([range(nPoints), curve])\n",
    "    firstPoint = allCoord[0]\n",
    "    lineVec = allCoord[-1] - allCoord[0]\n",
    "    lineVecNorm = lineVec / np.sqrt(np.sum(lineVec**2))\n",
    "    vecFromFirst = allCoord - firstPoint\n",
    "    scalarProduct = np.sum(vecFromFirst * np.matlib.repmat(lineVecNorm, nPoints, 1), axis=1)\n",
    "    vecFromFirstParallel = np.outer(scalarProduct, lineVecNorm)\n",
    "    vecToLine = vecFromFirst - vecFromFirstParallel\n",
    "    distToLine = np.sqrt(np.sum(vecToLine ** 2, axis=1))\n",
    "    idxOfBestPoint = np.argmax(distToLine)\n",
    "    bestK = start\n",
    "    for i in range(idxOfBestPoint):\n",
    "        bestK = bestK+skips\n",
    "    return bestK,curve\n",
    "\n",
    "\n",
    "def bestKForLDA(doc_Matrix,lower=2,upper=50,skip=1):\n",
    "    perplexity = {}\n",
    "    start=1\n",
    "    for i in range(start,upper,skip):\n",
    "        lda = LatentDirichletAllocation(n_components = i, max_iter=5, learning_method='online', learning_offset=50.,random_state=0, topic_word_prior=0.1)\n",
    "        lda.fit(doc_Matrix)\n",
    "        if lda.perplexity(doc_Matrix)==float('Inf'):\n",
    "            break\n",
    "        else:\n",
    "            perplexity[upper-i]=lda.perplexity(doc_Matrix)\n",
    "    return evaluateElbowCurve(list(perplexity.values()),skip,start)"
   ]
  },
  {
   "cell_type": "code",
   "execution_count": 12,
   "metadata": {},
   "outputs": [],
   "source": [
    "bestK,curve = bestKForLDA(X,upper=4)"
   ]
  },
  {
   "cell_type": "code",
   "execution_count": 14,
   "metadata": {},
   "outputs": [
    {
     "data": {
      "text/plain": [
       "2"
      ]
     },
     "execution_count": 14,
     "metadata": {},
     "output_type": "execute_result"
    }
   ],
   "source": [
    "bestK"
   ]
  },
  {
   "cell_type": "code",
   "execution_count": null,
   "metadata": {},
   "outputs": [],
   "source": []
  }
 ],
 "metadata": {
  "kernelspec": {
   "display_name": "Python 3",
   "language": "python",
   "name": "python3"
  },
  "language_info": {
   "codemirror_mode": {
    "name": "ipython",
    "version": 3
   },
   "file_extension": ".py",
   "mimetype": "text/x-python",
   "name": "python",
   "nbconvert_exporter": "python",
   "pygments_lexer": "ipython3",
   "version": "3.6.9"
  }
 },
 "nbformat": 4,
 "nbformat_minor": 2
}
