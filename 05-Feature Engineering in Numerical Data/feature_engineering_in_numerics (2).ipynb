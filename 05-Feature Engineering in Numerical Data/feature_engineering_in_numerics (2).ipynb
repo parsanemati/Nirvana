{
 "cells": [
  {
   "cell_type": "markdown",
   "metadata": {
    "colab_type": "text",
    "id": "DI93K7rOTD3B"
   },
   "source": [
    "# 1. Understanding training data"
   ]
  },
  {
   "cell_type": "code",
   "execution_count": 2,
   "metadata": {
    "colab": {},
    "colab_type": "code",
    "id": "K8mygPwBLXsS"
   },
   "outputs": [],
   "source": [
    "# importing the library\n",
    "import pandas as pd"
   ]
  },
  {
   "cell_type": "code",
   "execution_count": 1,
   "metadata": {
    "colab": {
     "base_uri": "https://localhost:8080/",
     "height": 383
    },
    "colab_type": "code",
    "executionInfo": {
     "elapsed": 1042,
     "status": "ok",
     "timestamp": 1571576191136,
     "user": {
      "displayName": "dharmanath patil",
      "photoUrl": "",
      "userId": "17545717920659244150"
     },
     "user_tz": -330
    },
    "id": "DZb_sPmMLkjG",
    "outputId": "3f65d40c-5dda-488e-8831-072d5ba48ded"
   },
   "outputs": [
    {
     "ename": "NameError",
     "evalue": "name 'pd' is not defined",
     "output_type": "error",
     "traceback": [
      "\u001b[0;31m---------------------------------------------------------------------------\u001b[0m",
      "\u001b[0;31mNameError\u001b[0m                                 Traceback (most recent call last)",
      "\u001b[0;32m<ipython-input-1-c46622bbb711>\u001b[0m in \u001b[0;36m<module>\u001b[0;34m\u001b[0m\n\u001b[1;32m      1\u001b[0m \u001b[0;31m# Read training_data\u001b[0m\u001b[0;34m\u001b[0m\u001b[0;34m\u001b[0m\u001b[0;34m\u001b[0m\u001b[0m\n\u001b[1;32m      2\u001b[0m \u001b[0murl\u001b[0m  \u001b[0;34m=\u001b[0m \u001b[0;34m'/home/alinemati/Yandex.Disk/Nirvana/database/'\u001b[0m\u001b[0;34m\u001b[0m\u001b[0;34m\u001b[0m\u001b[0m\n\u001b[0;32m----> 3\u001b[0;31m \u001b[0mdata\u001b[0m \u001b[0;34m=\u001b[0m \u001b[0mpd\u001b[0m\u001b[0;34m.\u001b[0m\u001b[0mread_csv\u001b[0m\u001b[0;34m(\u001b[0m\u001b[0murl\u001b[0m \u001b[0;34m+\u001b[0m \u001b[0;34m\"train.csv\"\u001b[0m\u001b[0;34m)\u001b[0m\u001b[0;34m\u001b[0m\u001b[0;34m\u001b[0m\u001b[0m\n\u001b[0m\u001b[1;32m      4\u001b[0m \u001b[0mdata\u001b[0m\u001b[0;34m.\u001b[0m\u001b[0mhead\u001b[0m\u001b[0;34m(\u001b[0m\u001b[0;36m10\u001b[0m\u001b[0;34m)\u001b[0m\u001b[0;34m\u001b[0m\u001b[0;34m\u001b[0m\u001b[0m\n",
      "\u001b[0;31mNameError\u001b[0m: name 'pd' is not defined"
     ]
    }
   ],
   "source": [
    "# Read training_data\n",
    "url  = '/home/alinemati/Yandex.Disk/Nirvana/database/'\n",
    "data = pd.read_csv(url + \"train.csv\")\n",
    "data.head(10)"
   ]
  },
  {
   "cell_type": "code",
   "execution_count": 3,
   "metadata": {
    "colab": {
     "base_uri": "https://localhost:8080/",
     "height": 388
    },
    "colab_type": "code",
    "executionInfo": {
     "elapsed": 1855,
     "status": "ok",
     "timestamp": 1571576194324,
     "user": {
      "displayName": "dharmanath patil",
      "photoUrl": "",
      "userId": "17545717920659244150"
     },
     "user_tz": -330
    },
    "id": "rkWv0Q4PLmY7",
    "outputId": "ffd505df-636a-427d-9544-c263f8c18f54"
   },
   "outputs": [
    {
     "name": "stdout",
     "output_type": "stream",
     "text": [
      "1   battery_power\n",
      "2   blue\n",
      "3   clock_speed\n",
      "4   dual_sim\n",
      "5   fc\n",
      "6   four_g\n",
      "7   int_memory\n",
      "8   m_dep\n",
      "9   mobile_wt\n",
      "10   n_cores\n",
      "11   pc\n",
      "12   px_height\n",
      "13   px_width\n",
      "14   ram\n",
      "15   sc_h\n",
      "16   sc_w\n",
      "17   talk_time\n",
      "18   three_g\n",
      "19   touch_screen\n",
      "20   wifi\n",
      "21   price_range\n"
     ]
    }
   ],
   "source": [
    "# Columns present in the training_data\n",
    "for idx in range(1,len(data.columns)+1):\n",
    "  print(idx,\" \",data.columns[idx-1])"
   ]
  },
  {
   "cell_type": "code",
   "execution_count": 4,
   "metadata": {},
   "outputs": [
    {
     "data": {
      "text/plain": [
       "['battery_power',\n",
       " 'blue',\n",
       " 'clock_speed',\n",
       " 'dual_sim',\n",
       " 'fc',\n",
       " 'four_g',\n",
       " 'int_memory',\n",
       " 'm_dep',\n",
       " 'mobile_wt',\n",
       " 'n_cores',\n",
       " 'pc',\n",
       " 'px_height',\n",
       " 'px_width',\n",
       " 'ram',\n",
       " 'sc_h',\n",
       " 'sc_w',\n",
       " 'talk_time',\n",
       " 'three_g',\n",
       " 'touch_screen',\n",
       " 'wifi',\n",
       " 'price_range']"
      ]
     },
     "execution_count": 4,
     "metadata": {},
     "output_type": "execute_result"
    }
   ],
   "source": [
    "list(data)"
   ]
  },
  {
   "cell_type": "code",
   "execution_count": 5,
   "metadata": {
    "colab": {},
    "colab_type": "code",
    "id": "rqJC-4qPLyjn"
   },
   "outputs": [],
   "source": [
    "# battery_power  : Total energy a battery can store in one time measured in mAh\n",
    "# blue           : Has Bluetooth or not\n",
    "# clock_speed    : the speed at which microprocessor executes instructions **\n",
    "# dual_sim       : Has dual sim support or not\n",
    "# fc             : Front Camera megapixels **\n",
    "# four_g         : Has 4G or not\n",
    "# int_memory     : Internal Memory in Gigabytes **\n",
    "# m_dep          : Mobile Depth in cm **\n",
    "# mobile_wt      : Weight of mobile phone **\n",
    "# n_cores        : Number of cores of the processor\n",
    "# pc             : Primary Camera megapixels **\n",
    "# px_height      :Pixel Resolution Height **\n",
    "# px_width       : Pixel Resolution Width **\n",
    "# ram            : Random Access Memory in MegaBytes **\n",
    "# sc_h           : Screen Height of mobile in cm **\n",
    "# sc_w           : Screen Width of mobile in cm **\n",
    "# talk_time      : the longest time that a single battery charge will last when you are\n",
    "# three_g        : Has 3G or not\n",
    "# touch_screen   : Has touch screen or not\n",
    "# wifi           : Has wifi or not\n",
    "# price_range    : This is the target variable with a value of 0(low cost), 1(medium cost), 2(high cost) and 3(very high cost)."
   ]
  },
  {
   "cell_type": "markdown",
   "metadata": {
    "colab_type": "text",
    "id": "Gv6dodwCTZGl"
   },
   "source": [
    "# 2. Feature Engineering"
   ]
  },
  {
   "cell_type": "markdown",
   "metadata": {
    "colab_type": "text",
    "id": "Jt0msQNaDSjA"
   },
   "source": [
    "# New Section"
   ]
  },
  {
   "cell_type": "code",
   "execution_count": 6,
   "metadata": {
    "colab": {},
    "colab_type": "code",
    "id": "Zpi15-EsTB0U"
   },
   "outputs": [],
   "source": [
    "# Dealing with outliers\n",
    "# Dealing with missing data\n",
    "# Dealing with different types of data\n",
    "# Dealing with impure data"
   ]
  },
  {
   "cell_type": "markdown",
   "metadata": {
    "colab_type": "text",
    "id": "zUtPJR9uT0Pe"
   },
   "source": [
    "# 2.1 Outliers"
   ]
  },
  {
   "cell_type": "code",
   "execution_count": 7,
   "metadata": {
    "colab": {
     "base_uri": "https://localhost:8080/",
     "height": 340
    },
    "colab_type": "code",
    "executionInfo": {
     "elapsed": 1237,
     "status": "ok",
     "timestamp": 1571576217342,
     "user": {
      "displayName": "dharmanath patil",
      "photoUrl": "",
      "userId": "17545717920659244150"
     },
     "user_tz": -330
    },
    "id": "VATPRz-6TpeU",
    "outputId": "95d2fe71-6e11-4820-af92-af859005d192"
   },
   "outputs": [
    {
     "name": "stderr",
     "output_type": "stream",
     "text": [
      "/home/alinemati/.local/lib/python3.6/site-packages/numpy/lib/histograms.py:824: RuntimeWarning: invalid value encountered in greater_equal\n",
      "  keep = (tmp_a >= first_edge)\n",
      "/home/alinemati/.local/lib/python3.6/site-packages/numpy/lib/histograms.py:825: RuntimeWarning: invalid value encountered in less_equal\n",
      "  keep &= (tmp_a <= last_edge)\n"
     ]
    },
    {
     "data": {
      "image/png": "[encoded data removed]",
      "text/plain": [
       "<Figure size 432x288 with 1 Axes>"
      ]
     },
     "metadata": {
      "needs_background": "light"
     },
     "output_type": "display_data"
    }
   ],
   "source": [
    "col_name = 'battery_power'\n",
    "\n",
    "#Outlier in int_memory =400 , delete x<400 ... smaller outliers like the battery_power might be missing data\n",
    "import matplotlib.pyplot as plt\n",
    "%matplotlib inline\n",
    "plt.hist(data[col_name],bins=10)\n",
    "plt.show()\n"
   ]
  },
  {
   "cell_type": "code",
   "execution_count": 8,
   "metadata": {},
   "outputs": [
    {
     "data": {
      "image/png": "[encoded data removed]",
      "text/plain": [
       "<Figure size 432x288 with 1 Axes>"
      ]
     },
     "metadata": {
      "needs_background": "light"
     },
     "output_type": "display_data"
    }
   ],
   "source": [
    "col_name = 'clock_speed'\n",
    "\n",
    "#Outlier in int_memory =400 , delete x<400 ... smaller outliers like the battery_power might be missing data\n",
    "import matplotlib.pyplot as plt\n",
    "%matplotlib inline\n",
    "plt.hist(data[col_name],bins=10)\n",
    "plt.show()\n"
   ]
  },
  {
   "cell_type": "code",
   "execution_count": 9,
   "metadata": {
    "colab": {
     "base_uri": "https://localhost:8080/",
     "height": 339
    },
    "colab_type": "code",
    "executionInfo": {
     "elapsed": 1380,
     "status": "ok",
     "timestamp": 1571576203259,
     "user": {
      "displayName": "dharmanath patil",
      "photoUrl": "",
      "userId": "17545717920659244150"
     },
     "user_tz": -330
    },
    "id": "7p1EJSz7ZtcK",
    "outputId": "bfda31aa-30e3-49ed-a507-ca74cd6481df"
   },
   "outputs": [
    {
     "name": "stderr",
     "output_type": "stream",
     "text": [
      "'c' argument looks like a single numeric RGB or RGBA sequence, which should be avoided as value-mapping will have precedence in case its length matches with 'x' & 'y'.  Please use a 2-D array with a single row if you really want to specify the same RGB or RGBA value for all points.\n"
     ]
    },
    {
     "data": {
      "text/plain": [
       "<matplotlib.axes._subplots.AxesSubplot at 0x7fc32eeb0080>"
      ]
     },
     "execution_count": 9,
     "metadata": {},
     "output_type": "execute_result"
    },
    {
     "data": {
      "image/png": "[encoded data removed]",
      "text/plain": [
       "<Figure size 432x288 with 1 Axes>"
      ]
     },
     "metadata": {
      "needs_background": "light"
     },
     "output_type": "display_data"
    }
   ],
   "source": [
    "import seaborn as sns\n",
    "import matplotlib.pyplot as plt\n",
    "plt.xlim(min(data[col_name]), max(data[col_name]))\n",
    "sns.boxenplot(data[col_name])\n"
   ]
  },
  {
   "cell_type": "code",
   "execution_count": 10,
   "metadata": {
    "colab": {},
    "colab_type": "code",
    "id": "aOf71dXlhY-H"
   },
   "outputs": [],
   "source": [
    "# clock_speed    : the speed at which microprocessor executes instructions **      : ? :\n",
    "# battery_power  : Total energy a battery can store in one time measured in mAh ** : ? :\n",
    "# fc             : Front Camera megapixels **                                      : ? :\n",
    "# int_memory     : Internal Memory in Gigabytes **                                 : ? :\n",
    "# m_dep          : Mobile Depth in cm **                                           : ? :\n",
    "# mobile_wt      : Weight of mobile phone **                                       : ? :\n",
    "# pc             : Primary Camera megapixels **                                    : ? :\n",
    "# px_height      :Pixel Resolution Height **                                       : ? :\n",
    "# px_width       : Pixel Resolution Width **                                       : ? :\n",
    "# ram            : Random Access Memory in MegaBytes **                            : ? :\n",
    "# sc_h           : Screen Height of mobile in cm **                                : ? :\n",
    "# sc_w           : Screen Width of mobile in cm **                                 : ? :"
   ]
  },
  {
   "cell_type": "code",
   "execution_count": 11,
   "metadata": {
    "colab": {},
    "colab_type": "code",
    "id": "jHUl7L2dZ30Z"
   },
   "outputs": [],
   "source": [
    "import numpy as np\n",
    "data = data[[True if (x<300) | (np.isnan(x)) else False for x in data['int_memory']]]"
   ]
  },
  {
   "cell_type": "code",
   "execution_count": 12,
   "metadata": {
    "colab": {
     "base_uri": "https://localhost:8080/",
     "height": 340
    },
    "colab_type": "code",
    "executionInfo": {
     "elapsed": 974,
     "status": "ok",
     "timestamp": 1571576213537,
     "user": {
      "displayName": "dharmanath patil",
      "photoUrl": "",
      "userId": "17545717920659244150"
     },
     "user_tz": -330
    },
    "id": "alLH_itjaDOg",
    "outputId": "b2d0c386-027a-400c-8a64-d9f63ad0bb1b"
   },
   "outputs": [
    {
     "name": "stderr",
     "output_type": "stream",
     "text": [
      "/home/alinemati/.local/lib/python3.6/site-packages/numpy/lib/histograms.py:824: RuntimeWarning: invalid value encountered in greater_equal\n",
      "  keep = (tmp_a >= first_edge)\n",
      "/home/alinemati/.local/lib/python3.6/site-packages/numpy/lib/histograms.py:825: RuntimeWarning: invalid value encountered in less_equal\n",
      "  keep &= (tmp_a <= last_edge)\n"
     ]
    },
    {
     "data": {
      "image/png": "[encoded data removed]",
      "text/plain": [
       "<Figure size 432x288 with 1 Axes>"
      ]
     },
     "metadata": {
      "needs_background": "light"
     },
     "output_type": "display_data"
    }
   ],
   "source": [
    "\n",
    "\n",
    "import matplotlib.pyplot as plt\n",
    "%matplotlib inline\n",
    "plt.hist(data[col_name],bins=10)\n",
    "plt.show()\n"
   ]
  },
  {
   "cell_type": "code",
   "execution_count": 13,
   "metadata": {
    "colab": {
     "base_uri": "https://localhost:8080/",
     "height": 338
    },
    "colab_type": "code",
    "executionInfo": {
     "elapsed": 584,
     "status": "ok",
     "timestamp": 1570932357442,
     "user": {
      "displayName": "seye tolu",
      "photoUrl": "",
      "userId": "05234046853616849578"
     },
     "user_tz": 300
    },
    "id": "O2YykDU7aE_o",
    "outputId": "44f0bdfd-05de-4b8a-def1-b6af14041041"
   },
   "outputs": [
    {
     "name": "stderr",
     "output_type": "stream",
     "text": [
      "'c' argument looks like a single numeric RGB or RGBA sequence, which should be avoided as value-mapping will have precedence in case its length matches with 'x' & 'y'.  Please use a 2-D array with a single row if you really want to specify the same RGB or RGBA value for all points.\n"
     ]
    },
    {
     "data": {
      "text/plain": [
       "<matplotlib.axes._subplots.AxesSubplot at 0x7fc32ee029e8>"
      ]
     },
     "execution_count": 13,
     "metadata": {},
     "output_type": "execute_result"
    },
    {
     "data": {
      "image/png": "[encoded data removed]",
      "text/plain": [
       "<Figure size 432x288 with 1 Axes>"
      ]
     },
     "metadata": {
      "needs_background": "light"
     },
     "output_type": "display_data"
    }
   ],
   "source": [
    "import seaborn as sns\n",
    "import matplotlib.pyplot as plt\n",
    "plt.xlim(min(data[col_name]), max(data[col_name]))\n",
    "sns.boxenplot(data[col_name])\n"
   ]
  },
  {
   "cell_type": "markdown",
   "metadata": {
    "colab_type": "text",
    "id": "MLPcb0qugoaG"
   },
   "source": [
    "# 2.2 Missing Data"
   ]
  },
  {
   "cell_type": "code",
   "execution_count": 14,
   "metadata": {
    "colab": {},
    "colab_type": "code",
    "id": "wOAFyPSSaHZK"
   },
   "outputs": [
    {
     "data": {
      "text/plain": [
       "battery_power    6\n",
       "blue             4\n",
       "clock_speed      7\n",
       "dual_sim         6\n",
       "fc               6\n",
       "four_g           6\n",
       "int_memory       7\n",
       "m_dep            8\n",
       "mobile_wt        7\n",
       "n_cores          8\n",
       "pc               7\n",
       "px_height        8\n",
       "px_width         5\n",
       "ram              5\n",
       "sc_h             4\n",
       "sc_w             6\n",
       "talk_time        6\n",
       "three_g          5\n",
       "touch_screen     3\n",
       "wifi             9\n",
       "price_range      0\n",
       "dtype: int64"
      ]
     },
     "execution_count": 14,
     "metadata": {},
     "output_type": "execute_result"
    }
   ],
   "source": [
    "# Check for null values in all variables\n",
    "data.isnull().sum()"
   ]
  },
  {
   "cell_type": "code",
   "execution_count": 15,
   "metadata": {
    "colab": {},
    "colab_type": "code",
    "id": "6h5a5zZ-iQQ8"
   },
   "outputs": [],
   "source": [
    "from sklearn.preprocessing import Imputer\n",
    "import numpy as np\n",
    "data_ = data.copy()"
   ]
  },
  {
   "cell_type": "code",
   "execution_count": 16,
   "metadata": {
    "colab": {
     "base_uri": "https://localhost:8080/",
     "height": 138
    },
    "colab_type": "code",
    "executionInfo": {
     "elapsed": 445,
     "status": "ok",
     "timestamp": 1570932585756,
     "user": {
      "displayName": "seye tolu",
      "photoUrl": "",
      "userId": "05234046853616849578"
     },
     "user_tz": 300
    },
    "id": "xTsV0uekgqp4",
    "outputId": "bb197d76-e484-4244-d9d2-34652aadc320"
   },
   "outputs": [
    {
     "name": "stderr",
     "output_type": "stream",
     "text": [
      "/home/alinemati/anaconda3/lib/python3.6/site-packages/sklearn/utils/deprecation.py:66: DeprecationWarning: Class Imputer is deprecated; Imputer was deprecated in version 0.20 and will be removed in 0.22. Import impute.SimpleImputer from sklearn instead.\n",
      "  warnings.warn(msg, category=DeprecationWarning)\n",
      "/home/alinemati/anaconda3/lib/python3.6/site-packages/sklearn/utils/deprecation.py:66: DeprecationWarning: Class Imputer is deprecated; Imputer was deprecated in version 0.20 and will be removed in 0.22. Import impute.SimpleImputer from sklearn instead.\n",
      "  warnings.warn(msg, category=DeprecationWarning)\n",
      "/home/alinemati/anaconda3/lib/python3.6/site-packages/sklearn/utils/deprecation.py:66: DeprecationWarning: Class Imputer is deprecated; Imputer was deprecated in version 0.20 and will be removed in 0.22. Import impute.SimpleImputer from sklearn instead.\n",
      "  warnings.warn(msg, category=DeprecationWarning)\n"
     ]
    }
   ],
   "source": [
    "## Handling missing data\n",
    "##Chose the most appropriate based on your judgement\n",
    "\n",
    "# Dropping null values\n",
    "data = data.dropna() \n",
    "\n",
    "# Replacing null with mean\n",
    "data = data_.copy()\n",
    "imputer = Imputer(missing_values=np.NAN, strategy=\"mean\")\n",
    "data.iloc[:,:] = imputer.fit_transform(data.iloc[:,:])\n",
    "\n",
    "\n",
    "# Replacing null with most_frequent\n",
    "# data = data_.copy()\n",
    "data = data_.copy()\n",
    "imputer = Imputer(missing_values=np.NAN, strategy=\"most_frequent\")\n",
    "data.iloc[:,:] = imputer.fit_transform(data.iloc[:,:])\n",
    "\n",
    "\n",
    "# Replacing null with median\n",
    "# data = data_.copy()\n",
    "data = data_.copy()\n",
    "imputer = Imputer(missing_values=np.NAN, strategy=\"median\")\n",
    "data.iloc[:,:] = imputer.fit_transform(data.iloc[:,:])\n",
    "\n"
   ]
  },
  {
   "cell_type": "markdown",
   "metadata": {
    "colab_type": "text",
    "id": "l0bViXLFlVbj"
   },
   "source": [
    "# 2.3 Different types of variables"
   ]
  },
  {
   "cell_type": "code",
   "execution_count": 17,
   "metadata": {
    "colab": {
     "base_uri": "https://localhost:8080/",
     "height": 386
    },
    "colab_type": "code",
    "executionInfo": {
     "elapsed": 389,
     "status": "ok",
     "timestamp": 1570932788201,
     "user": {
      "displayName": "seye tolu",
      "photoUrl": "",
      "userId": "05234046853616849578"
     },
     "user_tz": 300
    },
    "id": "81GGVwFulgfn",
    "outputId": "f483774b-8245-41d3-d1d6-1f75068cd275"
   },
   "outputs": [
    {
     "data": {
      "text/plain": [
       "battery_power    float64\n",
       "blue             float64\n",
       "clock_speed      float64\n",
       "dual_sim         float64\n",
       "fc               float64\n",
       "four_g           float64\n",
       "int_memory       float64\n",
       "m_dep            float64\n",
       "mobile_wt        float64\n",
       "n_cores          float64\n",
       "pc               float64\n",
       "px_height        float64\n",
       "px_width         float64\n",
       "ram              float64\n",
       "sc_h             float64\n",
       "sc_w             float64\n",
       "talk_time        float64\n",
       "three_g          float64\n",
       "touch_screen     float64\n",
       "wifi             float64\n",
       "price_range      float64\n",
       "dtype: object"
      ]
     },
     "execution_count": 17,
     "metadata": {},
     "output_type": "execute_result"
    }
   ],
   "source": [
    "data.dtypes"
   ]
  },
  {
   "cell_type": "code",
   "execution_count": 18,
   "metadata": {
    "colab": {},
    "colab_type": "code",
    "id": "h4Pu9OmUksCt"
   },
   "outputs": [],
   "source": [
    "categorical_variables ={\n",
    "    'battery_power': False,     # Total energy a battery can store in one time measured in mAh\n",
    "    'blue': True,              # Has Bluetooth or not?\n",
    "    'clock_speed': False,       # clock speed\n",
    "    'dual_sim':True,          # has dual sim or not?\n",
    "    'fc':False,                # Front Camera megapixels\n",
    "    'four_g':True,            # Has 4G or not\n",
    "    'int_memory':False,        # internal memory\n",
    "    'm_dep': False,             # Mobile Depth in cm\n",
    "    'mobile_wt':False,         # mobile weight\n",
    "    'n_cores':False,           # no of cores \n",
    "    'pc':False,                # Primary Camera megapixels\n",
    "    'px_height':False,         # Pixel resolution height\n",
    "    'px_width':False,          # Pixel resolution width\n",
    "    'ram':    False,          # Ram\n",
    "    'sc_h':     False ,        # Screen Height of mobile in cm\n",
    "    'sc_w':    False  ,        # Screen width of mobile in cm\n",
    "  'talk_time': False  ,    # the longest time that a single battery charge will last when you are\n",
    "    'three_g':     True,      # Has 3G or not\n",
    "    'touch_screen': True ,    # Has touch screen or not\n",
    "    'wifi':       True  ,      # Has wifi or not\n",
    "}"
   ]
  },
  {
   "cell_type": "code",
   "execution_count": 19,
   "metadata": {
    "colab": {},
    "colab_type": "code",
    "id": "89vkAuTFlxk3"
   },
   "outputs": [],
   "source": [
    "def encode_column(df,column_name):\n",
    "  unique_patterns = len(list(set(df[column_name])))\n",
    "  pattern_dict = dict(zip(list(set(df[column_name])), range(unique_patterns)))\n",
    "  res = []\n",
    "  for idx in range(len(df)):\n",
    "    temp = [0]*unique_patterns\n",
    "    temp[pattern_dict[df.iloc[idx][column_name]]] = 1\n",
    "    res.append(temp)\n",
    "  return pd.DataFrame(res,columns=[str(x)+\"_\"+column_name for x in range(unique_patterns)])  "
   ]
  },
  {
   "cell_type": "code",
   "execution_count": 20,
   "metadata": {
    "colab": {},
    "colab_type": "code",
    "id": "IuZ2yd8HicIG"
   },
   "outputs": [
    {
     "data": {
      "text/plain": [
       "0    1.0\n",
       "1    1.0\n",
       "2    1.0\n",
       "3    0.0\n",
       "Name: blue, dtype: float64"
      ]
     },
     "execution_count": 20,
     "metadata": {},
     "output_type": "execute_result"
    }
   ],
   "source": [
    "data['blue'].head(4)"
   ]
  },
  {
   "cell_type": "code",
   "execution_count": 21,
   "metadata": {
    "colab": {},
    "colab_type": "code",
    "id": "xoutABwidXBs"
   },
   "outputs": [
    {
     "data": {
      "text/html": [
       "<div>\n",
       "<style scoped>\n",
       "    .dataframe tbody tr th:only-of-type {\n",
       "        vertical-align: middle;\n",
       "    }\n",
       "\n",
       "    .dataframe tbody tr th {\n",
       "        vertical-align: top;\n",
       "    }\n",
       "\n",
       "    .dataframe thead th {\n",
       "        text-align: right;\n",
       "    }\n",
       "</style>\n",
       "<table border=\"1\" class=\"dataframe\">\n",
       "  <thead>\n",
       "    <tr style=\"text-align: right;\">\n",
       "      <th></th>\n",
       "      <th>0_blue</th>\n",
       "      <th>1_blue</th>\n",
       "    </tr>\n",
       "  </thead>\n",
       "  <tbody>\n",
       "    <tr>\n",
       "      <td>0</td>\n",
       "      <td>0</td>\n",
       "      <td>1</td>\n",
       "    </tr>\n",
       "    <tr>\n",
       "      <td>1</td>\n",
       "      <td>0</td>\n",
       "      <td>1</td>\n",
       "    </tr>\n",
       "    <tr>\n",
       "      <td>2</td>\n",
       "      <td>0</td>\n",
       "      <td>1</td>\n",
       "    </tr>\n",
       "    <tr>\n",
       "      <td>3</td>\n",
       "      <td>1</td>\n",
       "      <td>0</td>\n",
       "    </tr>\n",
       "  </tbody>\n",
       "</table>\n",
       "</div>"
      ],
      "text/plain": [
       "   0_blue  1_blue\n",
       "0       0       1\n",
       "1       0       1\n",
       "2       0       1\n",
       "3       1       0"
      ]
     },
     "execution_count": 21,
     "metadata": {},
     "output_type": "execute_result"
    }
   ],
   "source": [
    "encode_column(data,'blue').head(4)\n",
    "\n",
    "# for column_name in categorical_variables:\n",
    "#   if categorical_variables[column_name] == True:\n",
    "#     df = encode_column(data,column_name)\n",
    "#     data = pd.concat([data,df],axis=1)\n",
    "#     del data[column_name]"
   ]
  },
  {
   "cell_type": "code",
   "execution_count": 22,
   "metadata": {},
   "outputs": [
    {
     "name": "stdout",
     "output_type": "stream",
     "text": [
      "['battery_power', 'blue', 'clock_speed', 'dual_sim', 'fc', 'four_g', 'int_memory', 'm_dep', 'mobile_wt', 'n_cores', 'pc', 'px_height', 'px_width', 'ram', 'sc_h', 'sc_w', 'talk_time', 'three_g', 'touch_screen', 'wifi', 'price_range']\n"
     ]
    }
   ],
   "source": [
    "print(list(data))"
   ]
  },
  {
   "cell_type": "code",
   "execution_count": 23,
   "metadata": {},
   "outputs": [
    {
     "data": {
      "text/html": [
       "<div>\n",
       "<style scoped>\n",
       "    .dataframe tbody tr th:only-of-type {\n",
       "        vertical-align: middle;\n",
       "    }\n",
       "\n",
       "    .dataframe tbody tr th {\n",
       "        vertical-align: top;\n",
       "    }\n",
       "\n",
       "    .dataframe thead th {\n",
       "        text-align: right;\n",
       "    }\n",
       "</style>\n",
       "<table border=\"1\" class=\"dataframe\">\n",
       "  <thead>\n",
       "    <tr style=\"text-align: right;\">\n",
       "      <th></th>\n",
       "      <th>battery_power</th>\n",
       "      <th>blue</th>\n",
       "      <th>clock_speed</th>\n",
       "      <th>dual_sim</th>\n",
       "      <th>fc</th>\n",
       "      <th>four_g</th>\n",
       "      <th>int_memory</th>\n",
       "      <th>m_dep</th>\n",
       "      <th>mobile_wt</th>\n",
       "      <th>n_cores</th>\n",
       "      <th>...</th>\n",
       "      <th>px_height</th>\n",
       "      <th>px_width</th>\n",
       "      <th>ram</th>\n",
       "      <th>sc_h</th>\n",
       "      <th>sc_w</th>\n",
       "      <th>talk_time</th>\n",
       "      <th>three_g</th>\n",
       "      <th>touch_screen</th>\n",
       "      <th>wifi</th>\n",
       "      <th>price_range</th>\n",
       "    </tr>\n",
       "  </thead>\n",
       "  <tbody>\n",
       "    <tr>\n",
       "      <td>0</td>\n",
       "      <td>878.0</td>\n",
       "      <td>1.0</td>\n",
       "      <td>1.3</td>\n",
       "      <td>0.0</td>\n",
       "      <td>13.0</td>\n",
       "      <td>1.0</td>\n",
       "      <td>31.0</td>\n",
       "      <td>0.5</td>\n",
       "      <td>153.0</td>\n",
       "      <td>4.0</td>\n",
       "      <td>...</td>\n",
       "      <td>575.0</td>\n",
       "      <td>618.0</td>\n",
       "      <td>3497.0</td>\n",
       "      <td>9.0</td>\n",
       "      <td>7.0</td>\n",
       "      <td>11.0</td>\n",
       "      <td>1.0</td>\n",
       "      <td>1.0</td>\n",
       "      <td>0.0</td>\n",
       "      <td>2.0</td>\n",
       "    </tr>\n",
       "    <tr>\n",
       "      <td>1</td>\n",
       "      <td>827.0</td>\n",
       "      <td>1.0</td>\n",
       "      <td>0.6</td>\n",
       "      <td>1.0</td>\n",
       "      <td>9.0</td>\n",
       "      <td>1.0</td>\n",
       "      <td>35.0</td>\n",
       "      <td>0.2</td>\n",
       "      <td>87.0</td>\n",
       "      <td>6.0</td>\n",
       "      <td>...</td>\n",
       "      <td>23.0</td>\n",
       "      <td>826.0</td>\n",
       "      <td>2367.0</td>\n",
       "      <td>5.0</td>\n",
       "      <td>3.0</td>\n",
       "      <td>15.0</td>\n",
       "      <td>1.0</td>\n",
       "      <td>0.0</td>\n",
       "      <td>1.0</td>\n",
       "      <td>1.0</td>\n",
       "    </tr>\n",
       "    <tr>\n",
       "      <td>2</td>\n",
       "      <td>1703.0</td>\n",
       "      <td>1.0</td>\n",
       "      <td>0.5</td>\n",
       "      <td>0.0</td>\n",
       "      <td>5.0</td>\n",
       "      <td>1.0</td>\n",
       "      <td>23.0</td>\n",
       "      <td>0.2</td>\n",
       "      <td>92.0</td>\n",
       "      <td>6.0</td>\n",
       "      <td>...</td>\n",
       "      <td>134.0</td>\n",
       "      <td>521.0</td>\n",
       "      <td>793.0</td>\n",
       "      <td>7.0</td>\n",
       "      <td>3.0</td>\n",
       "      <td>17.0</td>\n",
       "      <td>1.0</td>\n",
       "      <td>1.0</td>\n",
       "      <td>0.0</td>\n",
       "      <td>0.0</td>\n",
       "    </tr>\n",
       "    <tr>\n",
       "      <td>3</td>\n",
       "      <td>1891.0</td>\n",
       "      <td>0.0</td>\n",
       "      <td>2.8</td>\n",
       "      <td>0.0</td>\n",
       "      <td>7.0</td>\n",
       "      <td>1.0</td>\n",
       "      <td>37.0</td>\n",
       "      <td>0.4</td>\n",
       "      <td>129.0</td>\n",
       "      <td>7.0</td>\n",
       "      <td>...</td>\n",
       "      <td>169.0</td>\n",
       "      <td>1108.0</td>\n",
       "      <td>3704.0</td>\n",
       "      <td>8.0</td>\n",
       "      <td>6.0</td>\n",
       "      <td>11.0</td>\n",
       "      <td>1.0</td>\n",
       "      <td>0.0</td>\n",
       "      <td>0.0</td>\n",
       "      <td>3.0</td>\n",
       "    </tr>\n",
       "    <tr>\n",
       "      <td>4</td>\n",
       "      <td>589.0</td>\n",
       "      <td>1.0</td>\n",
       "      <td>2.3</td>\n",
       "      <td>1.0</td>\n",
       "      <td>1.0</td>\n",
       "      <td>0.0</td>\n",
       "      <td>61.0</td>\n",
       "      <td>0.6</td>\n",
       "      <td>160.0</td>\n",
       "      <td>4.0</td>\n",
       "      <td>...</td>\n",
       "      <td>429.0</td>\n",
       "      <td>815.0</td>\n",
       "      <td>2113.0</td>\n",
       "      <td>13.0</td>\n",
       "      <td>7.0</td>\n",
       "      <td>2.0</td>\n",
       "      <td>1.0</td>\n",
       "      <td>0.0</td>\n",
       "      <td>1.0</td>\n",
       "      <td>1.0</td>\n",
       "    </tr>\n",
       "    <tr>\n",
       "      <td>...</td>\n",
       "      <td>...</td>\n",
       "      <td>...</td>\n",
       "      <td>...</td>\n",
       "      <td>...</td>\n",
       "      <td>...</td>\n",
       "      <td>...</td>\n",
       "      <td>...</td>\n",
       "      <td>...</td>\n",
       "      <td>...</td>\n",
       "      <td>...</td>\n",
       "      <td>...</td>\n",
       "      <td>...</td>\n",
       "      <td>...</td>\n",
       "      <td>...</td>\n",
       "      <td>...</td>\n",
       "      <td>...</td>\n",
       "      <td>...</td>\n",
       "      <td>...</td>\n",
       "      <td>...</td>\n",
       "      <td>...</td>\n",
       "      <td>...</td>\n",
       "    </tr>\n",
       "    <tr>\n",
       "      <td>1995</td>\n",
       "      <td>1375.0</td>\n",
       "      <td>0.0</td>\n",
       "      <td>2.9</td>\n",
       "      <td>0.0</td>\n",
       "      <td>2.0</td>\n",
       "      <td>0.0</td>\n",
       "      <td>20.0</td>\n",
       "      <td>0.4</td>\n",
       "      <td>147.0</td>\n",
       "      <td>6.0</td>\n",
       "      <td>...</td>\n",
       "      <td>563.5</td>\n",
       "      <td>679.0</td>\n",
       "      <td>3847.0</td>\n",
       "      <td>8.0</td>\n",
       "      <td>0.0</td>\n",
       "      <td>12.0</td>\n",
       "      <td>1.0</td>\n",
       "      <td>0.0</td>\n",
       "      <td>1.0</td>\n",
       "      <td>3.0</td>\n",
       "    </tr>\n",
       "    <tr>\n",
       "      <td>1996</td>\n",
       "      <td>1617.0</td>\n",
       "      <td>1.0</td>\n",
       "      <td>1.3</td>\n",
       "      <td>1.0</td>\n",
       "      <td>3.0</td>\n",
       "      <td>1.0</td>\n",
       "      <td>30.0</td>\n",
       "      <td>0.7</td>\n",
       "      <td>105.0</td>\n",
       "      <td>2.0</td>\n",
       "      <td>...</td>\n",
       "      <td>246.0</td>\n",
       "      <td>1038.0</td>\n",
       "      <td>829.0</td>\n",
       "      <td>9.0</td>\n",
       "      <td>0.0</td>\n",
       "      <td>10.0</td>\n",
       "      <td>1.0</td>\n",
       "      <td>0.0</td>\n",
       "      <td>0.0</td>\n",
       "      <td>0.0</td>\n",
       "    </tr>\n",
       "    <tr>\n",
       "      <td>1997</td>\n",
       "      <td>772.0</td>\n",
       "      <td>0.0</td>\n",
       "      <td>1.0</td>\n",
       "      <td>1.0</td>\n",
       "      <td>0.0</td>\n",
       "      <td>1.0</td>\n",
       "      <td>23.0</td>\n",
       "      <td>0.6</td>\n",
       "      <td>97.0</td>\n",
       "      <td>7.0</td>\n",
       "      <td>...</td>\n",
       "      <td>317.0</td>\n",
       "      <td>1805.0</td>\n",
       "      <td>2782.0</td>\n",
       "      <td>7.0</td>\n",
       "      <td>0.0</td>\n",
       "      <td>11.0</td>\n",
       "      <td>1.0</td>\n",
       "      <td>0.0</td>\n",
       "      <td>0.0</td>\n",
       "      <td>2.0</td>\n",
       "    </tr>\n",
       "    <tr>\n",
       "      <td>1998</td>\n",
       "      <td>534.0</td>\n",
       "      <td>0.0</td>\n",
       "      <td>0.5</td>\n",
       "      <td>1.0</td>\n",
       "      <td>0.0</td>\n",
       "      <td>1.0</td>\n",
       "      <td>16.0</td>\n",
       "      <td>1.0</td>\n",
       "      <td>189.0</td>\n",
       "      <td>5.0</td>\n",
       "      <td>...</td>\n",
       "      <td>393.0</td>\n",
       "      <td>1199.0</td>\n",
       "      <td>3926.0</td>\n",
       "      <td>16.0</td>\n",
       "      <td>5.0</td>\n",
       "      <td>20.0</td>\n",
       "      <td>1.0</td>\n",
       "      <td>0.0</td>\n",
       "      <td>0.0</td>\n",
       "      <td>3.0</td>\n",
       "    </tr>\n",
       "    <tr>\n",
       "      <td>1999</td>\n",
       "      <td>681.0</td>\n",
       "      <td>0.0</td>\n",
       "      <td>0.5</td>\n",
       "      <td>1.0</td>\n",
       "      <td>12.0</td>\n",
       "      <td>1.0</td>\n",
       "      <td>17.0</td>\n",
       "      <td>0.9</td>\n",
       "      <td>194.0</td>\n",
       "      <td>5.0</td>\n",
       "      <td>...</td>\n",
       "      <td>371.0</td>\n",
       "      <td>1702.0</td>\n",
       "      <td>2548.0</td>\n",
       "      <td>12.0</td>\n",
       "      <td>1.0</td>\n",
       "      <td>5.0</td>\n",
       "      <td>1.0</td>\n",
       "      <td>0.0</td>\n",
       "      <td>1.0</td>\n",
       "      <td>2.0</td>\n",
       "    </tr>\n",
       "  </tbody>\n",
       "</table>\n",
       "<p>2000 rows × 21 columns</p>\n",
       "</div>"
      ],
      "text/plain": [
       "      battery_power  blue  clock_speed  dual_sim    fc  four_g  int_memory  \\\n",
       "0             878.0   1.0          1.3       0.0  13.0     1.0        31.0   \n",
       "1             827.0   1.0          0.6       1.0   9.0     1.0        35.0   \n",
       "2            1703.0   1.0          0.5       0.0   5.0     1.0        23.0   \n",
       "3            1891.0   0.0          2.8       0.0   7.0     1.0        37.0   \n",
       "4             589.0   1.0          2.3       1.0   1.0     0.0        61.0   \n",
       "...             ...   ...          ...       ...   ...     ...         ...   \n",
       "1995         1375.0   0.0          2.9       0.0   2.0     0.0        20.0   \n",
       "1996         1617.0   1.0          1.3       1.0   3.0     1.0        30.0   \n",
       "1997          772.0   0.0          1.0       1.0   0.0     1.0        23.0   \n",
       "1998          534.0   0.0          0.5       1.0   0.0     1.0        16.0   \n",
       "1999          681.0   0.0          0.5       1.0  12.0     1.0        17.0   \n",
       "\n",
       "      m_dep  mobile_wt  n_cores  ...  px_height  px_width     ram  sc_h  sc_w  \\\n",
       "0       0.5      153.0      4.0  ...      575.0     618.0  3497.0   9.0   7.0   \n",
       "1       0.2       87.0      6.0  ...       23.0     826.0  2367.0   5.0   3.0   \n",
       "2       0.2       92.0      6.0  ...      134.0     521.0   793.0   7.0   3.0   \n",
       "3       0.4      129.0      7.0  ...      169.0    1108.0  3704.0   8.0   6.0   \n",
       "4       0.6      160.0      4.0  ...      429.0     815.0  2113.0  13.0   7.0   \n",
       "...     ...        ...      ...  ...        ...       ...     ...   ...   ...   \n",
       "1995    0.4      147.0      6.0  ...      563.5     679.0  3847.0   8.0   0.0   \n",
       "1996    0.7      105.0      2.0  ...      246.0    1038.0   829.0   9.0   0.0   \n",
       "1997    0.6       97.0      7.0  ...      317.0    1805.0  2782.0   7.0   0.0   \n",
       "1998    1.0      189.0      5.0  ...      393.0    1199.0  3926.0  16.0   5.0   \n",
       "1999    0.9      194.0      5.0  ...      371.0    1702.0  2548.0  12.0   1.0   \n",
       "\n",
       "      talk_time  three_g  touch_screen  wifi  price_range  \n",
       "0          11.0      1.0           1.0   0.0          2.0  \n",
       "1          15.0      1.0           0.0   1.0          1.0  \n",
       "2          17.0      1.0           1.0   0.0          0.0  \n",
       "3          11.0      1.0           0.0   0.0          3.0  \n",
       "4           2.0      1.0           0.0   1.0          1.0  \n",
       "...         ...      ...           ...   ...          ...  \n",
       "1995       12.0      1.0           0.0   1.0          3.0  \n",
       "1996       10.0      1.0           0.0   0.0          0.0  \n",
       "1997       11.0      1.0           0.0   0.0          2.0  \n",
       "1998       20.0      1.0           0.0   0.0          3.0  \n",
       "1999        5.0      1.0           0.0   1.0          2.0  \n",
       "\n",
       "[2000 rows x 21 columns]"
      ]
     },
     "execution_count": 23,
     "metadata": {},
     "output_type": "execute_result"
    }
   ],
   "source": [
    "data"
   ]
  },
  {
   "cell_type": "code",
   "execution_count": 24,
   "metadata": {
    "colab": {},
    "colab_type": "code",
    "id": "ShEZSfYAmHqI"
   },
   "outputs": [
    {
     "data": {
      "text/plain": [
       "Index(['battery_power', 'blue', 'clock_speed', 'dual_sim', 'fc', 'four_g',\n",
       "       'int_memory', 'm_dep', 'mobile_wt', 'n_cores', 'pc', 'px_height',\n",
       "       'px_width', 'ram', 'sc_h', 'sc_w', 'talk_time', 'three_g',\n",
       "       'touch_screen', 'wifi', 'price_range'],\n",
       "      dtype='object')"
      ]
     },
     "execution_count": 24,
     "metadata": {},
     "output_type": "execute_result"
    }
   ],
   "source": [
    "data = data[['battery_power', 'blue', 'clock_speed', 'dual_sim', 'fc', 'four_g', 'int_memory', 'm_dep', 'mobile_wt', 'n_cores', 'pc', 'px_height', 'px_width', 'ram', 'sc_h', 'sc_w', 'talk_time', 'three_g', 'touch_screen', 'wifi', 'price_range']]\n",
    "data.columns"
   ]
  },
  {
   "cell_type": "markdown",
   "metadata": {
    "colab_type": "text",
    "id": "tzjoBDwGrKHq"
   },
   "source": [
    "# Train and Test split"
   ]
  },
  {
   "cell_type": "code",
   "execution_count": 25,
   "metadata": {
    "colab": {},
    "colab_type": "code",
    "id": "basSV7LymPkQ"
   },
   "outputs": [],
   "source": [
    "# Split the data into training and test dataset\n",
    "X = data.iloc[:,:-1].values\n",
    "y = data.iloc[:,-1].values\n",
    "from sklearn.model_selection import train_test_split\n",
    "X_train, X_test, Y_train, Y_test = train_test_split(X, y, test_size=0.2, random_state=0)"
   ]
  },
  {
   "cell_type": "code",
   "execution_count": 26,
   "metadata": {
    "colab": {},
    "colab_type": "code",
    "id": "5oju1L2SrMb5"
   },
   "outputs": [
    {
     "name": "stdout",
     "output_type": "stream",
     "text": [
      "Number of training samples : 1600\n",
      "Number of testing samples : 400\n",
      "Shape of training and test data : (1600, 20)\n"
     ]
    }
   ],
   "source": [
    "print(\"Number of training samples :\",len(X_train))\n",
    "print(\"Number of testing samples :\",len(X_test))\n",
    "print(\"Shape of training and test data :\",X_train.shape)"
   ]
  },
  {
   "cell_type": "markdown",
   "metadata": {
    "colab_type": "text",
    "id": "SNzmRUxSsBny"
   },
   "source": [
    "# Training\n"
   ]
  },
  {
   "cell_type": "code",
   "execution_count": 27,
   "metadata": {
    "colab": {},
    "colab_type": "code",
    "id": "Dj6aomv7r8jr"
   },
   "outputs": [
    {
     "name": "stderr",
     "output_type": "stream",
     "text": [
      "/home/alinemati/anaconda3/lib/python3.6/site-packages/sklearn/linear_model/logistic.py:432: FutureWarning: Default solver will be changed to 'lbfgs' in 0.22. Specify a solver to silence this warning.\n",
      "  FutureWarning)\n",
      "/home/alinemati/anaconda3/lib/python3.6/site-packages/sklearn/linear_model/logistic.py:469: FutureWarning: Default multi_class will be changed to 'auto' in 0.22. Specify the multi_class option to silence this warning.\n",
      "  \"this warning.\", FutureWarning)\n"
     ]
    },
    {
     "data": {
      "text/plain": [
       "0.7875"
      ]
     },
     "execution_count": 27,
     "metadata": {},
     "output_type": "execute_result"
    }
   ],
   "source": [
    "# Training\n",
    "from sklearn.linear_model import LogisticRegression\n",
    "from sklearn.metrics import accuracy_score\n",
    "LR = LogisticRegression(random_state=0)\n",
    "LR.fit(X_train,Y_train)\n",
    "LR_pred = LR.predict(X_test)\n",
    "accuracy_score(Y_test,LR_pred)"
   ]
  },
  {
   "cell_type": "code",
   "execution_count": 28,
   "metadata": {
    "colab": {},
    "colab_type": "code",
    "id": "AUF_b9cTsjmW"
   },
   "outputs": [
    {
     "data": {
      "text/html": [
       "<div>\n",
       "<style scoped>\n",
       "    .dataframe tbody tr th:only-of-type {\n",
       "        vertical-align: middle;\n",
       "    }\n",
       "\n",
       "    .dataframe tbody tr th {\n",
       "        vertical-align: top;\n",
       "    }\n",
       "\n",
       "    .dataframe thead th {\n",
       "        text-align: right;\n",
       "    }\n",
       "</style>\n",
       "<table border=\"1\" class=\"dataframe\">\n",
       "  <thead>\n",
       "    <tr style=\"text-align: right;\">\n",
       "      <th></th>\n",
       "      <th>0</th>\n",
       "      <th>1</th>\n",
       "      <th>2</th>\n",
       "      <th>3</th>\n",
       "      <th>4</th>\n",
       "      <th>5</th>\n",
       "      <th>6</th>\n",
       "      <th>7</th>\n",
       "      <th>8</th>\n",
       "      <th>9</th>\n",
       "      <th>10</th>\n",
       "      <th>11</th>\n",
       "      <th>12</th>\n",
       "      <th>13</th>\n",
       "      <th>14</th>\n",
       "      <th>15</th>\n",
       "      <th>16</th>\n",
       "      <th>17</th>\n",
       "      <th>18</th>\n",
       "      <th>19</th>\n",
       "    </tr>\n",
       "  </thead>\n",
       "  <tbody>\n",
       "    <tr>\n",
       "      <td>0</td>\n",
       "      <td>1782.0</td>\n",
       "      <td>1.0</td>\n",
       "      <td>2.8</td>\n",
       "      <td>1.0</td>\n",
       "      <td>6.0</td>\n",
       "      <td>1.0</td>\n",
       "      <td>58.0</td>\n",
       "      <td>0.8</td>\n",
       "      <td>157.0</td>\n",
       "      <td>1.0</td>\n",
       "      <td>13.0</td>\n",
       "      <td>867.0</td>\n",
       "      <td>999.0</td>\n",
       "      <td>2405.0</td>\n",
       "      <td>15.0</td>\n",
       "      <td>0.0</td>\n",
       "      <td>16.0</td>\n",
       "      <td>1.0</td>\n",
       "      <td>0.0</td>\n",
       "      <td>1.0</td>\n",
       "    </tr>\n",
       "    <tr>\n",
       "      <td>1</td>\n",
       "      <td>1379.0</td>\n",
       "      <td>1.0</td>\n",
       "      <td>2.1</td>\n",
       "      <td>1.0</td>\n",
       "      <td>14.0</td>\n",
       "      <td>1.0</td>\n",
       "      <td>63.0</td>\n",
       "      <td>1.0</td>\n",
       "      <td>83.0</td>\n",
       "      <td>1.0</td>\n",
       "      <td>17.0</td>\n",
       "      <td>207.0</td>\n",
       "      <td>1370.0</td>\n",
       "      <td>651.0</td>\n",
       "      <td>9.0</td>\n",
       "      <td>6.0</td>\n",
       "      <td>7.0</td>\n",
       "      <td>1.0</td>\n",
       "      <td>1.0</td>\n",
       "      <td>0.0</td>\n",
       "    </tr>\n",
       "    <tr>\n",
       "      <td>2</td>\n",
       "      <td>1056.0</td>\n",
       "      <td>1.0</td>\n",
       "      <td>2.1</td>\n",
       "      <td>1.0</td>\n",
       "      <td>8.0</td>\n",
       "      <td>1.0</td>\n",
       "      <td>37.0</td>\n",
       "      <td>0.7</td>\n",
       "      <td>101.0</td>\n",
       "      <td>3.0</td>\n",
       "      <td>11.0</td>\n",
       "      <td>914.0</td>\n",
       "      <td>979.0</td>\n",
       "      <td>2651.0</td>\n",
       "      <td>15.0</td>\n",
       "      <td>5.0</td>\n",
       "      <td>3.0</td>\n",
       "      <td>1.0</td>\n",
       "      <td>1.0</td>\n",
       "      <td>1.0</td>\n",
       "    </tr>\n",
       "    <tr>\n",
       "      <td>3</td>\n",
       "      <td>1396.0</td>\n",
       "      <td>1.0</td>\n",
       "      <td>0.6</td>\n",
       "      <td>0.0</td>\n",
       "      <td>0.0</td>\n",
       "      <td>0.0</td>\n",
       "      <td>37.0</td>\n",
       "      <td>0.7</td>\n",
       "      <td>134.0</td>\n",
       "      <td>4.0</td>\n",
       "      <td>15.0</td>\n",
       "      <td>560.0</td>\n",
       "      <td>1177.0</td>\n",
       "      <td>2694.0</td>\n",
       "      <td>18.0</td>\n",
       "      <td>3.0</td>\n",
       "      <td>19.0</td>\n",
       "      <td>0.0</td>\n",
       "      <td>0.0</td>\n",
       "      <td>1.0</td>\n",
       "    </tr>\n",
       "  </tbody>\n",
       "</table>\n",
       "</div>"
      ],
      "text/plain": [
       "        0    1    2    3     4    5     6    7      8    9    10     11  \\\n",
       "0  1782.0  1.0  2.8  1.0   6.0  1.0  58.0  0.8  157.0  1.0  13.0  867.0   \n",
       "1  1379.0  1.0  2.1  1.0  14.0  1.0  63.0  1.0   83.0  1.0  17.0  207.0   \n",
       "2  1056.0  1.0  2.1  1.0   8.0  1.0  37.0  0.7  101.0  3.0  11.0  914.0   \n",
       "3  1396.0  1.0  0.6  0.0   0.0  0.0  37.0  0.7  134.0  4.0  15.0  560.0   \n",
       "\n",
       "       12      13    14   15    16   17   18   19  \n",
       "0   999.0  2405.0  15.0  0.0  16.0  1.0  0.0  1.0  \n",
       "1  1370.0   651.0   9.0  6.0   7.0  1.0  1.0  0.0  \n",
       "2   979.0  2651.0  15.0  5.0   3.0  1.0  1.0  1.0  \n",
       "3  1177.0  2694.0  18.0  3.0  19.0  0.0  0.0  1.0  "
      ]
     },
     "execution_count": 28,
     "metadata": {},
     "output_type": "execute_result"
    }
   ],
   "source": [
    "pd.DataFrame(X_train).head(4)"
   ]
  },
  {
   "cell_type": "code",
   "execution_count": null,
   "metadata": {
    "colab": {},
    "colab_type": "code",
    "id": "cFOlTSFJsp2g"
   },
   "outputs": [],
   "source": []
  },
  {
   "cell_type": "markdown",
   "metadata": {
    "colab_type": "text",
    "id": "xxQSGfa1stvx"
   },
   "source": [
    "# Feature scaling & Training"
   ]
  },
  {
   "cell_type": "code",
   "execution_count": null,
   "metadata": {
    "colab": {},
    "colab_type": "code",
    "id": "hn4-0BiZspzR"
   },
   "outputs": [],
   "source": [
    "# Standard Scalar or normalize database\n",
    "from sklearn.preprocessing import StandardScaler\n",
    "stdSc = StandardScaler()\n",
    "X_train = stdSc.fit_transform(X_train)\n",
    "X_test = stdSc.transform(X_test)"
   ]
  },
  {
   "cell_type": "code",
   "execution_count": null,
   "metadata": {
    "colab": {},
    "colab_type": "code",
    "id": "jSb4ykvJjyhy"
   },
   "outputs": [],
   "source": [
    "# result after feature scaling\n",
    "pd.DataFrame(X_train).head(4)"
   ]
  },
  {
   "cell_type": "code",
   "execution_count": null,
   "metadata": {
    "colab": {},
    "colab_type": "code",
    "id": "B3qNQgUpswmX"
   },
   "outputs": [],
   "source": [
    "# Training\n",
    "from sklearn.linear_model import LogisticRegression\n",
    "from sklearn.metrics import accuracy_score\n",
    "LR = LogisticRegression(random_state=0)\n",
    "LR.fit(X_train,Y_train)\n",
    "LR_pred = LR.predict(X_test)\n",
    "accuracy_score(Y_test,LR_pred)"
   ]
  },
  {
   "cell_type": "markdown",
   "metadata": {
    "colab": {},
    "colab_type": "code",
    "id": "ijaV1jOfszF4"
   },
   "source": [
    "# Done \n",
    "# you need to run till Feature scaling & Training"
   ]
  },
  {
   "cell_type": "code",
   "execution_count": null,
   "metadata": {
    "colab": {},
    "colab_type": "code",
    "id": "g4ckhppFtBfI"
   },
   "outputs": [],
   "source": []
  },
  {
   "cell_type": "code",
   "execution_count": null,
   "metadata": {
    "colab": {},
    "colab_type": "code",
    "id": "Wt0FSLwltBcY"
   },
   "outputs": [],
   "source": []
  },
  {
   "cell_type": "code",
   "execution_count": null,
   "metadata": {
    "colab": {},
    "colab_type": "code",
    "id": "sTfDU1antBRe"
   },
   "outputs": [],
   "source": []
  },
  {
   "cell_type": "code",
   "execution_count": null,
   "metadata": {
    "colab": {},
    "colab_type": "code",
    "id": "G4bNZvW3tBOH"
   },
   "outputs": [],
   "source": []
  },
  {
   "cell_type": "markdown",
   "metadata": {
    "colab_type": "text",
    "id": "eKwLQVy0Nktd"
   },
   "source": [
    "# 2.4 Feature selection & Training"
   ]
  },
  {
   "cell_type": "code",
   "execution_count": null,
   "metadata": {
    "colab": {},
    "colab_type": "code",
    "id": "5tL7kTgT-Txx"
   },
   "outputs": [],
   "source": [
    "#battery_power.  price\n",
    "#H0: battery_power relevant column for price prediction\n",
    "#HA: battery_power irrelevant column for price prediction\n",
    "#p-value > critical value  Reject Hypothesis"
   ]
  },
  {
   "cell_type": "code",
   "execution_count": 33,
   "metadata": {
    "colab": {},
    "colab_type": "code",
    "id": "hpFjLPu1tBHm"
   },
   "outputs": [
    {
     "name": "stdout",
     "output_type": "stream",
     "text": [
      "           Specs          Score\n",
      "7          m_dep  747608.537960\n",
      "5         four_g   13424.946641\n",
      "0  battery_power   10667.818093\n",
      "6     int_memory    8267.189935\n"
     ]
    }
   ],
   "source": [
    "from sklearn.feature_selection import SelectKBest\n",
    "from sklearn.feature_selection import chi2,f_classif\n",
    "bestfeatures = SelectKBest(score_func=chi2, k=10)\n",
    "fit = bestfeatures.fit(X_train,Y_train)\n",
    "dfscores = pd.DataFrame(fit.scores_)\n",
    "dfcolumns = pd.DataFrame(data.columns)\n",
    "#concat two dataframes for better visualization \n",
    "featureScores = pd.concat([dfcolumns,dfscores],axis=1)\n",
    "featureScores.columns = ['Specs','Score']  #naming the dataframe columns\n",
    "# print(featureScores.nlargest(10,'Score'))  #print 10 best features\n",
    "print(featureScores.nlargest(4,'Score'))  #print 4 best features"
   ]
  },
  {
   "cell_type": "code",
   "execution_count": 30,
   "metadata": {
    "colab": {},
    "colab_type": "code",
    "id": "OzLkLs1atHu1"
   },
   "outputs": [],
   "source": [
    "X_train = bestfeatures.fit_transform(X_train,Y_train)\n",
    "X_test = bestfeatures.transform(X_test)"
   ]
  },
  {
   "cell_type": "code",
   "execution_count": 31,
   "metadata": {
    "colab": {},
    "colab_type": "code",
    "id": "yIKXjG3CtJds"
   },
   "outputs": [
    {
     "data": {
      "text/plain": [
       "0.895"
      ]
     },
     "execution_count": 31,
     "metadata": {},
     "output_type": "execute_result"
    }
   ],
   "source": [
    "# Training\n",
    "from xgboost import XGBClassifier\n",
    "XGB = XGBClassifier()\n",
    "XGB.fit(X_train,Y_train)\n",
    "XGB_pred = XGB.predict(X_test)\n",
    "accuracy_score(Y_test,XGB_pred)"
   ]
  },
  {
   "cell_type": "code",
   "execution_count": null,
   "metadata": {
    "colab": {},
    "colab_type": "code",
    "id": "mHMxWkNDtMlw"
   },
   "outputs": [],
   "source": []
  }
 ],
 "metadata": {
  "colab": {
   "collapsed_sections": [
    "l0bViXLFlVbj",
    "tzjoBDwGrKHq",
    "SNzmRUxSsBny",
    "xxQSGfa1stvx",
    "eKwLQVy0Nktd"
   ],
   "name": "feature_engineering_in_numerics.ipynb",
   "provenance": [],
   "toc_visible": true
  },
  "kernelspec": {
   "display_name": "Python 3",
   "language": "python",
   "name": "python3"
  },
  "language_info": {
   "codemirror_mode": {
    "name": "ipython",
    "version": 3
   },
   "file_extension": ".py",
   "mimetype": "text/x-python",
   "name": "python",
   "nbconvert_exporter": "python",
   "pygments_lexer": "ipython3",
   "version": "3.7.3"
  }
 },
 "nbformat": 4,
 "nbformat_minor": 1
}
